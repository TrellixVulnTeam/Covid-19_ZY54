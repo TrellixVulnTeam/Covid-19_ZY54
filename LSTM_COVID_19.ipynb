{
  "nbformat": 4,
  "nbformat_minor": 0,
  "metadata": {
    "colab": {
      "name": "LSTM  -  COVID-19.ipynb",
      "provenance": [],
      "collapsed_sections": [
        "I0glvokzHwP7",
        "0jHkVun1POn2",
        "KTtysQjUg8Oo",
        "9com2UK4lSQZ",
        "dZxNfYxMsqAk",
        "KXkJLdcYyuf9",
        "y-5472Ge4Uuz",
        "AI9Va-37YsR-"
      ],
      "mount_file_id": "1aDMNVZct41cp2QNValzW3D9Ob19RLqAB",
      "authorship_tag": "ABX9TyNsfU4ykt1+1gNw8IO8VWjX",
      "include_colab_link": true
    },
    "kernelspec": {
      "name": "python3",
      "display_name": "Python 3"
    },
    "language_info": {
      "name": "python"
    }
  },
  "cells": [
    {
      "cell_type": "markdown",
      "metadata": {
        "id": "view-in-github",
        "colab_type": "text"
      },
      "source": [
        "<a href=\"https://colab.research.google.com/github/carturo6/Covid-19/blob/master/LSTM_COVID_19.ipynb\" target=\"_parent\"><img src=\"https://colab.research.google.com/assets/colab-badge.svg\" alt=\"Open In Colab\"/></a>"
      ]
    },
    {
      "cell_type": "markdown",
      "metadata": {
        "id": "kQ7-27SQLs6d"
      },
      "source": [
        "# **I.A. DeepLearnin para Casos Covid-19**\n",
        "\n",
        "Este respositorio tiene el fin de predecir los proximo casos de Covid19 en México ( Nivel nacional ).\n",
        "\n",
        "Los datos que se ocuparan, son los datos disponibles en paginas del Gobierno.\n",
        "Se utilizaran solo tecnicas de Deep Learning donde cada modelo podra ir variando en funcion que los datos predichos mejor se ajusten a los datos predictorios.\n",
        "\n",
        "**Objetivo de las redes neuronales**\n",
        "\n",
        "El objetivo de los modelos que se construiran, sera, que mejor se ajusten a los datos de test (Prueba) para poder predecir los datos del futuro. En funcion de que mejor se ajusten, sigfinicara que el entrenamiento sera exitoso.\n",
        "\n",
        "Se ocuparan modelos de Deep Learning, para ajustarse a los datos y tener buenos resultados. La tecnica que mas probable se ajusta a las predicciones de series de tiempo, es LSTM (**Long Short Term Memory**)."
      ]
    },
    {
      "cell_type": "markdown",
      "metadata": {
        "id": "Jv8VPHnOVgLT"
      },
      "source": [
        "## **Librerias**\n",
        "\n",
        "\n",
        "Las librerias que se ocupan son las siguientes:\n",
        "\n",
        "- Pandas: Para poder leer los archivos csv o en algun otro formato, asi como para poder manipular los datos.\n",
        "\n",
        "- Matplotlib: Para generar graficos y asi poder entender mejor el comportamiento de la pandemia en Mexico.\n",
        "\n",
        "- Numpy: Para poder realizar calculo que se puedan requerir o calculo de matrices\n",
        "\n",
        "- Seaborn: Para generar graficos estadisticos con una mejor referencia de los datos\n",
        "\n",
        "- Tensorflow: Para poder generar predicciones con redes nueronales de esta libreria\n",
        "\n",
        "- Keras: Generar CNN para las predicciones"
      ]
    },
    {
      "cell_type": "code",
      "metadata": {
        "id": "uq_9I_ZDKvh8",
        "colab": {
          "base_uri": "https://localhost:8080/"
        },
        "outputId": "3b2277f1-d422-4c71-9cf1-0886eb516f17"
      },
      "source": [
        "\n",
        "import pandas as pd\n",
        "import numpy as np\n",
        "import matplotlib.pyplot as plt\n",
        "import scipy as sc\n",
        "import seaborn as sns\n",
        "from statsmodels.tsa.seasonal import seasonal_decompose\n",
        "\n",
        "from keras.models import Sequential\n",
        "from keras.layers import Dense\n",
        "from keras.layers import LSTM\n",
        "import tensorflow as tf\n",
        "from keras import metrics\n",
        "from tensorflow import keras\n"
      ],
      "execution_count": 1,
      "outputs": [
        {
          "output_type": "stream",
          "text": [
            "/usr/local/lib/python3.7/dist-packages/statsmodels/tools/_testing.py:19: FutureWarning: pandas.util.testing is deprecated. Use the functions in the public API at pandas.testing instead.\n",
            "  import pandas.util.testing as tm\n"
          ],
          "name": "stderr"
        }
      ]
    },
    {
      "cell_type": "markdown",
      "metadata": {
        "id": "gBTRdXsdVj89"
      },
      "source": [
        "## **Importacion de datos**\n",
        "\n",
        "\n",
        "Los datos ocupados en este trabajo, se tomaron de la siguiente pagina web: \n",
        "\n",
        "Este dataset contempla los datos disponibles de varios paises, pero simplemente se filtraran los datos correspondientes a Mexico.\n"
      ]
    },
    {
      "cell_type": "code",
      "metadata": {
        "id": "5NmXrsuZPHbx"
      },
      "source": [
        "# Carga del Dataset\n",
        "df = pd.read_csv('/content/drive/MyDrive/GitHub/LSTM-Covid-19/owid-covid-data.csv')"
      ],
      "execution_count": 2,
      "outputs": []
    },
    {
      "cell_type": "code",
      "metadata": {
        "colab": {
          "base_uri": "https://localhost:8080/",
          "height": 309
        },
        "id": "VJ9VEjW4Qipz",
        "outputId": "ce670747-547e-4942-e9de-4214314c1009"
      },
      "source": [
        "# Filtrando los datos, solo para Mexico\n",
        "df_mx = df[df['location'] == 'Mexico']\n",
        "#Mostrando el resultado\n",
        "df_mx.head(5)"
      ],
      "execution_count": 3,
      "outputs": [
        {
          "output_type": "execute_result",
          "data": {
            "text/html": [
              "<div>\n",
              "<style scoped>\n",
              "    .dataframe tbody tr th:only-of-type {\n",
              "        vertical-align: middle;\n",
              "    }\n",
              "\n",
              "    .dataframe tbody tr th {\n",
              "        vertical-align: top;\n",
              "    }\n",
              "\n",
              "    .dataframe thead th {\n",
              "        text-align: right;\n",
              "    }\n",
              "</style>\n",
              "<table border=\"1\" class=\"dataframe\">\n",
              "  <thead>\n",
              "    <tr style=\"text-align: right;\">\n",
              "      <th></th>\n",
              "      <th>iso_code</th>\n",
              "      <th>continent</th>\n",
              "      <th>location</th>\n",
              "      <th>date</th>\n",
              "      <th>total_cases</th>\n",
              "      <th>new_cases</th>\n",
              "      <th>new_cases_smoothed</th>\n",
              "      <th>total_deaths</th>\n",
              "      <th>new_deaths</th>\n",
              "      <th>new_deaths_smoothed</th>\n",
              "      <th>total_cases_per_million</th>\n",
              "      <th>new_cases_per_million</th>\n",
              "      <th>new_cases_smoothed_per_million</th>\n",
              "      <th>total_deaths_per_million</th>\n",
              "      <th>new_deaths_per_million</th>\n",
              "      <th>new_deaths_smoothed_per_million</th>\n",
              "      <th>reproduction_rate</th>\n",
              "      <th>icu_patients</th>\n",
              "      <th>icu_patients_per_million</th>\n",
              "      <th>hosp_patients</th>\n",
              "      <th>hosp_patients_per_million</th>\n",
              "      <th>weekly_icu_admissions</th>\n",
              "      <th>weekly_icu_admissions_per_million</th>\n",
              "      <th>weekly_hosp_admissions</th>\n",
              "      <th>weekly_hosp_admissions_per_million</th>\n",
              "      <th>new_tests</th>\n",
              "      <th>total_tests</th>\n",
              "      <th>total_tests_per_thousand</th>\n",
              "      <th>new_tests_per_thousand</th>\n",
              "      <th>new_tests_smoothed</th>\n",
              "      <th>new_tests_smoothed_per_thousand</th>\n",
              "      <th>positive_rate</th>\n",
              "      <th>tests_per_case</th>\n",
              "      <th>tests_units</th>\n",
              "      <th>total_vaccinations</th>\n",
              "      <th>people_vaccinated</th>\n",
              "      <th>people_fully_vaccinated</th>\n",
              "      <th>new_vaccinations</th>\n",
              "      <th>new_vaccinations_smoothed</th>\n",
              "      <th>total_vaccinations_per_hundred</th>\n",
              "      <th>people_vaccinated_per_hundred</th>\n",
              "      <th>people_fully_vaccinated_per_hundred</th>\n",
              "      <th>new_vaccinations_smoothed_per_million</th>\n",
              "      <th>stringency_index</th>\n",
              "      <th>population</th>\n",
              "      <th>population_density</th>\n",
              "      <th>median_age</th>\n",
              "      <th>aged_65_older</th>\n",
              "      <th>aged_70_older</th>\n",
              "      <th>gdp_per_capita</th>\n",
              "      <th>extreme_poverty</th>\n",
              "      <th>cardiovasc_death_rate</th>\n",
              "      <th>diabetes_prevalence</th>\n",
              "      <th>female_smokers</th>\n",
              "      <th>male_smokers</th>\n",
              "      <th>handwashing_facilities</th>\n",
              "      <th>hospital_beds_per_thousand</th>\n",
              "      <th>life_expectancy</th>\n",
              "      <th>human_development_index</th>\n",
              "    </tr>\n",
              "  </thead>\n",
              "  <tbody>\n",
              "    <tr>\n",
              "      <th>45393</th>\n",
              "      <td>MEX</td>\n",
              "      <td>North America</td>\n",
              "      <td>Mexico</td>\n",
              "      <td>2020-01-01</td>\n",
              "      <td>NaN</td>\n",
              "      <td>NaN</td>\n",
              "      <td>NaN</td>\n",
              "      <td>NaN</td>\n",
              "      <td>NaN</td>\n",
              "      <td>NaN</td>\n",
              "      <td>NaN</td>\n",
              "      <td>NaN</td>\n",
              "      <td>NaN</td>\n",
              "      <td>NaN</td>\n",
              "      <td>NaN</td>\n",
              "      <td>NaN</td>\n",
              "      <td>NaN</td>\n",
              "      <td>NaN</td>\n",
              "      <td>NaN</td>\n",
              "      <td>NaN</td>\n",
              "      <td>NaN</td>\n",
              "      <td>NaN</td>\n",
              "      <td>NaN</td>\n",
              "      <td>NaN</td>\n",
              "      <td>NaN</td>\n",
              "      <td>25.0</td>\n",
              "      <td>25.0</td>\n",
              "      <td>0.000</td>\n",
              "      <td>0.000</td>\n",
              "      <td>NaN</td>\n",
              "      <td>NaN</td>\n",
              "      <td>NaN</td>\n",
              "      <td>NaN</td>\n",
              "      <td>people tested</td>\n",
              "      <td>NaN</td>\n",
              "      <td>NaN</td>\n",
              "      <td>NaN</td>\n",
              "      <td>NaN</td>\n",
              "      <td>NaN</td>\n",
              "      <td>NaN</td>\n",
              "      <td>NaN</td>\n",
              "      <td>NaN</td>\n",
              "      <td>NaN</td>\n",
              "      <td>0.0</td>\n",
              "      <td>128932753.0</td>\n",
              "      <td>66.444</td>\n",
              "      <td>29.3</td>\n",
              "      <td>6.857</td>\n",
              "      <td>4.321</td>\n",
              "      <td>17336.469</td>\n",
              "      <td>2.5</td>\n",
              "      <td>152.783</td>\n",
              "      <td>13.06</td>\n",
              "      <td>6.9</td>\n",
              "      <td>21.4</td>\n",
              "      <td>87.847</td>\n",
              "      <td>1.38</td>\n",
              "      <td>75.05</td>\n",
              "      <td>0.779</td>\n",
              "    </tr>\n",
              "    <tr>\n",
              "      <th>45394</th>\n",
              "      <td>MEX</td>\n",
              "      <td>North America</td>\n",
              "      <td>Mexico</td>\n",
              "      <td>2020-01-02</td>\n",
              "      <td>NaN</td>\n",
              "      <td>NaN</td>\n",
              "      <td>NaN</td>\n",
              "      <td>NaN</td>\n",
              "      <td>NaN</td>\n",
              "      <td>NaN</td>\n",
              "      <td>NaN</td>\n",
              "      <td>NaN</td>\n",
              "      <td>NaN</td>\n",
              "      <td>NaN</td>\n",
              "      <td>NaN</td>\n",
              "      <td>NaN</td>\n",
              "      <td>NaN</td>\n",
              "      <td>NaN</td>\n",
              "      <td>NaN</td>\n",
              "      <td>NaN</td>\n",
              "      <td>NaN</td>\n",
              "      <td>NaN</td>\n",
              "      <td>NaN</td>\n",
              "      <td>NaN</td>\n",
              "      <td>NaN</td>\n",
              "      <td>72.0</td>\n",
              "      <td>97.0</td>\n",
              "      <td>0.001</td>\n",
              "      <td>0.001</td>\n",
              "      <td>NaN</td>\n",
              "      <td>NaN</td>\n",
              "      <td>NaN</td>\n",
              "      <td>NaN</td>\n",
              "      <td>people tested</td>\n",
              "      <td>NaN</td>\n",
              "      <td>NaN</td>\n",
              "      <td>NaN</td>\n",
              "      <td>NaN</td>\n",
              "      <td>NaN</td>\n",
              "      <td>NaN</td>\n",
              "      <td>NaN</td>\n",
              "      <td>NaN</td>\n",
              "      <td>NaN</td>\n",
              "      <td>0.0</td>\n",
              "      <td>128932753.0</td>\n",
              "      <td>66.444</td>\n",
              "      <td>29.3</td>\n",
              "      <td>6.857</td>\n",
              "      <td>4.321</td>\n",
              "      <td>17336.469</td>\n",
              "      <td>2.5</td>\n",
              "      <td>152.783</td>\n",
              "      <td>13.06</td>\n",
              "      <td>6.9</td>\n",
              "      <td>21.4</td>\n",
              "      <td>87.847</td>\n",
              "      <td>1.38</td>\n",
              "      <td>75.05</td>\n",
              "      <td>0.779</td>\n",
              "    </tr>\n",
              "    <tr>\n",
              "      <th>45395</th>\n",
              "      <td>MEX</td>\n",
              "      <td>North America</td>\n",
              "      <td>Mexico</td>\n",
              "      <td>2020-01-03</td>\n",
              "      <td>NaN</td>\n",
              "      <td>NaN</td>\n",
              "      <td>NaN</td>\n",
              "      <td>NaN</td>\n",
              "      <td>NaN</td>\n",
              "      <td>NaN</td>\n",
              "      <td>NaN</td>\n",
              "      <td>NaN</td>\n",
              "      <td>NaN</td>\n",
              "      <td>NaN</td>\n",
              "      <td>NaN</td>\n",
              "      <td>NaN</td>\n",
              "      <td>NaN</td>\n",
              "      <td>NaN</td>\n",
              "      <td>NaN</td>\n",
              "      <td>NaN</td>\n",
              "      <td>NaN</td>\n",
              "      <td>NaN</td>\n",
              "      <td>NaN</td>\n",
              "      <td>NaN</td>\n",
              "      <td>NaN</td>\n",
              "      <td>89.0</td>\n",
              "      <td>186.0</td>\n",
              "      <td>0.001</td>\n",
              "      <td>0.001</td>\n",
              "      <td>NaN</td>\n",
              "      <td>NaN</td>\n",
              "      <td>NaN</td>\n",
              "      <td>NaN</td>\n",
              "      <td>people tested</td>\n",
              "      <td>NaN</td>\n",
              "      <td>NaN</td>\n",
              "      <td>NaN</td>\n",
              "      <td>NaN</td>\n",
              "      <td>NaN</td>\n",
              "      <td>NaN</td>\n",
              "      <td>NaN</td>\n",
              "      <td>NaN</td>\n",
              "      <td>NaN</td>\n",
              "      <td>0.0</td>\n",
              "      <td>128932753.0</td>\n",
              "      <td>66.444</td>\n",
              "      <td>29.3</td>\n",
              "      <td>6.857</td>\n",
              "      <td>4.321</td>\n",
              "      <td>17336.469</td>\n",
              "      <td>2.5</td>\n",
              "      <td>152.783</td>\n",
              "      <td>13.06</td>\n",
              "      <td>6.9</td>\n",
              "      <td>21.4</td>\n",
              "      <td>87.847</td>\n",
              "      <td>1.38</td>\n",
              "      <td>75.05</td>\n",
              "      <td>0.779</td>\n",
              "    </tr>\n",
              "    <tr>\n",
              "      <th>45396</th>\n",
              "      <td>MEX</td>\n",
              "      <td>North America</td>\n",
              "      <td>Mexico</td>\n",
              "      <td>2020-01-04</td>\n",
              "      <td>NaN</td>\n",
              "      <td>NaN</td>\n",
              "      <td>NaN</td>\n",
              "      <td>NaN</td>\n",
              "      <td>NaN</td>\n",
              "      <td>NaN</td>\n",
              "      <td>NaN</td>\n",
              "      <td>NaN</td>\n",
              "      <td>NaN</td>\n",
              "      <td>NaN</td>\n",
              "      <td>NaN</td>\n",
              "      <td>NaN</td>\n",
              "      <td>NaN</td>\n",
              "      <td>NaN</td>\n",
              "      <td>NaN</td>\n",
              "      <td>NaN</td>\n",
              "      <td>NaN</td>\n",
              "      <td>NaN</td>\n",
              "      <td>NaN</td>\n",
              "      <td>NaN</td>\n",
              "      <td>NaN</td>\n",
              "      <td>45.0</td>\n",
              "      <td>231.0</td>\n",
              "      <td>0.002</td>\n",
              "      <td>0.000</td>\n",
              "      <td>NaN</td>\n",
              "      <td>NaN</td>\n",
              "      <td>NaN</td>\n",
              "      <td>NaN</td>\n",
              "      <td>people tested</td>\n",
              "      <td>NaN</td>\n",
              "      <td>NaN</td>\n",
              "      <td>NaN</td>\n",
              "      <td>NaN</td>\n",
              "      <td>NaN</td>\n",
              "      <td>NaN</td>\n",
              "      <td>NaN</td>\n",
              "      <td>NaN</td>\n",
              "      <td>NaN</td>\n",
              "      <td>0.0</td>\n",
              "      <td>128932753.0</td>\n",
              "      <td>66.444</td>\n",
              "      <td>29.3</td>\n",
              "      <td>6.857</td>\n",
              "      <td>4.321</td>\n",
              "      <td>17336.469</td>\n",
              "      <td>2.5</td>\n",
              "      <td>152.783</td>\n",
              "      <td>13.06</td>\n",
              "      <td>6.9</td>\n",
              "      <td>21.4</td>\n",
              "      <td>87.847</td>\n",
              "      <td>1.38</td>\n",
              "      <td>75.05</td>\n",
              "      <td>0.779</td>\n",
              "    </tr>\n",
              "    <tr>\n",
              "      <th>45397</th>\n",
              "      <td>MEX</td>\n",
              "      <td>North America</td>\n",
              "      <td>Mexico</td>\n",
              "      <td>2020-01-05</td>\n",
              "      <td>NaN</td>\n",
              "      <td>NaN</td>\n",
              "      <td>NaN</td>\n",
              "      <td>NaN</td>\n",
              "      <td>NaN</td>\n",
              "      <td>NaN</td>\n",
              "      <td>NaN</td>\n",
              "      <td>NaN</td>\n",
              "      <td>NaN</td>\n",
              "      <td>NaN</td>\n",
              "      <td>NaN</td>\n",
              "      <td>NaN</td>\n",
              "      <td>NaN</td>\n",
              "      <td>NaN</td>\n",
              "      <td>NaN</td>\n",
              "      <td>NaN</td>\n",
              "      <td>NaN</td>\n",
              "      <td>NaN</td>\n",
              "      <td>NaN</td>\n",
              "      <td>NaN</td>\n",
              "      <td>NaN</td>\n",
              "      <td>85.0</td>\n",
              "      <td>316.0</td>\n",
              "      <td>0.002</td>\n",
              "      <td>0.001</td>\n",
              "      <td>NaN</td>\n",
              "      <td>NaN</td>\n",
              "      <td>NaN</td>\n",
              "      <td>NaN</td>\n",
              "      <td>people tested</td>\n",
              "      <td>NaN</td>\n",
              "      <td>NaN</td>\n",
              "      <td>NaN</td>\n",
              "      <td>NaN</td>\n",
              "      <td>NaN</td>\n",
              "      <td>NaN</td>\n",
              "      <td>NaN</td>\n",
              "      <td>NaN</td>\n",
              "      <td>NaN</td>\n",
              "      <td>0.0</td>\n",
              "      <td>128932753.0</td>\n",
              "      <td>66.444</td>\n",
              "      <td>29.3</td>\n",
              "      <td>6.857</td>\n",
              "      <td>4.321</td>\n",
              "      <td>17336.469</td>\n",
              "      <td>2.5</td>\n",
              "      <td>152.783</td>\n",
              "      <td>13.06</td>\n",
              "      <td>6.9</td>\n",
              "      <td>21.4</td>\n",
              "      <td>87.847</td>\n",
              "      <td>1.38</td>\n",
              "      <td>75.05</td>\n",
              "      <td>0.779</td>\n",
              "    </tr>\n",
              "  </tbody>\n",
              "</table>\n",
              "</div>"
            ],
            "text/plain": [
              "      iso_code      continent  ... life_expectancy human_development_index\n",
              "45393      MEX  North America  ...           75.05                   0.779\n",
              "45394      MEX  North America  ...           75.05                   0.779\n",
              "45395      MEX  North America  ...           75.05                   0.779\n",
              "45396      MEX  North America  ...           75.05                   0.779\n",
              "45397      MEX  North America  ...           75.05                   0.779\n",
              "\n",
              "[5 rows x 59 columns]"
            ]
          },
          "metadata": {
            "tags": []
          },
          "execution_count": 3
        }
      ]
    },
    {
      "cell_type": "code",
      "metadata": {
        "colab": {
          "base_uri": "https://localhost:8080/",
          "height": 204
        },
        "id": "kuhAk_wrQjmE",
        "outputId": "454935ee-cbf2-4898-ac07-2bd03a757bab"
      },
      "source": [
        "# Seleccionando columnas\n",
        "df_mx = df_mx.iloc[:, 3:6]\n",
        "df_mx.head()"
      ],
      "execution_count": 4,
      "outputs": [
        {
          "output_type": "execute_result",
          "data": {
            "text/html": [
              "<div>\n",
              "<style scoped>\n",
              "    .dataframe tbody tr th:only-of-type {\n",
              "        vertical-align: middle;\n",
              "    }\n",
              "\n",
              "    .dataframe tbody tr th {\n",
              "        vertical-align: top;\n",
              "    }\n",
              "\n",
              "    .dataframe thead th {\n",
              "        text-align: right;\n",
              "    }\n",
              "</style>\n",
              "<table border=\"1\" class=\"dataframe\">\n",
              "  <thead>\n",
              "    <tr style=\"text-align: right;\">\n",
              "      <th></th>\n",
              "      <th>date</th>\n",
              "      <th>total_cases</th>\n",
              "      <th>new_cases</th>\n",
              "    </tr>\n",
              "  </thead>\n",
              "  <tbody>\n",
              "    <tr>\n",
              "      <th>45393</th>\n",
              "      <td>2020-01-01</td>\n",
              "      <td>NaN</td>\n",
              "      <td>NaN</td>\n",
              "    </tr>\n",
              "    <tr>\n",
              "      <th>45394</th>\n",
              "      <td>2020-01-02</td>\n",
              "      <td>NaN</td>\n",
              "      <td>NaN</td>\n",
              "    </tr>\n",
              "    <tr>\n",
              "      <th>45395</th>\n",
              "      <td>2020-01-03</td>\n",
              "      <td>NaN</td>\n",
              "      <td>NaN</td>\n",
              "    </tr>\n",
              "    <tr>\n",
              "      <th>45396</th>\n",
              "      <td>2020-01-04</td>\n",
              "      <td>NaN</td>\n",
              "      <td>NaN</td>\n",
              "    </tr>\n",
              "    <tr>\n",
              "      <th>45397</th>\n",
              "      <td>2020-01-05</td>\n",
              "      <td>NaN</td>\n",
              "      <td>NaN</td>\n",
              "    </tr>\n",
              "  </tbody>\n",
              "</table>\n",
              "</div>"
            ],
            "text/plain": [
              "             date  total_cases  new_cases\n",
              "45393  2020-01-01          NaN        NaN\n",
              "45394  2020-01-02          NaN        NaN\n",
              "45395  2020-01-03          NaN        NaN\n",
              "45396  2020-01-04          NaN        NaN\n",
              "45397  2020-01-05          NaN        NaN"
            ]
          },
          "metadata": {
            "tags": []
          },
          "execution_count": 4
        }
      ]
    },
    {
      "cell_type": "code",
      "metadata": {
        "id": "QyrjUnQ7EF9X",
        "colab": {
          "base_uri": "https://localhost:8080/",
          "height": 142
        },
        "outputId": "eeb00cde-6460-4a29-86cb-1b82794ef74b"
      },
      "source": [
        "#Reseteando index\n",
        "df_mx = df_mx.reset_index(inplace=False)\n",
        "#Eliminando columna extra\n",
        "del df_mx['index']\n",
        "#Mostrando datos\n",
        "df_mx.head(3)"
      ],
      "execution_count": 5,
      "outputs": [
        {
          "output_type": "execute_result",
          "data": {
            "text/html": [
              "<div>\n",
              "<style scoped>\n",
              "    .dataframe tbody tr th:only-of-type {\n",
              "        vertical-align: middle;\n",
              "    }\n",
              "\n",
              "    .dataframe tbody tr th {\n",
              "        vertical-align: top;\n",
              "    }\n",
              "\n",
              "    .dataframe thead th {\n",
              "        text-align: right;\n",
              "    }\n",
              "</style>\n",
              "<table border=\"1\" class=\"dataframe\">\n",
              "  <thead>\n",
              "    <tr style=\"text-align: right;\">\n",
              "      <th></th>\n",
              "      <th>date</th>\n",
              "      <th>total_cases</th>\n",
              "      <th>new_cases</th>\n",
              "    </tr>\n",
              "  </thead>\n",
              "  <tbody>\n",
              "    <tr>\n",
              "      <th>0</th>\n",
              "      <td>2020-01-01</td>\n",
              "      <td>NaN</td>\n",
              "      <td>NaN</td>\n",
              "    </tr>\n",
              "    <tr>\n",
              "      <th>1</th>\n",
              "      <td>2020-01-02</td>\n",
              "      <td>NaN</td>\n",
              "      <td>NaN</td>\n",
              "    </tr>\n",
              "    <tr>\n",
              "      <th>2</th>\n",
              "      <td>2020-01-03</td>\n",
              "      <td>NaN</td>\n",
              "      <td>NaN</td>\n",
              "    </tr>\n",
              "  </tbody>\n",
              "</table>\n",
              "</div>"
            ],
            "text/plain": [
              "         date  total_cases  new_cases\n",
              "0  2020-01-01          NaN        NaN\n",
              "1  2020-01-02          NaN        NaN\n",
              "2  2020-01-03          NaN        NaN"
            ]
          },
          "metadata": {
            "tags": []
          },
          "execution_count": 5
        }
      ]
    },
    {
      "cell_type": "code",
      "metadata": {
        "colab": {
          "base_uri": "https://localhost:8080/",
          "height": 204
        },
        "id": "2YpCb4jeDKVu",
        "outputId": "f95baaac-3542-46dd-99cc-ae6e17a69870"
      },
      "source": [
        "# Trabajando con la columna de nuevos casos\n",
        "df_mx = df_mx.iloc[:,[0,2]]\n",
        "df_mx.head()"
      ],
      "execution_count": 6,
      "outputs": [
        {
          "output_type": "execute_result",
          "data": {
            "text/html": [
              "<div>\n",
              "<style scoped>\n",
              "    .dataframe tbody tr th:only-of-type {\n",
              "        vertical-align: middle;\n",
              "    }\n",
              "\n",
              "    .dataframe tbody tr th {\n",
              "        vertical-align: top;\n",
              "    }\n",
              "\n",
              "    .dataframe thead th {\n",
              "        text-align: right;\n",
              "    }\n",
              "</style>\n",
              "<table border=\"1\" class=\"dataframe\">\n",
              "  <thead>\n",
              "    <tr style=\"text-align: right;\">\n",
              "      <th></th>\n",
              "      <th>date</th>\n",
              "      <th>new_cases</th>\n",
              "    </tr>\n",
              "  </thead>\n",
              "  <tbody>\n",
              "    <tr>\n",
              "      <th>0</th>\n",
              "      <td>2020-01-01</td>\n",
              "      <td>NaN</td>\n",
              "    </tr>\n",
              "    <tr>\n",
              "      <th>1</th>\n",
              "      <td>2020-01-02</td>\n",
              "      <td>NaN</td>\n",
              "    </tr>\n",
              "    <tr>\n",
              "      <th>2</th>\n",
              "      <td>2020-01-03</td>\n",
              "      <td>NaN</td>\n",
              "    </tr>\n",
              "    <tr>\n",
              "      <th>3</th>\n",
              "      <td>2020-01-04</td>\n",
              "      <td>NaN</td>\n",
              "    </tr>\n",
              "    <tr>\n",
              "      <th>4</th>\n",
              "      <td>2020-01-05</td>\n",
              "      <td>NaN</td>\n",
              "    </tr>\n",
              "  </tbody>\n",
              "</table>\n",
              "</div>"
            ],
            "text/plain": [
              "         date  new_cases\n",
              "0  2020-01-01        NaN\n",
              "1  2020-01-02        NaN\n",
              "2  2020-01-03        NaN\n",
              "3  2020-01-04        NaN\n",
              "4  2020-01-05        NaN"
            ]
          },
          "metadata": {
            "tags": []
          },
          "execution_count": 6
        }
      ]
    },
    {
      "cell_type": "markdown",
      "metadata": {
        "id": "WKxrS1PkDvBb"
      },
      "source": [
        "Asi seran los datos con los que se trabajaran. \n",
        "\n",
        "Como se muestran en la tabla de arriba."
      ]
    },
    {
      "cell_type": "markdown",
      "metadata": {
        "id": "I0glvokzHwP7"
      },
      "source": [
        "## **Transformacion de los datos**"
      ]
    },
    {
      "cell_type": "markdown",
      "metadata": {
        "id": "2Qa8CUmIFa_T"
      },
      "source": [
        "Es importante considerar, que para poder realizar predicciones, los datos debe de tener una forma correcta, es decir:\n",
        "\n",
        "\n",
        "- No tener datos faltantes\n",
        "- La fecha sera de tipo datetime\n",
        "- Los datos de \"nuevo casos\" son datos numericos\n",
        "\n",
        "\n",
        "---\n",
        "\n",
        "\n",
        "Realizar un analisis estadistico, es importante para poder contemplar el comportamineto de los daots.\n",
        "\n",
        "\n",
        "\n"
      ]
    },
    {
      "cell_type": "code",
      "metadata": {
        "colab": {
          "base_uri": "https://localhost:8080/",
          "height": 0
        },
        "id": "FLLkmTY-H1Aa",
        "outputId": "21ba32a0-cce0-418a-f150-df43c6a09ba6"
      },
      "source": [
        "df_mx.head(3)"
      ],
      "execution_count": 7,
      "outputs": [
        {
          "output_type": "execute_result",
          "data": {
            "text/html": [
              "<div>\n",
              "<style scoped>\n",
              "    .dataframe tbody tr th:only-of-type {\n",
              "        vertical-align: middle;\n",
              "    }\n",
              "\n",
              "    .dataframe tbody tr th {\n",
              "        vertical-align: top;\n",
              "    }\n",
              "\n",
              "    .dataframe thead th {\n",
              "        text-align: right;\n",
              "    }\n",
              "</style>\n",
              "<table border=\"1\" class=\"dataframe\">\n",
              "  <thead>\n",
              "    <tr style=\"text-align: right;\">\n",
              "      <th></th>\n",
              "      <th>date</th>\n",
              "      <th>new_cases</th>\n",
              "    </tr>\n",
              "  </thead>\n",
              "  <tbody>\n",
              "    <tr>\n",
              "      <th>0</th>\n",
              "      <td>2020-01-01</td>\n",
              "      <td>NaN</td>\n",
              "    </tr>\n",
              "    <tr>\n",
              "      <th>1</th>\n",
              "      <td>2020-01-02</td>\n",
              "      <td>NaN</td>\n",
              "    </tr>\n",
              "    <tr>\n",
              "      <th>2</th>\n",
              "      <td>2020-01-03</td>\n",
              "      <td>NaN</td>\n",
              "    </tr>\n",
              "  </tbody>\n",
              "</table>\n",
              "</div>"
            ],
            "text/plain": [
              "         date  new_cases\n",
              "0  2020-01-01        NaN\n",
              "1  2020-01-02        NaN\n",
              "2  2020-01-03        NaN"
            ]
          },
          "metadata": {
            "tags": []
          },
          "execution_count": 7
        }
      ]
    },
    {
      "cell_type": "code",
      "metadata": {
        "colab": {
          "base_uri": "https://localhost:8080/"
        },
        "id": "lM13If1qH8-N",
        "outputId": "cabec86e-ed10-43ed-9e45-73088968a156"
      },
      "source": [
        "df_mx.info()"
      ],
      "execution_count": 8,
      "outputs": [
        {
          "output_type": "stream",
          "text": [
            "<class 'pandas.core.frame.DataFrame'>\n",
            "RangeIndex: 454 entries, 0 to 453\n",
            "Data columns (total 2 columns):\n",
            " #   Column     Non-Null Count  Dtype  \n",
            "---  ------     --------------  -----  \n",
            " 0   date       454 non-null    object \n",
            " 1   new_cases  396 non-null    float64\n",
            "dtypes: float64(1), object(1)\n",
            "memory usage: 7.2+ KB\n"
          ],
          "name": "stdout"
        }
      ]
    },
    {
      "cell_type": "code",
      "metadata": {
        "id": "fzVse4Z_H-RQ"
      },
      "source": [
        "df_mx.date = pd.to_datetime(df_mx.date)"
      ],
      "execution_count": 9,
      "outputs": []
    },
    {
      "cell_type": "code",
      "metadata": {
        "colab": {
          "base_uri": "https://localhost:8080/"
        },
        "id": "GMdV5UuZIFVJ",
        "outputId": "9b7235ef-8388-4d80-a58d-51830d731f0d"
      },
      "source": [
        "df_mx.info()"
      ],
      "execution_count": 10,
      "outputs": [
        {
          "output_type": "stream",
          "text": [
            "<class 'pandas.core.frame.DataFrame'>\n",
            "RangeIndex: 454 entries, 0 to 453\n",
            "Data columns (total 2 columns):\n",
            " #   Column     Non-Null Count  Dtype         \n",
            "---  ------     --------------  -----         \n",
            " 0   date       454 non-null    datetime64[ns]\n",
            " 1   new_cases  396 non-null    float64       \n",
            "dtypes: datetime64[ns](1), float64(1)\n",
            "memory usage: 7.2 KB\n"
          ],
          "name": "stdout"
        }
      ]
    },
    {
      "cell_type": "code",
      "metadata": {
        "colab": {
          "base_uri": "https://localhost:8080/",
          "height": 0
        },
        "id": "RhCyjj9jIGii",
        "outputId": "a3413093-3445-4f5c-f5a4-69aff55ee252"
      },
      "source": [
        "#Analisis estadistico rapido\n",
        "df_mx.describe()"
      ],
      "execution_count": 11,
      "outputs": [
        {
          "output_type": "execute_result",
          "data": {
            "text/html": [
              "<div>\n",
              "<style scoped>\n",
              "    .dataframe tbody tr th:only-of-type {\n",
              "        vertical-align: middle;\n",
              "    }\n",
              "\n",
              "    .dataframe tbody tr th {\n",
              "        vertical-align: top;\n",
              "    }\n",
              "\n",
              "    .dataframe thead th {\n",
              "        text-align: right;\n",
              "    }\n",
              "</style>\n",
              "<table border=\"1\" class=\"dataframe\">\n",
              "  <thead>\n",
              "    <tr style=\"text-align: right;\">\n",
              "      <th></th>\n",
              "      <th>new_cases</th>\n",
              "    </tr>\n",
              "  </thead>\n",
              "  <tbody>\n",
              "    <tr>\n",
              "      <th>count</th>\n",
              "      <td>396.000000</td>\n",
              "    </tr>\n",
              "    <tr>\n",
              "      <th>mean</th>\n",
              "      <td>5625.866162</td>\n",
              "    </tr>\n",
              "    <tr>\n",
              "      <th>std</th>\n",
              "      <td>4475.211614</td>\n",
              "    </tr>\n",
              "    <tr>\n",
              "      <th>min</th>\n",
              "      <td>0.000000</td>\n",
              "    </tr>\n",
              "    <tr>\n",
              "      <th>25%</th>\n",
              "      <td>2800.250000</td>\n",
              "    </tr>\n",
              "    <tr>\n",
              "      <th>50%</th>\n",
              "      <td>5237.500000</td>\n",
              "    </tr>\n",
              "    <tr>\n",
              "      <th>75%</th>\n",
              "      <td>6848.500000</td>\n",
              "    </tr>\n",
              "    <tr>\n",
              "      <th>max</th>\n",
              "      <td>28115.000000</td>\n",
              "    </tr>\n",
              "  </tbody>\n",
              "</table>\n",
              "</div>"
            ],
            "text/plain": [
              "          new_cases\n",
              "count    396.000000\n",
              "mean    5625.866162\n",
              "std     4475.211614\n",
              "min        0.000000\n",
              "25%     2800.250000\n",
              "50%     5237.500000\n",
              "75%     6848.500000\n",
              "max    28115.000000"
            ]
          },
          "metadata": {
            "tags": []
          },
          "execution_count": 11
        }
      ]
    },
    {
      "cell_type": "code",
      "metadata": {
        "colab": {
          "base_uri": "https://localhost:8080/"
        },
        "id": "AMzqF6soIJZ-",
        "outputId": "058ee4aa-5cb2-4648-eb55-26251d5d055c"
      },
      "source": [
        "df_mx.isna().sum()"
      ],
      "execution_count": 12,
      "outputs": [
        {
          "output_type": "execute_result",
          "data": {
            "text/plain": [
              "date          0\n",
              "new_cases    58\n",
              "dtype: int64"
            ]
          },
          "metadata": {
            "tags": []
          },
          "execution_count": 12
        }
      ]
    },
    {
      "cell_type": "code",
      "metadata": {
        "id": "LRKsPTdoIlJg"
      },
      "source": [
        "# Quitando Datos faltantes.\n",
        "df_mx = df_mx[df_mx['new_cases'].notna()]"
      ],
      "execution_count": 13,
      "outputs": []
    },
    {
      "cell_type": "code",
      "metadata": {
        "colab": {
          "base_uri": "https://localhost:8080/",
          "height": 0
        },
        "id": "AFWr_jf-JAdp",
        "outputId": "d464f268-6547-49e5-8bcd-85f1d249b9b1"
      },
      "source": [
        "df_mx.tail()"
      ],
      "execution_count": 14,
      "outputs": [
        {
          "output_type": "execute_result",
          "data": {
            "text/html": [
              "<div>\n",
              "<style scoped>\n",
              "    .dataframe tbody tr th:only-of-type {\n",
              "        vertical-align: middle;\n",
              "    }\n",
              "\n",
              "    .dataframe tbody tr th {\n",
              "        vertical-align: top;\n",
              "    }\n",
              "\n",
              "    .dataframe thead th {\n",
              "        text-align: right;\n",
              "    }\n",
              "</style>\n",
              "<table border=\"1\" class=\"dataframe\">\n",
              "  <thead>\n",
              "    <tr style=\"text-align: right;\">\n",
              "      <th></th>\n",
              "      <th>date</th>\n",
              "      <th>new_cases</th>\n",
              "    </tr>\n",
              "  </thead>\n",
              "  <tbody>\n",
              "    <tr>\n",
              "      <th>449</th>\n",
              "      <td>2021-03-25</td>\n",
              "      <td>5787.0</td>\n",
              "    </tr>\n",
              "    <tr>\n",
              "      <th>450</th>\n",
              "      <td>2021-03-26</td>\n",
              "      <td>5303.0</td>\n",
              "    </tr>\n",
              "    <tr>\n",
              "      <th>451</th>\n",
              "      <td>2021-03-27</td>\n",
              "      <td>5059.0</td>\n",
              "    </tr>\n",
              "    <tr>\n",
              "      <th>452</th>\n",
              "      <td>2021-03-28</td>\n",
              "      <td>1646.0</td>\n",
              "    </tr>\n",
              "    <tr>\n",
              "      <th>453</th>\n",
              "      <td>2021-03-29</td>\n",
              "      <td>1293.0</td>\n",
              "    </tr>\n",
              "  </tbody>\n",
              "</table>\n",
              "</div>"
            ],
            "text/plain": [
              "          date  new_cases\n",
              "449 2021-03-25     5787.0\n",
              "450 2021-03-26     5303.0\n",
              "451 2021-03-27     5059.0\n",
              "452 2021-03-28     1646.0\n",
              "453 2021-03-29     1293.0"
            ]
          },
          "metadata": {
            "tags": []
          },
          "execution_count": 14
        }
      ]
    },
    {
      "cell_type": "code",
      "metadata": {
        "colab": {
          "base_uri": "https://localhost:8080/"
        },
        "id": "A07Wj3llJtbV",
        "outputId": "24c438b8-9dc7-46ed-f2a6-eb59ef3b4f1f"
      },
      "source": [
        "df_mx.date.describe()"
      ],
      "execution_count": 15,
      "outputs": [
        {
          "output_type": "stream",
          "text": [
            "/usr/local/lib/python3.7/dist-packages/ipykernel_launcher.py:1: FutureWarning: Treating datetime data as categorical rather than numeric in `.describe` is deprecated and will be removed in a future version of pandas. Specify `datetime_is_numeric=True` to silence this warning and adopt the future behavior now.\n",
            "  \"\"\"Entry point for launching an IPython kernel.\n"
          ],
          "name": "stderr"
        },
        {
          "output_type": "execute_result",
          "data": {
            "text/plain": [
              "count                     396\n",
              "unique                    396\n",
              "top       2020-04-13 00:00:00\n",
              "freq                        1\n",
              "first     2020-02-28 00:00:00\n",
              "last      2021-03-29 00:00:00\n",
              "Name: date, dtype: object"
            ]
          },
          "metadata": {
            "tags": []
          },
          "execution_count": 15
        }
      ]
    },
    {
      "cell_type": "code",
      "metadata": {
        "id": "pggG81rPKIgA"
      },
      "source": [
        ""
      ],
      "execution_count": 15,
      "outputs": []
    },
    {
      "cell_type": "markdown",
      "metadata": {
        "id": "N0k3YjYXKjQ5"
      },
      "source": [
        "\n",
        "---\n",
        "\n",
        "\n",
        "---\n",
        "\n",
        "\n",
        "## **Visualizacion de Datos**\n",
        "\n",
        "\n",
        "Es muy importante poder ver los datos de manera grafica, asi se podra tener vision mas clara del comportamiento de los datos.\n",
        "\n",
        "Al tratar con datos, que se trabajaran como series temporales, existe un tipo de grafico que mas se adopta a estos mismos. Plotear datos es una forma clara para ver su comportamiento. \n",
        "\n",
        "Por el eje de las x, tenemos el tiempo, los dias o meses que han transcurrido. En el eje de las y, tenemos la cantidad de casos nuevos, de esta forma es como se puede ver su comportamiento.\n",
        "\n",
        "**Para la tendencia. Los datos se trabajaran con una serie de tiempo de 7 dias (1 semana), para acomular la mayor cantidad de datos y aun asi podamos tener buenas predicciones**\n",
        "\n",
        "En las graficas se trabajan con las series temporales de 7 dias juntos."
      ]
    },
    {
      "cell_type": "code",
      "metadata": {
        "id": "ZRBmbNpkK6tx"
      },
      "source": [
        "#Copiando dataset\n",
        "df_mx_2 = df_mx.copy()"
      ],
      "execution_count": 16,
      "outputs": []
    },
    {
      "cell_type": "code",
      "metadata": {
        "id": "XRO8dazvK7uL"
      },
      "source": [
        "df_mx_2.set_index('date', inplace=True)"
      ],
      "execution_count": 17,
      "outputs": []
    },
    {
      "cell_type": "code",
      "metadata": {
        "id": "n4AsHom9KlUY"
      },
      "source": [
        "# Promedio de ventanas de tiempo\n",
        "\n",
        "#Ventana de tiempo\n",
        "ventana_tiempo = df_mx_2.rolling(7)\n",
        "\n",
        "#Media de la ventana de tiempo\n",
        "media_df = ventana_tiempo.mean()"
      ],
      "execution_count": 18,
      "outputs": []
    },
    {
      "cell_type": "code",
      "metadata": {
        "colab": {
          "base_uri": "https://localhost:8080/",
          "height": 514
        },
        "id": "fDnFEwOUL_eQ",
        "outputId": "bcdf19b0-25b3-44c8-ef18-ac139bcf5f8f"
      },
      "source": [
        "plt.figure(figsize=(12,8))\n",
        "plt.plot(df_mx_2, label='new_cases')\n",
        "plt.plot(media_df, label='media')\n",
        "plt.ylabel('Cantidad de casos')\n",
        "plt.xlabel('Tiempo Transcurrido')\n",
        "plt.grid()\n",
        "plt.legend()"
      ],
      "execution_count": 19,
      "outputs": [
        {
          "output_type": "execute_result",
          "data": {
            "text/plain": [
              "<matplotlib.legend.Legend at 0x7fe845da81d0>"
            ]
          },
          "metadata": {
            "tags": []
          },
          "execution_count": 19
        },
        {
          "output_type": "display_data",
          "data": {
            "image/png": "[encoded data removed]",
            "text/plain": [
              "<Figure size 864x576 with 1 Axes>"
            ]
          },
          "metadata": {
            "tags": [],
            "needs_background": "light"
          }
        }
      ]
    },
    {
      "cell_type": "markdown",
      "metadata": {
        "id": "WhzUN4GaPggN"
      },
      "source": [
        "**Los datos presentados en la grafica presentan algunos outliers (datos fuera de lo normal), estos datos se pueden ver en la grafica de arribsa, entre el mes 09 y 11. Tambien entre 2021-01 y 2021-03. Estos datos son muy notorios ya que tienen una exageración dentro de la grafica.**\n",
        "\n"
      ]
    },
    {
      "cell_type": "markdown",
      "metadata": {
        "id": "oKcLY7LOQ35B"
      },
      "source": [
        "**Pero para poder observar otra perseptiva de los datos, veremos su tendencia, ya que la tendencia podra revelar los datos aun mas claros.**"
      ]
    },
    {
      "cell_type": "code",
      "metadata": {
        "id": "BVMbLSzeMALk"
      },
      "source": [
        "seasonal_value = seasonal_decompose(df_mx_2, freq=7)"
      ],
      "execution_count": 20,
      "outputs": []
    },
    {
      "cell_type": "code",
      "metadata": {
        "colab": {
          "base_uri": "https://localhost:8080/",
          "height": 298
        },
        "id": "ge1MDs_XOepK",
        "outputId": "ba6d44af-571f-4f60-aaab-b6b70a8e2e8b"
      },
      "source": [
        "seasonal_value.plot();"
      ],
      "execution_count": 21,
      "outputs": [
        {
          "output_type": "display_data",
          "data": {
            "image/png": "[encoded data removed]",
            "text/plain": [
              "<Figure size 432x288 with 4 Axes>"
            ]
          },
          "metadata": {
            "tags": [],
            "needs_background": "light"
          }
        }
      ]
    },
    {
      "cell_type": "code",
      "metadata": {
        "id": "uvHv9BZKOgx_",
        "colab": {
          "base_uri": "https://localhost:8080/",
          "height": 308
        },
        "outputId": "e5a919e7-c631-413b-ddc5-e16ef4932505"
      },
      "source": [
        "seasonal_value.trend.plot()"
      ],
      "execution_count": 22,
      "outputs": [
        {
          "output_type": "execute_result",
          "data": {
            "text/plain": [
              "<matplotlib.axes._subplots.AxesSubplot at 0x7fe83b409610>"
            ]
          },
          "metadata": {
            "tags": []
          },
          "execution_count": 22
        },
        {
          "output_type": "display_data",
          "data": {
            "image/png": "[encoded data removed]",
            "text/plain": [
              "<Figure size 432x288 with 1 Axes>"
            ]
          },
          "metadata": {
            "tags": [],
            "needs_background": "light"
          }
        }
      ]
    },
    {
      "cell_type": "code",
      "metadata": {
        "colab": {
          "base_uri": "https://localhost:8080/",
          "height": 308
        },
        "id": "ODkjRq-jQ9QU",
        "outputId": "359fa4ac-b5ca-43a9-db9e-c4526c747644"
      },
      "source": [
        "seasonal_value.observed.plot()"
      ],
      "execution_count": 23,
      "outputs": [
        {
          "output_type": "execute_result",
          "data": {
            "text/plain": [
              "<matplotlib.axes._subplots.AxesSubplot at 0x7fe83b302ad0>"
            ]
          },
          "metadata": {
            "tags": []
          },
          "execution_count": 23
        },
        {
          "output_type": "display_data",
          "data": {
            "image/png": "[encoded data removed]",
            "text/plain": [
              "<Figure size 432x288 with 1 Axes>"
            ]
          },
          "metadata": {
            "tags": [],
            "needs_background": "light"
          }
        }
      ]
    },
    {
      "cell_type": "markdown",
      "metadata": {
        "id": "kV8FZKY1K452"
      },
      "source": [
        "# **Escalando datos**\n",
        "\n",
        "Preparando los datos para poder introducirlos a las diferetnes redes nueronales\n",
        "\n",
        "- Unas vez visualizados algunos de los datos, procederemos a realizar una division de los datos, en 2 conjuntos, entreanmiento y prueba. De esta forma tendremos una mejor prediccion, para poder tener una referenecia entre los datos de testeo y las predicciones. Asi se podra observar como sera la sertesa de la prediccion vs datos reales.\n",
        "\n",
        "- De manera mas practica y con la intencion de tener una mejor idea, los resultados se estaran ploteando(graficando) y asi ver como nos asercamos a las predicciones.\n",
        "\n",
        "- Para todos los datos para predecir tomaremos unicamente 20 dias para predecir en el futuro. 20 datos son los que apartaremos para testeo."
      ]
    },
    {
      "cell_type": "code",
      "metadata": {
        "colab": {
          "base_uri": "https://localhost:8080/"
        },
        "id": "EGNDEV4VPRsp",
        "outputId": "90cc5cc1-2daf-492a-e30c-abbe2a3b4280"
      },
      "source": [
        "# Datos de entreamiento y test\n",
        "\n",
        "len(df_mx_2)"
      ],
      "execution_count": 60,
      "outputs": [
        {
          "output_type": "execute_result",
          "data": {
            "text/plain": [
              "396"
            ]
          },
          "metadata": {
            "tags": []
          },
          "execution_count": 60
        }
      ]
    },
    {
      "cell_type": "code",
      "metadata": {
        "colab": {
          "base_uri": "https://localhost:8080/"
        },
        "id": "sZxH98wcQA5m",
        "outputId": "ec46bffc-98dc-4f5a-f268-44d16aa08096"
      },
      "source": [
        "len(df_mx_2)-20"
      ],
      "execution_count": 61,
      "outputs": [
        {
          "output_type": "execute_result",
          "data": {
            "text/plain": [
              "376"
            ]
          },
          "metadata": {
            "tags": []
          },
          "execution_count": 61
        }
      ]
    },
    {
      "cell_type": "code",
      "metadata": {
        "id": "5pWNDoT_WYoR"
      },
      "source": [
        "#Division de los datos de entrenamiento y test\n",
        "train = df_mx_2.iloc[:len(df_mx_2)-20]\n",
        "test = df_mx_2.iloc[len(df_mx_2)-20:]"
      ],
      "execution_count": 62,
      "outputs": []
    },
    {
      "cell_type": "code",
      "metadata": {
        "id": "R9oHz8dOWi2X"
      },
      "source": [
        "# Escalando datos\n",
        "\n",
        "from sklearn.preprocessing import MinMaxScaler\n",
        "from keras.preprocessing.sequence import TimeseriesGenerator\n",
        "\n",
        "scaler = MinMaxScaler()"
      ],
      "execution_count": 27,
      "outputs": []
    },
    {
      "cell_type": "code",
      "metadata": {
        "colab": {
          "base_uri": "https://localhost:8080/"
        },
        "id": "6kURX3eiWjbE",
        "outputId": "28dfac7b-b805-4750-ea21-cbd6461b972c"
      },
      "source": [
        "#Ajustando los datos de entrenamiento\n",
        "scaler.fit(train)"
      ],
      "execution_count": 28,
      "outputs": [
        {
          "output_type": "execute_result",
          "data": {
            "text/plain": [
              "MinMaxScaler(copy=True, feature_range=(0, 1))"
            ]
          },
          "metadata": {
            "tags": []
          },
          "execution_count": 28
        }
      ]
    },
    {
      "cell_type": "code",
      "metadata": {
        "id": "8wYLrppIX07O"
      },
      "source": [
        "#Datos escalados\n",
        "\n",
        "scaled_train = scaler.transform(train)\n",
        "scaled_test = scaler.transform(test)"
      ],
      "execution_count": 29,
      "outputs": []
    },
    {
      "cell_type": "code",
      "metadata": {
        "id": "j4yoPIf9Yhhp"
      },
      "source": [
        "# Generator\n",
        "n_input = 20\n",
        "n_feacture = 1\n",
        "\n",
        "generator = TimeseriesGenerator(scaled_train, scaled_train, length=n_input, batch_size=2)\n",
        "\n",
        "x, y = generator[0]"
      ],
      "execution_count": 30,
      "outputs": []
    },
    {
      "cell_type": "markdown",
      "metadata": {
        "id": "0jHkVun1POn2"
      },
      "source": [
        "# **Modelo-1**"
      ]
    },
    {
      "cell_type": "code",
      "metadata": {
        "id": "lDqYigo2Y_jc"
      },
      "source": [
        "# Red neuronal\n",
        "\n",
        "#Red sequential\n",
        "model_1 = Sequential()\n",
        "\n",
        "#Red nueronal con 4 capas, cada capa tiene dierente cantidad de nueronas\n",
        "model_1.add(LSTM(128, activation='relu', input_shape=(n_input, n_feacture)))\n",
        "model_1.add(Dense(64, activation='relu' ))\n",
        "model_1.add(Dense(32))\n",
        "model_1.add(Dense(1))\n",
        "\n",
        "#Compilacion de la red nueronal\n",
        "model_1.compile(optimizer='adam', loss='mean_squared_error')"
      ],
      "execution_count": 31,
      "outputs": []
    },
    {
      "cell_type": "code",
      "metadata": {
        "colab": {
          "base_uri": "https://localhost:8080/"
        },
        "id": "wDfTuKM4agq0",
        "outputId": "3d551638-fc77-4097-ffc9-8a51241e4a0d"
      },
      "source": [
        "model_1.summary()"
      ],
      "execution_count": 32,
      "outputs": [
        {
          "output_type": "stream",
          "text": [
            "Model: \"sequential\"\n",
            "_________________________________________________________________\n",
            "Layer (type)                 Output Shape              Param #   \n",
            "=================================================================\n",
            "lstm (LSTM)                  (None, 128)               66560     \n",
            "_________________________________________________________________\n",
            "dense (Dense)                (None, 64)                8256      \n",
            "_________________________________________________________________\n",
            "dense_1 (Dense)              (None, 32)                2080      \n",
            "_________________________________________________________________\n",
            "dense_2 (Dense)              (None, 1)                 33        \n",
            "=================================================================\n",
            "Total params: 76,929\n",
            "Trainable params: 76,929\n",
            "Non-trainable params: 0\n",
            "_________________________________________________________________\n"
          ],
          "name": "stdout"
        }
      ]
    },
    {
      "cell_type": "code",
      "metadata": {
        "colab": {
          "base_uri": "https://localhost:8080/"
        },
        "id": "2ZmG6nYPa5ur",
        "outputId": "80cc870c-9d95-4b4a-e307-baf204cc0fd0"
      },
      "source": [
        "#Entrenando la red nueronal\n",
        "\n",
        "model_1.fit_generator(generator, epochs=100)"
      ],
      "execution_count": 33,
      "outputs": [
        {
          "output_type": "stream",
          "text": [
            "Epoch 1/100\n"
          ],
          "name": "stdout"
        },
        {
          "output_type": "stream",
          "text": [
            "/usr/local/lib/python3.7/dist-packages/tensorflow/python/keras/engine/training.py:1844: UserWarning: `Model.fit_generator` is deprecated and will be removed in a future version. Please use `Model.fit`, which supports generators.\n",
            "  warnings.warn('`Model.fit_generator` is deprecated and '\n"
          ],
          "name": "stderr"
        },
        {
          "output_type": "stream",
          "text": [
            "178/178 [==============================] - 4s 14ms/step - loss: 0.0326\n",
            "Epoch 2/100\n",
            "178/178 [==============================] - 2s 14ms/step - loss: 0.0115\n",
            "Epoch 3/100\n",
            "178/178 [==============================] - 2s 14ms/step - loss: 0.0074\n",
            "Epoch 4/100\n",
            "178/178 [==============================] - 2s 14ms/step - loss: 0.0093\n",
            "Epoch 5/100\n",
            "178/178 [==============================] - 2s 14ms/step - loss: 0.0086\n",
            "Epoch 6/100\n",
            "178/178 [==============================] - 2s 14ms/step - loss: 0.0074\n",
            "Epoch 7/100\n",
            "178/178 [==============================] - 2s 14ms/step - loss: 0.0098\n",
            "Epoch 8/100\n",
            "178/178 [==============================] - 2s 13ms/step - loss: 0.0155\n",
            "Epoch 9/100\n",
            "178/178 [==============================] - 2s 14ms/step - loss: 0.0074\n",
            "Epoch 10/100\n",
            "178/178 [==============================] - 2s 14ms/step - loss: 0.0110\n",
            "Epoch 11/100\n",
            "178/178 [==============================] - 2s 13ms/step - loss: 0.0092\n",
            "Epoch 12/100\n",
            "178/178 [==============================] - 2s 14ms/step - loss: 0.0129\n",
            "Epoch 13/100\n",
            "178/178 [==============================] - 2s 14ms/step - loss: 0.0106\n",
            "Epoch 14/100\n",
            "178/178 [==============================] - 2s 14ms/step - loss: 0.0109\n",
            "Epoch 15/100\n",
            "178/178 [==============================] - 2s 14ms/step - loss: 0.0085\n",
            "Epoch 16/100\n",
            "178/178 [==============================] - 2s 13ms/step - loss: 0.0097\n",
            "Epoch 17/100\n",
            "178/178 [==============================] - 3s 14ms/step - loss: 0.0083\n",
            "Epoch 18/100\n",
            "178/178 [==============================] - 3s 14ms/step - loss: 0.0114\n",
            "Epoch 19/100\n",
            "178/178 [==============================] - 2s 14ms/step - loss: 0.0134\n",
            "Epoch 20/100\n",
            "178/178 [==============================] - 2s 14ms/step - loss: 0.0133\n",
            "Epoch 21/100\n",
            "178/178 [==============================] - 2s 14ms/step - loss: 0.0088\n",
            "Epoch 22/100\n",
            "178/178 [==============================] - 2s 14ms/step - loss: 0.0085\n",
            "Epoch 23/100\n",
            "178/178 [==============================] - 2s 14ms/step - loss: 0.0130\n",
            "Epoch 24/100\n",
            "178/178 [==============================] - 2s 14ms/step - loss: 0.0068\n",
            "Epoch 25/100\n",
            "178/178 [==============================] - 2s 14ms/step - loss: 0.0064\n",
            "Epoch 26/100\n",
            "178/178 [==============================] - 2s 14ms/step - loss: 0.0100\n",
            "Epoch 27/100\n",
            "178/178 [==============================] - 2s 14ms/step - loss: 0.0079\n",
            "Epoch 28/100\n",
            "178/178 [==============================] - 2s 14ms/step - loss: 0.0074\n",
            "Epoch 29/100\n",
            "178/178 [==============================] - 2s 14ms/step - loss: 0.0104\n",
            "Epoch 30/100\n",
            "178/178 [==============================] - 2s 14ms/step - loss: 0.0079\n",
            "Epoch 31/100\n",
            "178/178 [==============================] - 2s 14ms/step - loss: 0.0090\n",
            "Epoch 32/100\n",
            "178/178 [==============================] - 2s 14ms/step - loss: 0.0184\n",
            "Epoch 33/100\n",
            "178/178 [==============================] - 2s 14ms/step - loss: 0.0073\n",
            "Epoch 34/100\n",
            "178/178 [==============================] - 2s 14ms/step - loss: 0.0113\n",
            "Epoch 35/100\n",
            "178/178 [==============================] - 2s 14ms/step - loss: 0.0072\n",
            "Epoch 36/100\n",
            "178/178 [==============================] - 2s 14ms/step - loss: 0.0067\n",
            "Epoch 37/100\n",
            "178/178 [==============================] - 3s 14ms/step - loss: 0.0062\n",
            "Epoch 38/100\n",
            "178/178 [==============================] - 2s 14ms/step - loss: 0.0058\n",
            "Epoch 39/100\n",
            "178/178 [==============================] - 2s 14ms/step - loss: 0.0075\n",
            "Epoch 40/100\n",
            "178/178 [==============================] - 3s 14ms/step - loss: 0.0125\n",
            "Epoch 41/100\n",
            "178/178 [==============================] - 3s 14ms/step - loss: 0.0059\n",
            "Epoch 42/100\n",
            "178/178 [==============================] - 2s 14ms/step - loss: 0.0116\n",
            "Epoch 43/100\n",
            "178/178 [==============================] - 3s 14ms/step - loss: 0.0069\n",
            "Epoch 44/100\n",
            "178/178 [==============================] - 2s 14ms/step - loss: 0.0049\n",
            "Epoch 45/100\n",
            "178/178 [==============================] - 3s 14ms/step - loss: 0.0065\n",
            "Epoch 46/100\n",
            "178/178 [==============================] - 2s 14ms/step - loss: 0.0065\n",
            "Epoch 47/100\n",
            "178/178 [==============================] - 2s 14ms/step - loss: 0.0067\n",
            "Epoch 48/100\n",
            "178/178 [==============================] - 2s 14ms/step - loss: 0.0081\n",
            "Epoch 49/100\n",
            "178/178 [==============================] - 2s 14ms/step - loss: 0.0068\n",
            "Epoch 50/100\n",
            "178/178 [==============================] - 3s 14ms/step - loss: 0.0053\n",
            "Epoch 51/100\n",
            "178/178 [==============================] - 3s 14ms/step - loss: 0.0074\n",
            "Epoch 52/100\n",
            "178/178 [==============================] - 2s 14ms/step - loss: 0.0052\n",
            "Epoch 53/100\n",
            "178/178 [==============================] - 3s 14ms/step - loss: 0.0060\n",
            "Epoch 54/100\n",
            "178/178 [==============================] - 2s 14ms/step - loss: 0.0060\n",
            "Epoch 55/100\n",
            "178/178 [==============================] - 2s 14ms/step - loss: 0.0075\n",
            "Epoch 56/100\n",
            "178/178 [==============================] - 2s 14ms/step - loss: 0.0112\n",
            "Epoch 57/100\n",
            "178/178 [==============================] - 3s 14ms/step - loss: 0.0050\n",
            "Epoch 58/100\n",
            "178/178 [==============================] - 2s 14ms/step - loss: 0.0041\n",
            "Epoch 59/100\n",
            "178/178 [==============================] - 2s 14ms/step - loss: 0.0048\n",
            "Epoch 60/100\n",
            "178/178 [==============================] - 2s 14ms/step - loss: 0.0053\n",
            "Epoch 61/100\n",
            "178/178 [==============================] - 2s 14ms/step - loss: 0.0173\n",
            "Epoch 62/100\n",
            "178/178 [==============================] - 2s 14ms/step - loss: 0.0075\n",
            "Epoch 63/100\n",
            "178/178 [==============================] - 2s 14ms/step - loss: 0.0044\n",
            "Epoch 64/100\n",
            "178/178 [==============================] - 2s 14ms/step - loss: 0.0050\n",
            "Epoch 65/100\n",
            "178/178 [==============================] - 2s 14ms/step - loss: 0.0057\n",
            "Epoch 66/100\n",
            "178/178 [==============================] - 3s 14ms/step - loss: 0.0038\n",
            "Epoch 67/100\n",
            "178/178 [==============================] - 3s 14ms/step - loss: 0.0171\n",
            "Epoch 68/100\n",
            "178/178 [==============================] - 2s 14ms/step - loss: 0.0046\n",
            "Epoch 69/100\n",
            "178/178 [==============================] - 2s 14ms/step - loss: 0.0065\n",
            "Epoch 70/100\n",
            "178/178 [==============================] - 3s 14ms/step - loss: 0.0098\n",
            "Epoch 71/100\n",
            "178/178 [==============================] - 2s 14ms/step - loss: 0.0046\n",
            "Epoch 72/100\n",
            "178/178 [==============================] - 2s 14ms/step - loss: 0.0072\n",
            "Epoch 73/100\n",
            "178/178 [==============================] - 3s 14ms/step - loss: 0.0051\n",
            "Epoch 74/100\n",
            "178/178 [==============================] - 2s 14ms/step - loss: 0.0129\n",
            "Epoch 75/100\n",
            "178/178 [==============================] - 3s 14ms/step - loss: 0.0046\n",
            "Epoch 76/100\n",
            "178/178 [==============================] - 3s 14ms/step - loss: 0.0064\n",
            "Epoch 77/100\n",
            "178/178 [==============================] - 3s 14ms/step - loss: 0.0045\n",
            "Epoch 78/100\n",
            "178/178 [==============================] - 3s 14ms/step - loss: 0.0089\n",
            "Epoch 79/100\n",
            "178/178 [==============================] - 3s 14ms/step - loss: 0.0122\n",
            "Epoch 80/100\n",
            "178/178 [==============================] - 2s 14ms/step - loss: 0.0050\n",
            "Epoch 81/100\n",
            "178/178 [==============================] - 3s 14ms/step - loss: 0.0068\n",
            "Epoch 82/100\n",
            "178/178 [==============================] - 3s 14ms/step - loss: 0.0062\n",
            "Epoch 83/100\n",
            "178/178 [==============================] - 3s 14ms/step - loss: 0.0043\n",
            "Epoch 84/100\n",
            "178/178 [==============================] - 2s 14ms/step - loss: 0.0077\n",
            "Epoch 85/100\n",
            "178/178 [==============================] - 3s 14ms/step - loss: 0.0048\n",
            "Epoch 86/100\n",
            "178/178 [==============================] - 3s 14ms/step - loss: 0.0120\n",
            "Epoch 87/100\n",
            "178/178 [==============================] - 2s 14ms/step - loss: 0.0083\n",
            "Epoch 88/100\n",
            "178/178 [==============================] - 2s 14ms/step - loss: 0.0053\n",
            "Epoch 89/100\n",
            "178/178 [==============================] - 2s 14ms/step - loss: 0.0028\n",
            "Epoch 90/100\n",
            "178/178 [==============================] - 3s 15ms/step - loss: 0.0042\n",
            "Epoch 91/100\n",
            "178/178 [==============================] - 3s 14ms/step - loss: 0.0025\n",
            "Epoch 92/100\n",
            "178/178 [==============================] - 3s 14ms/step - loss: 0.0056\n",
            "Epoch 93/100\n",
            "178/178 [==============================] - 2s 14ms/step - loss: 0.0030\n",
            "Epoch 94/100\n",
            "178/178 [==============================] - 2s 14ms/step - loss: 0.0062\n",
            "Epoch 95/100\n",
            "178/178 [==============================] - 3s 14ms/step - loss: 0.0049\n",
            "Epoch 96/100\n",
            "178/178 [==============================] - 2s 14ms/step - loss: 0.0039\n",
            "Epoch 97/100\n",
            "178/178 [==============================] - 3s 14ms/step - loss: 0.0043\n",
            "Epoch 98/100\n",
            "178/178 [==============================] - 3s 15ms/step - loss: 0.0082\n",
            "Epoch 99/100\n",
            "178/178 [==============================] - 3s 14ms/step - loss: 0.0034\n",
            "Epoch 100/100\n",
            "178/178 [==============================] - 2s 14ms/step - loss: 0.0054\n"
          ],
          "name": "stdout"
        },
        {
          "output_type": "execute_result",
          "data": {
            "text/plain": [
              "<tensorflow.python.keras.callbacks.History at 0x7fe843eb9490>"
            ]
          },
          "metadata": {
            "tags": []
          },
          "execution_count": 33
        }
      ]
    },
    {
      "cell_type": "code",
      "metadata": {
        "colab": {
          "base_uri": "https://localhost:8080/",
          "height": 0
        },
        "id": "X89-fFaUbB0j",
        "outputId": "3d17c078-c224-4234-d1d0-511730c543df"
      },
      "source": [
        "loss_pre_epoch = model_1.history.history['loss']\n",
        "plt.plot(range(len(loss_pre_epoch)), loss_pre_epoch)"
      ],
      "execution_count": 34,
      "outputs": [
        {
          "output_type": "execute_result",
          "data": {
            "text/plain": [
              "[<matplotlib.lines.Line2D at 0x7fe843ef1690>]"
            ]
          },
          "metadata": {
            "tags": []
          },
          "execution_count": 34
        },
        {
          "output_type": "display_data",
          "data": {
            "image/png": "[encoded data removed]",
            "text/plain": [
              "<Figure size 432x288 with 1 Axes>"
            ]
          },
          "metadata": {
            "tags": [],
            "needs_background": "light"
          }
        }
      ]
    },
    {
      "cell_type": "code",
      "metadata": {
        "colab": {
          "base_uri": "https://localhost:8080/"
        },
        "id": "QoqBGVoDcE_-",
        "outputId": "03b951fe-08ef-4ce6-cc13-4fb2d12e221c"
      },
      "source": [
        "first_eval = scaled_train[-20:]\n",
        "\n",
        "\n",
        "first_eval = first_eval.reshape(1, n_input, n_feacture)\n",
        "\n",
        "model_1.predict(first_eval)"
      ],
      "execution_count": 35,
      "outputs": [
        {
          "output_type": "execute_result",
          "data": {
            "text/plain": [
              "array([[0.2326291]], dtype=float32)"
            ]
          },
          "metadata": {
            "tags": []
          },
          "execution_count": 35
        }
      ]
    },
    {
      "cell_type": "code",
      "metadata": {
        "id": "VMa-pig6dDg8"
      },
      "source": [
        "test_predictions = []\n",
        "\n",
        "first_eval_batch = scaled_train[-n_input:]\n",
        "current_batch = first_eval.reshape((1, n_input, n_feacture))\n",
        "\n",
        "for i in range(len(test)):\n",
        "    \n",
        "    # obtener la predicción ([0] es para obtener solo el número en lugar de [matriz])\n",
        "    current_pred = model_1.predict(current_batch)[0]\n",
        "    \n",
        "    # guardar la predicción\n",
        "    test_predictions.append(current_pred) \n",
        "    \n",
        "    # actualizar el lote para incluir ahora la predicción y soltar primer valor\n",
        "    current_batch = np.append(current_batch[:,1:,:],[[current_pred]],axis=1)"
      ],
      "execution_count": 36,
      "outputs": []
    },
    {
      "cell_type": "code",
      "metadata": {
        "colab": {
          "base_uri": "https://localhost:8080/"
        },
        "id": "3x-L-RrYfr60",
        "outputId": "fd65b425-2ced-4501-ba7d-39e03667af9d"
      },
      "source": [
        "#Transofmacion inversa\n",
        "true_predicctions = scaler.inverse_transform(test_predictions)\n",
        "\n",
        "\n",
        "test['Prediction'] = true_predicctions"
      ],
      "execution_count": 37,
      "outputs": [
        {
          "output_type": "stream",
          "text": [
            "/usr/local/lib/python3.7/dist-packages/ipykernel_launcher.py:5: SettingWithCopyWarning: \n",
            "A value is trying to be set on a copy of a slice from a DataFrame.\n",
            "Try using .loc[row_indexer,col_indexer] = value instead\n",
            "\n",
            "See the caveats in the documentation: https://pandas.pydata.org/pandas-docs/stable/user_guide/indexing.html#returning-a-view-versus-a-copy\n",
            "  \"\"\"\n"
          ],
          "name": "stderr"
        }
      ]
    },
    {
      "cell_type": "code",
      "metadata": {
        "colab": {
          "base_uri": "https://localhost:8080/",
          "height": 0
        },
        "id": "0leZ0WvrgNVE",
        "outputId": "3aadeda6-4e0a-41ac-ee84-59a9717a2d42"
      },
      "source": [
        "test.plot(figsize=(12,8))"
      ],
      "execution_count": 38,
      "outputs": [
        {
          "output_type": "execute_result",
          "data": {
            "text/plain": [
              "<matplotlib.axes._subplots.AxesSubplot at 0x7fe843e6c750>"
            ]
          },
          "metadata": {
            "tags": []
          },
          "execution_count": 38
        },
        {
          "output_type": "display_data",
          "data": {
            "image/png": "[encoded data removed]",
            "text/plain": [
              "<Figure size 864x576 with 1 Axes>"
            ]
          },
          "metadata": {
            "tags": [],
            "needs_background": "light"
          }
        }
      ]
    },
    {
      "cell_type": "code",
      "metadata": {
        "colab": {
          "base_uri": "https://localhost:8080/",
          "height": 0
        },
        "id": "rvS_W1FOgQFr",
        "outputId": "5d6bf7a7-e543-472b-afca-e8e56a399012"
      },
      "source": [
        "#Observacion de los test y la predicciones\n",
        "test"
      ],
      "execution_count": 39,
      "outputs": [
        {
          "output_type": "execute_result",
          "data": {
            "text/html": [
              "<div>\n",
              "<style scoped>\n",
              "    .dataframe tbody tr th:only-of-type {\n",
              "        vertical-align: middle;\n",
              "    }\n",
              "\n",
              "    .dataframe tbody tr th {\n",
              "        vertical-align: top;\n",
              "    }\n",
              "\n",
              "    .dataframe thead th {\n",
              "        text-align: right;\n",
              "    }\n",
              "</style>\n",
              "<table border=\"1\" class=\"dataframe\">\n",
              "  <thead>\n",
              "    <tr style=\"text-align: right;\">\n",
              "      <th></th>\n",
              "      <th>new_cases</th>\n",
              "      <th>Prediction</th>\n",
              "    </tr>\n",
              "    <tr>\n",
              "      <th>date</th>\n",
              "      <th></th>\n",
              "      <th></th>\n",
              "    </tr>\n",
              "  </thead>\n",
              "  <tbody>\n",
              "    <tr>\n",
              "      <th>2021-03-10</th>\n",
              "      <td>6602.0</td>\n",
              "      <td>6540.367300</td>\n",
              "    </tr>\n",
              "    <tr>\n",
              "      <th>2021-03-11</th>\n",
              "      <td>6469.0</td>\n",
              "      <td>6941.951899</td>\n",
              "    </tr>\n",
              "    <tr>\n",
              "      <th>2021-03-12</th>\n",
              "      <td>6816.0</td>\n",
              "      <td>7090.299892</td>\n",
              "    </tr>\n",
              "    <tr>\n",
              "      <th>2021-03-13</th>\n",
              "      <td>6104.0</td>\n",
              "      <td>7007.388355</td>\n",
              "    </tr>\n",
              "    <tr>\n",
              "      <th>2021-03-14</th>\n",
              "      <td>2415.0</td>\n",
              "      <td>6439.584358</td>\n",
              "    </tr>\n",
              "    <tr>\n",
              "      <th>2021-03-15</th>\n",
              "      <td>1439.0</td>\n",
              "      <td>5680.156907</td>\n",
              "    </tr>\n",
              "    <tr>\n",
              "      <th>2021-03-16</th>\n",
              "      <td>1278.0</td>\n",
              "      <td>5375.331271</td>\n",
              "    </tr>\n",
              "    <tr>\n",
              "      <th>2021-03-17</th>\n",
              "      <td>6455.0</td>\n",
              "      <td>5648.197181</td>\n",
              "    </tr>\n",
              "    <tr>\n",
              "      <th>2021-03-18</th>\n",
              "      <td>6726.0</td>\n",
              "      <td>6116.851288</td>\n",
              "    </tr>\n",
              "    <tr>\n",
              "      <th>2021-03-19</th>\n",
              "      <td>5722.0</td>\n",
              "      <td>6441.720983</td>\n",
              "    </tr>\n",
              "    <tr>\n",
              "      <th>2021-03-20</th>\n",
              "      <td>5729.0</td>\n",
              "      <td>6548.395565</td>\n",
              "    </tr>\n",
              "    <tr>\n",
              "      <th>2021-03-21</th>\n",
              "      <td>2133.0</td>\n",
              "      <td>6362.569488</td>\n",
              "    </tr>\n",
              "    <tr>\n",
              "      <th>2021-03-22</th>\n",
              "      <td>1388.0</td>\n",
              "      <td>5987.333249</td>\n",
              "    </tr>\n",
              "    <tr>\n",
              "      <th>2021-03-23</th>\n",
              "      <td>5881.0</td>\n",
              "      <td>5714.574589</td>\n",
              "    </tr>\n",
              "    <tr>\n",
              "      <th>2021-03-24</th>\n",
              "      <td>5714.0</td>\n",
              "      <td>5739.405528</td>\n",
              "    </tr>\n",
              "    <tr>\n",
              "      <th>2021-03-25</th>\n",
              "      <td>5787.0</td>\n",
              "      <td>5979.840397</td>\n",
              "    </tr>\n",
              "    <tr>\n",
              "      <th>2021-03-26</th>\n",
              "      <td>5303.0</td>\n",
              "      <td>6223.759223</td>\n",
              "    </tr>\n",
              "    <tr>\n",
              "      <th>2021-03-27</th>\n",
              "      <td>5059.0</td>\n",
              "      <td>6336.348905</td>\n",
              "    </tr>\n",
              "    <tr>\n",
              "      <th>2021-03-28</th>\n",
              "      <td>1646.0</td>\n",
              "      <td>6265.212687</td>\n",
              "    </tr>\n",
              "    <tr>\n",
              "      <th>2021-03-29</th>\n",
              "      <td>1293.0</td>\n",
              "      <td>6062.130218</td>\n",
              "    </tr>\n",
              "  </tbody>\n",
              "</table>\n",
              "</div>"
            ],
            "text/plain": [
              "            new_cases   Prediction\n",
              "date                              \n",
              "2021-03-10     6602.0  6540.367300\n",
              "2021-03-11     6469.0  6941.951899\n",
              "2021-03-12     6816.0  7090.299892\n",
              "2021-03-13     6104.0  7007.388355\n",
              "2021-03-14     2415.0  6439.584358\n",
              "2021-03-15     1439.0  5680.156907\n",
              "2021-03-16     1278.0  5375.331271\n",
              "2021-03-17     6455.0  5648.197181\n",
              "2021-03-18     6726.0  6116.851288\n",
              "2021-03-19     5722.0  6441.720983\n",
              "2021-03-20     5729.0  6548.395565\n",
              "2021-03-21     2133.0  6362.569488\n",
              "2021-03-22     1388.0  5987.333249\n",
              "2021-03-23     5881.0  5714.574589\n",
              "2021-03-24     5714.0  5739.405528\n",
              "2021-03-25     5787.0  5979.840397\n",
              "2021-03-26     5303.0  6223.759223\n",
              "2021-03-27     5059.0  6336.348905\n",
              "2021-03-28     1646.0  6265.212687\n",
              "2021-03-29     1293.0  6062.130218"
            ]
          },
          "metadata": {
            "tags": []
          },
          "execution_count": 39
        }
      ]
    },
    {
      "cell_type": "code",
      "metadata": {
        "id": "OhauPcqbgTDZ"
      },
      "source": [
        ""
      ],
      "execution_count": 39,
      "outputs": []
    },
    {
      "cell_type": "markdown",
      "metadata": {
        "id": "KTtysQjUg8Oo"
      },
      "source": [
        "# **Modelo 2**"
      ]
    },
    {
      "cell_type": "code",
      "metadata": {
        "id": "7C13lY2pg-LO"
      },
      "source": [
        ""
      ],
      "execution_count": 39,
      "outputs": []
    },
    {
      "cell_type": "code",
      "metadata": {
        "id": "NeE4BFZihONo"
      },
      "source": [
        "# Red neuronal 2\n",
        "# 5 Capas\n",
        "# relu para activacion de cada capa\n",
        "# sgd para compilacion y mse para loss\n",
        "\n",
        "#Red sequential\n",
        "model_2 = Sequential()\n",
        "\n",
        "#Red nueronal con 4 capas, cada capa tiene dierente cantidad de nueronas\n",
        "model_2.add(LSTM(128, activation='relu', input_shape=(n_input, n_feacture)))\n",
        "model_2.add(Dense(64, activation='relu' ))\n",
        "model_2.add(Dense(32, activation='relu'))\n",
        "model_2.add(Dense(12))\n",
        "model_2.add(Dense(1))\n",
        "\n",
        "#Compilacion de la red nueronal\n",
        "model_2.compile(optimizer='sgd', loss='mean_squared_error', )"
      ],
      "execution_count": 40,
      "outputs": []
    },
    {
      "cell_type": "code",
      "metadata": {
        "colab": {
          "base_uri": "https://localhost:8080/"
        },
        "id": "b-xfiKCrhONv",
        "outputId": "019a8411-2277-4044-f254-10d264c51753"
      },
      "source": [
        "model_2.summary()"
      ],
      "execution_count": 41,
      "outputs": [
        {
          "output_type": "stream",
          "text": [
            "Model: \"sequential_1\"\n",
            "_________________________________________________________________\n",
            "Layer (type)                 Output Shape              Param #   \n",
            "=================================================================\n",
            "lstm_1 (LSTM)                (None, 128)               66560     \n",
            "_________________________________________________________________\n",
            "dense_3 (Dense)              (None, 64)                8256      \n",
            "_________________________________________________________________\n",
            "dense_4 (Dense)              (None, 32)                2080      \n",
            "_________________________________________________________________\n",
            "dense_5 (Dense)              (None, 12)                396       \n",
            "_________________________________________________________________\n",
            "dense_6 (Dense)              (None, 1)                 13        \n",
            "=================================================================\n",
            "Total params: 77,305\n",
            "Trainable params: 77,305\n",
            "Non-trainable params: 0\n",
            "_________________________________________________________________\n"
          ],
          "name": "stdout"
        }
      ]
    },
    {
      "cell_type": "code",
      "metadata": {
        "colab": {
          "base_uri": "https://localhost:8080/"
        },
        "id": "VRiLFXQghON3",
        "outputId": "91b488fe-3ea0-4f24-f38b-eaa451b8707f"
      },
      "source": [
        "#Entrenando la red nueronal\n",
        "\n",
        "model_2.fit_generator(generator, epochs=100)"
      ],
      "execution_count": 42,
      "outputs": [
        {
          "output_type": "stream",
          "text": [
            "Epoch 1/100\n"
          ],
          "name": "stdout"
        },
        {
          "output_type": "stream",
          "text": [
            "/usr/local/lib/python3.7/dist-packages/tensorflow/python/keras/engine/training.py:1844: UserWarning: `Model.fit_generator` is deprecated and will be removed in a future version. Please use `Model.fit`, which supports generators.\n",
            "  warnings.warn('`Model.fit_generator` is deprecated and '\n"
          ],
          "name": "stderr"
        },
        {
          "output_type": "stream",
          "text": [
            "178/178 [==============================] - 4s 13ms/step - loss: 0.0290\n",
            "Epoch 2/100\n",
            "178/178 [==============================] - 2s 13ms/step - loss: 0.0171\n",
            "Epoch 3/100\n",
            "178/178 [==============================] - 2s 13ms/step - loss: 0.0162\n",
            "Epoch 4/100\n",
            "178/178 [==============================] - 2s 13ms/step - loss: 0.0200\n",
            "Epoch 5/100\n",
            "178/178 [==============================] - 2s 14ms/step - loss: 0.0117\n",
            "Epoch 6/100\n",
            "178/178 [==============================] - 2s 14ms/step - loss: 0.0139\n",
            "Epoch 7/100\n",
            "178/178 [==============================] - 2s 13ms/step - loss: 0.0118\n",
            "Epoch 8/100\n",
            "178/178 [==============================] - 2s 13ms/step - loss: 0.0128\n",
            "Epoch 9/100\n",
            "178/178 [==============================] - 2s 13ms/step - loss: 0.0096\n",
            "Epoch 10/100\n",
            "178/178 [==============================] - 2s 13ms/step - loss: 0.0123\n",
            "Epoch 11/100\n",
            "178/178 [==============================] - 2s 13ms/step - loss: 0.0110\n",
            "Epoch 12/100\n",
            "178/178 [==============================] - 2s 13ms/step - loss: 0.0118\n",
            "Epoch 13/100\n",
            "178/178 [==============================] - 2s 13ms/step - loss: 0.0066\n",
            "Epoch 14/100\n",
            "178/178 [==============================] - 2s 13ms/step - loss: 0.0136\n",
            "Epoch 15/100\n",
            "178/178 [==============================] - 2s 13ms/step - loss: 0.0104\n",
            "Epoch 16/100\n",
            "178/178 [==============================] - 2s 13ms/step - loss: 0.0088\n",
            "Epoch 17/100\n",
            "178/178 [==============================] - 2s 13ms/step - loss: 0.0065\n",
            "Epoch 18/100\n",
            "178/178 [==============================] - 2s 13ms/step - loss: 0.0121\n",
            "Epoch 19/100\n",
            "178/178 [==============================] - 2s 13ms/step - loss: 0.0089\n",
            "Epoch 20/100\n",
            "178/178 [==============================] - 2s 13ms/step - loss: 0.0083\n",
            "Epoch 21/100\n",
            "178/178 [==============================] - 2s 13ms/step - loss: 0.0081\n",
            "Epoch 22/100\n",
            "178/178 [==============================] - 2s 14ms/step - loss: 0.0075\n",
            "Epoch 23/100\n",
            "178/178 [==============================] - 2s 14ms/step - loss: 0.0082\n",
            "Epoch 24/100\n",
            "178/178 [==============================] - 2s 13ms/step - loss: 0.0081\n",
            "Epoch 25/100\n",
            "178/178 [==============================] - 2s 13ms/step - loss: 0.0090\n",
            "Epoch 26/100\n",
            "178/178 [==============================] - 2s 14ms/step - loss: 0.0109\n",
            "Epoch 27/100\n",
            "178/178 [==============================] - 2s 13ms/step - loss: 0.0115\n",
            "Epoch 28/100\n",
            "178/178 [==============================] - 2s 14ms/step - loss: 0.0064\n",
            "Epoch 29/100\n",
            "178/178 [==============================] - 2s 13ms/step - loss: 0.0119\n",
            "Epoch 30/100\n",
            "178/178 [==============================] - 2s 14ms/step - loss: 0.0075\n",
            "Epoch 31/100\n",
            "178/178 [==============================] - 2s 13ms/step - loss: 0.0094\n",
            "Epoch 32/100\n",
            "178/178 [==============================] - 2s 14ms/step - loss: 0.0083\n",
            "Epoch 33/100\n",
            "178/178 [==============================] - 2s 13ms/step - loss: 0.0085\n",
            "Epoch 34/100\n",
            "178/178 [==============================] - 2s 13ms/step - loss: 0.0087\n",
            "Epoch 35/100\n",
            "178/178 [==============================] - 2s 13ms/step - loss: 0.0191\n",
            "Epoch 36/100\n",
            "178/178 [==============================] - 2s 13ms/step - loss: 0.0112\n",
            "Epoch 37/100\n",
            "178/178 [==============================] - 2s 13ms/step - loss: 0.0064\n",
            "Epoch 38/100\n",
            "178/178 [==============================] - 2s 14ms/step - loss: 0.0100\n",
            "Epoch 39/100\n",
            "178/178 [==============================] - 2s 14ms/step - loss: 0.0087\n",
            "Epoch 40/100\n",
            "178/178 [==============================] - 2s 14ms/step - loss: 0.0092\n",
            "Epoch 41/100\n",
            "178/178 [==============================] - 2s 14ms/step - loss: 0.0167\n",
            "Epoch 42/100\n",
            "178/178 [==============================] - 2s 13ms/step - loss: 0.0084\n",
            "Epoch 43/100\n",
            "178/178 [==============================] - 2s 14ms/step - loss: 0.0089\n",
            "Epoch 44/100\n",
            "178/178 [==============================] - 2s 14ms/step - loss: 0.0090\n",
            "Epoch 45/100\n",
            "178/178 [==============================] - 2s 13ms/step - loss: 0.0088\n",
            "Epoch 46/100\n",
            "178/178 [==============================] - 2s 13ms/step - loss: 0.0112\n",
            "Epoch 47/100\n",
            "178/178 [==============================] - 2s 14ms/step - loss: 0.0111\n",
            "Epoch 48/100\n",
            "178/178 [==============================] - 2s 13ms/step - loss: 0.0083\n",
            "Epoch 49/100\n",
            "178/178 [==============================] - 2s 13ms/step - loss: 0.0097\n",
            "Epoch 50/100\n",
            "178/178 [==============================] - 2s 14ms/step - loss: 0.0083\n",
            "Epoch 51/100\n",
            "178/178 [==============================] - 2s 14ms/step - loss: 0.0119\n",
            "Epoch 52/100\n",
            "178/178 [==============================] - 2s 13ms/step - loss: 0.0108\n",
            "Epoch 53/100\n",
            "178/178 [==============================] - 2s 13ms/step - loss: 0.0086\n",
            "Epoch 54/100\n",
            "178/178 [==============================] - 2s 13ms/step - loss: 0.0106\n",
            "Epoch 55/100\n",
            "178/178 [==============================] - 2s 13ms/step - loss: 0.0118\n",
            "Epoch 56/100\n",
            "178/178 [==============================] - 2s 13ms/step - loss: 0.0115\n",
            "Epoch 57/100\n",
            "178/178 [==============================] - 2s 13ms/step - loss: 0.0147\n",
            "Epoch 58/100\n",
            "178/178 [==============================] - 2s 14ms/step - loss: 0.0113\n",
            "Epoch 59/100\n",
            "178/178 [==============================] - 2s 14ms/step - loss: 0.0168\n",
            "Epoch 60/100\n",
            "178/178 [==============================] - 2s 13ms/step - loss: 0.0089\n",
            "Epoch 61/100\n",
            "178/178 [==============================] - 2s 13ms/step - loss: 0.0103\n",
            "Epoch 62/100\n",
            "178/178 [==============================] - 2s 13ms/step - loss: 0.0186\n",
            "Epoch 63/100\n",
            "178/178 [==============================] - 2s 13ms/step - loss: 0.0169\n",
            "Epoch 64/100\n",
            "178/178 [==============================] - 2s 14ms/step - loss: 0.0078\n",
            "Epoch 65/100\n",
            "178/178 [==============================] - 2s 14ms/step - loss: 0.0086\n",
            "Epoch 66/100\n",
            "178/178 [==============================] - 2s 14ms/step - loss: 0.0085\n",
            "Epoch 67/100\n",
            "178/178 [==============================] - 2s 13ms/step - loss: 0.0076\n",
            "Epoch 68/100\n",
            "178/178 [==============================] - 2s 14ms/step - loss: 0.0096\n",
            "Epoch 69/100\n",
            "178/178 [==============================] - 2s 13ms/step - loss: 0.0145\n",
            "Epoch 70/100\n",
            "178/178 [==============================] - 2s 13ms/step - loss: 0.0088\n",
            "Epoch 71/100\n",
            "178/178 [==============================] - 2s 13ms/step - loss: 0.0085\n",
            "Epoch 72/100\n",
            "178/178 [==============================] - 2s 13ms/step - loss: 0.0128\n",
            "Epoch 73/100\n",
            "178/178 [==============================] - 2s 14ms/step - loss: 0.0074\n",
            "Epoch 74/100\n",
            "178/178 [==============================] - 2s 14ms/step - loss: 0.0093\n",
            "Epoch 75/100\n",
            "178/178 [==============================] - 2s 13ms/step - loss: 0.0074\n",
            "Epoch 76/100\n",
            "178/178 [==============================] - 2s 13ms/step - loss: 0.0141\n",
            "Epoch 77/100\n",
            "178/178 [==============================] - 2s 13ms/step - loss: 0.0099\n",
            "Epoch 78/100\n",
            "178/178 [==============================] - 2s 13ms/step - loss: 0.0092\n",
            "Epoch 79/100\n",
            "178/178 [==============================] - 2s 13ms/step - loss: 0.0079\n",
            "Epoch 80/100\n",
            "178/178 [==============================] - 2s 14ms/step - loss: 0.0081\n",
            "Epoch 81/100\n",
            "178/178 [==============================] - 2s 13ms/step - loss: 0.0090\n",
            "Epoch 82/100\n",
            "178/178 [==============================] - 2s 13ms/step - loss: 0.0090\n",
            "Epoch 83/100\n",
            "178/178 [==============================] - 2s 13ms/step - loss: 0.0102\n",
            "Epoch 84/100\n",
            "178/178 [==============================] - 2s 13ms/step - loss: 0.0095\n",
            "Epoch 85/100\n",
            "178/178 [==============================] - 2s 13ms/step - loss: 0.0088\n",
            "Epoch 86/100\n",
            "178/178 [==============================] - 2s 14ms/step - loss: 0.0073\n",
            "Epoch 87/100\n",
            "178/178 [==============================] - 2s 14ms/step - loss: 0.0086\n",
            "Epoch 88/100\n",
            "178/178 [==============================] - 2s 14ms/step - loss: 0.0100\n",
            "Epoch 89/100\n",
            "178/178 [==============================] - 2s 13ms/step - loss: 0.0140\n",
            "Epoch 90/100\n",
            "178/178 [==============================] - 2s 13ms/step - loss: 0.0105\n",
            "Epoch 91/100\n",
            "178/178 [==============================] - 2s 14ms/step - loss: 0.0094\n",
            "Epoch 92/100\n",
            "178/178 [==============================] - 2s 13ms/step - loss: 0.0103\n",
            "Epoch 93/100\n",
            "178/178 [==============================] - 2s 14ms/step - loss: 0.0108\n",
            "Epoch 94/100\n",
            "178/178 [==============================] - 2s 14ms/step - loss: 0.0082\n",
            "Epoch 95/100\n",
            "178/178 [==============================] - 2s 14ms/step - loss: 0.0127\n",
            "Epoch 96/100\n",
            "178/178 [==============================] - 2s 13ms/step - loss: 0.0104\n",
            "Epoch 97/100\n",
            "178/178 [==============================] - 2s 13ms/step - loss: 0.0111\n",
            "Epoch 98/100\n",
            "178/178 [==============================] - 2s 13ms/step - loss: 0.0082\n",
            "Epoch 99/100\n",
            "178/178 [==============================] - 2s 14ms/step - loss: 0.0097\n",
            "Epoch 100/100\n",
            "178/178 [==============================] - 2s 13ms/step - loss: 0.0117\n"
          ],
          "name": "stdout"
        },
        {
          "output_type": "execute_result",
          "data": {
            "text/plain": [
              "<tensorflow.python.keras.callbacks.History at 0x7fe832e61750>"
            ]
          },
          "metadata": {
            "tags": []
          },
          "execution_count": 42
        }
      ]
    },
    {
      "cell_type": "code",
      "metadata": {
        "colab": {
          "base_uri": "https://localhost:8080/",
          "height": 0
        },
        "id": "x2hS_MkLhON6",
        "outputId": "81c3cd82-8440-4c62-af39-91719e66fb32"
      },
      "source": [
        "loss_pre_epoch = model_2.history.history['loss']\n",
        "plt.plot(range(len(loss_pre_epoch)), loss_pre_epoch)"
      ],
      "execution_count": 43,
      "outputs": [
        {
          "output_type": "execute_result",
          "data": {
            "text/plain": [
              "[<matplotlib.lines.Line2D at 0x7fe846e20790>]"
            ]
          },
          "metadata": {
            "tags": []
          },
          "execution_count": 43
        },
        {
          "output_type": "display_data",
          "data": {
            "image/png": "[encoded data removed]",
            "text/plain": [
              "<Figure size 432x288 with 1 Axes>"
            ]
          },
          "metadata": {
            "tags": [],
            "needs_background": "light"
          }
        }
      ]
    },
    {
      "cell_type": "code",
      "metadata": {
        "colab": {
          "base_uri": "https://localhost:8080/"
        },
        "id": "OfgGvV4uhON9",
        "outputId": "c1e83737-1542-49ff-c1b7-cfcf24167633"
      },
      "source": [
        "first_eval = scaled_train[-20:]\n",
        "\n",
        "\n",
        "first_eval = first_eval.reshape(1, n_input, n_feacture)\n",
        "\n",
        "model_2.predict(first_eval)"
      ],
      "execution_count": 44,
      "outputs": [
        {
          "output_type": "execute_result",
          "data": {
            "text/plain": [
              "array([[0.21603231]], dtype=float32)"
            ]
          },
          "metadata": {
            "tags": []
          },
          "execution_count": 44
        }
      ]
    },
    {
      "cell_type": "code",
      "metadata": {
        "id": "3hQTfB0shON_"
      },
      "source": [
        "test_predictions = []\n",
        "\n",
        "first_eval_batch = scaled_train[-n_input:]\n",
        "current_batch = first_eval.reshape((1, n_input, n_feacture))\n",
        "\n",
        "for i in range(len(test)):\n",
        "    \n",
        "    # obtener la predicción ([0] es para obtener solo el número en lugar de [matriz])\n",
        "    current_pred = model_2.predict(current_batch)[0]\n",
        "    \n",
        "    # guardar la predicción\n",
        "    test_predictions.append(current_pred) \n",
        "    \n",
        "    # actualizar el lote para incluir ahora la predicción y soltar primer valor\n",
        "    current_batch = np.append(current_batch[:,1:,:],[[current_pred]],axis=1)"
      ],
      "execution_count": 45,
      "outputs": []
    },
    {
      "cell_type": "code",
      "metadata": {
        "colab": {
          "base_uri": "https://localhost:8080/"
        },
        "id": "5omYEJWyhOOB",
        "outputId": "d87bdb4c-2bd8-4a19-cc05-b0abb1ad61c8"
      },
      "source": [
        "#Transofmacion inversa\n",
        "true_predicctions_2 = scaler.inverse_transform(test_predictions)\n",
        "\n",
        "\n",
        "test['Prediction_2'] = true_predicctions_2"
      ],
      "execution_count": 46,
      "outputs": [
        {
          "output_type": "stream",
          "text": [
            "/usr/local/lib/python3.7/dist-packages/ipykernel_launcher.py:5: SettingWithCopyWarning: \n",
            "A value is trying to be set on a copy of a slice from a DataFrame.\n",
            "Try using .loc[row_indexer,col_indexer] = value instead\n",
            "\n",
            "See the caveats in the documentation: https://pandas.pydata.org/pandas-docs/stable/user_guide/indexing.html#returning-a-view-versus-a-copy\n",
            "  \"\"\"\n"
          ],
          "name": "stderr"
        }
      ]
    },
    {
      "cell_type": "code",
      "metadata": {
        "colab": {
          "base_uri": "https://localhost:8080/",
          "height": 0
        },
        "id": "YOr8EsR0hOOB",
        "outputId": "2c3f80c5-b447-4166-84c2-bfcecf5fe7eb"
      },
      "source": [
        "test.plot(figsize=(12,8))"
      ],
      "execution_count": 47,
      "outputs": [
        {
          "output_type": "execute_result",
          "data": {
            "text/plain": [
              "<matplotlib.axes._subplots.AxesSubplot at 0x7fe84405fa10>"
            ]
          },
          "metadata": {
            "tags": []
          },
          "execution_count": 47
        },
        {
          "output_type": "display_data",
          "data": {
            "image/png": "[encoded data removed]",
            "text/plain": [
              "<Figure size 864x576 with 1 Axes>"
            ]
          },
          "metadata": {
            "tags": [],
            "needs_background": "light"
          }
        }
      ]
    },
    {
      "cell_type": "code",
      "metadata": {
        "colab": {
          "base_uri": "https://localhost:8080/",
          "height": 0
        },
        "id": "US7dbUnBhOOC",
        "outputId": "32448fc5-6b4b-4e40-d3d0-b9323612533f"
      },
      "source": [
        "#Observacion de los test y la predicciones\n",
        "test"
      ],
      "execution_count": 48,
      "outputs": [
        {
          "output_type": "execute_result",
          "data": {
            "text/html": [
              "<div>\n",
              "<style scoped>\n",
              "    .dataframe tbody tr th:only-of-type {\n",
              "        vertical-align: middle;\n",
              "    }\n",
              "\n",
              "    .dataframe tbody tr th {\n",
              "        vertical-align: top;\n",
              "    }\n",
              "\n",
              "    .dataframe thead th {\n",
              "        text-align: right;\n",
              "    }\n",
              "</style>\n",
              "<table border=\"1\" class=\"dataframe\">\n",
              "  <thead>\n",
              "    <tr style=\"text-align: right;\">\n",
              "      <th></th>\n",
              "      <th>new_cases</th>\n",
              "      <th>Prediction</th>\n",
              "      <th>Prediction_2</th>\n",
              "    </tr>\n",
              "    <tr>\n",
              "      <th>date</th>\n",
              "      <th></th>\n",
              "      <th></th>\n",
              "      <th></th>\n",
              "    </tr>\n",
              "  </thead>\n",
              "  <tbody>\n",
              "    <tr>\n",
              "      <th>2021-03-10</th>\n",
              "      <td>6602.0</td>\n",
              "      <td>6540.367300</td>\n",
              "      <td>6073.748433</td>\n",
              "    </tr>\n",
              "    <tr>\n",
              "      <th>2021-03-11</th>\n",
              "      <td>6469.0</td>\n",
              "      <td>6941.951899</td>\n",
              "      <td>6194.118783</td>\n",
              "    </tr>\n",
              "    <tr>\n",
              "      <th>2021-03-12</th>\n",
              "      <td>6816.0</td>\n",
              "      <td>7090.299892</td>\n",
              "      <td>6318.813914</td>\n",
              "    </tr>\n",
              "    <tr>\n",
              "      <th>2021-03-13</th>\n",
              "      <td>6104.0</td>\n",
              "      <td>7007.388355</td>\n",
              "      <td>6443.252231</td>\n",
              "    </tr>\n",
              "    <tr>\n",
              "      <th>2021-03-14</th>\n",
              "      <td>2415.0</td>\n",
              "      <td>6439.584358</td>\n",
              "      <td>6574.336710</td>\n",
              "    </tr>\n",
              "    <tr>\n",
              "      <th>2021-03-15</th>\n",
              "      <td>1439.0</td>\n",
              "      <td>5680.156907</td>\n",
              "      <td>6706.323180</td>\n",
              "    </tr>\n",
              "    <tr>\n",
              "      <th>2021-03-16</th>\n",
              "      <td>1278.0</td>\n",
              "      <td>5375.331271</td>\n",
              "      <td>6828.497931</td>\n",
              "    </tr>\n",
              "    <tr>\n",
              "      <th>2021-03-17</th>\n",
              "      <td>6455.0</td>\n",
              "      <td>5648.197181</td>\n",
              "      <td>6950.399948</td>\n",
              "    </tr>\n",
              "    <tr>\n",
              "      <th>2021-03-18</th>\n",
              "      <td>6726.0</td>\n",
              "      <td>6116.851288</td>\n",
              "      <td>7072.375700</td>\n",
              "    </tr>\n",
              "    <tr>\n",
              "      <th>2021-03-19</th>\n",
              "      <td>5722.0</td>\n",
              "      <td>6441.720983</td>\n",
              "      <td>7195.587762</td>\n",
              "    </tr>\n",
              "    <tr>\n",
              "      <th>2021-03-20</th>\n",
              "      <td>5729.0</td>\n",
              "      <td>6548.395565</td>\n",
              "      <td>7318.774687</td>\n",
              "    </tr>\n",
              "    <tr>\n",
              "      <th>2021-03-21</th>\n",
              "      <td>2133.0</td>\n",
              "      <td>6362.569488</td>\n",
              "      <td>7448.101687</td>\n",
              "    </tr>\n",
              "    <tr>\n",
              "      <th>2021-03-22</th>\n",
              "      <td>1388.0</td>\n",
              "      <td>5987.333249</td>\n",
              "      <td>7577.619726</td>\n",
              "    </tr>\n",
              "    <tr>\n",
              "      <th>2021-03-23</th>\n",
              "      <td>5881.0</td>\n",
              "      <td>5714.574589</td>\n",
              "      <td>7698.383467</td>\n",
              "    </tr>\n",
              "    <tr>\n",
              "      <th>2021-03-24</th>\n",
              "      <td>5714.0</td>\n",
              "      <td>5739.405528</td>\n",
              "      <td>7818.905894</td>\n",
              "    </tr>\n",
              "    <tr>\n",
              "      <th>2021-03-25</th>\n",
              "      <td>5787.0</td>\n",
              "      <td>5979.840397</td>\n",
              "      <td>7939.547302</td>\n",
              "    </tr>\n",
              "    <tr>\n",
              "      <th>2021-03-26</th>\n",
              "      <td>5303.0</td>\n",
              "      <td>6223.759223</td>\n",
              "      <td>8061.065984</td>\n",
              "    </tr>\n",
              "    <tr>\n",
              "      <th>2021-03-27</th>\n",
              "      <td>5059.0</td>\n",
              "      <td>6336.348905</td>\n",
              "      <td>8182.489146</td>\n",
              "    </tr>\n",
              "    <tr>\n",
              "      <th>2021-03-28</th>\n",
              "      <td>1646.0</td>\n",
              "      <td>6265.212687</td>\n",
              "      <td>8309.096347</td>\n",
              "    </tr>\n",
              "    <tr>\n",
              "      <th>2021-03-29</th>\n",
              "      <td>1293.0</td>\n",
              "      <td>6062.130218</td>\n",
              "      <td>8436.397323</td>\n",
              "    </tr>\n",
              "  </tbody>\n",
              "</table>\n",
              "</div>"
            ],
            "text/plain": [
              "            new_cases   Prediction  Prediction_2\n",
              "date                                            \n",
              "2021-03-10     6602.0  6540.367300   6073.748433\n",
              "2021-03-11     6469.0  6941.951899   6194.118783\n",
              "2021-03-12     6816.0  7090.299892   6318.813914\n",
              "2021-03-13     6104.0  7007.388355   6443.252231\n",
              "2021-03-14     2415.0  6439.584358   6574.336710\n",
              "2021-03-15     1439.0  5680.156907   6706.323180\n",
              "2021-03-16     1278.0  5375.331271   6828.497931\n",
              "2021-03-17     6455.0  5648.197181   6950.399948\n",
              "2021-03-18     6726.0  6116.851288   7072.375700\n",
              "2021-03-19     5722.0  6441.720983   7195.587762\n",
              "2021-03-20     5729.0  6548.395565   7318.774687\n",
              "2021-03-21     2133.0  6362.569488   7448.101687\n",
              "2021-03-22     1388.0  5987.333249   7577.619726\n",
              "2021-03-23     5881.0  5714.574589   7698.383467\n",
              "2021-03-24     5714.0  5739.405528   7818.905894\n",
              "2021-03-25     5787.0  5979.840397   7939.547302\n",
              "2021-03-26     5303.0  6223.759223   8061.065984\n",
              "2021-03-27     5059.0  6336.348905   8182.489146\n",
              "2021-03-28     1646.0  6265.212687   8309.096347\n",
              "2021-03-29     1293.0  6062.130218   8436.397323"
            ]
          },
          "metadata": {
            "tags": []
          },
          "execution_count": 48
        }
      ]
    },
    {
      "cell_type": "markdown",
      "metadata": {
        "id": "9com2UK4lSQZ"
      },
      "source": [
        "# **Modeo 3**"
      ]
    },
    {
      "cell_type": "code",
      "metadata": {
        "id": "lyRyhm_wlUFs"
      },
      "source": [
        ""
      ],
      "execution_count": 48,
      "outputs": []
    },
    {
      "cell_type": "code",
      "metadata": {
        "id": "0Ya8qNn6lUWz"
      },
      "source": [
        "# Red neuronal 3\n",
        "# 5 Capas\n",
        "# relu para activacion de cada capa\n",
        "# sgd para compilacion y mse para loss\n",
        "\n",
        "#Red sequential\n",
        "model_3 = Sequential()\n",
        "\n",
        "#Red nueronal con 4 capas, cada capa tiene dierente cantidad de nueronas\n",
        "model_3.add(LSTM(168, activation='relu', input_shape=(n_input, n_feacture)))\n",
        "model_3.add(Dense(124, activation='relu' ))\n",
        "model_3.add(Dense(64, activation='relu'))\n",
        "model_3.add(Dense(32))\n",
        "model_3.add(Dense(1))\n",
        "\n",
        "#Compilacion de la red nueronal\n",
        "model_3.compile(optimizer='sgd', loss='mean_squared_error',\n",
        "                metrics=[metrics.mae,\n",
        "                metrics.categorical_accuracy])"
      ],
      "execution_count": 49,
      "outputs": []
    },
    {
      "cell_type": "code",
      "metadata": {
        "colab": {
          "base_uri": "https://localhost:8080/"
        },
        "id": "3kPyYglqlUW4",
        "outputId": "0d06baf4-da29-4ae4-912e-7bec6c6995d5"
      },
      "source": [
        "model_3.summary()"
      ],
      "execution_count": 50,
      "outputs": [
        {
          "output_type": "stream",
          "text": [
            "Model: \"sequential_2\"\n",
            "_________________________________________________________________\n",
            "Layer (type)                 Output Shape              Param #   \n",
            "=================================================================\n",
            "lstm_2 (LSTM)                (None, 168)               114240    \n",
            "_________________________________________________________________\n",
            "dense_7 (Dense)              (None, 124)               20956     \n",
            "_________________________________________________________________\n",
            "dense_8 (Dense)              (None, 64)                8000      \n",
            "_________________________________________________________________\n",
            "dense_9 (Dense)              (None, 32)                2080      \n",
            "_________________________________________________________________\n",
            "dense_10 (Dense)             (None, 1)                 33        \n",
            "=================================================================\n",
            "Total params: 145,309\n",
            "Trainable params: 145,309\n",
            "Non-trainable params: 0\n",
            "_________________________________________________________________\n"
          ],
          "name": "stdout"
        }
      ]
    },
    {
      "cell_type": "code",
      "metadata": {
        "colab": {
          "base_uri": "https://localhost:8080/"
        },
        "id": "kbTlz_E8lUW7",
        "outputId": "142443c7-3f95-4630-ab20-56885f5e5c66"
      },
      "source": [
        "#Entrenando la red nueronal\n",
        "\n",
        "model_3.fit_generator(generator, epochs=100)"
      ],
      "execution_count": 51,
      "outputs": [
        {
          "output_type": "stream",
          "text": [
            "Epoch 1/100\n"
          ],
          "name": "stdout"
        },
        {
          "output_type": "stream",
          "text": [
            "/usr/local/lib/python3.7/dist-packages/tensorflow/python/keras/engine/training.py:1844: UserWarning: `Model.fit_generator` is deprecated and will be removed in a future version. Please use `Model.fit`, which supports generators.\n",
            "  warnings.warn('`Model.fit_generator` is deprecated and '\n"
          ],
          "name": "stderr"
        },
        {
          "output_type": "stream",
          "text": [
            "178/178 [==============================] - 5s 18ms/step - loss: 0.0306 - mean_absolute_error: 0.1278 - categorical_accuracy: 1.0000\n",
            "Epoch 2/100\n",
            "178/178 [==============================] - 3s 18ms/step - loss: 0.0203 - mean_absolute_error: 0.1002 - categorical_accuracy: 1.0000\n",
            "Epoch 3/100\n",
            "178/178 [==============================] - 3s 18ms/step - loss: 0.0232 - mean_absolute_error: 0.1001 - categorical_accuracy: 1.0000\n",
            "Epoch 4/100\n",
            "178/178 [==============================] - 3s 18ms/step - loss: 0.0211 - mean_absolute_error: 0.0936 - categorical_accuracy: 1.0000\n",
            "Epoch 5/100\n",
            "178/178 [==============================] - 3s 18ms/step - loss: 0.0124 - mean_absolute_error: 0.0791 - categorical_accuracy: 1.0000\n",
            "Epoch 6/100\n",
            "178/178 [==============================] - 3s 18ms/step - loss: 0.0145 - mean_absolute_error: 0.0852 - categorical_accuracy: 1.0000\n",
            "Epoch 7/100\n",
            "178/178 [==============================] - 3s 18ms/step - loss: 0.0151 - mean_absolute_error: 0.0813 - categorical_accuracy: 1.0000\n",
            "Epoch 8/100\n",
            "178/178 [==============================] - 3s 18ms/step - loss: 0.0123 - mean_absolute_error: 0.0731 - categorical_accuracy: 1.0000\n",
            "Epoch 9/100\n",
            "178/178 [==============================] - 3s 18ms/step - loss: 0.0111 - mean_absolute_error: 0.0689 - categorical_accuracy: 1.0000\n",
            "Epoch 10/100\n",
            "178/178 [==============================] - 3s 19ms/step - loss: 0.0154 - mean_absolute_error: 0.0764 - categorical_accuracy: 1.0000\n",
            "Epoch 11/100\n",
            "178/178 [==============================] - 3s 18ms/step - loss: 0.0091 - mean_absolute_error: 0.0598 - categorical_accuracy: 1.0000\n",
            "Epoch 12/100\n",
            "178/178 [==============================] - 3s 18ms/step - loss: 0.0119 - mean_absolute_error: 0.0656 - categorical_accuracy: 1.0000\n",
            "Epoch 13/100\n",
            "178/178 [==============================] - 3s 18ms/step - loss: 0.0099 - mean_absolute_error: 0.0668 - categorical_accuracy: 1.0000\n",
            "Epoch 14/100\n",
            "178/178 [==============================] - 3s 18ms/step - loss: 0.0110 - mean_absolute_error: 0.0626 - categorical_accuracy: 1.0000\n",
            "Epoch 15/100\n",
            "178/178 [==============================] - 3s 18ms/step - loss: 0.0084 - mean_absolute_error: 0.0569 - categorical_accuracy: 1.0000\n",
            "Epoch 16/100\n",
            "178/178 [==============================] - 3s 18ms/step - loss: 0.0075 - mean_absolute_error: 0.0525 - categorical_accuracy: 1.0000\n",
            "Epoch 17/100\n",
            "178/178 [==============================] - 3s 18ms/step - loss: 0.0102 - mean_absolute_error: 0.0576 - categorical_accuracy: 1.0000\n",
            "Epoch 18/100\n",
            "178/178 [==============================] - 3s 18ms/step - loss: 0.0112 - mean_absolute_error: 0.0662 - categorical_accuracy: 1.0000\n",
            "Epoch 19/100\n",
            "178/178 [==============================] - 3s 18ms/step - loss: 0.0092 - mean_absolute_error: 0.0665 - categorical_accuracy: 1.0000\n",
            "Epoch 20/100\n",
            "178/178 [==============================] - 3s 18ms/step - loss: 0.0094 - mean_absolute_error: 0.0590 - categorical_accuracy: 1.0000\n",
            "Epoch 21/100\n",
            "178/178 [==============================] - 3s 18ms/step - loss: 0.0086 - mean_absolute_error: 0.0610 - categorical_accuracy: 1.0000\n",
            "Epoch 22/100\n",
            "178/178 [==============================] - 3s 18ms/step - loss: 0.0126 - mean_absolute_error: 0.0678 - categorical_accuracy: 1.0000\n",
            "Epoch 23/100\n",
            "178/178 [==============================] - 3s 18ms/step - loss: 0.0109 - mean_absolute_error: 0.0628 - categorical_accuracy: 1.0000\n",
            "Epoch 24/100\n",
            "178/178 [==============================] - 3s 18ms/step - loss: 0.0098 - mean_absolute_error: 0.0585 - categorical_accuracy: 1.0000\n",
            "Epoch 25/100\n",
            "178/178 [==============================] - 3s 18ms/step - loss: 0.0121 - mean_absolute_error: 0.0653 - categorical_accuracy: 1.0000\n",
            "Epoch 26/100\n",
            "178/178 [==============================] - 3s 18ms/step - loss: 0.0113 - mean_absolute_error: 0.0648 - categorical_accuracy: 1.0000\n",
            "Epoch 27/100\n",
            "178/178 [==============================] - 3s 18ms/step - loss: 0.0113 - mean_absolute_error: 0.0634 - categorical_accuracy: 1.0000\n",
            "Epoch 28/100\n",
            "178/178 [==============================] - 3s 18ms/step - loss: 0.0069 - mean_absolute_error: 0.0533 - categorical_accuracy: 1.0000\n",
            "Epoch 29/100\n",
            "178/178 [==============================] - 3s 18ms/step - loss: 0.0091 - mean_absolute_error: 0.0551 - categorical_accuracy: 1.0000\n",
            "Epoch 30/100\n",
            "178/178 [==============================] - 3s 19ms/step - loss: 0.0093 - mean_absolute_error: 0.0555 - categorical_accuracy: 1.0000\n",
            "Epoch 31/100\n",
            "178/178 [==============================] - 3s 19ms/step - loss: 0.0102 - mean_absolute_error: 0.0643 - categorical_accuracy: 1.0000\n",
            "Epoch 32/100\n",
            "178/178 [==============================] - 3s 19ms/step - loss: 0.0120 - mean_absolute_error: 0.0690 - categorical_accuracy: 1.0000\n",
            "Epoch 33/100\n",
            "178/178 [==============================] - 3s 19ms/step - loss: 0.0087 - mean_absolute_error: 0.0590 - categorical_accuracy: 1.0000\n",
            "Epoch 34/100\n",
            "178/178 [==============================] - 3s 19ms/step - loss: 0.0074 - mean_absolute_error: 0.0577 - categorical_accuracy: 1.0000\n",
            "Epoch 35/100\n",
            "178/178 [==============================] - 3s 19ms/step - loss: 0.0091 - mean_absolute_error: 0.0598 - categorical_accuracy: 1.0000\n",
            "Epoch 36/100\n",
            "178/178 [==============================] - 3s 18ms/step - loss: 0.0126 - mean_absolute_error: 0.0669 - categorical_accuracy: 1.0000\n",
            "Epoch 37/100\n",
            "178/178 [==============================] - 3s 18ms/step - loss: 0.0123 - mean_absolute_error: 0.0628 - categorical_accuracy: 1.0000\n",
            "Epoch 38/100\n",
            "178/178 [==============================] - 3s 18ms/step - loss: 0.0095 - mean_absolute_error: 0.0569 - categorical_accuracy: 1.0000\n",
            "Epoch 39/100\n",
            "178/178 [==============================] - 3s 18ms/step - loss: 0.0117 - mean_absolute_error: 0.0662 - categorical_accuracy: 1.0000\n",
            "Epoch 40/100\n",
            "178/178 [==============================] - 3s 18ms/step - loss: 0.0121 - mean_absolute_error: 0.0666 - categorical_accuracy: 1.0000\n",
            "Epoch 41/100\n",
            "178/178 [==============================] - 3s 18ms/step - loss: 0.0141 - mean_absolute_error: 0.0675 - categorical_accuracy: 1.0000\n",
            "Epoch 42/100\n",
            "178/178 [==============================] - 3s 18ms/step - loss: 0.0085 - mean_absolute_error: 0.0609 - categorical_accuracy: 1.0000\n",
            "Epoch 43/100\n",
            "178/178 [==============================] - 3s 18ms/step - loss: 0.0088 - mean_absolute_error: 0.0616 - categorical_accuracy: 1.0000\n",
            "Epoch 44/100\n",
            "178/178 [==============================] - 3s 19ms/step - loss: 0.0085 - mean_absolute_error: 0.0603 - categorical_accuracy: 1.0000\n",
            "Epoch 45/100\n",
            "178/178 [==============================] - 3s 18ms/step - loss: 0.0099 - mean_absolute_error: 0.0655 - categorical_accuracy: 1.0000\n",
            "Epoch 46/100\n",
            "178/178 [==============================] - 3s 18ms/step - loss: 0.0076 - mean_absolute_error: 0.0542 - categorical_accuracy: 1.0000\n",
            "Epoch 47/100\n",
            "178/178 [==============================] - 3s 18ms/step - loss: 0.0088 - mean_absolute_error: 0.0578 - categorical_accuracy: 1.0000\n",
            "Epoch 48/100\n",
            "178/178 [==============================] - 3s 19ms/step - loss: 0.0097 - mean_absolute_error: 0.0653 - categorical_accuracy: 1.0000\n",
            "Epoch 49/100\n",
            "178/178 [==============================] - 3s 18ms/step - loss: 0.0098 - mean_absolute_error: 0.0636 - categorical_accuracy: 1.0000\n",
            "Epoch 50/100\n",
            "178/178 [==============================] - 3s 19ms/step - loss: 0.0119 - mean_absolute_error: 0.0684 - categorical_accuracy: 1.0000\n",
            "Epoch 51/100\n",
            "178/178 [==============================] - 3s 19ms/step - loss: 0.0106 - mean_absolute_error: 0.0599 - categorical_accuracy: 1.0000\n",
            "Epoch 52/100\n",
            "178/178 [==============================] - 3s 19ms/step - loss: 0.0080 - mean_absolute_error: 0.0533 - categorical_accuracy: 1.0000\n",
            "Epoch 53/100\n",
            "178/178 [==============================] - 3s 18ms/step - loss: 0.0080 - mean_absolute_error: 0.0526 - categorical_accuracy: 1.0000\n",
            "Epoch 54/100\n",
            "178/178 [==============================] - 3s 19ms/step - loss: 0.0076 - mean_absolute_error: 0.0574 - categorical_accuracy: 1.0000\n",
            "Epoch 55/100\n",
            "178/178 [==============================] - 3s 18ms/step - loss: 0.0201 - mean_absolute_error: 0.0820 - categorical_accuracy: 1.0000\n",
            "Epoch 56/100\n",
            "178/178 [==============================] - 3s 19ms/step - loss: 0.0110 - mean_absolute_error: 0.0640 - categorical_accuracy: 1.0000\n",
            "Epoch 57/100\n",
            "178/178 [==============================] - 3s 19ms/step - loss: 0.0086 - mean_absolute_error: 0.0576 - categorical_accuracy: 1.0000\n",
            "Epoch 58/100\n",
            "178/178 [==============================] - 3s 19ms/step - loss: 0.0127 - mean_absolute_error: 0.0705 - categorical_accuracy: 1.0000\n",
            "Epoch 59/100\n",
            "178/178 [==============================] - 3s 19ms/step - loss: 0.0112 - mean_absolute_error: 0.0628 - categorical_accuracy: 1.0000\n",
            "Epoch 60/100\n",
            "178/178 [==============================] - 3s 18ms/step - loss: 0.0114 - mean_absolute_error: 0.0634 - categorical_accuracy: 1.0000\n",
            "Epoch 61/100\n",
            "178/178 [==============================] - 3s 18ms/step - loss: 0.0089 - mean_absolute_error: 0.0605 - categorical_accuracy: 1.0000\n",
            "Epoch 62/100\n",
            "178/178 [==============================] - 3s 19ms/step - loss: 0.0121 - mean_absolute_error: 0.0636 - categorical_accuracy: 1.0000\n",
            "Epoch 63/100\n",
            "178/178 [==============================] - 3s 19ms/step - loss: 0.0081 - mean_absolute_error: 0.0570 - categorical_accuracy: 1.0000\n",
            "Epoch 64/100\n",
            "178/178 [==============================] - 3s 19ms/step - loss: 0.0125 - mean_absolute_error: 0.0606 - categorical_accuracy: 1.0000\n",
            "Epoch 65/100\n",
            "178/178 [==============================] - 3s 19ms/step - loss: 0.0124 - mean_absolute_error: 0.0649 - categorical_accuracy: 1.0000\n",
            "Epoch 66/100\n",
            "178/178 [==============================] - 3s 19ms/step - loss: 0.0075 - mean_absolute_error: 0.0548 - categorical_accuracy: 1.0000\n",
            "Epoch 67/100\n",
            "178/178 [==============================] - 3s 19ms/step - loss: 0.0186 - mean_absolute_error: 0.0721 - categorical_accuracy: 1.0000\n",
            "Epoch 68/100\n",
            "178/178 [==============================] - 3s 19ms/step - loss: 0.0088 - mean_absolute_error: 0.0572 - categorical_accuracy: 1.0000\n",
            "Epoch 69/100\n",
            "178/178 [==============================] - 3s 19ms/step - loss: 0.0106 - mean_absolute_error: 0.0616 - categorical_accuracy: 1.0000\n",
            "Epoch 70/100\n",
            "178/178 [==============================] - 3s 19ms/step - loss: 0.0118 - mean_absolute_error: 0.0628 - categorical_accuracy: 1.0000\n",
            "Epoch 71/100\n",
            "178/178 [==============================] - 3s 18ms/step - loss: 0.0105 - mean_absolute_error: 0.0638 - categorical_accuracy: 1.0000\n",
            "Epoch 72/100\n",
            "178/178 [==============================] - 3s 19ms/step - loss: 0.0092 - mean_absolute_error: 0.0527 - categorical_accuracy: 1.0000\n",
            "Epoch 73/100\n",
            "178/178 [==============================] - 3s 18ms/step - loss: 0.0068 - mean_absolute_error: 0.0524 - categorical_accuracy: 1.0000\n",
            "Epoch 74/100\n",
            "178/178 [==============================] - 3s 19ms/step - loss: 0.0084 - mean_absolute_error: 0.0574 - categorical_accuracy: 1.0000\n",
            "Epoch 75/100\n",
            "178/178 [==============================] - 3s 18ms/step - loss: 0.0186 - mean_absolute_error: 0.0708 - categorical_accuracy: 1.0000\n",
            "Epoch 76/100\n",
            "178/178 [==============================] - 3s 18ms/step - loss: 0.0126 - mean_absolute_error: 0.0720 - categorical_accuracy: 1.0000\n",
            "Epoch 77/100\n",
            "178/178 [==============================] - 3s 19ms/step - loss: 0.0083 - mean_absolute_error: 0.0567 - categorical_accuracy: 1.0000\n",
            "Epoch 78/100\n",
            "178/178 [==============================] - 3s 19ms/step - loss: 0.0082 - mean_absolute_error: 0.0573 - categorical_accuracy: 1.0000\n",
            "Epoch 79/100\n",
            "178/178 [==============================] - 3s 19ms/step - loss: 0.0080 - mean_absolute_error: 0.0575 - categorical_accuracy: 1.0000\n",
            "Epoch 80/100\n",
            "178/178 [==============================] - 3s 19ms/step - loss: 0.0088 - mean_absolute_error: 0.0613 - categorical_accuracy: 1.0000\n",
            "Epoch 81/100\n",
            "178/178 [==============================] - 3s 19ms/step - loss: 0.0140 - mean_absolute_error: 0.0692 - categorical_accuracy: 1.0000\n",
            "Epoch 82/100\n",
            "178/178 [==============================] - 3s 19ms/step - loss: 0.0094 - mean_absolute_error: 0.0590 - categorical_accuracy: 1.0000\n",
            "Epoch 83/100\n",
            "178/178 [==============================] - 3s 18ms/step - loss: 0.0063 - mean_absolute_error: 0.0528 - categorical_accuracy: 1.0000\n",
            "Epoch 84/100\n",
            "178/178 [==============================] - 3s 19ms/step - loss: 0.0089 - mean_absolute_error: 0.0641 - categorical_accuracy: 1.0000\n",
            "Epoch 85/100\n",
            "178/178 [==============================] - 3s 19ms/step - loss: 0.0082 - mean_absolute_error: 0.0573 - categorical_accuracy: 1.0000\n",
            "Epoch 86/100\n",
            "178/178 [==============================] - 3s 19ms/step - loss: 0.0093 - mean_absolute_error: 0.0637 - categorical_accuracy: 1.0000\n",
            "Epoch 87/100\n",
            "178/178 [==============================] - 3s 19ms/step - loss: 0.0082 - mean_absolute_error: 0.0600 - categorical_accuracy: 1.0000\n",
            "Epoch 88/100\n",
            "178/178 [==============================] - 3s 19ms/step - loss: 0.0077 - mean_absolute_error: 0.0572 - categorical_accuracy: 1.0000\n",
            "Epoch 89/100\n",
            "178/178 [==============================] - 3s 19ms/step - loss: 0.0126 - mean_absolute_error: 0.0640 - categorical_accuracy: 1.0000\n",
            "Epoch 90/100\n",
            "178/178 [==============================] - 3s 19ms/step - loss: 0.0134 - mean_absolute_error: 0.0676 - categorical_accuracy: 1.0000\n",
            "Epoch 91/100\n",
            "178/178 [==============================] - 3s 19ms/step - loss: 0.0124 - mean_absolute_error: 0.0636 - categorical_accuracy: 1.0000\n",
            "Epoch 92/100\n",
            "178/178 [==============================] - 3s 19ms/step - loss: 0.0119 - mean_absolute_error: 0.0640 - categorical_accuracy: 1.0000\n",
            "Epoch 93/100\n",
            "178/178 [==============================] - 3s 19ms/step - loss: 0.0096 - mean_absolute_error: 0.0594 - categorical_accuracy: 1.0000\n",
            "Epoch 94/100\n",
            "178/178 [==============================] - 3s 19ms/step - loss: 0.0090 - mean_absolute_error: 0.0646 - categorical_accuracy: 1.0000\n",
            "Epoch 95/100\n",
            "178/178 [==============================] - 3s 19ms/step - loss: 0.0119 - mean_absolute_error: 0.0632 - categorical_accuracy: 1.0000\n",
            "Epoch 96/100\n",
            "178/178 [==============================] - 3s 19ms/step - loss: 0.0150 - mean_absolute_error: 0.0721 - categorical_accuracy: 1.0000\n",
            "Epoch 97/100\n",
            "178/178 [==============================] - 3s 19ms/step - loss: 0.0101 - mean_absolute_error: 0.0617 - categorical_accuracy: 1.0000\n",
            "Epoch 98/100\n",
            "178/178 [==============================] - 3s 19ms/step - loss: 0.0085 - mean_absolute_error: 0.0602 - categorical_accuracy: 1.0000\n",
            "Epoch 99/100\n",
            "178/178 [==============================] - 3s 19ms/step - loss: 0.0102 - mean_absolute_error: 0.0600 - categorical_accuracy: 1.0000\n",
            "Epoch 100/100\n",
            "178/178 [==============================] - 3s 19ms/step - loss: 0.0096 - mean_absolute_error: 0.0590 - categorical_accuracy: 1.0000\n"
          ],
          "name": "stdout"
        },
        {
          "output_type": "execute_result",
          "data": {
            "text/plain": [
              "<tensorflow.python.keras.callbacks.History at 0x7fe8319d1390>"
            ]
          },
          "metadata": {
            "tags": []
          },
          "execution_count": 51
        }
      ]
    },
    {
      "cell_type": "code",
      "metadata": {
        "colab": {
          "base_uri": "https://localhost:8080/"
        },
        "id": "gtFTYw2wlUXA",
        "outputId": "7fe171f1-56be-424d-d349-e105a206c9b5"
      },
      "source": [
        "first_eval_3 = scaled_train[-20:]\n",
        "\n",
        "\n",
        "first_eval_3 = first_eval_3.reshape(1, n_input, n_feacture)\n",
        "\n",
        "model_3.predict(first_eval_3)"
      ],
      "execution_count": 52,
      "outputs": [
        {
          "output_type": "execute_result",
          "data": {
            "text/plain": [
              "array([[0.23853663]], dtype=float32)"
            ]
          },
          "metadata": {
            "tags": []
          },
          "execution_count": 52
        }
      ]
    },
    {
      "cell_type": "code",
      "metadata": {
        "id": "I0xsowNMlUXC"
      },
      "source": [
        "test_predictions_3 = []\n",
        "\n",
        "first_eval_batch = scaled_train[-n_input:]\n",
        "current_batch = first_eval_3.reshape((1, n_input, n_feacture))\n",
        "\n",
        "for i in range(len(test)):\n",
        "    \n",
        "    # obtener la predicción ([0] es para obtener solo el número en lugar de [matriz])\n",
        "    current_pred = model_3.predict(current_batch)[0]\n",
        "    \n",
        "    # guardar la predicción\n",
        "    test_predictions_3.append(current_pred) \n",
        "    \n",
        "    # actualizar el lote para incluir ahora la predicción y soltar primer valor\n",
        "    current_batch = np.append(current_batch[:,1:,:],[[current_pred]],axis=1)"
      ],
      "execution_count": 53,
      "outputs": []
    },
    {
      "cell_type": "code",
      "metadata": {
        "colab": {
          "base_uri": "https://localhost:8080/"
        },
        "id": "Z7iRUT8HlUXD",
        "outputId": "465d4b85-42d5-4a00-ec80-4f754a7276a5"
      },
      "source": [
        "#Transofmacion inversa\n",
        "true_predicctions_3 = scaler.inverse_transform(test_predictions_3)\n",
        "\n",
        "\n",
        "test['Prediction_3'] = true_predicctions_3"
      ],
      "execution_count": 54,
      "outputs": [
        {
          "output_type": "stream",
          "text": [
            "/usr/local/lib/python3.7/dist-packages/ipykernel_launcher.py:5: SettingWithCopyWarning: \n",
            "A value is trying to be set on a copy of a slice from a DataFrame.\n",
            "Try using .loc[row_indexer,col_indexer] = value instead\n",
            "\n",
            "See the caveats in the documentation: https://pandas.pydata.org/pandas-docs/stable/user_guide/indexing.html#returning-a-view-versus-a-copy\n",
            "  \"\"\"\n"
          ],
          "name": "stderr"
        }
      ]
    },
    {
      "cell_type": "code",
      "metadata": {
        "colab": {
          "base_uri": "https://localhost:8080/",
          "height": 0
        },
        "id": "-R3egc6VlUXE",
        "outputId": "334bff59-2ed6-4073-90e3-b4298a8b9203"
      },
      "source": [
        "test.plot(figsize=(12,8))"
      ],
      "execution_count": 55,
      "outputs": [
        {
          "output_type": "execute_result",
          "data": {
            "text/plain": [
              "<matplotlib.axes._subplots.AxesSubplot at 0x7fe83167ef10>"
            ]
          },
          "metadata": {
            "tags": []
          },
          "execution_count": 55
        },
        {
          "output_type": "display_data",
          "data": {
            "image/png": "[encoded data removed]",
            "text/plain": [
              "<Figure size 864x576 with 1 Axes>"
            ]
          },
          "metadata": {
            "tags": [],
            "needs_background": "light"
          }
        }
      ]
    },
    {
      "cell_type": "code",
      "metadata": {
        "colab": {
          "base_uri": "https://localhost:8080/",
          "height": 0
        },
        "id": "Dj9JG3EflUXF",
        "outputId": "8a3cb9b7-3192-41e5-ef4e-f955fe881007"
      },
      "source": [
        "#Observacion de los test y la predicciones\n",
        "test"
      ],
      "execution_count": 56,
      "outputs": [
        {
          "output_type": "execute_result",
          "data": {
            "text/html": [
              "<div>\n",
              "<style scoped>\n",
              "    .dataframe tbody tr th:only-of-type {\n",
              "        vertical-align: middle;\n",
              "    }\n",
              "\n",
              "    .dataframe tbody tr th {\n",
              "        vertical-align: top;\n",
              "    }\n",
              "\n",
              "    .dataframe thead th {\n",
              "        text-align: right;\n",
              "    }\n",
              "</style>\n",
              "<table border=\"1\" class=\"dataframe\">\n",
              "  <thead>\n",
              "    <tr style=\"text-align: right;\">\n",
              "      <th></th>\n",
              "      <th>new_cases</th>\n",
              "      <th>Prediction</th>\n",
              "      <th>Prediction_2</th>\n",
              "      <th>Prediction_3</th>\n",
              "    </tr>\n",
              "    <tr>\n",
              "      <th>date</th>\n",
              "      <th></th>\n",
              "      <th></th>\n",
              "      <th></th>\n",
              "      <th></th>\n",
              "    </tr>\n",
              "  </thead>\n",
              "  <tbody>\n",
              "    <tr>\n",
              "      <th>2021-03-10</th>\n",
              "      <td>6602.0</td>\n",
              "      <td>6540.367300</td>\n",
              "      <td>6073.748433</td>\n",
              "      <td>6706.457243</td>\n",
              "    </tr>\n",
              "    <tr>\n",
              "      <th>2021-03-11</th>\n",
              "      <td>6469.0</td>\n",
              "      <td>6941.951899</td>\n",
              "      <td>6194.118783</td>\n",
              "      <td>6940.477628</td>\n",
              "    </tr>\n",
              "    <tr>\n",
              "      <th>2021-03-12</th>\n",
              "      <td>6816.0</td>\n",
              "      <td>7090.299892</td>\n",
              "      <td>6318.813914</td>\n",
              "      <td>7180.567705</td>\n",
              "    </tr>\n",
              "    <tr>\n",
              "      <th>2021-03-13</th>\n",
              "      <td>6104.0</td>\n",
              "      <td>7007.388355</td>\n",
              "      <td>6443.252231</td>\n",
              "      <td>7422.973297</td>\n",
              "    </tr>\n",
              "    <tr>\n",
              "      <th>2021-03-14</th>\n",
              "      <td>2415.0</td>\n",
              "      <td>6439.584358</td>\n",
              "      <td>6574.336710</td>\n",
              "      <td>7673.925391</td>\n",
              "    </tr>\n",
              "    <tr>\n",
              "      <th>2021-03-15</th>\n",
              "      <td>1439.0</td>\n",
              "      <td>5680.156907</td>\n",
              "      <td>6706.323180</td>\n",
              "      <td>7926.446019</td>\n",
              "    </tr>\n",
              "    <tr>\n",
              "      <th>2021-03-16</th>\n",
              "      <td>1278.0</td>\n",
              "      <td>5375.331271</td>\n",
              "      <td>6828.497931</td>\n",
              "      <td>8169.372780</td>\n",
              "    </tr>\n",
              "    <tr>\n",
              "      <th>2021-03-17</th>\n",
              "      <td>6455.0</td>\n",
              "      <td>5648.197181</td>\n",
              "      <td>6950.399948</td>\n",
              "      <td>8413.115648</td>\n",
              "    </tr>\n",
              "    <tr>\n",
              "      <th>2021-03-18</th>\n",
              "      <td>6726.0</td>\n",
              "      <td>6116.851288</td>\n",
              "      <td>7072.375700</td>\n",
              "      <td>8657.047880</td>\n",
              "    </tr>\n",
              "    <tr>\n",
              "      <th>2021-03-19</th>\n",
              "      <td>5722.0</td>\n",
              "      <td>6441.720983</td>\n",
              "      <td>7195.587762</td>\n",
              "      <td>8902.102888</td>\n",
              "    </tr>\n",
              "    <tr>\n",
              "      <th>2021-03-20</th>\n",
              "      <td>5729.0</td>\n",
              "      <td>6548.395565</td>\n",
              "      <td>7318.774687</td>\n",
              "      <td>9144.107967</td>\n",
              "    </tr>\n",
              "    <tr>\n",
              "      <th>2021-03-21</th>\n",
              "      <td>2133.0</td>\n",
              "      <td>6362.569488</td>\n",
              "      <td>7448.101687</td>\n",
              "      <td>9389.166327</td>\n",
              "    </tr>\n",
              "    <tr>\n",
              "      <th>2021-03-22</th>\n",
              "      <td>1388.0</td>\n",
              "      <td>5987.333249</td>\n",
              "      <td>7577.619726</td>\n",
              "      <td>9632.967847</td>\n",
              "    </tr>\n",
              "    <tr>\n",
              "      <th>2021-03-23</th>\n",
              "      <td>5881.0</td>\n",
              "      <td>5714.574589</td>\n",
              "      <td>7698.383467</td>\n",
              "      <td>9865.823143</td>\n",
              "    </tr>\n",
              "    <tr>\n",
              "      <th>2021-03-24</th>\n",
              "      <td>5714.0</td>\n",
              "      <td>5739.405528</td>\n",
              "      <td>7818.905894</td>\n",
              "      <td>10096.067567</td>\n",
              "    </tr>\n",
              "    <tr>\n",
              "      <th>2021-03-25</th>\n",
              "      <td>5787.0</td>\n",
              "      <td>5979.840397</td>\n",
              "      <td>7939.547302</td>\n",
              "      <td>10321.512543</td>\n",
              "    </tr>\n",
              "    <tr>\n",
              "      <th>2021-03-26</th>\n",
              "      <td>5303.0</td>\n",
              "      <td>6223.759223</td>\n",
              "      <td>8061.065984</td>\n",
              "      <td>10544.524280</td>\n",
              "    </tr>\n",
              "    <tr>\n",
              "      <th>2021-03-27</th>\n",
              "      <td>5059.0</td>\n",
              "      <td>6336.348905</td>\n",
              "      <td>8182.489146</td>\n",
              "      <td>10764.370460</td>\n",
              "    </tr>\n",
              "    <tr>\n",
              "      <th>2021-03-28</th>\n",
              "      <td>1646.0</td>\n",
              "      <td>6265.212687</td>\n",
              "      <td>8309.096347</td>\n",
              "      <td>10986.333156</td>\n",
              "    </tr>\n",
              "    <tr>\n",
              "      <th>2021-03-29</th>\n",
              "      <td>1293.0</td>\n",
              "      <td>6062.130218</td>\n",
              "      <td>8436.397323</td>\n",
              "      <td>11206.070410</td>\n",
              "    </tr>\n",
              "  </tbody>\n",
              "</table>\n",
              "</div>"
            ],
            "text/plain": [
              "            new_cases   Prediction  Prediction_2  Prediction_3\n",
              "date                                                          \n",
              "2021-03-10     6602.0  6540.367300   6073.748433   6706.457243\n",
              "2021-03-11     6469.0  6941.951899   6194.118783   6940.477628\n",
              "2021-03-12     6816.0  7090.299892   6318.813914   7180.567705\n",
              "2021-03-13     6104.0  7007.388355   6443.252231   7422.973297\n",
              "2021-03-14     2415.0  6439.584358   6574.336710   7673.925391\n",
              "2021-03-15     1439.0  5680.156907   6706.323180   7926.446019\n",
              "2021-03-16     1278.0  5375.331271   6828.497931   8169.372780\n",
              "2021-03-17     6455.0  5648.197181   6950.399948   8413.115648\n",
              "2021-03-18     6726.0  6116.851288   7072.375700   8657.047880\n",
              "2021-03-19     5722.0  6441.720983   7195.587762   8902.102888\n",
              "2021-03-20     5729.0  6548.395565   7318.774687   9144.107967\n",
              "2021-03-21     2133.0  6362.569488   7448.101687   9389.166327\n",
              "2021-03-22     1388.0  5987.333249   7577.619726   9632.967847\n",
              "2021-03-23     5881.0  5714.574589   7698.383467   9865.823143\n",
              "2021-03-24     5714.0  5739.405528   7818.905894  10096.067567\n",
              "2021-03-25     5787.0  5979.840397   7939.547302  10321.512543\n",
              "2021-03-26     5303.0  6223.759223   8061.065984  10544.524280\n",
              "2021-03-27     5059.0  6336.348905   8182.489146  10764.370460\n",
              "2021-03-28     1646.0  6265.212687   8309.096347  10986.333156\n",
              "2021-03-29     1293.0  6062.130218   8436.397323  11206.070410"
            ]
          },
          "metadata": {
            "tags": []
          },
          "execution_count": 56
        }
      ]
    },
    {
      "cell_type": "markdown",
      "metadata": {
        "id": "dZxNfYxMsqAk"
      },
      "source": [
        "# **Modelo 4**"
      ]
    },
    {
      "cell_type": "code",
      "metadata": {
        "id": "cMW920F3sreM"
      },
      "source": [
        ""
      ],
      "execution_count": 56,
      "outputs": []
    },
    {
      "cell_type": "code",
      "metadata": {
        "id": "1E4dd79AsrvB"
      },
      "source": [
        "# Red neuronal 4\n",
        "# 5 Capas\n",
        "# relu para activacion de cada capa\n",
        "# adam para compilacion y mse para loss\n",
        "\n",
        "#Red sequential\n",
        "model_4 = Sequential()\n",
        "\n",
        "#Red nueronal con 4 capas, cada capa tiene dierente cantidad de nueronas\n",
        "model_4.add(LSTM(200, activation='relu', input_shape=(n_input, n_feacture)))\n",
        "model_4.add(Dense(100, activation='relu' ))\n",
        "model_4.add(Dense(84, activation='relu'))\n",
        "model_4.add(Dense(32, activation='relu'))\n",
        "model_4.add(Dense(32))\n",
        "model_4.add(Dense(1))\n",
        "\n",
        "#Compilacion de la red nueronal\n",
        "model_4.compile(optimizer='adam', loss='mean_squared_error',\n",
        "                metrics=[metrics.mae,\n",
        "                metrics.categorical_accuracy])"
      ],
      "execution_count": 57,
      "outputs": []
    },
    {
      "cell_type": "code",
      "metadata": {
        "colab": {
          "base_uri": "https://localhost:8080/"
        },
        "id": "4vyhjqlpsxqK",
        "outputId": "6a64a0e2-856e-4c56-9d59-a5398d8f4cce"
      },
      "source": [
        "model_4.summary()"
      ],
      "execution_count": 58,
      "outputs": [
        {
          "output_type": "stream",
          "text": [
            "Model: \"sequential_3\"\n",
            "_________________________________________________________________\n",
            "Layer (type)                 Output Shape              Param #   \n",
            "=================================================================\n",
            "lstm_3 (LSTM)                (None, 200)               161600    \n",
            "_________________________________________________________________\n",
            "dense_11 (Dense)             (None, 100)               20100     \n",
            "_________________________________________________________________\n",
            "dense_12 (Dense)             (None, 84)                8484      \n",
            "_________________________________________________________________\n",
            "dense_13 (Dense)             (None, 32)                2720      \n",
            "_________________________________________________________________\n",
            "dense_14 (Dense)             (None, 32)                1056      \n",
            "_________________________________________________________________\n",
            "dense_15 (Dense)             (None, 1)                 33        \n",
            "=================================================================\n",
            "Total params: 193,993\n",
            "Trainable params: 193,993\n",
            "Non-trainable params: 0\n",
            "_________________________________________________________________\n"
          ],
          "name": "stdout"
        }
      ]
    },
    {
      "cell_type": "code",
      "metadata": {
        "colab": {
          "base_uri": "https://localhost:8080/",
          "height": 1000
        },
        "id": "rGQarEa4sxqO",
        "outputId": "cef895be-ef58-4d3a-d303-2f6dcc2bc568"
      },
      "source": [
        "#Entrenando la red nueronal\n",
        "\n",
        "model_4.fit_generator(generator, epochs=200)"
      ],
      "execution_count": 59,
      "outputs": [
        {
          "output_type": "stream",
          "text": [
            "Epoch 1/200\n"
          ],
          "name": "stdout"
        },
        {
          "output_type": "stream",
          "text": [
            "/usr/local/lib/python3.7/dist-packages/tensorflow/python/keras/engine/training.py:1844: UserWarning: `Model.fit_generator` is deprecated and will be removed in a future version. Please use `Model.fit`, which supports generators.\n",
            "  warnings.warn('`Model.fit_generator` is deprecated and '\n"
          ],
          "name": "stderr"
        },
        {
          "output_type": "stream",
          "text": [
            "178/178 [==============================] - 5s 22ms/step - loss: 0.0172 - mean_absolute_error: 0.0942 - categorical_accuracy: 1.0000\n",
            "Epoch 2/200\n",
            "178/178 [==============================] - 4s 22ms/step - loss: 0.0109 - mean_absolute_error: 0.0708 - categorical_accuracy: 1.0000\n",
            "Epoch 3/200\n",
            "178/178 [==============================] - 4s 22ms/step - loss: 0.0133 - mean_absolute_error: 0.0713 - categorical_accuracy: 1.0000\n",
            "Epoch 4/200\n",
            "178/178 [==============================] - 4s 22ms/step - loss: 0.0138 - mean_absolute_error: 0.0696 - categorical_accuracy: 1.0000\n",
            "Epoch 5/200\n",
            "178/178 [==============================] - 4s 23ms/step - loss: 0.0105 - mean_absolute_error: 0.0666 - categorical_accuracy: 1.0000\n",
            "Epoch 6/200\n",
            "178/178 [==============================] - 4s 23ms/step - loss: 0.0148 - mean_absolute_error: 0.0788 - categorical_accuracy: 1.0000\n",
            "Epoch 7/200\n",
            "178/178 [==============================] - 4s 23ms/step - loss: 0.0093 - mean_absolute_error: 0.0614 - categorical_accuracy: 1.0000\n",
            "Epoch 8/200\n",
            "178/178 [==============================] - 4s 23ms/step - loss: 0.0078 - mean_absolute_error: 0.0584 - categorical_accuracy: 1.0000\n",
            "Epoch 9/200\n",
            "178/178 [==============================] - 4s 23ms/step - loss: 0.0100 - mean_absolute_error: 0.0621 - categorical_accuracy: 1.0000\n",
            "Epoch 10/200\n",
            "178/178 [==============================] - 4s 23ms/step - loss: 0.0157 - mean_absolute_error: 0.0807 - categorical_accuracy: 1.0000\n",
            "Epoch 11/200\n",
            "178/178 [==============================] - 4s 23ms/step - loss: 0.0103 - mean_absolute_error: 0.0676 - categorical_accuracy: 1.0000\n",
            "Epoch 12/200\n",
            "178/178 [==============================] - 4s 22ms/step - loss: 0.0157 - mean_absolute_error: 0.0799 - categorical_accuracy: 1.0000\n",
            "Epoch 13/200\n",
            "178/178 [==============================] - 4s 22ms/step - loss: 0.0096 - mean_absolute_error: 0.0596 - categorical_accuracy: 1.0000\n",
            "Epoch 14/200\n",
            "178/178 [==============================] - 4s 23ms/step - loss: 0.0101 - mean_absolute_error: 0.0685 - categorical_accuracy: 1.0000\n",
            "Epoch 15/200\n",
            "178/178 [==============================] - 4s 22ms/step - loss: 0.0082 - mean_absolute_error: 0.0552 - categorical_accuracy: 1.0000\n",
            "Epoch 16/200\n",
            "178/178 [==============================] - 4s 23ms/step - loss: 0.0163 - mean_absolute_error: 0.0715 - categorical_accuracy: 1.0000\n",
            "Epoch 17/200\n",
            "178/178 [==============================] - 4s 22ms/step - loss: 0.0097 - mean_absolute_error: 0.0606 - categorical_accuracy: 1.0000\n",
            "Epoch 18/200\n",
            "178/178 [==============================] - 4s 23ms/step - loss: 0.0105 - mean_absolute_error: 0.0589 - categorical_accuracy: 1.0000\n",
            "Epoch 19/200\n",
            "178/178 [==============================] - 4s 22ms/step - loss: 0.0142 - mean_absolute_error: 0.0670 - categorical_accuracy: 1.0000\n",
            "Epoch 20/200\n",
            "178/178 [==============================] - 4s 23ms/step - loss: 0.0150 - mean_absolute_error: 0.0771 - categorical_accuracy: 1.0000\n",
            "Epoch 21/200\n",
            "178/178 [==============================] - 4s 23ms/step - loss: 0.0098 - mean_absolute_error: 0.0649 - categorical_accuracy: 1.0000\n",
            "Epoch 22/200\n",
            "178/178 [==============================] - 4s 23ms/step - loss: 0.0141 - mean_absolute_error: 0.0698 - categorical_accuracy: 1.0000\n",
            "Epoch 23/200\n",
            "178/178 [==============================] - 4s 23ms/step - loss: 0.0135 - mean_absolute_error: 0.0660 - categorical_accuracy: 1.0000\n",
            "Epoch 24/200\n",
            "178/178 [==============================] - 4s 22ms/step - loss: 0.0091 - mean_absolute_error: 0.0576 - categorical_accuracy: 1.0000\n",
            "Epoch 25/200\n",
            "178/178 [==============================] - 4s 22ms/step - loss: 0.0117 - mean_absolute_error: 0.0673 - categorical_accuracy: 1.0000\n",
            "Epoch 26/200\n",
            "178/178 [==============================] - 4s 23ms/step - loss: 0.0124 - mean_absolute_error: 0.0572 - categorical_accuracy: 1.0000\n",
            "Epoch 27/200\n",
            "178/178 [==============================] - 4s 23ms/step - loss: 0.0096 - mean_absolute_error: 0.0551 - categorical_accuracy: 1.0000\n",
            "Epoch 28/200\n",
            "178/178 [==============================] - 4s 23ms/step - loss: 0.0078 - mean_absolute_error: 0.0526 - categorical_accuracy: 1.0000\n",
            "Epoch 29/200\n",
            "178/178 [==============================] - 4s 23ms/step - loss: 0.0110 - mean_absolute_error: 0.0578 - categorical_accuracy: 1.0000\n",
            "Epoch 30/200\n",
            "178/178 [==============================] - 4s 22ms/step - loss: 0.0078 - mean_absolute_error: 0.0577 - categorical_accuracy: 1.0000\n",
            "Epoch 31/200\n",
            "178/178 [==============================] - 4s 22ms/step - loss: 0.0080 - mean_absolute_error: 0.0655 - categorical_accuracy: 1.0000\n",
            "Epoch 32/200\n",
            "178/178 [==============================] - 4s 22ms/step - loss: 0.0080 - mean_absolute_error: 0.0614 - categorical_accuracy: 1.0000\n",
            "Epoch 33/200\n",
            "178/178 [==============================] - 4s 23ms/step - loss: 0.0082 - mean_absolute_error: 0.0577 - categorical_accuracy: 1.0000\n",
            "Epoch 34/200\n",
            "178/178 [==============================] - 4s 22ms/step - loss: 0.0117 - mean_absolute_error: 0.0598 - categorical_accuracy: 1.0000\n",
            "Epoch 35/200\n",
            "178/178 [==============================] - 4s 22ms/step - loss: 0.0073 - mean_absolute_error: 0.0556 - categorical_accuracy: 1.0000\n",
            "Epoch 36/200\n",
            "178/178 [==============================] - 4s 23ms/step - loss: 0.0081 - mean_absolute_error: 0.0554 - categorical_accuracy: 1.0000\n",
            "Epoch 37/200\n",
            "178/178 [==============================] - 4s 22ms/step - loss: 0.0079 - mean_absolute_error: 0.0566 - categorical_accuracy: 1.0000\n",
            "Epoch 38/200\n",
            "178/178 [==============================] - 4s 23ms/step - loss: 0.0072 - mean_absolute_error: 0.0552 - categorical_accuracy: 1.0000\n",
            "Epoch 39/200\n",
            "178/178 [==============================] - 4s 22ms/step - loss: 0.0070 - mean_absolute_error: 0.0543 - categorical_accuracy: 1.0000\n",
            "Epoch 40/200\n",
            "178/178 [==============================] - 4s 22ms/step - loss: 0.0071 - mean_absolute_error: 0.0532 - categorical_accuracy: 1.0000\n",
            "Epoch 41/200\n",
            "178/178 [==============================] - 4s 22ms/step - loss: 0.0071 - mean_absolute_error: 0.0487 - categorical_accuracy: 1.0000\n",
            "Epoch 42/200\n",
            "178/178 [==============================] - 4s 22ms/step - loss: 0.0088 - mean_absolute_error: 0.0571 - categorical_accuracy: 1.0000\n",
            "Epoch 43/200\n",
            "178/178 [==============================] - 4s 23ms/step - loss: 0.0062 - mean_absolute_error: 0.0488 - categorical_accuracy: 1.0000\n",
            "Epoch 44/200\n",
            "178/178 [==============================] - 4s 23ms/step - loss: 0.0065 - mean_absolute_error: 0.0533 - categorical_accuracy: 1.0000\n",
            "Epoch 45/200\n",
            "178/178 [==============================] - 4s 23ms/step - loss: 0.0095 - mean_absolute_error: 0.0529 - categorical_accuracy: 1.0000\n",
            "Epoch 46/200\n",
            "178/178 [==============================] - 4s 23ms/step - loss: 0.0049 - mean_absolute_error: 0.0454 - categorical_accuracy: 1.0000\n",
            "Epoch 47/200\n",
            "178/178 [==============================] - 4s 22ms/step - loss: 0.0086 - mean_absolute_error: 0.0519 - categorical_accuracy: 1.0000\n",
            "Epoch 48/200\n",
            "178/178 [==============================] - 4s 23ms/step - loss: 0.0062 - mean_absolute_error: 0.0492 - categorical_accuracy: 1.0000\n",
            "Epoch 49/200\n",
            "178/178 [==============================] - 4s 23ms/step - loss: 0.0052 - mean_absolute_error: 0.0424 - categorical_accuracy: 1.0000\n",
            "Epoch 50/200\n",
            "178/178 [==============================] - 4s 23ms/step - loss: 0.0101 - mean_absolute_error: 0.0591 - categorical_accuracy: 1.0000\n",
            "Epoch 51/200\n",
            "178/178 [==============================] - 4s 23ms/step - loss: 0.0079 - mean_absolute_error: 0.0533 - categorical_accuracy: 1.0000\n",
            "Epoch 52/200\n",
            "178/178 [==============================] - 4s 22ms/step - loss: 0.0072 - mean_absolute_error: 0.0475 - categorical_accuracy: 1.0000\n",
            "Epoch 53/200\n",
            "178/178 [==============================] - 4s 23ms/step - loss: 0.0045 - mean_absolute_error: 0.0414 - categorical_accuracy: 1.0000\n",
            "Epoch 54/200\n",
            "178/178 [==============================] - 4s 23ms/step - loss: 0.0061 - mean_absolute_error: 0.0496 - categorical_accuracy: 1.0000\n",
            "Epoch 55/200\n",
            "178/178 [==============================] - 4s 22ms/step - loss: 0.0127 - mean_absolute_error: 0.0631 - categorical_accuracy: 1.0000\n",
            "Epoch 56/200\n",
            "178/178 [==============================] - 4s 23ms/step - loss: 0.0044 - mean_absolute_error: 0.0396 - categorical_accuracy: 1.0000\n",
            "Epoch 57/200\n",
            "178/178 [==============================] - 4s 23ms/step - loss: 0.0061 - mean_absolute_error: 0.0465 - categorical_accuracy: 1.0000\n",
            "Epoch 58/200\n",
            "178/178 [==============================] - 4s 23ms/step - loss: 0.0079 - mean_absolute_error: 0.0478 - categorical_accuracy: 1.0000\n",
            "Epoch 59/200\n",
            "178/178 [==============================] - 4s 23ms/step - loss: 0.0112 - mean_absolute_error: 0.0534 - categorical_accuracy: 1.0000\n",
            "Epoch 60/200\n",
            "178/178 [==============================] - 4s 23ms/step - loss: 0.0119 - mean_absolute_error: 0.0504 - categorical_accuracy: 1.0000\n",
            "Epoch 61/200\n",
            "178/178 [==============================] - 4s 23ms/step - loss: 0.0052 - mean_absolute_error: 0.0438 - categorical_accuracy: 1.0000\n",
            "Epoch 62/200\n",
            "178/178 [==============================] - 4s 23ms/step - loss: 0.0046 - mean_absolute_error: 0.0443 - categorical_accuracy: 1.0000\n",
            "Epoch 63/200\n",
            "178/178 [==============================] - 4s 23ms/step - loss: 0.0090 - mean_absolute_error: 0.0582 - categorical_accuracy: 1.0000\n",
            "Epoch 64/200\n",
            "178/178 [==============================] - 4s 22ms/step - loss: 0.0048 - mean_absolute_error: 0.0458 - categorical_accuracy: 1.0000\n",
            "Epoch 65/200\n",
            "178/178 [==============================] - 4s 23ms/step - loss: 0.0093 - mean_absolute_error: 0.0556 - categorical_accuracy: 1.0000\n",
            "Epoch 66/200\n",
            "178/178 [==============================] - 4s 23ms/step - loss: 0.0065 - mean_absolute_error: 0.0457 - categorical_accuracy: 1.0000\n",
            "Epoch 67/200\n",
            "178/178 [==============================] - 4s 23ms/step - loss: 0.0063 - mean_absolute_error: 0.0457 - categorical_accuracy: 1.0000\n",
            "Epoch 68/200\n",
            "178/178 [==============================] - 4s 23ms/step - loss: 0.0056 - mean_absolute_error: 0.0416 - categorical_accuracy: 1.0000\n",
            "Epoch 69/200\n",
            "178/178 [==============================] - 4s 23ms/step - loss: 0.0087 - mean_absolute_error: 0.0538 - categorical_accuracy: 1.0000\n",
            "Epoch 70/200\n",
            "178/178 [==============================] - 4s 23ms/step - loss: 0.0066 - mean_absolute_error: 0.0485 - categorical_accuracy: 1.0000\n",
            "Epoch 71/200\n",
            "178/178 [==============================] - 4s 23ms/step - loss: 0.0057 - mean_absolute_error: 0.0395 - categorical_accuracy: 1.0000\n",
            "Epoch 72/200\n",
            "178/178 [==============================] - 4s 23ms/step - loss: 0.0061 - mean_absolute_error: 0.0435 - categorical_accuracy: 1.0000\n",
            "Epoch 73/200\n",
            "178/178 [==============================] - 4s 22ms/step - loss: 0.0056 - mean_absolute_error: 0.0411 - categorical_accuracy: 1.0000\n",
            "Epoch 74/200\n",
            "178/178 [==============================] - 4s 23ms/step - loss: 0.0038 - mean_absolute_error: 0.0425 - categorical_accuracy: 1.0000\n",
            "Epoch 75/200\n",
            "178/178 [==============================] - 4s 23ms/step - loss: 0.0048 - mean_absolute_error: 0.0396 - categorical_accuracy: 1.0000\n",
            "Epoch 76/200\n",
            "178/178 [==============================] - 4s 23ms/step - loss: 0.0141 - mean_absolute_error: 0.0521 - categorical_accuracy: 1.0000\n",
            "Epoch 77/200\n",
            "178/178 [==============================] - 4s 23ms/step - loss: 0.0078 - mean_absolute_error: 0.0473 - categorical_accuracy: 1.0000\n",
            "Epoch 78/200\n",
            "178/178 [==============================] - 4s 23ms/step - loss: 0.0050 - mean_absolute_error: 0.0485 - categorical_accuracy: 1.0000\n",
            "Epoch 79/200\n",
            "178/178 [==============================] - 4s 23ms/step - loss: 0.0053 - mean_absolute_error: 0.0433 - categorical_accuracy: 1.0000\n",
            "Epoch 80/200\n",
            "178/178 [==============================] - 4s 23ms/step - loss: 0.0067 - mean_absolute_error: 0.0473 - categorical_accuracy: 1.0000\n",
            "Epoch 81/200\n",
            "178/178 [==============================] - 4s 23ms/step - loss: 0.0027 - mean_absolute_error: 0.0326 - categorical_accuracy: 1.0000\n",
            "Epoch 82/200\n",
            "178/178 [==============================] - 4s 23ms/step - loss: 0.0030 - mean_absolute_error: 0.0338 - categorical_accuracy: 1.0000\n",
            "Epoch 83/200\n",
            "178/178 [==============================] - 4s 23ms/step - loss: 0.0050 - mean_absolute_error: 0.0401 - categorical_accuracy: 1.0000\n",
            "Epoch 84/200\n",
            "178/178 [==============================] - 4s 23ms/step - loss: 0.0034 - mean_absolute_error: 0.0391 - categorical_accuracy: 1.0000\n",
            "Epoch 85/200\n",
            "178/178 [==============================] - 4s 23ms/step - loss: 0.0061 - mean_absolute_error: 0.0544 - categorical_accuracy: 1.0000\n",
            "Epoch 86/200\n",
            "178/178 [==============================] - 4s 23ms/step - loss: 0.0035 - mean_absolute_error: 0.0370 - categorical_accuracy: 1.0000\n",
            "Epoch 87/200\n",
            "178/178 [==============================] - 4s 23ms/step - loss: 0.0031 - mean_absolute_error: 0.0372 - categorical_accuracy: 1.0000\n",
            "Epoch 88/200\n",
            "178/178 [==============================] - 4s 23ms/step - loss: 0.0113 - mean_absolute_error: 0.0535 - categorical_accuracy: 1.0000\n",
            "Epoch 89/200\n",
            "178/178 [==============================] - 4s 23ms/step - loss: 0.0046 - mean_absolute_error: 0.0418 - categorical_accuracy: 1.0000\n",
            "Epoch 90/200\n",
            "178/178 [==============================] - 4s 23ms/step - loss: 0.0032 - mean_absolute_error: 0.0366 - categorical_accuracy: 1.0000\n",
            "Epoch 91/200\n",
            "178/178 [==============================] - 4s 23ms/step - loss: 0.0039 - mean_absolute_error: 0.0355 - categorical_accuracy: 1.0000\n",
            "Epoch 92/200\n",
            "178/178 [==============================] - 4s 23ms/step - loss: 0.0034 - mean_absolute_error: 0.0376 - categorical_accuracy: 1.0000\n",
            "Epoch 93/200\n",
            "178/178 [==============================] - 4s 23ms/step - loss: 0.0036 - mean_absolute_error: 0.0359 - categorical_accuracy: 1.0000\n",
            "Epoch 94/200\n",
            "178/178 [==============================] - 4s 23ms/step - loss: 0.0049 - mean_absolute_error: 0.0379 - categorical_accuracy: 1.0000\n",
            "Epoch 95/200\n",
            "178/178 [==============================] - 4s 23ms/step - loss: 0.0025 - mean_absolute_error: 0.0338 - categorical_accuracy: 1.0000\n",
            "Epoch 96/200\n",
            "178/178 [==============================] - 4s 23ms/step - loss: 0.0026 - mean_absolute_error: 0.0350 - categorical_accuracy: 1.0000\n",
            "Epoch 97/200\n",
            "178/178 [==============================] - 4s 23ms/step - loss: 0.0110 - mean_absolute_error: 0.0468 - categorical_accuracy: 1.0000\n",
            "Epoch 98/200\n",
            "178/178 [==============================] - 4s 23ms/step - loss: 0.0045 - mean_absolute_error: 0.0379 - categorical_accuracy: 1.0000\n",
            "Epoch 99/200\n",
            "178/178 [==============================] - 4s 23ms/step - loss: 0.0034 - mean_absolute_error: 0.0359 - categorical_accuracy: 1.0000\n",
            "Epoch 100/200\n",
            "178/178 [==============================] - 4s 22ms/step - loss: 0.0046 - mean_absolute_error: 0.0404 - categorical_accuracy: 1.0000\n",
            "Epoch 101/200\n",
            "178/178 [==============================] - 4s 23ms/step - loss: 0.0027 - mean_absolute_error: 0.0330 - categorical_accuracy: 1.0000\n",
            "Epoch 102/200\n",
            "178/178 [==============================] - 4s 22ms/step - loss: 0.0025 - mean_absolute_error: 0.0337 - categorical_accuracy: 1.0000\n",
            "Epoch 103/200\n",
            "178/178 [==============================] - 4s 23ms/step - loss: 0.0033 - mean_absolute_error: 0.0339 - categorical_accuracy: 1.0000\n",
            "Epoch 104/200\n",
            "178/178 [==============================] - 4s 23ms/step - loss: 0.0028 - mean_absolute_error: 0.0355 - categorical_accuracy: 1.0000\n",
            "Epoch 105/200\n",
            "178/178 [==============================] - 4s 23ms/step - loss: 0.0052 - mean_absolute_error: 0.0420 - categorical_accuracy: 1.0000\n",
            "Epoch 106/200\n",
            "178/178 [==============================] - 4s 23ms/step - loss: 0.0040 - mean_absolute_error: 0.0336 - categorical_accuracy: 1.0000\n",
            "Epoch 107/200\n",
            "178/178 [==============================] - 4s 23ms/step - loss: 0.0049 - mean_absolute_error: 0.0359 - categorical_accuracy: 1.0000\n",
            "Epoch 108/200\n",
            "178/178 [==============================] - 4s 23ms/step - loss: 0.0031 - mean_absolute_error: 0.0326 - categorical_accuracy: 1.0000\n",
            "Epoch 109/200\n",
            "178/178 [==============================] - 4s 23ms/step - loss: 0.0024 - mean_absolute_error: 0.0317 - categorical_accuracy: 1.0000\n",
            "Epoch 110/200\n",
            "178/178 [==============================] - 4s 23ms/step - loss: 0.0024 - mean_absolute_error: 0.0328 - categorical_accuracy: 1.0000\n",
            "Epoch 111/200\n",
            "178/178 [==============================] - 4s 23ms/step - loss: 0.0100 - mean_absolute_error: 0.0451 - categorical_accuracy: 1.0000\n",
            "Epoch 112/200\n",
            "178/178 [==============================] - 4s 22ms/step - loss: 0.0021 - mean_absolute_error: 0.0309 - categorical_accuracy: 1.0000\n",
            "Epoch 113/200\n",
            "178/178 [==============================] - 4s 23ms/step - loss: 0.0068 - mean_absolute_error: 0.0405 - categorical_accuracy: 1.0000\n",
            "Epoch 114/200\n",
            "178/178 [==============================] - 4s 23ms/step - loss: 0.0025 - mean_absolute_error: 0.0315 - categorical_accuracy: 1.0000\n",
            "Epoch 115/200\n",
            "178/178 [==============================] - 4s 23ms/step - loss: 0.0045 - mean_absolute_error: 0.0355 - categorical_accuracy: 1.0000\n",
            "Epoch 116/200\n",
            "178/178 [==============================] - 4s 24ms/step - loss: 0.0063 - mean_absolute_error: 0.0406 - categorical_accuracy: 1.0000\n",
            "Epoch 117/200\n",
            "178/178 [==============================] - 4s 23ms/step - loss: 0.0027 - mean_absolute_error: 0.0318 - categorical_accuracy: 1.0000\n",
            "Epoch 118/200\n",
            "178/178 [==============================] - 4s 23ms/step - loss: 0.0031 - mean_absolute_error: 0.0356 - categorical_accuracy: 1.0000\n",
            "Epoch 119/200\n",
            "178/178 [==============================] - 4s 23ms/step - loss: 0.0024 - mean_absolute_error: 0.0296 - categorical_accuracy: 1.0000\n",
            "Epoch 120/200\n",
            "178/178 [==============================] - 4s 23ms/step - loss: 0.0034 - mean_absolute_error: 0.0337 - categorical_accuracy: 1.0000\n",
            "Epoch 121/200\n",
            "178/178 [==============================] - 4s 23ms/step - loss: 0.0050 - mean_absolute_error: 0.0312 - categorical_accuracy: 1.0000\n",
            "Epoch 122/200\n",
            "178/178 [==============================] - 4s 23ms/step - loss: 0.0028 - mean_absolute_error: 0.0289 - categorical_accuracy: 1.0000\n",
            "Epoch 123/200\n",
            "178/178 [==============================] - 4s 23ms/step - loss: 0.0055 - mean_absolute_error: 0.0407 - categorical_accuracy: 1.0000\n",
            "Epoch 124/200\n",
            "178/178 [==============================] - 4s 23ms/step - loss: 0.0033 - mean_absolute_error: 0.0365 - categorical_accuracy: 1.0000\n",
            "Epoch 125/200\n",
            "178/178 [==============================] - 4s 23ms/step - loss: 0.0043 - mean_absolute_error: 0.0337 - categorical_accuracy: 1.0000\n",
            "Epoch 126/200\n",
            "178/178 [==============================] - 4s 23ms/step - loss: 0.0071 - mean_absolute_error: 0.0372 - categorical_accuracy: 1.0000\n",
            "Epoch 127/200\n",
            "178/178 [==============================] - 4s 23ms/step - loss: 0.0020 - mean_absolute_error: 0.0297 - categorical_accuracy: 1.0000\n",
            "Epoch 128/200\n",
            "178/178 [==============================] - 4s 23ms/step - loss: 0.0106 - mean_absolute_error: 0.0406 - categorical_accuracy: 1.0000\n",
            "Epoch 129/200\n",
            "178/178 [==============================] - 4s 23ms/step - loss: 0.0041 - mean_absolute_error: 0.0308 - categorical_accuracy: 1.0000\n",
            "Epoch 130/200\n",
            "178/178 [==============================] - 4s 23ms/step - loss: 0.0066 - mean_absolute_error: 0.0324 - categorical_accuracy: 1.0000\n",
            "Epoch 131/200\n",
            "178/178 [==============================] - 4s 23ms/step - loss: 0.0021 - mean_absolute_error: 0.0289 - categorical_accuracy: 1.0000\n",
            "Epoch 132/200\n",
            "178/178 [==============================] - 4s 23ms/step - loss: 0.0034 - mean_absolute_error: 0.0322 - categorical_accuracy: 1.0000\n",
            "Epoch 133/200\n",
            "178/178 [==============================] - 4s 24ms/step - loss: 0.0066 - mean_absolute_error: 0.0373 - categorical_accuracy: 1.0000\n",
            "Epoch 134/200\n",
            "178/178 [==============================] - 4s 23ms/step - loss: 0.0024 - mean_absolute_error: 0.0309 - categorical_accuracy: 1.0000\n",
            "Epoch 135/200\n",
            "178/178 [==============================] - 4s 23ms/step - loss: 0.0018 - mean_absolute_error: 0.0284 - categorical_accuracy: 1.0000\n",
            "Epoch 136/200\n",
            "178/178 [==============================] - 4s 23ms/step - loss: 0.0015 - mean_absolute_error: 0.0268 - categorical_accuracy: 1.0000\n",
            "Epoch 137/200\n",
            "178/178 [==============================] - 4s 23ms/step - loss: 0.0027 - mean_absolute_error: 0.0317 - categorical_accuracy: 1.0000\n",
            "Epoch 138/200\n",
            "178/178 [==============================] - 4s 23ms/step - loss: 0.0021 - mean_absolute_error: 0.0298 - categorical_accuracy: 1.0000\n",
            "Epoch 139/200\n",
            "178/178 [==============================] - 4s 23ms/step - loss: 0.0027 - mean_absolute_error: 0.0276 - categorical_accuracy: 1.0000\n",
            "Epoch 140/200\n",
            "178/178 [==============================] - 4s 23ms/step - loss: 0.0023 - mean_absolute_error: 0.0329 - categorical_accuracy: 1.0000\n",
            "Epoch 141/200\n",
            "178/178 [==============================] - 4s 23ms/step - loss: 0.0024 - mean_absolute_error: 0.0332 - categorical_accuracy: 1.0000\n",
            "Epoch 142/200\n",
            "178/178 [==============================] - 4s 23ms/step - loss: 0.0041 - mean_absolute_error: 0.0324 - categorical_accuracy: 1.0000\n",
            "Epoch 143/200\n",
            "178/178 [==============================] - 4s 25ms/step - loss: 0.0085 - mean_absolute_error: 0.0347 - categorical_accuracy: 1.0000\n",
            "Epoch 144/200\n",
            "178/178 [==============================] - 4s 25ms/step - loss: 0.0030 - mean_absolute_error: 0.0298 - categorical_accuracy: 1.0000\n",
            "Epoch 145/200\n",
            " 34/178 [====>.........................] - ETA: 3s - loss: 0.0011 - mean_absolute_error: 0.0266 - categorical_accuracy: 1.0000"
          ],
          "name": "stdout"
        },
        {
          "output_type": "error",
          "ename": "_NotOkStatusException",
          "evalue": "ignored",
          "traceback": [
            "\u001b[0;31m---------------------------------------------------------------------------\u001b[0m",
            "\u001b[0;31m_NotOkStatusException\u001b[0m                     Traceback (most recent call last)",
            "\u001b[0;32m<ipython-input-59-44b14d892d07>\u001b[0m in \u001b[0;36m<module>\u001b[0;34m()\u001b[0m\n\u001b[1;32m      1\u001b[0m \u001b[0;31m#Entrenando la red nueronal\u001b[0m\u001b[0;34m\u001b[0m\u001b[0;34m\u001b[0m\u001b[0;34m\u001b[0m\u001b[0m\n\u001b[1;32m      2\u001b[0m \u001b[0;34m\u001b[0m\u001b[0m\n\u001b[0;32m----> 3\u001b[0;31m \u001b[0mmodel_4\u001b[0m\u001b[0;34m.\u001b[0m\u001b[0mfit_generator\u001b[0m\u001b[0;34m(\u001b[0m\u001b[0mgenerator\u001b[0m\u001b[0;34m,\u001b[0m \u001b[0mepochs\u001b[0m\u001b[0;34m=\u001b[0m\u001b[0;36m200\u001b[0m\u001b[0;34m)\u001b[0m\u001b[0;34m\u001b[0m\u001b[0;34m\u001b[0m\u001b[0m\n\u001b[0m",
            "\u001b[0;32m/usr/local/lib/python3.7/dist-packages/tensorflow/python/keras/engine/training.py\u001b[0m in \u001b[0;36mfit_generator\u001b[0;34m(self, generator, steps_per_epoch, epochs, verbose, callbacks, validation_data, validation_steps, validation_freq, class_weight, max_queue_size, workers, use_multiprocessing, shuffle, initial_epoch)\u001b[0m\n\u001b[1;32m   1859\u001b[0m         \u001b[0muse_multiprocessing\u001b[0m\u001b[0;34m=\u001b[0m\u001b[0muse_multiprocessing\u001b[0m\u001b[0;34m,\u001b[0m\u001b[0;34m\u001b[0m\u001b[0;34m\u001b[0m\u001b[0m\n\u001b[1;32m   1860\u001b[0m         \u001b[0mshuffle\u001b[0m\u001b[0;34m=\u001b[0m\u001b[0mshuffle\u001b[0m\u001b[0;34m,\u001b[0m\u001b[0;34m\u001b[0m\u001b[0;34m\u001b[0m\u001b[0m\n\u001b[0;32m-> 1861\u001b[0;31m         initial_epoch=initial_epoch)\n\u001b[0m\u001b[1;32m   1862\u001b[0m \u001b[0;34m\u001b[0m\u001b[0m\n\u001b[1;32m   1863\u001b[0m   def evaluate_generator(self,\n",
            "\u001b[0;32m/usr/local/lib/python3.7/dist-packages/tensorflow/python/keras/engine/training.py\u001b[0m in \u001b[0;36mfit\u001b[0;34m(self, x, y, batch_size, epochs, verbose, callbacks, validation_split, validation_data, shuffle, class_weight, sample_weight, initial_epoch, steps_per_epoch, validation_steps, validation_batch_size, validation_freq, max_queue_size, workers, use_multiprocessing)\u001b[0m\n\u001b[1;32m   1098\u001b[0m                 _r=1):\n\u001b[1;32m   1099\u001b[0m               \u001b[0mcallbacks\u001b[0m\u001b[0;34m.\u001b[0m\u001b[0mon_train_batch_begin\u001b[0m\u001b[0;34m(\u001b[0m\u001b[0mstep\u001b[0m\u001b[0;34m)\u001b[0m\u001b[0;34m\u001b[0m\u001b[0;34m\u001b[0m\u001b[0m\n\u001b[0;32m-> 1100\u001b[0;31m               \u001b[0mtmp_logs\u001b[0m \u001b[0;34m=\u001b[0m \u001b[0mself\u001b[0m\u001b[0;34m.\u001b[0m\u001b[0mtrain_function\u001b[0m\u001b[0;34m(\u001b[0m\u001b[0miterator\u001b[0m\u001b[0;34m)\u001b[0m\u001b[0;34m\u001b[0m\u001b[0;34m\u001b[0m\u001b[0m\n\u001b[0m\u001b[1;32m   1101\u001b[0m               \u001b[0;32mif\u001b[0m \u001b[0mdata_handler\u001b[0m\u001b[0;34m.\u001b[0m\u001b[0mshould_sync\u001b[0m\u001b[0;34m:\u001b[0m\u001b[0;34m\u001b[0m\u001b[0;34m\u001b[0m\u001b[0m\n\u001b[1;32m   1102\u001b[0m                 \u001b[0mcontext\u001b[0m\u001b[0;34m.\u001b[0m\u001b[0masync_wait\u001b[0m\u001b[0;34m(\u001b[0m\u001b[0;34m)\u001b[0m\u001b[0;34m\u001b[0m\u001b[0;34m\u001b[0m\u001b[0m\n",
            "\u001b[0;32m/usr/local/lib/python3.7/dist-packages/tensorflow/python/eager/def_function.py\u001b[0m in \u001b[0;36m__call__\u001b[0;34m(self, *args, **kwds)\u001b[0m\n\u001b[1;32m    826\u001b[0m     \u001b[0mtracing_count\u001b[0m \u001b[0;34m=\u001b[0m \u001b[0mself\u001b[0m\u001b[0;34m.\u001b[0m\u001b[0mexperimental_get_tracing_count\u001b[0m\u001b[0;34m(\u001b[0m\u001b[0;34m)\u001b[0m\u001b[0;34m\u001b[0m\u001b[0;34m\u001b[0m\u001b[0m\n\u001b[1;32m    827\u001b[0m     \u001b[0;32mwith\u001b[0m \u001b[0mtrace\u001b[0m\u001b[0;34m.\u001b[0m\u001b[0mTrace\u001b[0m\u001b[0;34m(\u001b[0m\u001b[0mself\u001b[0m\u001b[0;34m.\u001b[0m\u001b[0m_name\u001b[0m\u001b[0;34m)\u001b[0m \u001b[0;32mas\u001b[0m \u001b[0mtm\u001b[0m\u001b[0;34m:\u001b[0m\u001b[0;34m\u001b[0m\u001b[0;34m\u001b[0m\u001b[0m\n\u001b[0;32m--> 828\u001b[0;31m       \u001b[0mresult\u001b[0m \u001b[0;34m=\u001b[0m \u001b[0mself\u001b[0m\u001b[0;34m.\u001b[0m\u001b[0m_call\u001b[0m\u001b[0;34m(\u001b[0m\u001b[0;34m*\u001b[0m\u001b[0margs\u001b[0m\u001b[0;34m,\u001b[0m \u001b[0;34m**\u001b[0m\u001b[0mkwds\u001b[0m\u001b[0;34m)\u001b[0m\u001b[0;34m\u001b[0m\u001b[0;34m\u001b[0m\u001b[0m\n\u001b[0m\u001b[1;32m    829\u001b[0m       \u001b[0mcompiler\u001b[0m \u001b[0;34m=\u001b[0m \u001b[0;34m\"xla\"\u001b[0m \u001b[0;32mif\u001b[0m \u001b[0mself\u001b[0m\u001b[0;34m.\u001b[0m\u001b[0m_experimental_compile\u001b[0m \u001b[0;32melse\u001b[0m \u001b[0;34m\"nonXla\"\u001b[0m\u001b[0;34m\u001b[0m\u001b[0;34m\u001b[0m\u001b[0m\n\u001b[1;32m    830\u001b[0m       \u001b[0mnew_tracing_count\u001b[0m \u001b[0;34m=\u001b[0m \u001b[0mself\u001b[0m\u001b[0;34m.\u001b[0m\u001b[0mexperimental_get_tracing_count\u001b[0m\u001b[0;34m(\u001b[0m\u001b[0;34m)\u001b[0m\u001b[0;34m\u001b[0m\u001b[0;34m\u001b[0m\u001b[0m\n",
            "\u001b[0;32m/usr/local/lib/python3.7/dist-packages/tensorflow/python/eager/def_function.py\u001b[0m in \u001b[0;36m_call\u001b[0;34m(self, *args, **kwds)\u001b[0m\n\u001b[1;32m    853\u001b[0m       \u001b[0;31m# In this case we have created variables on the first call, so we run the\u001b[0m\u001b[0;34m\u001b[0m\u001b[0;34m\u001b[0m\u001b[0;34m\u001b[0m\u001b[0m\n\u001b[1;32m    854\u001b[0m       \u001b[0;31m# defunned version which is guaranteed to never create variables.\u001b[0m\u001b[0;34m\u001b[0m\u001b[0;34m\u001b[0m\u001b[0;34m\u001b[0m\u001b[0m\n\u001b[0;32m--> 855\u001b[0;31m       \u001b[0;32mreturn\u001b[0m \u001b[0mself\u001b[0m\u001b[0;34m.\u001b[0m\u001b[0m_stateless_fn\u001b[0m\u001b[0;34m(\u001b[0m\u001b[0;34m*\u001b[0m\u001b[0margs\u001b[0m\u001b[0;34m,\u001b[0m \u001b[0;34m**\u001b[0m\u001b[0mkwds\u001b[0m\u001b[0;34m)\u001b[0m  \u001b[0;31m# pylint: disable=not-callable\u001b[0m\u001b[0;34m\u001b[0m\u001b[0;34m\u001b[0m\u001b[0m\n\u001b[0m\u001b[1;32m    856\u001b[0m     \u001b[0;32melif\u001b[0m \u001b[0mself\u001b[0m\u001b[0;34m.\u001b[0m\u001b[0m_stateful_fn\u001b[0m \u001b[0;32mis\u001b[0m \u001b[0;32mnot\u001b[0m \u001b[0;32mNone\u001b[0m\u001b[0;34m:\u001b[0m\u001b[0;34m\u001b[0m\u001b[0;34m\u001b[0m\u001b[0m\n\u001b[1;32m    857\u001b[0m       \u001b[0;31m# Release the lock early so that multiple threads can perform the call\u001b[0m\u001b[0;34m\u001b[0m\u001b[0;34m\u001b[0m\u001b[0;34m\u001b[0m\u001b[0m\n",
            "\u001b[0;32m/usr/local/lib/python3.7/dist-packages/tensorflow/python/eager/function.py\u001b[0m in \u001b[0;36m__call__\u001b[0;34m(self, *args, **kwargs)\u001b[0m\n\u001b[1;32m   2939\u001b[0m     \u001b[0;32mwith\u001b[0m \u001b[0mself\u001b[0m\u001b[0;34m.\u001b[0m\u001b[0m_lock\u001b[0m\u001b[0;34m:\u001b[0m\u001b[0;34m\u001b[0m\u001b[0;34m\u001b[0m\u001b[0m\n\u001b[1;32m   2940\u001b[0m       (graph_function,\n\u001b[0;32m-> 2941\u001b[0;31m        filtered_flat_args) = self._maybe_define_function(args, kwargs)\n\u001b[0m\u001b[1;32m   2942\u001b[0m     return graph_function._call_flat(\n\u001b[1;32m   2943\u001b[0m         filtered_flat_args, captured_inputs=graph_function.captured_inputs)  # pylint: disable=protected-access\n",
            "\u001b[0;32m/usr/local/lib/python3.7/dist-packages/tensorflow/python/eager/function.py\u001b[0m in \u001b[0;36m_maybe_define_function\u001b[0;34m(self, args, kwargs)\u001b[0m\n\u001b[1;32m   3317\u001b[0m \u001b[0;34m\u001b[0m\u001b[0m\n\u001b[1;32m   3318\u001b[0m     \u001b[0mcache_key_context\u001b[0m \u001b[0;34m=\u001b[0m \u001b[0mself\u001b[0m\u001b[0;34m.\u001b[0m\u001b[0m_cache_key_context\u001b[0m\u001b[0;34m(\u001b[0m\u001b[0;34m)\u001b[0m\u001b[0;34m\u001b[0m\u001b[0;34m\u001b[0m\u001b[0m\n\u001b[0;32m-> 3319\u001b[0;31m     \u001b[0mcache_key\u001b[0m \u001b[0;34m=\u001b[0m \u001b[0mself\u001b[0m\u001b[0;34m.\u001b[0m\u001b[0m_cache_key\u001b[0m\u001b[0;34m(\u001b[0m\u001b[0margs\u001b[0m\u001b[0;34m,\u001b[0m \u001b[0mkwargs\u001b[0m\u001b[0;34m,\u001b[0m \u001b[0mcache_key_context\u001b[0m\u001b[0;34m)\u001b[0m\u001b[0;34m\u001b[0m\u001b[0;34m\u001b[0m\u001b[0m\n\u001b[0m\u001b[1;32m   3320\u001b[0m \u001b[0;34m\u001b[0m\u001b[0m\n\u001b[1;32m   3321\u001b[0m     \u001b[0;32mtry\u001b[0m\u001b[0;34m:\u001b[0m\u001b[0;34m\u001b[0m\u001b[0;34m\u001b[0m\u001b[0m\n",
            "\u001b[0;32m/usr/local/lib/python3.7/dist-packages/tensorflow/python/eager/function.py\u001b[0m in \u001b[0;36m_cache_key\u001b[0;34m(self, args, kwargs, cache_key_context, include_tensor_ranks_only)\u001b[0m\n\u001b[1;32m   3097\u001b[0m       \u001b[0minputs\u001b[0m \u001b[0;34m=\u001b[0m \u001b[0;34m(\u001b[0m\u001b[0margs\u001b[0m\u001b[0;34m,\u001b[0m \u001b[0mkwargs\u001b[0m\u001b[0;34m)\u001b[0m \u001b[0;32mif\u001b[0m \u001b[0mkwargs\u001b[0m \u001b[0;32melse\u001b[0m \u001b[0margs\u001b[0m\u001b[0;34m\u001b[0m\u001b[0;34m\u001b[0m\u001b[0m\n\u001b[1;32m   3098\u001b[0m       input_signature = pywrap_tfe.TFE_Py_EncodeArg(inputs,\n\u001b[0;32m-> 3099\u001b[0;31m                                                     include_tensor_ranks_only)\n\u001b[0m\u001b[1;32m   3100\u001b[0m       \u001b[0mhashable_input_signature\u001b[0m \u001b[0;34m=\u001b[0m \u001b[0m_make_input_signature_hashable\u001b[0m\u001b[0;34m(\u001b[0m\u001b[0minput_signature\u001b[0m\u001b[0;34m)\u001b[0m\u001b[0;34m\u001b[0m\u001b[0;34m\u001b[0m\u001b[0m\n\u001b[1;32m   3101\u001b[0m     \u001b[0;32melse\u001b[0m\u001b[0;34m:\u001b[0m\u001b[0;34m\u001b[0m\u001b[0;34m\u001b[0m\u001b[0m\n",
            "\u001b[0;31m_NotOkStatusException\u001b[0m: InvalidArgumentError: Error while reading CompositeTensor._type_spec."
          ]
        }
      ]
    },
    {
      "cell_type": "code",
      "metadata": {
        "id": "TKWj4l-QsxqS"
      },
      "source": [
        "first_eval_4 = scaled_train[-20:]\n",
        "\n",
        "\n",
        "first_eval_4 = first_eval_4.reshape(1, n_input, n_feacture)\n",
        "\n",
        "model_4.predict(first_eval_4)"
      ],
      "execution_count": null,
      "outputs": []
    },
    {
      "cell_type": "code",
      "metadata": {
        "id": "Vw81kCXOsxqU"
      },
      "source": [
        "test_predictions_4 = []\n",
        "\n",
        "first_eval_batch = scaled_train[-n_input:]\n",
        "current_batch = first_eval_4.reshape((1, n_input, n_feacture))\n",
        "\n",
        "for i in range(len(test)):\n",
        "    \n",
        "    # obtener la predicción ([0] es para obtener solo el número en lugar de [matriz])\n",
        "    current_pred = model_4.predict(current_batch)[0]\n",
        "    \n",
        "    # guardar la predicción\n",
        "    test_predictions_4.append(current_pred) \n",
        "    \n",
        "    # actualizar el lote para incluir ahora la predicción y soltar primer valor\n",
        "    current_batch = np.append(current_batch[:,1:,:],[[current_pred]],axis=1)"
      ],
      "execution_count": null,
      "outputs": []
    },
    {
      "cell_type": "code",
      "metadata": {
        "id": "CEyLcBR2sxqW"
      },
      "source": [
        "#Transofmacion inversa\n",
        "true_predicctions_4 = scaler.inverse_transform(test_predictions_4)\n",
        "\n",
        "\n",
        "test['Prediction_4'] = true_predicctions_4"
      ],
      "execution_count": null,
      "outputs": []
    },
    {
      "cell_type": "code",
      "metadata": {
        "id": "jSiLxb-osxqX"
      },
      "source": [
        "test.plot(figsize=(12,8))"
      ],
      "execution_count": null,
      "outputs": []
    },
    {
      "cell_type": "code",
      "metadata": {
        "id": "hForrMZ4sxqY"
      },
      "source": [
        "#Observacion de los test y la predicciones\n",
        "test"
      ],
      "execution_count": null,
      "outputs": []
    },
    {
      "cell_type": "markdown",
      "metadata": {
        "id": "KXkJLdcYyuf9"
      },
      "source": [
        "# **Model 5**"
      ]
    },
    {
      "cell_type": "code",
      "metadata": {
        "id": "uPI8hMypywNi"
      },
      "source": [
        ""
      ],
      "execution_count": null,
      "outputs": []
    },
    {
      "cell_type": "code",
      "metadata": {
        "id": "tLyViX-_y1BK"
      },
      "source": [
        "# Red neuronal 5\n",
        "# 5 Capas\n",
        "# relu para activacion de cada capa\n",
        "# adam para compilacion y mse para loss\n",
        "\n",
        "#Red sequential\n",
        "model_5 = Sequential()\n",
        "\n",
        "#Red nueronal con 4 capas, cada capa tiene dierente cantidad de nueronas\n",
        "model_5.add(LSTM(200, activation='relu', input_shape=(n_input, n_feacture)))\n",
        "model_5.add(Dense(100, activation='relu' ))\n",
        "model_5.add(Dense(84, activation='relu'))\n",
        "model_5.add(Dense(64, activation='relu'))\n",
        "model_5.add(Dense(32, activation='sigmoid'))\n",
        "model_5.add(Dense(1))\n",
        "\n",
        "#Compilacion de la red nueronal\n",
        "model_5.compile(optimizer='adam', loss='mean_squared_error',\n",
        "                metrics=[\"accuracy\"])"
      ],
      "execution_count": null,
      "outputs": []
    },
    {
      "cell_type": "code",
      "metadata": {
        "id": "QTvNi2b8y1BS"
      },
      "source": [
        "model_5.summary()"
      ],
      "execution_count": null,
      "outputs": []
    },
    {
      "cell_type": "code",
      "metadata": {
        "id": "JQTklIyMy1Bb"
      },
      "source": [
        "#Entrenando la red nueronal\n",
        "\n",
        "model_5.fit_generator(generator, epochs=200)"
      ],
      "execution_count": null,
      "outputs": []
    },
    {
      "cell_type": "code",
      "metadata": {
        "id": "AGNo2p3hy1Bf"
      },
      "source": [
        "first_eval_5 = scaled_train[-20:]\n",
        "\n",
        "\n",
        "first_eval_5 = first_eval_5.reshape(1, n_input, n_feacture)\n",
        "\n",
        "model_5.predict(first_eval_5)"
      ],
      "execution_count": null,
      "outputs": []
    },
    {
      "cell_type": "code",
      "metadata": {
        "id": "DY2AjL6Dy1Bj"
      },
      "source": [
        "test_predictions_5 = []\n",
        "\n",
        "first_eval_batch = scaled_train[-n_input:]\n",
        "current_batch = first_eval_5.reshape((1, n_input, n_feacture))\n",
        "\n",
        "for i in range(len(test)):\n",
        "    \n",
        "    # obtener la predicción ([0] es para obtener solo el número en lugar de [matriz])\n",
        "    current_pred = model_5.predict(current_batch)[0]\n",
        "    \n",
        "    # guardar la predicción\n",
        "    test_predictions_5.append(current_pred) \n",
        "    \n",
        "    # actualizar el lote para incluir ahora la predicción y soltar primer valor\n",
        "    current_batch = np.append(current_batch[:,1:,:],[[current_pred]],axis=1)"
      ],
      "execution_count": null,
      "outputs": []
    },
    {
      "cell_type": "code",
      "metadata": {
        "id": "BfYbgcfKy1Bk"
      },
      "source": [
        "#Transofmacion inversa\n",
        "true_predicctions_5 = scaler.inverse_transform(test_predictions_5)\n",
        "\n",
        "\n",
        "test['Prediction_5'] = true_predicctions_5"
      ],
      "execution_count": null,
      "outputs": []
    },
    {
      "cell_type": "code",
      "metadata": {
        "id": "7zKpUdgdy1Bm"
      },
      "source": [
        "test[['new_cases', 'Prediction_5']].plot(figsize=(12,8))"
      ],
      "execution_count": null,
      "outputs": []
    },
    {
      "cell_type": "code",
      "metadata": {
        "id": "FkIhRrkTy1Bn"
      },
      "source": [
        "#Observacion de los test y la predicciones\n",
        "test"
      ],
      "execution_count": null,
      "outputs": []
    },
    {
      "cell_type": "markdown",
      "metadata": {
        "id": "y-5472Ge4Uuz"
      },
      "source": [
        "# **Modelo 6**"
      ]
    },
    {
      "cell_type": "code",
      "metadata": {
        "id": "QKOkH5Pf4Xhc"
      },
      "source": [
        ""
      ],
      "execution_count": null,
      "outputs": []
    },
    {
      "cell_type": "code",
      "metadata": {
        "id": "w_eKeRtq4jzN"
      },
      "source": [
        "# Red neuronal 6\n",
        "# 5 Capas\n",
        "# relu para activacion de cada capa\n",
        "# adam para compilacion y mse para loss\n",
        "\n",
        "#Red sequential\n",
        "model_6 = Sequential()\n",
        "\n",
        "#Red nueronal con 4 capas, cada capa tiene dierente cantidad de nueronas\n",
        "model_6.add(LSTM(200, activation='relu', input_shape=(n_input, n_feacture)))\n",
        "model_6.add(Dense(150, activation='relu' ))\n",
        "model_6.add(Dense(100, activation='relu'))\n",
        "model_6.add(Dense(80, activation='relu'))\n",
        "model_6.add(Dense(64, activation='relu'))\n",
        "model_6.add(Dense(32, activation='sigmoid'))\n",
        "model_6.add(Dense(1))\n",
        "\n",
        "#Compilacion de la red nueronal\n",
        "model_6.compile(optimizer='adam', loss='mean_squared_error',\n",
        "                metrics=[\"accuracy\"])"
      ],
      "execution_count": null,
      "outputs": []
    },
    {
      "cell_type": "code",
      "metadata": {
        "id": "c_Mxz5LM4jzS"
      },
      "source": [
        "model_6.summary()"
      ],
      "execution_count": null,
      "outputs": []
    },
    {
      "cell_type": "code",
      "metadata": {
        "id": "VDN0xE8P4jzX"
      },
      "source": [
        "#Entrenando la red nueronal\n",
        "\n",
        "model_6.fit_generator(generator, epochs=250)"
      ],
      "execution_count": null,
      "outputs": []
    },
    {
      "cell_type": "code",
      "metadata": {
        "id": "l2lKDrg74jzc"
      },
      "source": [
        "first_eval_6 = scaled_train[-20:]\n",
        "\n",
        "\n",
        "first_eval_6 = first_eval_6.reshape(1, n_input, n_feacture)\n",
        "\n",
        "model_6.predict(first_eval_6)"
      ],
      "execution_count": null,
      "outputs": []
    },
    {
      "cell_type": "code",
      "metadata": {
        "id": "HT-hb63P4jzf"
      },
      "source": [
        "test_predictions_6 = []\n",
        "\n",
        "first_eval_batch = scaled_train[-n_input:]\n",
        "current_batch = first_eval_6.reshape((1, n_input, n_feacture))\n",
        "\n",
        "for i in range(len(test)):\n",
        "    \n",
        "    # obtener la predicción ([0] es para obtener solo el número en lugar de [matriz])\n",
        "    current_pred = model_6.predict(current_batch)[0]\n",
        "    \n",
        "    # guardar la predicción\n",
        "    test_predictions_6.append(current_pred) \n",
        "    \n",
        "    # actualizar el lote para incluir ahora la predicción y soltar primer valor\n",
        "    current_batch = np.append(current_batch[:,1:,:],[[current_pred]],axis=1)"
      ],
      "execution_count": null,
      "outputs": []
    },
    {
      "cell_type": "code",
      "metadata": {
        "id": "QPk1ZUca4jzi"
      },
      "source": [
        "#Transofmacion inversa\n",
        "true_predicctions_6 = scaler.inverse_transform(test_predictions_6)\n",
        "\n",
        "\n",
        "test['Prediction_6'] = true_predicctions_6"
      ],
      "execution_count": null,
      "outputs": []
    },
    {
      "cell_type": "code",
      "metadata": {
        "id": "uzTFge8x4jzk"
      },
      "source": [
        "test[['new_cases', 'Prediction_6']].plot(figsize=(12,8))"
      ],
      "execution_count": null,
      "outputs": []
    },
    {
      "cell_type": "code",
      "metadata": {
        "id": "p7vrlx5a4jzm"
      },
      "source": [
        "#Observacion de los test y la predicciones\n",
        "test"
      ],
      "execution_count": null,
      "outputs": []
    },
    {
      "cell_type": "markdown",
      "metadata": {
        "id": "AI9Va-37YsR-"
      },
      "source": [
        "# **Modelo 7**"
      ]
    },
    {
      "cell_type": "code",
      "metadata": {
        "id": "v1tCdRADYutZ"
      },
      "source": [
        "66/2"
      ],
      "execution_count": null,
      "outputs": []
    },
    {
      "cell_type": "code",
      "metadata": {
        "id": "iFgaOK_zZuwF"
      },
      "source": [
        "# Red neuronal 7\n",
        "# 5 Capas\n",
        "# relu para activacion de cada capa\n",
        "# adam para compilacion y mse para loss\n",
        "\n",
        "#Red sequential\n",
        "model_7 = Sequential()\n",
        "\n",
        "#Red nueronal con 4 capas, cada capa tiene dierente cantidad de nueronas\n",
        "model_7.add(LSTM(120, activation='relu', input_shape=(n_input, n_feacture)))\n",
        "model_7.add(Dense(100, activation='relu' ))\n",
        "model_7.add(Dense(68, activation='relu' ))\n",
        "model_7.add(Dense(34, activation='sigmoid' ))\n",
        "model_7.add(Dense(16, activation='sigmoid' ))\n",
        "model_7.add(Dense(1))\n",
        "\n",
        "#Compilacion de la red nueronal\n",
        "model_7.compile(optimizer=tf.keras.optimizers.Adam(learning_rate=0.001) , loss='mse',\n",
        "                metrics=[\"accuracy\"])"
      ],
      "execution_count": null,
      "outputs": []
    },
    {
      "cell_type": "code",
      "metadata": {
        "id": "nkfUFhNsZuwH"
      },
      "source": [
        "model_7.summary()"
      ],
      "execution_count": null,
      "outputs": []
    },
    {
      "cell_type": "code",
      "metadata": {
        "id": "CwhdXIjLZuwI"
      },
      "source": [
        "#Entrenando la red nueronal\n",
        "\n",
        "model_7.fit_generator(generator, epochs=300)"
      ],
      "execution_count": null,
      "outputs": []
    },
    {
      "cell_type": "code",
      "metadata": {
        "id": "1-JHiw7__5G4"
      },
      "source": [
        "keras.utils.plot_model(model_7, \"model_7.png\", show_shapes=True)"
      ],
      "execution_count": null,
      "outputs": []
    },
    {
      "cell_type": "code",
      "metadata": {
        "id": "ZxlzSYPdZuwJ"
      },
      "source": [
        "first_eval_7 = scaled_train[-20:]\n",
        "\n",
        "\n",
        "first_eval_7 = first_eval_7.reshape(1, n_input, n_feacture)\n",
        "\n",
        "model_7.predict(first_eval_7)"
      ],
      "execution_count": null,
      "outputs": []
    },
    {
      "cell_type": "code",
      "metadata": {
        "id": "MTwQ-JpPZuwK"
      },
      "source": [
        "test_predictions_7 = []\n",
        "\n",
        "first_eval_batch = scaled_train[-n_input:]\n",
        "current_batch = first_eval_7.reshape((1, n_input, n_feacture))\n",
        "\n",
        "for i in range(len(test)):\n",
        "    \n",
        "    # obtener la predicción ([0] es para obtener solo el número en lugar de [matriz])\n",
        "    current_pred = model_7.predict(current_batch)[0]\n",
        "    \n",
        "    # guardar la predicción\n",
        "    test_predictions_7.append(current_pred) \n",
        "    \n",
        "    # actualizar el lote para incluir ahora la predicción y soltar primer valor\n",
        "    current_batch = np.append(current_batch[:,1:,:],[[current_pred]],axis=1)"
      ],
      "execution_count": null,
      "outputs": []
    },
    {
      "cell_type": "code",
      "metadata": {
        "id": "5HBHKs83ZuwL"
      },
      "source": [
        "#Transofmacion inversa\n",
        "true_predicctions_7 = scaler.inverse_transform(test_predictions_7)\n",
        "\n",
        "\n",
        "test['Prediction_7'] = true_predicctions_7"
      ],
      "execution_count": null,
      "outputs": []
    },
    {
      "cell_type": "code",
      "metadata": {
        "id": "2GCScVCbZuwM"
      },
      "source": [
        "test.plot(figsize=(12,8))\n",
        "plt.title('Red nueronal predict')"
      ],
      "execution_count": null,
      "outputs": []
    },
    {
      "cell_type": "code",
      "metadata": {
        "id": "HI7Hhwf1ZuwO"
      },
      "source": [
        "#Observacion de los test y la predicciones\n",
        "test"
      ],
      "execution_count": null,
      "outputs": []
    },
    {
      "cell_type": "code",
      "metadata": {
        "id": "BEqFH0BItkA6"
      },
      "source": [
        "sea = seasonal_decompose(test['Prediction_7'])\n",
        "sea.plot();"
      ],
      "execution_count": null,
      "outputs": []
    },
    {
      "cell_type": "code",
      "metadata": {
        "id": "kXH8_1Tt27Ct"
      },
      "source": [
        "sea.trend.plot()"
      ],
      "execution_count": null,
      "outputs": []
    },
    {
      "cell_type": "code",
      "metadata": {
        "id": "6V6qDR9S2_DX"
      },
      "source": [
        ""
      ],
      "execution_count": null,
      "outputs": []
    }
  ]
}