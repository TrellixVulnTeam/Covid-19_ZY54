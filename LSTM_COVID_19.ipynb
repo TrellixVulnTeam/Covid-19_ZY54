{
  "nbformat": 4,
  "nbformat_minor": 0,
  "metadata": {
    "colab": {
      "name": "LSTM  -  COVID-19.ipynb",
      "provenance": [],
      "collapsed_sections": [
        "9com2UK4lSQZ",
        "dZxNfYxMsqAk",
        "KXkJLdcYyuf9",
        "y-5472Ge4Uuz",
        "AI9Va-37YsR-"
      ],
      "mount_file_id": "1aDMNVZct41cp2QNValzW3D9Ob19RLqAB",
      "authorship_tag": "ABX9TyN0Bgt1L33q4L4Ux5V/iqhi",
      "include_colab_link": true
    },
    "kernelspec": {
      "name": "python3",
      "display_name": "Python 3"
    },
    "language_info": {
      "name": "python"
    }
  },
  "cells": [
    {
      "cell_type": "markdown",
      "metadata": {
        "id": "view-in-github",
        "colab_type": "text"
      },
      "source": [
        "<a href=\"https://colab.research.google.com/github/carturo6/Covid-19/blob/master/LSTM_COVID_19.ipynb\" target=\"_parent\"><img src=\"https://colab.research.google.com/assets/colab-badge.svg\" alt=\"Open In Colab\"/></a>"
      ]
    },
    {
      "cell_type": "markdown",
      "metadata": {
        "id": "kQ7-27SQLs6d"
      },
      "source": [
        "# **I.A. DeepLearnin para Casos Covid-19**\n",
        "\n",
        "Este respositorio tiene el fin de predecir los proximo casos de Covid19 en México ( Nivel nacional ).\n",
        "\n",
        "Los datos que se ocuparan, son los datos disponibles en paginas del Gobierno.\n",
        "Se utilizaran solo tecnicas de Deep Learning donde cada modelo podra ir variando en funcion que los datos predichos mejor se ajusten a los datos predictorios.\n",
        "\n",
        "**Objetivo de las redes neuronales**\n",
        "\n",
        "El objetivo de los modelos que se construiran, sera, que mejor se ajusten a los datos de test (Prueba) para poder predecir los datos del futuro. En funcion de que mejor se ajusten, sigfinicara que el entrenamiento sera exitoso.\n",
        "\n",
        "Se ocuparan modelos de Deep Learning, para ajustarse a los datos y tener buenos resultados. La tecnica que mas probable se ajusta a las predicciones de series de tiempo, es LSTM (**Long Short Term Memory**)."
      ]
    },
    {
      "cell_type": "markdown",
      "metadata": {
        "id": "Jv8VPHnOVgLT"
      },
      "source": [
        "## **Librerias**\n",
        "\n",
        "\n",
        "Las librerias que se ocupan son las siguientes:\n",
        "\n",
        "- Pandas: Para poder leer los archivos csv o en algun otro formato, asi como para poder manipular los datos.\n",
        "\n",
        "- Matplotlib: Para generar graficos y asi poder entender mejor el comportamiento de la pandemia en Mexico.\n",
        "\n",
        "- Numpy: Para poder realizar calculo que se puedan requerir o calculo de matrices\n",
        "\n",
        "- Seaborn: Para generar graficos estadisticos con una mejor referencia de los datos\n",
        "\n",
        "- Tensorflow: Para poder generar predicciones con redes nueronales de esta libreria\n",
        "\n",
        "- Keras: Generar CNN para las predicciones"
      ]
    },
    {
      "cell_type": "code",
      "metadata": {
        "id": "uq_9I_ZDKvh8",
        "colab": {
          "base_uri": "https://localhost:8080/"
        },
        "outputId": "d598c38d-3305-4e2b-8fee-d22cd2e66f77"
      },
      "source": [
        "\n",
        "import pandas as pd\n",
        "import numpy as np\n",
        "import matplotlib.pyplot as plt\n",
        "import scipy as sc\n",
        "import seaborn as sns\n",
        "from scipy import stats\n",
        "\n",
        "\n",
        "from statsmodels.tsa.seasonal import seasonal_decompose\n",
        "from keras.models import Sequential\n",
        "from keras.layers import Dense\n",
        "from keras.layers import LSTM\n",
        "import tensorflow as tf\n",
        "from keras import metrics\n",
        "from tensorflow import keras\n"
      ],
      "execution_count": 1,
      "outputs": [
        {
          "output_type": "stream",
          "text": [
            "/usr/local/lib/python3.7/dist-packages/statsmodels/tools/_testing.py:19: FutureWarning: pandas.util.testing is deprecated. Use the functions in the public API at pandas.testing instead.\n",
            "  import pandas.util.testing as tm\n"
          ],
          "name": "stderr"
        }
      ]
    },
    {
      "cell_type": "markdown",
      "metadata": {
        "id": "gBTRdXsdVj89"
      },
      "source": [
        "## **Importacion de datos**\n",
        "\n",
        "\n",
        "Los datos ocupados en este trabajo, se tomaron de la siguiente pagina web: \n",
        "\n",
        "Este dataset contempla los datos disponibles de varios paises, pero simplemente se filtraran los datos correspondientes a Mexico.\n"
      ]
    },
    {
      "cell_type": "code",
      "metadata": {
        "id": "5NmXrsuZPHbx"
      },
      "source": [
        "# Carga del Dataset My path\n",
        "df = pd.read_csv('/content/drive/MyDrive/GitHub/LSTM-Covid-19/owid-covid-data.csv')"
      ],
      "execution_count": 2,
      "outputs": []
    },
    {
      "cell_type": "code",
      "metadata": {
        "colab": {
          "base_uri": "https://localhost:8080/",
          "height": 313
        },
        "id": "VJ9VEjW4Qipz",
        "outputId": "41c3a482-4964-48a9-e591-971cd9ce1a35"
      },
      "source": [
        "# Filtrando los datos, solo para Mexico\n",
        "df_mx = df[df['location'] == 'Mexico']\n",
        "#Mostrando el resultado\n",
        "df_mx.head(5)"
      ],
      "execution_count": 3,
      "outputs": [
        {
          "output_type": "execute_result",
          "data": {
            "text/html": [
              "<div>\n",
              "<style scoped>\n",
              "    .dataframe tbody tr th:only-of-type {\n",
              "        vertical-align: middle;\n",
              "    }\n",
              "\n",
              "    .dataframe tbody tr th {\n",
              "        vertical-align: top;\n",
              "    }\n",
              "\n",
              "    .dataframe thead th {\n",
              "        text-align: right;\n",
              "    }\n",
              "</style>\n",
              "<table border=\"1\" class=\"dataframe\">\n",
              "  <thead>\n",
              "    <tr style=\"text-align: right;\">\n",
              "      <th></th>\n",
              "      <th>iso_code</th>\n",
              "      <th>continent</th>\n",
              "      <th>location</th>\n",
              "      <th>date</th>\n",
              "      <th>total_cases</th>\n",
              "      <th>new_cases</th>\n",
              "      <th>new_cases_smoothed</th>\n",
              "      <th>total_deaths</th>\n",
              "      <th>new_deaths</th>\n",
              "      <th>new_deaths_smoothed</th>\n",
              "      <th>total_cases_per_million</th>\n",
              "      <th>new_cases_per_million</th>\n",
              "      <th>new_cases_smoothed_per_million</th>\n",
              "      <th>total_deaths_per_million</th>\n",
              "      <th>new_deaths_per_million</th>\n",
              "      <th>new_deaths_smoothed_per_million</th>\n",
              "      <th>reproduction_rate</th>\n",
              "      <th>icu_patients</th>\n",
              "      <th>icu_patients_per_million</th>\n",
              "      <th>hosp_patients</th>\n",
              "      <th>hosp_patients_per_million</th>\n",
              "      <th>weekly_icu_admissions</th>\n",
              "      <th>weekly_icu_admissions_per_million</th>\n",
              "      <th>weekly_hosp_admissions</th>\n",
              "      <th>weekly_hosp_admissions_per_million</th>\n",
              "      <th>new_tests</th>\n",
              "      <th>total_tests</th>\n",
              "      <th>total_tests_per_thousand</th>\n",
              "      <th>new_tests_per_thousand</th>\n",
              "      <th>new_tests_smoothed</th>\n",
              "      <th>new_tests_smoothed_per_thousand</th>\n",
              "      <th>positive_rate</th>\n",
              "      <th>tests_per_case</th>\n",
              "      <th>tests_units</th>\n",
              "      <th>total_vaccinations</th>\n",
              "      <th>people_vaccinated</th>\n",
              "      <th>people_fully_vaccinated</th>\n",
              "      <th>new_vaccinations</th>\n",
              "      <th>new_vaccinations_smoothed</th>\n",
              "      <th>total_vaccinations_per_hundred</th>\n",
              "      <th>people_vaccinated_per_hundred</th>\n",
              "      <th>people_fully_vaccinated_per_hundred</th>\n",
              "      <th>new_vaccinations_smoothed_per_million</th>\n",
              "      <th>stringency_index</th>\n",
              "      <th>population</th>\n",
              "      <th>population_density</th>\n",
              "      <th>median_age</th>\n",
              "      <th>aged_65_older</th>\n",
              "      <th>aged_70_older</th>\n",
              "      <th>gdp_per_capita</th>\n",
              "      <th>extreme_poverty</th>\n",
              "      <th>cardiovasc_death_rate</th>\n",
              "      <th>diabetes_prevalence</th>\n",
              "      <th>female_smokers</th>\n",
              "      <th>male_smokers</th>\n",
              "      <th>handwashing_facilities</th>\n",
              "      <th>hospital_beds_per_thousand</th>\n",
              "      <th>life_expectancy</th>\n",
              "      <th>human_development_index</th>\n",
              "    </tr>\n",
              "  </thead>\n",
              "  <tbody>\n",
              "    <tr>\n",
              "      <th>45393</th>\n",
              "      <td>MEX</td>\n",
              "      <td>North America</td>\n",
              "      <td>Mexico</td>\n",
              "      <td>2020-01-01</td>\n",
              "      <td>NaN</td>\n",
              "      <td>NaN</td>\n",
              "      <td>NaN</td>\n",
              "      <td>NaN</td>\n",
              "      <td>NaN</td>\n",
              "      <td>NaN</td>\n",
              "      <td>NaN</td>\n",
              "      <td>NaN</td>\n",
              "      <td>NaN</td>\n",
              "      <td>NaN</td>\n",
              "      <td>NaN</td>\n",
              "      <td>NaN</td>\n",
              "      <td>NaN</td>\n",
              "      <td>NaN</td>\n",
              "      <td>NaN</td>\n",
              "      <td>NaN</td>\n",
              "      <td>NaN</td>\n",
              "      <td>NaN</td>\n",
              "      <td>NaN</td>\n",
              "      <td>NaN</td>\n",
              "      <td>NaN</td>\n",
              "      <td>25.0</td>\n",
              "      <td>25.0</td>\n",
              "      <td>0.000</td>\n",
              "      <td>0.000</td>\n",
              "      <td>NaN</td>\n",
              "      <td>NaN</td>\n",
              "      <td>NaN</td>\n",
              "      <td>NaN</td>\n",
              "      <td>people tested</td>\n",
              "      <td>NaN</td>\n",
              "      <td>NaN</td>\n",
              "      <td>NaN</td>\n",
              "      <td>NaN</td>\n",
              "      <td>NaN</td>\n",
              "      <td>NaN</td>\n",
              "      <td>NaN</td>\n",
              "      <td>NaN</td>\n",
              "      <td>NaN</td>\n",
              "      <td>0.0</td>\n",
              "      <td>128932753.0</td>\n",
              "      <td>66.444</td>\n",
              "      <td>29.3</td>\n",
              "      <td>6.857</td>\n",
              "      <td>4.321</td>\n",
              "      <td>17336.469</td>\n",
              "      <td>2.5</td>\n",
              "      <td>152.783</td>\n",
              "      <td>13.06</td>\n",
              "      <td>6.9</td>\n",
              "      <td>21.4</td>\n",
              "      <td>87.847</td>\n",
              "      <td>1.38</td>\n",
              "      <td>75.05</td>\n",
              "      <td>0.779</td>\n",
              "    </tr>\n",
              "    <tr>\n",
              "      <th>45394</th>\n",
              "      <td>MEX</td>\n",
              "      <td>North America</td>\n",
              "      <td>Mexico</td>\n",
              "      <td>2020-01-02</td>\n",
              "      <td>NaN</td>\n",
              "      <td>NaN</td>\n",
              "      <td>NaN</td>\n",
              "      <td>NaN</td>\n",
              "      <td>NaN</td>\n",
              "      <td>NaN</td>\n",
              "      <td>NaN</td>\n",
              "      <td>NaN</td>\n",
              "      <td>NaN</td>\n",
              "      <td>NaN</td>\n",
              "      <td>NaN</td>\n",
              "      <td>NaN</td>\n",
              "      <td>NaN</td>\n",
              "      <td>NaN</td>\n",
              "      <td>NaN</td>\n",
              "      <td>NaN</td>\n",
              "      <td>NaN</td>\n",
              "      <td>NaN</td>\n",
              "      <td>NaN</td>\n",
              "      <td>NaN</td>\n",
              "      <td>NaN</td>\n",
              "      <td>72.0</td>\n",
              "      <td>97.0</td>\n",
              "      <td>0.001</td>\n",
              "      <td>0.001</td>\n",
              "      <td>NaN</td>\n",
              "      <td>NaN</td>\n",
              "      <td>NaN</td>\n",
              "      <td>NaN</td>\n",
              "      <td>people tested</td>\n",
              "      <td>NaN</td>\n",
              "      <td>NaN</td>\n",
              "      <td>NaN</td>\n",
              "      <td>NaN</td>\n",
              "      <td>NaN</td>\n",
              "      <td>NaN</td>\n",
              "      <td>NaN</td>\n",
              "      <td>NaN</td>\n",
              "      <td>NaN</td>\n",
              "      <td>0.0</td>\n",
              "      <td>128932753.0</td>\n",
              "      <td>66.444</td>\n",
              "      <td>29.3</td>\n",
              "      <td>6.857</td>\n",
              "      <td>4.321</td>\n",
              "      <td>17336.469</td>\n",
              "      <td>2.5</td>\n",
              "      <td>152.783</td>\n",
              "      <td>13.06</td>\n",
              "      <td>6.9</td>\n",
              "      <td>21.4</td>\n",
              "      <td>87.847</td>\n",
              "      <td>1.38</td>\n",
              "      <td>75.05</td>\n",
              "      <td>0.779</td>\n",
              "    </tr>\n",
              "    <tr>\n",
              "      <th>45395</th>\n",
              "      <td>MEX</td>\n",
              "      <td>North America</td>\n",
              "      <td>Mexico</td>\n",
              "      <td>2020-01-03</td>\n",
              "      <td>NaN</td>\n",
              "      <td>NaN</td>\n",
              "      <td>NaN</td>\n",
              "      <td>NaN</td>\n",
              "      <td>NaN</td>\n",
              "      <td>NaN</td>\n",
              "      <td>NaN</td>\n",
              "      <td>NaN</td>\n",
              "      <td>NaN</td>\n",
              "      <td>NaN</td>\n",
              "      <td>NaN</td>\n",
              "      <td>NaN</td>\n",
              "      <td>NaN</td>\n",
              "      <td>NaN</td>\n",
              "      <td>NaN</td>\n",
              "      <td>NaN</td>\n",
              "      <td>NaN</td>\n",
              "      <td>NaN</td>\n",
              "      <td>NaN</td>\n",
              "      <td>NaN</td>\n",
              "      <td>NaN</td>\n",
              "      <td>89.0</td>\n",
              "      <td>186.0</td>\n",
              "      <td>0.001</td>\n",
              "      <td>0.001</td>\n",
              "      <td>NaN</td>\n",
              "      <td>NaN</td>\n",
              "      <td>NaN</td>\n",
              "      <td>NaN</td>\n",
              "      <td>people tested</td>\n",
              "      <td>NaN</td>\n",
              "      <td>NaN</td>\n",
              "      <td>NaN</td>\n",
              "      <td>NaN</td>\n",
              "      <td>NaN</td>\n",
              "      <td>NaN</td>\n",
              "      <td>NaN</td>\n",
              "      <td>NaN</td>\n",
              "      <td>NaN</td>\n",
              "      <td>0.0</td>\n",
              "      <td>128932753.0</td>\n",
              "      <td>66.444</td>\n",
              "      <td>29.3</td>\n",
              "      <td>6.857</td>\n",
              "      <td>4.321</td>\n",
              "      <td>17336.469</td>\n",
              "      <td>2.5</td>\n",
              "      <td>152.783</td>\n",
              "      <td>13.06</td>\n",
              "      <td>6.9</td>\n",
              "      <td>21.4</td>\n",
              "      <td>87.847</td>\n",
              "      <td>1.38</td>\n",
              "      <td>75.05</td>\n",
              "      <td>0.779</td>\n",
              "    </tr>\n",
              "    <tr>\n",
              "      <th>45396</th>\n",
              "      <td>MEX</td>\n",
              "      <td>North America</td>\n",
              "      <td>Mexico</td>\n",
              "      <td>2020-01-04</td>\n",
              "      <td>NaN</td>\n",
              "      <td>NaN</td>\n",
              "      <td>NaN</td>\n",
              "      <td>NaN</td>\n",
              "      <td>NaN</td>\n",
              "      <td>NaN</td>\n",
              "      <td>NaN</td>\n",
              "      <td>NaN</td>\n",
              "      <td>NaN</td>\n",
              "      <td>NaN</td>\n",
              "      <td>NaN</td>\n",
              "      <td>NaN</td>\n",
              "      <td>NaN</td>\n",
              "      <td>NaN</td>\n",
              "      <td>NaN</td>\n",
              "      <td>NaN</td>\n",
              "      <td>NaN</td>\n",
              "      <td>NaN</td>\n",
              "      <td>NaN</td>\n",
              "      <td>NaN</td>\n",
              "      <td>NaN</td>\n",
              "      <td>45.0</td>\n",
              "      <td>231.0</td>\n",
              "      <td>0.002</td>\n",
              "      <td>0.000</td>\n",
              "      <td>NaN</td>\n",
              "      <td>NaN</td>\n",
              "      <td>NaN</td>\n",
              "      <td>NaN</td>\n",
              "      <td>people tested</td>\n",
              "      <td>NaN</td>\n",
              "      <td>NaN</td>\n",
              "      <td>NaN</td>\n",
              "      <td>NaN</td>\n",
              "      <td>NaN</td>\n",
              "      <td>NaN</td>\n",
              "      <td>NaN</td>\n",
              "      <td>NaN</td>\n",
              "      <td>NaN</td>\n",
              "      <td>0.0</td>\n",
              "      <td>128932753.0</td>\n",
              "      <td>66.444</td>\n",
              "      <td>29.3</td>\n",
              "      <td>6.857</td>\n",
              "      <td>4.321</td>\n",
              "      <td>17336.469</td>\n",
              "      <td>2.5</td>\n",
              "      <td>152.783</td>\n",
              "      <td>13.06</td>\n",
              "      <td>6.9</td>\n",
              "      <td>21.4</td>\n",
              "      <td>87.847</td>\n",
              "      <td>1.38</td>\n",
              "      <td>75.05</td>\n",
              "      <td>0.779</td>\n",
              "    </tr>\n",
              "    <tr>\n",
              "      <th>45397</th>\n",
              "      <td>MEX</td>\n",
              "      <td>North America</td>\n",
              "      <td>Mexico</td>\n",
              "      <td>2020-01-05</td>\n",
              "      <td>NaN</td>\n",
              "      <td>NaN</td>\n",
              "      <td>NaN</td>\n",
              "      <td>NaN</td>\n",
              "      <td>NaN</td>\n",
              "      <td>NaN</td>\n",
              "      <td>NaN</td>\n",
              "      <td>NaN</td>\n",
              "      <td>NaN</td>\n",
              "      <td>NaN</td>\n",
              "      <td>NaN</td>\n",
              "      <td>NaN</td>\n",
              "      <td>NaN</td>\n",
              "      <td>NaN</td>\n",
              "      <td>NaN</td>\n",
              "      <td>NaN</td>\n",
              "      <td>NaN</td>\n",
              "      <td>NaN</td>\n",
              "      <td>NaN</td>\n",
              "      <td>NaN</td>\n",
              "      <td>NaN</td>\n",
              "      <td>85.0</td>\n",
              "      <td>316.0</td>\n",
              "      <td>0.002</td>\n",
              "      <td>0.001</td>\n",
              "      <td>NaN</td>\n",
              "      <td>NaN</td>\n",
              "      <td>NaN</td>\n",
              "      <td>NaN</td>\n",
              "      <td>people tested</td>\n",
              "      <td>NaN</td>\n",
              "      <td>NaN</td>\n",
              "      <td>NaN</td>\n",
              "      <td>NaN</td>\n",
              "      <td>NaN</td>\n",
              "      <td>NaN</td>\n",
              "      <td>NaN</td>\n",
              "      <td>NaN</td>\n",
              "      <td>NaN</td>\n",
              "      <td>0.0</td>\n",
              "      <td>128932753.0</td>\n",
              "      <td>66.444</td>\n",
              "      <td>29.3</td>\n",
              "      <td>6.857</td>\n",
              "      <td>4.321</td>\n",
              "      <td>17336.469</td>\n",
              "      <td>2.5</td>\n",
              "      <td>152.783</td>\n",
              "      <td>13.06</td>\n",
              "      <td>6.9</td>\n",
              "      <td>21.4</td>\n",
              "      <td>87.847</td>\n",
              "      <td>1.38</td>\n",
              "      <td>75.05</td>\n",
              "      <td>0.779</td>\n",
              "    </tr>\n",
              "  </tbody>\n",
              "</table>\n",
              "</div>"
            ],
            "text/plain": [
              "      iso_code      continent  ... life_expectancy human_development_index\n",
              "45393      MEX  North America  ...           75.05                   0.779\n",
              "45394      MEX  North America  ...           75.05                   0.779\n",
              "45395      MEX  North America  ...           75.05                   0.779\n",
              "45396      MEX  North America  ...           75.05                   0.779\n",
              "45397      MEX  North America  ...           75.05                   0.779\n",
              "\n",
              "[5 rows x 59 columns]"
            ]
          },
          "metadata": {
            "tags": []
          },
          "execution_count": 3
        }
      ]
    },
    {
      "cell_type": "code",
      "metadata": {
        "colab": {
          "base_uri": "https://localhost:8080/",
          "height": 206
        },
        "id": "kuhAk_wrQjmE",
        "outputId": "2b461432-3669-494c-eb2d-856fbc135542"
      },
      "source": [
        "# Seleccionando columnas\n",
        "df_mx = df_mx.iloc[:, 3:6]\n",
        "df_mx.head()"
      ],
      "execution_count": 4,
      "outputs": [
        {
          "output_type": "execute_result",
          "data": {
            "text/html": [
              "<div>\n",
              "<style scoped>\n",
              "    .dataframe tbody tr th:only-of-type {\n",
              "        vertical-align: middle;\n",
              "    }\n",
              "\n",
              "    .dataframe tbody tr th {\n",
              "        vertical-align: top;\n",
              "    }\n",
              "\n",
              "    .dataframe thead th {\n",
              "        text-align: right;\n",
              "    }\n",
              "</style>\n",
              "<table border=\"1\" class=\"dataframe\">\n",
              "  <thead>\n",
              "    <tr style=\"text-align: right;\">\n",
              "      <th></th>\n",
              "      <th>date</th>\n",
              "      <th>total_cases</th>\n",
              "      <th>new_cases</th>\n",
              "    </tr>\n",
              "  </thead>\n",
              "  <tbody>\n",
              "    <tr>\n",
              "      <th>45393</th>\n",
              "      <td>2020-01-01</td>\n",
              "      <td>NaN</td>\n",
              "      <td>NaN</td>\n",
              "    </tr>\n",
              "    <tr>\n",
              "      <th>45394</th>\n",
              "      <td>2020-01-02</td>\n",
              "      <td>NaN</td>\n",
              "      <td>NaN</td>\n",
              "    </tr>\n",
              "    <tr>\n",
              "      <th>45395</th>\n",
              "      <td>2020-01-03</td>\n",
              "      <td>NaN</td>\n",
              "      <td>NaN</td>\n",
              "    </tr>\n",
              "    <tr>\n",
              "      <th>45396</th>\n",
              "      <td>2020-01-04</td>\n",
              "      <td>NaN</td>\n",
              "      <td>NaN</td>\n",
              "    </tr>\n",
              "    <tr>\n",
              "      <th>45397</th>\n",
              "      <td>2020-01-05</td>\n",
              "      <td>NaN</td>\n",
              "      <td>NaN</td>\n",
              "    </tr>\n",
              "  </tbody>\n",
              "</table>\n",
              "</div>"
            ],
            "text/plain": [
              "             date  total_cases  new_cases\n",
              "45393  2020-01-01          NaN        NaN\n",
              "45394  2020-01-02          NaN        NaN\n",
              "45395  2020-01-03          NaN        NaN\n",
              "45396  2020-01-04          NaN        NaN\n",
              "45397  2020-01-05          NaN        NaN"
            ]
          },
          "metadata": {
            "tags": []
          },
          "execution_count": 4
        }
      ]
    },
    {
      "cell_type": "code",
      "metadata": {
        "id": "QyrjUnQ7EF9X",
        "colab": {
          "base_uri": "https://localhost:8080/",
          "height": 143
        },
        "outputId": "8073f4f3-e9ca-4f2a-d86b-6d7ccc252c8e"
      },
      "source": [
        "#Reseteando index\n",
        "df_mx = df_mx.reset_index(inplace=False)\n",
        "#Eliminando columna extra\n",
        "del df_mx['index']\n",
        "#Mostrando datos\n",
        "df_mx.head(3)"
      ],
      "execution_count": 5,
      "outputs": [
        {
          "output_type": "execute_result",
          "data": {
            "text/html": [
              "<div>\n",
              "<style scoped>\n",
              "    .dataframe tbody tr th:only-of-type {\n",
              "        vertical-align: middle;\n",
              "    }\n",
              "\n",
              "    .dataframe tbody tr th {\n",
              "        vertical-align: top;\n",
              "    }\n",
              "\n",
              "    .dataframe thead th {\n",
              "        text-align: right;\n",
              "    }\n",
              "</style>\n",
              "<table border=\"1\" class=\"dataframe\">\n",
              "  <thead>\n",
              "    <tr style=\"text-align: right;\">\n",
              "      <th></th>\n",
              "      <th>date</th>\n",
              "      <th>total_cases</th>\n",
              "      <th>new_cases</th>\n",
              "    </tr>\n",
              "  </thead>\n",
              "  <tbody>\n",
              "    <tr>\n",
              "      <th>0</th>\n",
              "      <td>2020-01-01</td>\n",
              "      <td>NaN</td>\n",
              "      <td>NaN</td>\n",
              "    </tr>\n",
              "    <tr>\n",
              "      <th>1</th>\n",
              "      <td>2020-01-02</td>\n",
              "      <td>NaN</td>\n",
              "      <td>NaN</td>\n",
              "    </tr>\n",
              "    <tr>\n",
              "      <th>2</th>\n",
              "      <td>2020-01-03</td>\n",
              "      <td>NaN</td>\n",
              "      <td>NaN</td>\n",
              "    </tr>\n",
              "  </tbody>\n",
              "</table>\n",
              "</div>"
            ],
            "text/plain": [
              "         date  total_cases  new_cases\n",
              "0  2020-01-01          NaN        NaN\n",
              "1  2020-01-02          NaN        NaN\n",
              "2  2020-01-03          NaN        NaN"
            ]
          },
          "metadata": {
            "tags": []
          },
          "execution_count": 5
        }
      ]
    },
    {
      "cell_type": "code",
      "metadata": {
        "colab": {
          "base_uri": "https://localhost:8080/",
          "height": 206
        },
        "id": "2YpCb4jeDKVu",
        "outputId": "bcb9587e-ce49-4e61-a5e6-6ecf186029bf"
      },
      "source": [
        "# Trabajando con la columna de nuevos casos\n",
        "df_mx = df_mx.iloc[:,[0,2]]\n",
        "df_mx.head()"
      ],
      "execution_count": 6,
      "outputs": [
        {
          "output_type": "execute_result",
          "data": {
            "text/html": [
              "<div>\n",
              "<style scoped>\n",
              "    .dataframe tbody tr th:only-of-type {\n",
              "        vertical-align: middle;\n",
              "    }\n",
              "\n",
              "    .dataframe tbody tr th {\n",
              "        vertical-align: top;\n",
              "    }\n",
              "\n",
              "    .dataframe thead th {\n",
              "        text-align: right;\n",
              "    }\n",
              "</style>\n",
              "<table border=\"1\" class=\"dataframe\">\n",
              "  <thead>\n",
              "    <tr style=\"text-align: right;\">\n",
              "      <th></th>\n",
              "      <th>date</th>\n",
              "      <th>new_cases</th>\n",
              "    </tr>\n",
              "  </thead>\n",
              "  <tbody>\n",
              "    <tr>\n",
              "      <th>0</th>\n",
              "      <td>2020-01-01</td>\n",
              "      <td>NaN</td>\n",
              "    </tr>\n",
              "    <tr>\n",
              "      <th>1</th>\n",
              "      <td>2020-01-02</td>\n",
              "      <td>NaN</td>\n",
              "    </tr>\n",
              "    <tr>\n",
              "      <th>2</th>\n",
              "      <td>2020-01-03</td>\n",
              "      <td>NaN</td>\n",
              "    </tr>\n",
              "    <tr>\n",
              "      <th>3</th>\n",
              "      <td>2020-01-04</td>\n",
              "      <td>NaN</td>\n",
              "    </tr>\n",
              "    <tr>\n",
              "      <th>4</th>\n",
              "      <td>2020-01-05</td>\n",
              "      <td>NaN</td>\n",
              "    </tr>\n",
              "  </tbody>\n",
              "</table>\n",
              "</div>"
            ],
            "text/plain": [
              "         date  new_cases\n",
              "0  2020-01-01        NaN\n",
              "1  2020-01-02        NaN\n",
              "2  2020-01-03        NaN\n",
              "3  2020-01-04        NaN\n",
              "4  2020-01-05        NaN"
            ]
          },
          "metadata": {
            "tags": []
          },
          "execution_count": 6
        }
      ]
    },
    {
      "cell_type": "markdown",
      "metadata": {
        "id": "WKxrS1PkDvBb"
      },
      "source": [
        "Asi seran los datos con los que se trabajaran. \n",
        "\n",
        "Como se muestran en la tabla de arriba."
      ]
    },
    {
      "cell_type": "markdown",
      "metadata": {
        "id": "I0glvokzHwP7"
      },
      "source": [
        "## **Transformacion de los datos**"
      ]
    },
    {
      "cell_type": "markdown",
      "metadata": {
        "id": "2Qa8CUmIFa_T"
      },
      "source": [
        "Es importante considerar, que para poder realizar predicciones, los datos debe de tener una forma correcta, es decir:\n",
        "\n",
        "\n",
        "- No tener datos faltantes\n",
        "- La fecha sera de tipo datetime\n",
        "- Los datos de \"nuevo casos\" son datos numericos\n",
        "\n",
        "\n",
        "---\n",
        "\n",
        "\n",
        "Realizar un analisis estadistico, es importante para poder contemplar el comportamineto de los daots.\n",
        "\n",
        "\n",
        "\n"
      ]
    },
    {
      "cell_type": "code",
      "metadata": {
        "colab": {
          "base_uri": "https://localhost:8080/",
          "height": 143
        },
        "id": "FLLkmTY-H1Aa",
        "outputId": "e2c575c1-db0e-4fe3-e17e-75fd33be76a2"
      },
      "source": [
        "df_mx.head(3)"
      ],
      "execution_count": 7,
      "outputs": [
        {
          "output_type": "execute_result",
          "data": {
            "text/html": [
              "<div>\n",
              "<style scoped>\n",
              "    .dataframe tbody tr th:only-of-type {\n",
              "        vertical-align: middle;\n",
              "    }\n",
              "\n",
              "    .dataframe tbody tr th {\n",
              "        vertical-align: top;\n",
              "    }\n",
              "\n",
              "    .dataframe thead th {\n",
              "        text-align: right;\n",
              "    }\n",
              "</style>\n",
              "<table border=\"1\" class=\"dataframe\">\n",
              "  <thead>\n",
              "    <tr style=\"text-align: right;\">\n",
              "      <th></th>\n",
              "      <th>date</th>\n",
              "      <th>new_cases</th>\n",
              "    </tr>\n",
              "  </thead>\n",
              "  <tbody>\n",
              "    <tr>\n",
              "      <th>0</th>\n",
              "      <td>2020-01-01</td>\n",
              "      <td>NaN</td>\n",
              "    </tr>\n",
              "    <tr>\n",
              "      <th>1</th>\n",
              "      <td>2020-01-02</td>\n",
              "      <td>NaN</td>\n",
              "    </tr>\n",
              "    <tr>\n",
              "      <th>2</th>\n",
              "      <td>2020-01-03</td>\n",
              "      <td>NaN</td>\n",
              "    </tr>\n",
              "  </tbody>\n",
              "</table>\n",
              "</div>"
            ],
            "text/plain": [
              "         date  new_cases\n",
              "0  2020-01-01        NaN\n",
              "1  2020-01-02        NaN\n",
              "2  2020-01-03        NaN"
            ]
          },
          "metadata": {
            "tags": []
          },
          "execution_count": 7
        }
      ]
    },
    {
      "cell_type": "code",
      "metadata": {
        "colab": {
          "base_uri": "https://localhost:8080/"
        },
        "id": "lM13If1qH8-N",
        "outputId": "f59757c9-a978-4959-da4b-68bfd98f330c"
      },
      "source": [
        "df_mx.info()"
      ],
      "execution_count": 8,
      "outputs": [
        {
          "output_type": "stream",
          "text": [
            "<class 'pandas.core.frame.DataFrame'>\n",
            "RangeIndex: 454 entries, 0 to 453\n",
            "Data columns (total 2 columns):\n",
            " #   Column     Non-Null Count  Dtype  \n",
            "---  ------     --------------  -----  \n",
            " 0   date       454 non-null    object \n",
            " 1   new_cases  396 non-null    float64\n",
            "dtypes: float64(1), object(1)\n",
            "memory usage: 7.2+ KB\n"
          ],
          "name": "stdout"
        }
      ]
    },
    {
      "cell_type": "code",
      "metadata": {
        "id": "fzVse4Z_H-RQ"
      },
      "source": [
        "df_mx.date = pd.to_datetime(df_mx.date)"
      ],
      "execution_count": 9,
      "outputs": []
    },
    {
      "cell_type": "code",
      "metadata": {
        "colab": {
          "base_uri": "https://localhost:8080/"
        },
        "id": "GMdV5UuZIFVJ",
        "outputId": "afa4604f-7a95-4f3d-9a52-8afb7611a687"
      },
      "source": [
        "df_mx.info()"
      ],
      "execution_count": 10,
      "outputs": [
        {
          "output_type": "stream",
          "text": [
            "<class 'pandas.core.frame.DataFrame'>\n",
            "RangeIndex: 454 entries, 0 to 453\n",
            "Data columns (total 2 columns):\n",
            " #   Column     Non-Null Count  Dtype         \n",
            "---  ------     --------------  -----         \n",
            " 0   date       454 non-null    datetime64[ns]\n",
            " 1   new_cases  396 non-null    float64       \n",
            "dtypes: datetime64[ns](1), float64(1)\n",
            "memory usage: 7.2 KB\n"
          ],
          "name": "stdout"
        }
      ]
    },
    {
      "cell_type": "code",
      "metadata": {
        "colab": {
          "base_uri": "https://localhost:8080/",
          "height": 300
        },
        "id": "RhCyjj9jIGii",
        "outputId": "5d8376d5-8fd5-4b2d-f72f-de9d57603c26"
      },
      "source": [
        "#Analisis estadistico rapido\n",
        "df_mx.describe()"
      ],
      "execution_count": 11,
      "outputs": [
        {
          "output_type": "execute_result",
          "data": {
            "text/html": [
              "<div>\n",
              "<style scoped>\n",
              "    .dataframe tbody tr th:only-of-type {\n",
              "        vertical-align: middle;\n",
              "    }\n",
              "\n",
              "    .dataframe tbody tr th {\n",
              "        vertical-align: top;\n",
              "    }\n",
              "\n",
              "    .dataframe thead th {\n",
              "        text-align: right;\n",
              "    }\n",
              "</style>\n",
              "<table border=\"1\" class=\"dataframe\">\n",
              "  <thead>\n",
              "    <tr style=\"text-align: right;\">\n",
              "      <th></th>\n",
              "      <th>new_cases</th>\n",
              "    </tr>\n",
              "  </thead>\n",
              "  <tbody>\n",
              "    <tr>\n",
              "      <th>count</th>\n",
              "      <td>396.000000</td>\n",
              "    </tr>\n",
              "    <tr>\n",
              "      <th>mean</th>\n",
              "      <td>5625.866162</td>\n",
              "    </tr>\n",
              "    <tr>\n",
              "      <th>std</th>\n",
              "      <td>4475.211614</td>\n",
              "    </tr>\n",
              "    <tr>\n",
              "      <th>min</th>\n",
              "      <td>0.000000</td>\n",
              "    </tr>\n",
              "    <tr>\n",
              "      <th>25%</th>\n",
              "      <td>2800.250000</td>\n",
              "    </tr>\n",
              "    <tr>\n",
              "      <th>50%</th>\n",
              "      <td>5237.500000</td>\n",
              "    </tr>\n",
              "    <tr>\n",
              "      <th>75%</th>\n",
              "      <td>6848.500000</td>\n",
              "    </tr>\n",
              "    <tr>\n",
              "      <th>max</th>\n",
              "      <td>28115.000000</td>\n",
              "    </tr>\n",
              "  </tbody>\n",
              "</table>\n",
              "</div>"
            ],
            "text/plain": [
              "          new_cases\n",
              "count    396.000000\n",
              "mean    5625.866162\n",
              "std     4475.211614\n",
              "min        0.000000\n",
              "25%     2800.250000\n",
              "50%     5237.500000\n",
              "75%     6848.500000\n",
              "max    28115.000000"
            ]
          },
          "metadata": {
            "tags": []
          },
          "execution_count": 11
        }
      ]
    },
    {
      "cell_type": "code",
      "metadata": {
        "colab": {
          "base_uri": "https://localhost:8080/"
        },
        "id": "AMzqF6soIJZ-",
        "outputId": "d958f600-04f2-4860-a75d-fe1d577b804c"
      },
      "source": [
        "df_mx.isna().sum()"
      ],
      "execution_count": 12,
      "outputs": [
        {
          "output_type": "execute_result",
          "data": {
            "text/plain": [
              "date          0\n",
              "new_cases    58\n",
              "dtype: int64"
            ]
          },
          "metadata": {
            "tags": []
          },
          "execution_count": 12
        }
      ]
    },
    {
      "cell_type": "code",
      "metadata": {
        "id": "LRKsPTdoIlJg"
      },
      "source": [
        "# Quitando Datos faltantes.\n",
        "df_mx = df_mx[df_mx['new_cases'].notna()]"
      ],
      "execution_count": 13,
      "outputs": []
    },
    {
      "cell_type": "code",
      "metadata": {
        "colab": {
          "base_uri": "https://localhost:8080/",
          "height": 206
        },
        "id": "AFWr_jf-JAdp",
        "outputId": "9c9e1238-73ed-473b-9383-bfaf27fb4aea"
      },
      "source": [
        "df_mx.tail()"
      ],
      "execution_count": 14,
      "outputs": [
        {
          "output_type": "execute_result",
          "data": {
            "text/html": [
              "<div>\n",
              "<style scoped>\n",
              "    .dataframe tbody tr th:only-of-type {\n",
              "        vertical-align: middle;\n",
              "    }\n",
              "\n",
              "    .dataframe tbody tr th {\n",
              "        vertical-align: top;\n",
              "    }\n",
              "\n",
              "    .dataframe thead th {\n",
              "        text-align: right;\n",
              "    }\n",
              "</style>\n",
              "<table border=\"1\" class=\"dataframe\">\n",
              "  <thead>\n",
              "    <tr style=\"text-align: right;\">\n",
              "      <th></th>\n",
              "      <th>date</th>\n",
              "      <th>new_cases</th>\n",
              "    </tr>\n",
              "  </thead>\n",
              "  <tbody>\n",
              "    <tr>\n",
              "      <th>449</th>\n",
              "      <td>2021-03-25</td>\n",
              "      <td>5787.0</td>\n",
              "    </tr>\n",
              "    <tr>\n",
              "      <th>450</th>\n",
              "      <td>2021-03-26</td>\n",
              "      <td>5303.0</td>\n",
              "    </tr>\n",
              "    <tr>\n",
              "      <th>451</th>\n",
              "      <td>2021-03-27</td>\n",
              "      <td>5059.0</td>\n",
              "    </tr>\n",
              "    <tr>\n",
              "      <th>452</th>\n",
              "      <td>2021-03-28</td>\n",
              "      <td>1646.0</td>\n",
              "    </tr>\n",
              "    <tr>\n",
              "      <th>453</th>\n",
              "      <td>2021-03-29</td>\n",
              "      <td>1293.0</td>\n",
              "    </tr>\n",
              "  </tbody>\n",
              "</table>\n",
              "</div>"
            ],
            "text/plain": [
              "          date  new_cases\n",
              "449 2021-03-25     5787.0\n",
              "450 2021-03-26     5303.0\n",
              "451 2021-03-27     5059.0\n",
              "452 2021-03-28     1646.0\n",
              "453 2021-03-29     1293.0"
            ]
          },
          "metadata": {
            "tags": []
          },
          "execution_count": 14
        }
      ]
    },
    {
      "cell_type": "code",
      "metadata": {
        "colab": {
          "base_uri": "https://localhost:8080/"
        },
        "id": "A07Wj3llJtbV",
        "outputId": "ed84883e-3612-4fbc-c714-45c3a12c2bbe"
      },
      "source": [
        "df_mx.date.describe()"
      ],
      "execution_count": 15,
      "outputs": [
        {
          "output_type": "stream",
          "text": [
            "/usr/local/lib/python3.7/dist-packages/ipykernel_launcher.py:1: FutureWarning: Treating datetime data as categorical rather than numeric in `.describe` is deprecated and will be removed in a future version of pandas. Specify `datetime_is_numeric=True` to silence this warning and adopt the future behavior now.\n",
            "  \"\"\"Entry point for launching an IPython kernel.\n"
          ],
          "name": "stderr"
        },
        {
          "output_type": "execute_result",
          "data": {
            "text/plain": [
              "count                     396\n",
              "unique                    396\n",
              "top       2020-04-13 00:00:00\n",
              "freq                        1\n",
              "first     2020-02-28 00:00:00\n",
              "last      2021-03-29 00:00:00\n",
              "Name: date, dtype: object"
            ]
          },
          "metadata": {
            "tags": []
          },
          "execution_count": 15
        }
      ]
    },
    {
      "cell_type": "code",
      "metadata": {
        "id": "pggG81rPKIgA"
      },
      "source": [
        ""
      ],
      "execution_count": 15,
      "outputs": []
    },
    {
      "cell_type": "markdown",
      "metadata": {
        "id": "N0k3YjYXKjQ5"
      },
      "source": [
        "\n",
        "---\n",
        "\n",
        "\n",
        "---\n",
        "\n",
        "\n",
        "## **Visualizacion de Datos**\n",
        "\n",
        "\n",
        "Es muy importante poder ver los datos de manera grafica, asi se podra tener vision mas clara del comportamiento de los datos.\n",
        "\n",
        "Al tratar con datos, que se trabajaran como series temporales, existe un tipo de grafico que mas se adopta a estos mismos. Plotear datos es una forma clara para ver su comportamiento. \n",
        "\n",
        "Por el eje de las x, tenemos el tiempo, los dias o meses que han transcurrido. En el eje de las y, tenemos la cantidad de casos nuevos, de esta forma es como se puede ver su comportamiento.\n",
        "\n",
        "**Para la tendencia. Los datos se trabajaran con una serie de tiempo de 7 dias (1 semana), para acomular la mayor cantidad de datos y aun asi podamos tener buenas predicciones**\n",
        "\n",
        "En las graficas se trabajan con las series temporales de 7 dias juntos."
      ]
    },
    {
      "cell_type": "code",
      "metadata": {
        "id": "ZRBmbNpkK6tx"
      },
      "source": [
        "#Copiando dataset\n",
        "df_mx_2 = df_mx.copy()"
      ],
      "execution_count": 16,
      "outputs": []
    },
    {
      "cell_type": "code",
      "metadata": {
        "id": "XRO8dazvK7uL"
      },
      "source": [
        "df_mx_2.set_index('date', inplace=True)"
      ],
      "execution_count": 17,
      "outputs": []
    },
    {
      "cell_type": "code",
      "metadata": {
        "id": "n4AsHom9KlUY"
      },
      "source": [
        "# Promedio de ventanas de tiempo\n",
        "\n",
        "#Ventana de tiempo\n",
        "ventana_tiempo = df_mx_2.rolling(7)\n",
        "\n",
        "#Media de la ventana de tiempo\n",
        "media_df = ventana_tiempo.mean()"
      ],
      "execution_count": 18,
      "outputs": []
    },
    {
      "cell_type": "code",
      "metadata": {
        "colab": {
          "base_uri": "https://localhost:8080/",
          "height": 514
        },
        "id": "fDnFEwOUL_eQ",
        "outputId": "ee7d6b39-3752-4e79-837a-36ceb7527ee0"
      },
      "source": [
        "plt.figure(figsize=(12,8))\n",
        "plt.plot(df_mx_2, label='new_cases')\n",
        "plt.plot(media_df, label='media')\n",
        "plt.ylabel('Cantidad de casos')\n",
        "plt.xlabel('Tiempo Transcurrido')\n",
        "plt.grid()\n",
        "plt.legend()"
      ],
      "execution_count": 19,
      "outputs": [
        {
          "output_type": "execute_result",
          "data": {
            "text/plain": [
              "<matplotlib.legend.Legend at 0x7fa52cc2dbd0>"
            ]
          },
          "metadata": {
            "tags": []
          },
          "execution_count": 19
        },
        {
          "output_type": "display_data",
          "data": {
            "image/png": "[encoded data removed]",
            "text/plain": [
              "<Figure size 864x576 with 1 Axes>"
            ]
          },
          "metadata": {
            "tags": [],
            "needs_background": "light"
          }
        }
      ]
    },
    {
      "cell_type": "markdown",
      "metadata": {
        "id": "WhzUN4GaPggN"
      },
      "source": [
        "**Los datos presentados en la grafica presentan algunos outliers (datos fuera de lo normal), estos datos se pueden ver en la grafica de arribsa, entre el mes 09 y 11. Tambien entre 2021-01 y 2021-03. Estos datos son muy notorios ya que tienen una exageración dentro de la grafica.**\n",
        "\n"
      ]
    },
    {
      "cell_type": "markdown",
      "metadata": {
        "id": "oKcLY7LOQ35B"
      },
      "source": [
        "**Pero para poder observar otra perseptiva de los datos, veremos su tendencia, ya que la tendencia podra revelar los datos aun mas claros.**"
      ]
    },
    {
      "cell_type": "code",
      "metadata": {
        "id": "BVMbLSzeMALk"
      },
      "source": [
        "seasonal_value = seasonal_decompose(df_mx_2, freq=7)"
      ],
      "execution_count": 20,
      "outputs": []
    },
    {
      "cell_type": "code",
      "metadata": {
        "colab": {
          "base_uri": "https://localhost:8080/",
          "height": 298
        },
        "id": "ge1MDs_XOepK",
        "outputId": "a2282e70-b692-4a47-c999-3d7f10738d38"
      },
      "source": [
        "seasonal_value.plot();"
      ],
      "execution_count": 21,
      "outputs": [
        {
          "output_type": "display_data",
          "data": {
            "image/png": "[encoded data removed]",
            "text/plain": [
              "<Figure size 432x288 with 4 Axes>"
            ]
          },
          "metadata": {
            "tags": [],
            "needs_background": "light"
          }
        }
      ]
    },
    {
      "cell_type": "code",
      "metadata": {
        "id": "uvHv9BZKOgx_",
        "colab": {
          "base_uri": "https://localhost:8080/",
          "height": 308
        },
        "outputId": "24d638a9-44b0-47f0-a818-925108a9d070"
      },
      "source": [
        "seasonal_value.trend.plot()"
      ],
      "execution_count": 22,
      "outputs": [
        {
          "output_type": "execute_result",
          "data": {
            "text/plain": [
              "<matplotlib.axes._subplots.AxesSubplot at 0x7fa522279810>"
            ]
          },
          "metadata": {
            "tags": []
          },
          "execution_count": 22
        },
        {
          "output_type": "display_data",
          "data": {
            "image/png": "[encoded data removed]",
            "text/plain": [
              "<Figure size 432x288 with 1 Axes>"
            ]
          },
          "metadata": {
            "tags": [],
            "needs_background": "light"
          }
        }
      ]
    },
    {
      "cell_type": "code",
      "metadata": {
        "colab": {
          "base_uri": "https://localhost:8080/",
          "height": 308
        },
        "id": "ODkjRq-jQ9QU",
        "outputId": "444e5b86-6020-48e6-a56d-b60a75391803"
      },
      "source": [
        "seasonal_value.observed.plot()"
      ],
      "execution_count": 23,
      "outputs": [
        {
          "output_type": "execute_result",
          "data": {
            "text/plain": [
              "<matplotlib.axes._subplots.AxesSubplot at 0x7fa5221a2490>"
            ]
          },
          "metadata": {
            "tags": []
          },
          "execution_count": 23
        },
        {
          "output_type": "display_data",
          "data": {
            "image/png": "[encoded data removed]",
            "text/plain": [
              "<Figure size 432x288 with 1 Axes>"
            ]
          },
          "metadata": {
            "tags": [],
            "needs_background": "light"
          }
        }
      ]
    },
    {
      "cell_type": "markdown",
      "metadata": {
        "id": "tfUunHUiGHfx"
      },
      "source": [
        "Observando si la froma de los datos, es normal o no es normal.\n",
        "\n",
        "- Si p <= alpha  **No es normal**\n",
        "- Si p > alpha **Es normal**\n",
        "\n",
        "Donde se va a conciderar alpha como 0.55"
      ]
    },
    {
      "cell_type": "code",
      "metadata": {
        "colab": {
          "base_uri": "https://localhost:8080/"
        },
        "id": "wlzkdBMiFTeC",
        "outputId": "4cbbe0f1-7ab9-48d8-9882-222c6b604b2b"
      },
      "source": [
        "stat, p = stats.normaltest(df_mx_2.new_cases)\n",
        "print('Statics=%.3f, p=%.3f' % (stat, p))\n",
        "alpha = 0.05\n",
        "if p > alpha:\n",
        "    print('Forma Gausiana')\n",
        "else:\n",
        "    print('No tiene forma gausiana')"
      ],
      "execution_count": 25,
      "outputs": [
        {
          "output_type": "stream",
          "text": [
            "Statics=131.357, p=0.000\n",
            "No tiene forma gausiana\n"
          ],
          "name": "stdout"
        }
      ]
    },
    {
      "cell_type": "code",
      "metadata": {
        "colab": {
          "base_uri": "https://localhost:8080/",
          "height": 404
        },
        "id": "tam_IEDjIoCh",
        "outputId": "e4f12fb8-167a-481e-e84a-73d4108ceca4"
      },
      "source": [
        "plt.figure(figsize=(14, 6))\n",
        "plt.subplot(1,2,1)\n",
        "df_mx_2['new_cases'].hist(bins=5)\n",
        "plt.title('Dictribucion de los casos')\n",
        "\n",
        "plt.subplot(1,2,2)\n",
        "stats.probplot(df_mx_2['new_cases'], plot=plt);\n"
      ],
      "execution_count": 26,
      "outputs": [
        {
          "output_type": "display_data",
          "data": {
            "image/png": "[encoded data removed]",
            "text/plain": [
              "<Figure size 1008x432 with 2 Axes>"
            ]
          },
          "metadata": {
            "tags": [],
            "needs_background": "light"
          }
        }
      ]
    },
    {
      "cell_type": "markdown",
      "metadata": {
        "id": "kV8FZKY1K452"
      },
      "source": [
        "# **Escalando datos**\n",
        "\n",
        "Preparando los datos para poder introducirlos a las diferetnes redes nueronales\n",
        "\n",
        "- Unas vez visualizados algunos de los datos, procederemos a realizar una division de los datos, en 2 conjuntos, entreanmiento y prueba. De esta forma tendremos una mejor prediccion, para poder tener una referenecia entre los datos de testeo y las predicciones. Asi se podra observar como sera la sertesa de la prediccion vs datos reales.\n",
        "\n",
        "- De manera mas practica y con la intencion de tener una mejor idea, los resultados se estaran ploteando(graficando) y asi ver como nos asercamos a las predicciones.\n",
        "\n",
        "- Para todos los datos para predecir tomaremos unicamente 20 dias para predecir en el futuro. 20 datos son los que apartaremos para testeo."
      ]
    },
    {
      "cell_type": "code",
      "metadata": {
        "colab": {
          "base_uri": "https://localhost:8080/"
        },
        "id": "EGNDEV4VPRsp",
        "outputId": "eafff6ca-1b29-46b0-ff2c-ebba384dddd2"
      },
      "source": [
        "# Datos de entreamiento y test\n",
        "len(df_mx_2)"
      ],
      "execution_count": 42,
      "outputs": [
        {
          "output_type": "execute_result",
          "data": {
            "text/plain": [
              "396"
            ]
          },
          "metadata": {
            "tags": []
          },
          "execution_count": 42
        }
      ]
    },
    {
      "cell_type": "code",
      "metadata": {
        "colab": {
          "base_uri": "https://localhost:8080/"
        },
        "id": "sZxH98wcQA5m",
        "outputId": "b9cb82ba-754e-45dd-c224-7fa17d3f38c9"
      },
      "source": [
        "# 90% Datos\n",
        "len(df_mx_2) * 90 // 100"
      ],
      "execution_count": 46,
      "outputs": [
        {
          "output_type": "execute_result",
          "data": {
            "text/plain": [
              "356"
            ]
          },
          "metadata": {
            "tags": []
          },
          "execution_count": 46
        }
      ]
    },
    {
      "cell_type": "code",
      "metadata": {
        "id": "5pWNDoT_WYoR"
      },
      "source": [
        "#Division de los datos de entrenamiento y test\n",
        "train = df_mx_2.iloc[:len(df_mx_2) * 90 // 100]\n",
        "test = df_mx_2.iloc[len(df_mx_2) * 90 // 100:]"
      ],
      "execution_count": 45,
      "outputs": []
    },
    {
      "cell_type": "code",
      "metadata": {
        "colab": {
          "base_uri": "https://localhost:8080/"
        },
        "id": "lvkwnNykIf3l",
        "outputId": "801bb2ea-2b79-40df-da35-37d535ce3dcc"
      },
      "source": [
        "print(len(train))\n",
        "print(len(test))"
      ],
      "execution_count": 53,
      "outputs": [
        {
          "output_type": "stream",
          "text": [
            "356\n",
            "40\n"
          ],
          "name": "stdout"
        }
      ]
    },
    {
      "cell_type": "code",
      "metadata": {
        "id": "R9oHz8dOWi2X"
      },
      "source": [
        "# Escalando datos\n",
        "\n",
        "from sklearn.preprocessing import MinMaxScaler\n",
        "from keras.preprocessing.sequence import TimeseriesGenerator\n",
        "\n",
        "scaler = MinMaxScaler()"
      ],
      "execution_count": 51,
      "outputs": []
    },
    {
      "cell_type": "code",
      "metadata": {
        "id": "6kURX3eiWjbE"
      },
      "source": [
        "#Ajustando los datos de entrenamiento\n",
        "scaler.fit(train)\n",
        "\n",
        "scaled_train = scaler.transform(train)\n",
        "scaled_test = scaler.transform(test)"
      ],
      "execution_count": 52,
      "outputs": []
    },
    {
      "cell_type": "code",
      "metadata": {
        "id": "PUPYXrjFbz6p"
      },
      "source": [
        "scaled_train"
      ],
      "execution_count": null,
      "outputs": []
    },
    {
      "cell_type": "code",
      "metadata": {
        "id": "j4yoPIf9Yhhp"
      },
      "source": [
        "# Generator\n",
        "n_input = 40\n",
        "n_feacture = 1\n",
        "\n",
        "generator = TimeseriesGenerator(scaled_train, scaled_train, length=n_input, batch_size=2)\n",
        "\n",
        "x, y = generator[0]"
      ],
      "execution_count": 55,
      "outputs": []
    },
    {
      "cell_type": "markdown",
      "metadata": {
        "id": "7Ez1lPhnK983"
      },
      "source": [
        "# **Arquitectura 1**"
      ]
    },
    {
      "cell_type": "code",
      "metadata": {
        "id": "isf11R_WMwgN"
      },
      "source": [
        "#Esta funcion, sera util para la primera arquitectura. Para la 2a, no\n",
        "# 1. Funcion se encargara de realizar las predicciones por lotes\n",
        "# 2. De las predicciones, realizar la inversa\n",
        "def function_preparet(model, n_input = 40, n_feacture = 1):\n",
        "    test_predictions = []\n",
        "\n",
        "    first_eval_batch = scaled_train[-n_input:]\n",
        "    current_batch = first_eval.reshape((1, n_input, n_feacture))\n",
        "\n",
        "    for i in range(len(test)):\n",
        "\n",
        "        # obtener la predicción ([0] es para obtener solo el número en lugar de [matriz])\n",
        "        current_pred = model.predict(current_batch)[0]\n",
        "\n",
        "        # guardar la predicción\n",
        "        test_predictions.append(current_pred) \n",
        "\n",
        "        # actualizar el lote para incluir ahora la predicción y soltar primer valor\n",
        "        current_batch = np.append(current_batch[:,1:,:],[[current_pred]],axis=1)\n",
        "\n",
        "    #Transofmacion inversa\n",
        "    true_predicctions = scaler.inverse_transform(test_predictions)\n",
        "    return true_predicctions"
      ],
      "execution_count": 74,
      "outputs": []
    },
    {
      "cell_type": "markdown",
      "metadata": {
        "id": "0jHkVun1POn2"
      },
      "source": [
        "# **Generacion de Modelos**\n",
        "\n",
        "- En esta seccion se podran obseervar el proceso de creacion de modelos predictivos para los datos\n",
        "\n",
        "    - Creacion del modelo\n",
        "    - Entrenamiento del modelos\n",
        "    - Visualizando predccicion y datos reales\n",
        "    - Observar en accuracy"
      ]
    },
    {
      "cell_type": "markdown",
      "metadata": {
        "id": "SSbnrYj9RfS1"
      },
      "source": [
        "## **Modelo 1**"
      ]
    },
    {
      "cell_type": "code",
      "metadata": {
        "id": "lDqYigo2Y_jc"
      },
      "source": [
        "# Red neuronal\n",
        "# MODELO 1\n",
        "\n",
        "# 1. Creacion Modelo\n",
        "model_1 = Sequential()\n",
        "\n",
        "#Modelo ocupara 4 capas\n",
        "#Optmizador: adam\n",
        "#Funcion de perdidad: mean_squarer_error\n",
        "model_1.add(LSTM(128, activation='relu', input_shape=(n_input, n_feacture)))\n",
        "model_1.add(Dense(64, activation='relu' ))\n",
        "model_1.add(Dense(32, activation='relu'))\n",
        "model_1.add(Dense(1))\n",
        "\n",
        "# 2. Compilacion del modelo\n",
        "model_1.compile(optimizer='adam', loss='mean_squared_error', metrics=['accuracy'])\n",
        "\n",
        "# 3. Entreneamiento del modelo\n",
        "model_1.fit_generator(generator, epochs=50)"
      ],
      "execution_count": 61,
      "outputs": []
    },
    {
      "cell_type": "code",
      "metadata": {
        "colab": {
          "base_uri": "https://localhost:8080/"
        },
        "id": "wDfTuKM4agq0",
        "outputId": "5f266e07-553d-4753-884e-c3809d0b84fb"
      },
      "source": [
        "model_1.summary()"
      ],
      "execution_count": 62,
      "outputs": [
        {
          "output_type": "stream",
          "text": [
            "Model: \"sequential_1\"\n",
            "_________________________________________________________________\n",
            "Layer (type)                 Output Shape              Param #   \n",
            "=================================================================\n",
            "lstm_1 (LSTM)                (None, 128)               66560     \n",
            "_________________________________________________________________\n",
            "dense_3 (Dense)              (None, 64)                8256      \n",
            "_________________________________________________________________\n",
            "dense_4 (Dense)              (None, 32)                2080      \n",
            "_________________________________________________________________\n",
            "dense_5 (Dense)              (None, 1)                 33        \n",
            "=================================================================\n",
            "Total params: 76,929\n",
            "Trainable params: 76,929\n",
            "Non-trainable params: 0\n",
            "_________________________________________________________________\n"
          ],
          "name": "stdout"
        }
      ]
    },
    {
      "cell_type": "code",
      "metadata": {
        "colab": {
          "base_uri": "https://localhost:8080/",
          "height": 533
        },
        "id": "2ZmG6nYPa5ur",
        "outputId": "15d246e9-fdbd-4509-f86f-ce5662d441c9"
      },
      "source": [
        "keras.utils.plot_model(model_1, show_shapes=True)"
      ],
      "execution_count": 101,
      "outputs": [
        {
          "output_type": "execute_result",
          "data": {
            "image/png": "[encoded data removed]",
            "text/plain": [
              "<IPython.core.display.Image object>"
            ]
          },
          "metadata": {
            "tags": []
          },
          "execution_count": 101
        }
      ]
    },
    {
      "cell_type": "code",
      "metadata": {
        "colab": {
          "base_uri": "https://localhost:8080/",
          "height": 282
        },
        "id": "X89-fFaUbB0j",
        "outputId": "44d10dbc-b3d1-4d51-aef7-6fb06ece4c3c"
      },
      "source": [
        "# Plotenado las datos de perdida\n",
        "loss_pre_epoch = model_1.history.history['loss']\n",
        "plt.plot(range(len(loss_pre_epoch)), loss_pre_epoch)"
      ],
      "execution_count": 77,
      "outputs": [
        {
          "output_type": "execute_result",
          "data": {
            "text/plain": [
              "[<matplotlib.lines.Line2D at 0x7fa513aba9d0>]"
            ]
          },
          "metadata": {
            "tags": []
          },
          "execution_count": 77
        },
        {
          "output_type": "display_data",
          "data": {
            "image/png": "[encoded data removed]",
            "text/plain": [
              "<Figure size 432x288 with 1 Axes>"
            ]
          },
          "metadata": {
            "tags": [],
            "needs_background": "light"
          }
        }
      ]
    },
    {
      "cell_type": "code",
      "metadata": {
        "colab": {
          "base_uri": "https://localhost:8080/"
        },
        "id": "QoqBGVoDcE_-",
        "outputId": "baacfe5f-d8b4-42ab-b3fd-9ccb7dedd90d"
      },
      "source": [
        "first_eval = scaled_train[-40:]\n",
        "first_eval = first_eval.reshape(1, n_input, n_feacture)\n",
        "model_1.predict(first_eval)"
      ],
      "execution_count": 78,
      "outputs": [
        {
          "output_type": "execute_result",
          "data": {
            "text/plain": [
              "array([[0.28323323]], dtype=float32)"
            ]
          },
          "metadata": {
            "tags": []
          },
          "execution_count": 78
        }
      ]
    },
    {
      "cell_type": "code",
      "metadata": {
        "id": "GsdfHaByN-hg"
      },
      "source": [
        "y = function_preparet(model_1)"
      ],
      "execution_count": 79,
      "outputs": []
    },
    {
      "cell_type": "code",
      "metadata": {
        "colab": {
          "base_uri": "https://localhost:8080/"
        },
        "id": "YJAsPu-GOUU3",
        "outputId": "422efbcf-0867-4753-d9a4-51e8deffe0e8"
      },
      "source": [
        "test['Model_1'] = y"
      ],
      "execution_count": 80,
      "outputs": [
        {
          "output_type": "stream",
          "text": [
            "/usr/local/lib/python3.7/dist-packages/ipykernel_launcher.py:1: SettingWithCopyWarning: \n",
            "A value is trying to be set on a copy of a slice from a DataFrame.\n",
            "Try using .loc[row_indexer,col_indexer] = value instead\n",
            "\n",
            "See the caveats in the documentation: https://pandas.pydata.org/pandas-docs/stable/user_guide/indexing.html#returning-a-view-versus-a-copy\n",
            "  \"\"\"Entry point for launching an IPython kernel.\n"
          ],
          "name": "stderr"
        }
      ]
    },
    {
      "cell_type": "code",
      "metadata": {
        "colab": {
          "base_uri": "https://localhost:8080/",
          "height": 332
        },
        "id": "TbnkxHd0OZV9",
        "outputId": "6a52940a-79ca-4833-fef4-e7c9bc14229b"
      },
      "source": [
        "#Observando predicciones vs datos reales\n",
        "#observamos las primeras 8 filas\n",
        "test.head(8)"
      ],
      "execution_count": 81,
      "outputs": [
        {
          "output_type": "execute_result",
          "data": {
            "text/html": [
              "<div>\n",
              "<style scoped>\n",
              "    .dataframe tbody tr th:only-of-type {\n",
              "        vertical-align: middle;\n",
              "    }\n",
              "\n",
              "    .dataframe tbody tr th {\n",
              "        vertical-align: top;\n",
              "    }\n",
              "\n",
              "    .dataframe thead th {\n",
              "        text-align: right;\n",
              "    }\n",
              "</style>\n",
              "<table border=\"1\" class=\"dataframe\">\n",
              "  <thead>\n",
              "    <tr style=\"text-align: right;\">\n",
              "      <th></th>\n",
              "      <th>new_cases</th>\n",
              "      <th>Model_1</th>\n",
              "    </tr>\n",
              "    <tr>\n",
              "      <th>date</th>\n",
              "      <th></th>\n",
              "      <th></th>\n",
              "    </tr>\n",
              "  </thead>\n",
              "  <tbody>\n",
              "    <tr>\n",
              "      <th>2021-02-18</th>\n",
              "      <td>9099.0</td>\n",
              "      <td>7963.102131</td>\n",
              "    </tr>\n",
              "    <tr>\n",
              "      <th>2021-02-19</th>\n",
              "      <td>7829.0</td>\n",
              "      <td>6906.965707</td>\n",
              "    </tr>\n",
              "    <tr>\n",
              "      <th>2021-02-20</th>\n",
              "      <td>7785.0</td>\n",
              "      <td>5458.524759</td>\n",
              "    </tr>\n",
              "    <tr>\n",
              "      <th>2021-02-21</th>\n",
              "      <td>3104.0</td>\n",
              "      <td>4649.039109</td>\n",
              "    </tr>\n",
              "    <tr>\n",
              "      <th>2021-02-22</th>\n",
              "      <td>2252.0</td>\n",
              "      <td>4489.422302</td>\n",
              "    </tr>\n",
              "    <tr>\n",
              "      <th>2021-02-23</th>\n",
              "      <td>8634.0</td>\n",
              "      <td>4685.483653</td>\n",
              "    </tr>\n",
              "    <tr>\n",
              "      <th>2021-02-24</th>\n",
              "      <td>8642.0</td>\n",
              "      <td>4931.165404</td>\n",
              "    </tr>\n",
              "    <tr>\n",
              "      <th>2021-02-25</th>\n",
              "      <td>8462.0</td>\n",
              "      <td>5157.008379</td>\n",
              "    </tr>\n",
              "  </tbody>\n",
              "</table>\n",
              "</div>"
            ],
            "text/plain": [
              "            new_cases      Model_1\n",
              "date                              \n",
              "2021-02-18     9099.0  7963.102131\n",
              "2021-02-19     7829.0  6906.965707\n",
              "2021-02-20     7785.0  5458.524759\n",
              "2021-02-21     3104.0  4649.039109\n",
              "2021-02-22     2252.0  4489.422302\n",
              "2021-02-23     8634.0  4685.483653\n",
              "2021-02-24     8642.0  4931.165404\n",
              "2021-02-25     8462.0  5157.008379"
            ]
          },
          "metadata": {
            "tags": []
          },
          "execution_count": 81
        }
      ]
    },
    {
      "cell_type": "code",
      "metadata": {
        "id": "OhauPcqbgTDZ",
        "colab": {
          "base_uri": "https://localhost:8080/",
          "height": 331
        },
        "outputId": "24284ca0-a6b8-400e-d1ae-00cfcb3d4177"
      },
      "source": [
        "#Plotenado datos Predictores y predichos\n",
        "test.plot()"
      ],
      "execution_count": 82,
      "outputs": [
        {
          "output_type": "execute_result",
          "data": {
            "text/plain": [
              "<matplotlib.axes._subplots.AxesSubplot at 0x7fa51398aa90>"
            ]
          },
          "metadata": {
            "tags": []
          },
          "execution_count": 82
        },
        {
          "output_type": "display_data",
          "data": {
            "image/png": "[encoded data removed]",
            "text/plain": [
              "<Figure size 432x288 with 1 Axes>"
            ]
          },
          "metadata": {
            "tags": [],
            "needs_background": "light"
          }
        }
      ]
    },
    {
      "cell_type": "markdown",
      "metadata": {
        "id": "KTtysQjUg8Oo"
      },
      "source": [
        "## **Modelo 2**"
      ]
    },
    {
      "cell_type": "code",
      "metadata": {
        "id": "NeE4BFZihONo"
      },
      "source": [
        "# Modelo 2\n",
        "# Modelo con 5 capas\n",
        "# Optmizador: SGD\n",
        "# Funcion de perdida: MSE\n",
        "\n",
        "# 1. Creacion del modelo\n",
        "model_2 = Sequential()\n",
        "\n",
        "model_2.add(LSTM(128, activation='relu', input_shape=(n_input, n_feacture)))\n",
        "model_2.add(Dense(64, activation='relu' ))\n",
        "model_2.add(Dense(32, activation='relu'))\n",
        "model_2.add(Dense(12, activation='relu'))\n",
        "model_2.add(Dense(1))\n",
        "\n",
        "# 2. Compilacion del modelo\n",
        "model_2.compile(optimizer='sgd', loss='mean_squared_error', metrics=['accuracy'])\n",
        "\n",
        "# 3. Entrenamiento del modelo\n",
        "model_2.fit_generator(generator, epochs=50)"
      ],
      "execution_count": null,
      "outputs": []
    },
    {
      "cell_type": "code",
      "metadata": {
        "colab": {
          "base_uri": "https://localhost:8080/"
        },
        "id": "b-xfiKCrhONv",
        "outputId": "cf65b484-4844-4fbe-a1d2-0af3e0a0d9d6"
      },
      "source": [
        "model_2.summary()"
      ],
      "execution_count": 88,
      "outputs": [
        {
          "output_type": "stream",
          "text": [
            "Model: \"sequential_6\"\n",
            "_________________________________________________________________\n",
            "Layer (type)                 Output Shape              Param #   \n",
            "=================================================================\n",
            "lstm_6 (LSTM)                (None, 128)               66560     \n",
            "_________________________________________________________________\n",
            "dense_18 (Dense)             (None, 64)                8256      \n",
            "_________________________________________________________________\n",
            "dense_19 (Dense)             (None, 32)                2080      \n",
            "_________________________________________________________________\n",
            "dense_20 (Dense)             (None, 12)                396       \n",
            "_________________________________________________________________\n",
            "dense_21 (Dense)             (None, 1)                 13        \n",
            "=================================================================\n",
            "Total params: 77,305\n",
            "Trainable params: 77,305\n",
            "Non-trainable params: 0\n",
            "_________________________________________________________________\n"
          ],
          "name": "stdout"
        }
      ]
    },
    {
      "cell_type": "code",
      "metadata": {
        "colab": {
          "base_uri": "https://localhost:8080/",
          "height": 282
        },
        "id": "x2hS_MkLhON6",
        "outputId": "abbaf0ae-8723-4f69-9c41-d1de72219590"
      },
      "source": [
        "# Plotenado datos de perdida\n",
        "loss_pre_epoch = model_2.history.history['loss']\n",
        "plt.plot(range(len(loss_pre_epoch)), loss_pre_epoch)"
      ],
      "execution_count": 89,
      "outputs": [
        {
          "output_type": "execute_result",
          "data": {
            "text/plain": [
              "[<matplotlib.lines.Line2D at 0x7fa5138aced0>]"
            ]
          },
          "metadata": {
            "tags": []
          },
          "execution_count": 89
        },
        {
          "output_type": "display_data",
          "data": {
            "image/png": "[encoded data removed]",
            "text/plain": [
              "<Figure size 432x288 with 1 Axes>"
            ]
          },
          "metadata": {
            "tags": [],
            "needs_background": "light"
          }
        }
      ]
    },
    {
      "cell_type": "code",
      "metadata": {
        "colab": {
          "base_uri": "https://localhost:8080/",
          "height": 644
        },
        "id": "eBnga0-BVdiB",
        "outputId": "c06318fc-c48f-4eb4-cada-74126a1adbd3"
      },
      "source": [
        "# Observando el comportamiento de la Red Nueronal\n",
        "keras.utils.plot_model(model_2, show_shapes=True)"
      ],
      "execution_count": 91,
      "outputs": [
        {
          "output_type": "execute_result",
          "data": {
            "image/png": "[encoded data removed]",
            "text/plain": [
              "<IPython.core.display.Image object>"
            ]
          },
          "metadata": {
            "tags": []
          },
          "execution_count": 91
        }
      ]
    },
    {
      "cell_type": "code",
      "metadata": {
        "colab": {
          "base_uri": "https://localhost:8080/"
        },
        "id": "OfgGvV4uhON9",
        "outputId": "76cdbafd-98b6-43ce-a4aa-a2996b1e0634"
      },
      "source": [
        "first_eval = scaled_train[-40:]\n",
        "first_eval = first_eval.reshape(1, n_input, n_feacture)\n",
        "model_2.predict(first_eval)"
      ],
      "execution_count": 92,
      "outputs": [
        {
          "output_type": "execute_result",
          "data": {
            "text/plain": [
              "array([[0.27706033]], dtype=float32)"
            ]
          },
          "metadata": {
            "tags": []
          },
          "execution_count": 92
        }
      ]
    },
    {
      "cell_type": "code",
      "metadata": {
        "id": "orHnQ1w1VaoE"
      },
      "source": [
        "# Accedemos a la funcion para prededir por lotes\n",
        "y = function_preparet(model_2)"
      ],
      "execution_count": 93,
      "outputs": []
    },
    {
      "cell_type": "code",
      "metadata": {
        "colab": {
          "base_uri": "https://localhost:8080/"
        },
        "id": "5omYEJWyhOOB",
        "outputId": "c52ab995-25d7-43d8-d371-f20924174ad2"
      },
      "source": [
        "# Asigna los datos a nueva columna\n",
        "test['Model_2'] = y"
      ],
      "execution_count": 95,
      "outputs": [
        {
          "output_type": "stream",
          "text": [
            "/usr/local/lib/python3.7/dist-packages/ipykernel_launcher.py:2: SettingWithCopyWarning: \n",
            "A value is trying to be set on a copy of a slice from a DataFrame.\n",
            "Try using .loc[row_indexer,col_indexer] = value instead\n",
            "\n",
            "See the caveats in the documentation: https://pandas.pydata.org/pandas-docs/stable/user_guide/indexing.html#returning-a-view-versus-a-copy\n",
            "  \n"
          ],
          "name": "stderr"
        }
      ]
    },
    {
      "cell_type": "code",
      "metadata": {
        "colab": {
          "base_uri": "https://localhost:8080/",
          "height": 331
        },
        "id": "YOr8EsR0hOOB",
        "outputId": "a9cfba74-4223-49e7-ddda-294d7d814df7"
      },
      "source": [
        "test[['Model_2', 'new_cases']].plot()"
      ],
      "execution_count": 97,
      "outputs": [
        {
          "output_type": "execute_result",
          "data": {
            "text/plain": [
              "<matplotlib.axes._subplots.AxesSubplot at 0x7fa5132b7950>"
            ]
          },
          "metadata": {
            "tags": []
          },
          "execution_count": 97
        },
        {
          "output_type": "display_data",
          "data": {
            "image/png": "[encoded data removed]",
            "text/plain": [
              "<Figure size 432x288 with 1 Axes>"
            ]
          },
          "metadata": {
            "tags": [],
            "needs_background": "light"
          }
        }
      ]
    },
    {
      "cell_type": "code",
      "metadata": {
        "colab": {
          "base_uri": "https://localhost:8080/",
          "height": 332
        },
        "id": "US7dbUnBhOOC",
        "outputId": "990ddf0c-2a03-4fe8-b4b7-83d26f89866a"
      },
      "source": [
        "#Observacion de los test y la predicciones\n",
        "test.head(8)"
      ],
      "execution_count": 100,
      "outputs": [
        {
          "output_type": "execute_result",
          "data": {
            "text/html": [
              "<div>\n",
              "<style scoped>\n",
              "    .dataframe tbody tr th:only-of-type {\n",
              "        vertical-align: middle;\n",
              "    }\n",
              "\n",
              "    .dataframe tbody tr th {\n",
              "        vertical-align: top;\n",
              "    }\n",
              "\n",
              "    .dataframe thead th {\n",
              "        text-align: right;\n",
              "    }\n",
              "</style>\n",
              "<table border=\"1\" class=\"dataframe\">\n",
              "  <thead>\n",
              "    <tr style=\"text-align: right;\">\n",
              "      <th></th>\n",
              "      <th>new_cases</th>\n",
              "      <th>Model_1</th>\n",
              "      <th>Model_2</th>\n",
              "    </tr>\n",
              "    <tr>\n",
              "      <th>date</th>\n",
              "      <th></th>\n",
              "      <th></th>\n",
              "      <th></th>\n",
              "    </tr>\n",
              "  </thead>\n",
              "  <tbody>\n",
              "    <tr>\n",
              "      <th>2021-02-18</th>\n",
              "      <td>9099.0</td>\n",
              "      <td>7963.102131</td>\n",
              "      <td>7789.551176</td>\n",
              "    </tr>\n",
              "    <tr>\n",
              "      <th>2021-02-19</th>\n",
              "      <td>7829.0</td>\n",
              "      <td>6906.965707</td>\n",
              "      <td>7712.967820</td>\n",
              "    </tr>\n",
              "    <tr>\n",
              "      <th>2021-02-20</th>\n",
              "      <td>7785.0</td>\n",
              "      <td>5458.524759</td>\n",
              "      <td>7641.120231</td>\n",
              "    </tr>\n",
              "    <tr>\n",
              "      <th>2021-02-21</th>\n",
              "      <td>3104.0</td>\n",
              "      <td>4649.039109</td>\n",
              "      <td>7571.307046</td>\n",
              "    </tr>\n",
              "    <tr>\n",
              "      <th>2021-02-22</th>\n",
              "      <td>2252.0</td>\n",
              "      <td>4489.422302</td>\n",
              "      <td>7503.219080</td>\n",
              "    </tr>\n",
              "    <tr>\n",
              "      <th>2021-02-23</th>\n",
              "      <td>8634.0</td>\n",
              "      <td>4685.483653</td>\n",
              "      <td>7436.761653</td>\n",
              "    </tr>\n",
              "    <tr>\n",
              "      <th>2021-02-24</th>\n",
              "      <td>8642.0</td>\n",
              "      <td>4931.165404</td>\n",
              "      <td>7371.939791</td>\n",
              "    </tr>\n",
              "    <tr>\n",
              "      <th>2021-02-25</th>\n",
              "      <td>8462.0</td>\n",
              "      <td>5157.008379</td>\n",
              "      <td>7308.500452</td>\n",
              "    </tr>\n",
              "  </tbody>\n",
              "</table>\n",
              "</div>"
            ],
            "text/plain": [
              "            new_cases      Model_1      Model_2\n",
              "date                                           \n",
              "2021-02-18     9099.0  7963.102131  7789.551176\n",
              "2021-02-19     7829.0  6906.965707  7712.967820\n",
              "2021-02-20     7785.0  5458.524759  7641.120231\n",
              "2021-02-21     3104.0  4649.039109  7571.307046\n",
              "2021-02-22     2252.0  4489.422302  7503.219080\n",
              "2021-02-23     8634.0  4685.483653  7436.761653\n",
              "2021-02-24     8642.0  4931.165404  7371.939791\n",
              "2021-02-25     8462.0  5157.008379  7308.500452"
            ]
          },
          "metadata": {
            "tags": []
          },
          "execution_count": 100
        }
      ]
    },
    {
      "cell_type": "markdown",
      "metadata": {
        "id": "9com2UK4lSQZ"
      },
      "source": [
        "# **Modeo 3**"
      ]
    },
    {
      "cell_type": "code",
      "metadata": {
        "id": "lyRyhm_wlUFs"
      },
      "source": [
        ""
      ],
      "execution_count": null,
      "outputs": []
    },
    {
      "cell_type": "code",
      "metadata": {
        "id": "0Ya8qNn6lUWz"
      },
      "source": [
        "# Red neuronal 3\n",
        "# 5 Capas\n",
        "# relu para activacion de cada capa\n",
        "# sgd para compilacion y mse para loss\n",
        "\n",
        "#Red sequential\n",
        "model_3 = Sequential()\n",
        "\n",
        "#Red nueronal con 4 capas, cada capa tiene dierente cantidad de nueronas\n",
        "model_3.add(LSTM(168, activation='relu', input_shape=(n_input, n_feacture)))\n",
        "model_3.add(Dense(124, activation='relu' ))\n",
        "model_3.add(Dense(64, activation='relu'))\n",
        "model_3.add(Dense(32))\n",
        "model_3.add(Dense(1))\n",
        "\n",
        "#Compilacion de la red nueronal\n",
        "model_3.compile(optimizer='sgd', loss='mean_squared_error',\n",
        "                metrics=[metrics.mae,\n",
        "                metrics.categorical_accuracy])"
      ],
      "execution_count": null,
      "outputs": []
    },
    {
      "cell_type": "code",
      "metadata": {
        "id": "3kPyYglqlUW4"
      },
      "source": [
        "model_3.summary()"
      ],
      "execution_count": null,
      "outputs": []
    },
    {
      "cell_type": "code",
      "metadata": {
        "id": "kbTlz_E8lUW7"
      },
      "source": [
        "#Entrenando la red nueronal\n",
        "\n",
        "model_3.fit_generator(generator, epochs=100)"
      ],
      "execution_count": null,
      "outputs": []
    },
    {
      "cell_type": "code",
      "metadata": {
        "id": "gtFTYw2wlUXA"
      },
      "source": [
        "first_eval_3 = scaled_train[-20:]\n",
        "\n",
        "\n",
        "first_eval_3 = first_eval_3.reshape(1, n_input, n_feacture)\n",
        "\n",
        "model_3.predict(first_eval_3)"
      ],
      "execution_count": null,
      "outputs": []
    },
    {
      "cell_type": "code",
      "metadata": {
        "id": "I0xsowNMlUXC"
      },
      "source": [
        "test_predictions_3 = []\n",
        "\n",
        "first_eval_batch = scaled_train[-n_input:]\n",
        "current_batch = first_eval_3.reshape((1, n_input, n_feacture))\n",
        "\n",
        "for i in range(len(test)):\n",
        "    \n",
        "    # obtener la predicción ([0] es para obtener solo el número en lugar de [matriz])\n",
        "    current_pred = model_3.predict(current_batch)[0]\n",
        "    \n",
        "    # guardar la predicción\n",
        "    test_predictions_3.append(current_pred) \n",
        "    \n",
        "    # actualizar el lote para incluir ahora la predicción y soltar primer valor\n",
        "    current_batch = np.append(current_batch[:,1:,:],[[current_pred]],axis=1)"
      ],
      "execution_count": null,
      "outputs": []
    },
    {
      "cell_type": "code",
      "metadata": {
        "id": "Z7iRUT8HlUXD"
      },
      "source": [
        "#Transofmacion inversa\n",
        "true_predicctions_3 = scaler.inverse_transform(test_predictions_3)\n",
        "\n",
        "\n",
        "test['Prediction_3'] = true_predicctions_3"
      ],
      "execution_count": null,
      "outputs": []
    },
    {
      "cell_type": "code",
      "metadata": {
        "id": "-R3egc6VlUXE"
      },
      "source": [
        "test.plot(figsize=(12,8))"
      ],
      "execution_count": null,
      "outputs": []
    },
    {
      "cell_type": "code",
      "metadata": {
        "id": "Dj9JG3EflUXF"
      },
      "source": [
        "#Observacion de los test y la predicciones\n",
        "test"
      ],
      "execution_count": null,
      "outputs": []
    },
    {
      "cell_type": "markdown",
      "metadata": {
        "id": "dZxNfYxMsqAk"
      },
      "source": [
        "# **Modelo 4**"
      ]
    },
    {
      "cell_type": "code",
      "metadata": {
        "id": "cMW920F3sreM"
      },
      "source": [
        ""
      ],
      "execution_count": null,
      "outputs": []
    },
    {
      "cell_type": "code",
      "metadata": {
        "id": "1E4dd79AsrvB"
      },
      "source": [
        "# Red neuronal 4\n",
        "# 5 Capas\n",
        "# relu para activacion de cada capa\n",
        "# adam para compilacion y mse para loss\n",
        "\n",
        "#Red sequential\n",
        "model_4 = Sequential()\n",
        "\n",
        "#Red nueronal con 4 capas, cada capa tiene dierente cantidad de nueronas\n",
        "model_4.add(LSTM(200, activation='relu', input_shape=(n_input, n_feacture)))\n",
        "model_4.add(Dense(100, activation='relu' ))\n",
        "model_4.add(Dense(84, activation='relu'))\n",
        "model_4.add(Dense(32, activation='relu'))\n",
        "model_4.add(Dense(32))\n",
        "model_4.add(Dense(1))\n",
        "\n",
        "#Compilacion de la red nueronal\n",
        "model_4.compile(optimizer='adam', loss='mean_squared_error',\n",
        "                metrics=[metrics.mae,\n",
        "                metrics.categorical_accuracy])"
      ],
      "execution_count": null,
      "outputs": []
    },
    {
      "cell_type": "code",
      "metadata": {
        "id": "4vyhjqlpsxqK"
      },
      "source": [
        "model_4.summary()"
      ],
      "execution_count": null,
      "outputs": []
    },
    {
      "cell_type": "code",
      "metadata": {
        "id": "rGQarEa4sxqO"
      },
      "source": [
        "#Entrenando la red nueronal\n",
        "\n",
        "model_4.fit_generator(generator, epochs=200)"
      ],
      "execution_count": null,
      "outputs": []
    },
    {
      "cell_type": "code",
      "metadata": {
        "id": "TKWj4l-QsxqS"
      },
      "source": [
        "first_eval_4 = scaled_train[-20:]\n",
        "\n",
        "\n",
        "first_eval_4 = first_eval_4.reshape(1, n_input, n_feacture)\n",
        "\n",
        "model_4.predict(first_eval_4)"
      ],
      "execution_count": null,
      "outputs": []
    },
    {
      "cell_type": "code",
      "metadata": {
        "id": "Vw81kCXOsxqU"
      },
      "source": [
        "test_predictions_4 = []\n",
        "\n",
        "first_eval_batch = scaled_train[-n_input:]\n",
        "current_batch = first_eval_4.reshape((1, n_input, n_feacture))\n",
        "\n",
        "for i in range(len(test)):\n",
        "    \n",
        "    # obtener la predicción ([0] es para obtener solo el número en lugar de [matriz])\n",
        "    current_pred = model_4.predict(current_batch)[0]\n",
        "    \n",
        "    # guardar la predicción\n",
        "    test_predictions_4.append(current_pred) \n",
        "    \n",
        "    # actualizar el lote para incluir ahora la predicción y soltar primer valor\n",
        "    current_batch = np.append(current_batch[:,1:,:],[[current_pred]],axis=1)"
      ],
      "execution_count": null,
      "outputs": []
    },
    {
      "cell_type": "code",
      "metadata": {
        "id": "CEyLcBR2sxqW"
      },
      "source": [
        "#Transofmacion inversa\n",
        "true_predicctions_4 = scaler.inverse_transform(test_predictions_4)\n",
        "\n",
        "\n",
        "test['Prediction_4'] = true_predicctions_4"
      ],
      "execution_count": null,
      "outputs": []
    },
    {
      "cell_type": "code",
      "metadata": {
        "id": "jSiLxb-osxqX"
      },
      "source": [
        "test.plot(figsize=(12,8))"
      ],
      "execution_count": null,
      "outputs": []
    },
    {
      "cell_type": "code",
      "metadata": {
        "id": "hForrMZ4sxqY"
      },
      "source": [
        "#Observacion de los test y la predicciones\n",
        "test"
      ],
      "execution_count": null,
      "outputs": []
    },
    {
      "cell_type": "markdown",
      "metadata": {
        "id": "KXkJLdcYyuf9"
      },
      "source": [
        "# **Model 5**"
      ]
    },
    {
      "cell_type": "code",
      "metadata": {
        "id": "uPI8hMypywNi"
      },
      "source": [
        ""
      ],
      "execution_count": null,
      "outputs": []
    },
    {
      "cell_type": "code",
      "metadata": {
        "id": "tLyViX-_y1BK"
      },
      "source": [
        "# Red neuronal 5\n",
        "# 5 Capas\n",
        "# relu para activacion de cada capa\n",
        "# adam para compilacion y mse para loss\n",
        "\n",
        "#Red sequential\n",
        "model_5 = Sequential()\n",
        "\n",
        "#Red nueronal con 4 capas, cada capa tiene dierente cantidad de nueronas\n",
        "model_5.add(LSTM(200, activation='relu', input_shape=(n_input, n_feacture)))\n",
        "model_5.add(Dense(100, activation='relu' ))\n",
        "model_5.add(Dense(84, activation='relu'))\n",
        "model_5.add(Dense(64, activation='relu'))\n",
        "model_5.add(Dense(32, activation='sigmoid'))\n",
        "model_5.add(Dense(1))\n",
        "\n",
        "#Compilacion de la red nueronal\n",
        "model_5.compile(optimizer='adam', loss='mean_squared_error',\n",
        "                metrics=[\"accuracy\"])"
      ],
      "execution_count": null,
      "outputs": []
    },
    {
      "cell_type": "code",
      "metadata": {
        "id": "QTvNi2b8y1BS"
      },
      "source": [
        "model_5.summary()"
      ],
      "execution_count": null,
      "outputs": []
    },
    {
      "cell_type": "code",
      "metadata": {
        "id": "JQTklIyMy1Bb"
      },
      "source": [
        "#Entrenando la red nueronal\n",
        "\n",
        "model_5.fit_generator(generator, epochs=200)"
      ],
      "execution_count": null,
      "outputs": []
    },
    {
      "cell_type": "code",
      "metadata": {
        "id": "AGNo2p3hy1Bf"
      },
      "source": [
        "first_eval_5 = scaled_train[-20:]\n",
        "\n",
        "\n",
        "first_eval_5 = first_eval_5.reshape(1, n_input, n_feacture)\n",
        "\n",
        "model_5.predict(first_eval_5)"
      ],
      "execution_count": null,
      "outputs": []
    },
    {
      "cell_type": "code",
      "metadata": {
        "id": "DY2AjL6Dy1Bj"
      },
      "source": [
        "test_predictions_5 = []\n",
        "\n",
        "first_eval_batch = scaled_train[-n_input:]\n",
        "current_batch = first_eval_5.reshape((1, n_input, n_feacture))\n",
        "\n",
        "for i in range(len(test)):\n",
        "    \n",
        "    # obtener la predicción ([0] es para obtener solo el número en lugar de [matriz])\n",
        "    current_pred = model_5.predict(current_batch)[0]\n",
        "    \n",
        "    # guardar la predicción\n",
        "    test_predictions_5.append(current_pred) \n",
        "    \n",
        "    # actualizar el lote para incluir ahora la predicción y soltar primer valor\n",
        "    current_batch = np.append(current_batch[:,1:,:],[[current_pred]],axis=1)"
      ],
      "execution_count": null,
      "outputs": []
    },
    {
      "cell_type": "code",
      "metadata": {
        "id": "BfYbgcfKy1Bk"
      },
      "source": [
        "#Transofmacion inversa\n",
        "true_predicctions_5 = scaler.inverse_transform(test_predictions_5)\n",
        "\n",
        "\n",
        "test['Prediction_5'] = true_predicctions_5"
      ],
      "execution_count": null,
      "outputs": []
    },
    {
      "cell_type": "code",
      "metadata": {
        "id": "7zKpUdgdy1Bm"
      },
      "source": [
        "test[['new_cases', 'Prediction_5']].plot(figsize=(12,8))"
      ],
      "execution_count": null,
      "outputs": []
    },
    {
      "cell_type": "code",
      "metadata": {
        "id": "FkIhRrkTy1Bn"
      },
      "source": [
        "#Observacion de los test y la predicciones\n",
        "test"
      ],
      "execution_count": null,
      "outputs": []
    },
    {
      "cell_type": "markdown",
      "metadata": {
        "id": "y-5472Ge4Uuz"
      },
      "source": [
        "# **Modelo 6**"
      ]
    },
    {
      "cell_type": "code",
      "metadata": {
        "id": "QKOkH5Pf4Xhc"
      },
      "source": [
        ""
      ],
      "execution_count": null,
      "outputs": []
    },
    {
      "cell_type": "code",
      "metadata": {
        "id": "w_eKeRtq4jzN"
      },
      "source": [
        "# Red neuronal 6\n",
        "# 5 Capas\n",
        "# relu para activacion de cada capa\n",
        "# adam para compilacion y mse para loss\n",
        "\n",
        "#Red sequential\n",
        "model_6 = Sequential()\n",
        "\n",
        "#Red nueronal con 4 capas, cada capa tiene dierente cantidad de nueronas\n",
        "model_6.add(LSTM(200, activation='relu', input_shape=(n_input, n_feacture)))\n",
        "model_6.add(Dense(150, activation='relu' ))\n",
        "model_6.add(Dense(100, activation='relu'))\n",
        "model_6.add(Dense(80, activation='relu'))\n",
        "model_6.add(Dense(64, activation='relu'))\n",
        "model_6.add(Dense(32, activation='sigmoid'))\n",
        "model_6.add(Dense(1))\n",
        "\n",
        "#Compilacion de la red nueronal\n",
        "model_6.compile(optimizer='adam', loss='mean_squared_error',\n",
        "                metrics=[\"accuracy\"])"
      ],
      "execution_count": null,
      "outputs": []
    },
    {
      "cell_type": "code",
      "metadata": {
        "id": "c_Mxz5LM4jzS"
      },
      "source": [
        "model_6.summary()"
      ],
      "execution_count": null,
      "outputs": []
    },
    {
      "cell_type": "code",
      "metadata": {
        "id": "VDN0xE8P4jzX"
      },
      "source": [
        "#Entrenando la red nueronal\n",
        "\n",
        "model_6.fit_generator(generator, epochs=250)"
      ],
      "execution_count": null,
      "outputs": []
    },
    {
      "cell_type": "code",
      "metadata": {
        "id": "l2lKDrg74jzc"
      },
      "source": [
        "first_eval_6 = scaled_train[-20:]\n",
        "\n",
        "\n",
        "first_eval_6 = first_eval_6.reshape(1, n_input, n_feacture)\n",
        "\n",
        "model_6.predict(first_eval_6)"
      ],
      "execution_count": null,
      "outputs": []
    },
    {
      "cell_type": "code",
      "metadata": {
        "id": "HT-hb63P4jzf"
      },
      "source": [
        "test_predictions_6 = []\n",
        "\n",
        "first_eval_batch = scaled_train[-n_input:]\n",
        "current_batch = first_eval_6.reshape((1, n_input, n_feacture))\n",
        "\n",
        "for i in range(len(test)):\n",
        "    \n",
        "    # obtener la predicción ([0] es para obtener solo el número en lugar de [matriz])\n",
        "    current_pred = model_6.predict(current_batch)[0]\n",
        "    \n",
        "    # guardar la predicción\n",
        "    test_predictions_6.append(current_pred) \n",
        "    \n",
        "    # actualizar el lote para incluir ahora la predicción y soltar primer valor\n",
        "    current_batch = np.append(current_batch[:,1:,:],[[current_pred]],axis=1)"
      ],
      "execution_count": null,
      "outputs": []
    },
    {
      "cell_type": "code",
      "metadata": {
        "id": "QPk1ZUca4jzi"
      },
      "source": [
        "#Transofmacion inversa\n",
        "true_predicctions_6 = scaler.inverse_transform(test_predictions_6)\n",
        "\n",
        "\n",
        "test['Prediction_6'] = true_predicctions_6"
      ],
      "execution_count": null,
      "outputs": []
    },
    {
      "cell_type": "code",
      "metadata": {
        "id": "uzTFge8x4jzk"
      },
      "source": [
        "test[['new_cases', 'Prediction_6']].plot(figsize=(12,8))"
      ],
      "execution_count": null,
      "outputs": []
    },
    {
      "cell_type": "code",
      "metadata": {
        "id": "p7vrlx5a4jzm"
      },
      "source": [
        "#Observacion de los test y la predicciones\n",
        "test"
      ],
      "execution_count": null,
      "outputs": []
    },
    {
      "cell_type": "markdown",
      "metadata": {
        "id": "AI9Va-37YsR-"
      },
      "source": [
        "# **Modelo 7**"
      ]
    },
    {
      "cell_type": "code",
      "metadata": {
        "id": "v1tCdRADYutZ"
      },
      "source": [
        "66/2"
      ],
      "execution_count": null,
      "outputs": []
    },
    {
      "cell_type": "code",
      "metadata": {
        "id": "iFgaOK_zZuwF"
      },
      "source": [
        "# Red neuronal 7\n",
        "# 5 Capas\n",
        "# relu para activacion de cada capa\n",
        "# adam para compilacion y mse para loss\n",
        "\n",
        "#Red sequential\n",
        "model_7 = Sequential()\n",
        "\n",
        "#Red nueronal con 4 capas, cada capa tiene dierente cantidad de nueronas\n",
        "model_7.add(LSTM(120, activation='relu', input_shape=(n_input, n_feacture)))\n",
        "model_7.add(Dense(100, activation='relu' ))\n",
        "model_7.add(Dense(68, activation='relu' ))\n",
        "model_7.add(Dense(34, activation='sigmoid' ))\n",
        "model_7.add(Dense(16, activation='sigmoid' ))\n",
        "model_7.add(Dense(1))\n",
        "\n",
        "#Compilacion de la red nueronal\n",
        "model_7.compile(optimizer=tf.keras.optimizers.Adam(learning_rate=0.001) , loss='mse',\n",
        "                metrics=[\"accuracy\"])"
      ],
      "execution_count": null,
      "outputs": []
    },
    {
      "cell_type": "code",
      "metadata": {
        "id": "nkfUFhNsZuwH"
      },
      "source": [
        "model_7.summary()"
      ],
      "execution_count": null,
      "outputs": []
    },
    {
      "cell_type": "code",
      "metadata": {
        "id": "CwhdXIjLZuwI"
      },
      "source": [
        "#Entrenando la red nueronal\n",
        "\n",
        "model_7.fit_generator(generator, epochs=300)"
      ],
      "execution_count": null,
      "outputs": []
    },
    {
      "cell_type": "code",
      "metadata": {
        "id": "1-JHiw7__5G4"
      },
      "source": [
        "keras.utils.plot_model(model_7, \"model_7.png\", show_shapes=True)"
      ],
      "execution_count": null,
      "outputs": []
    },
    {
      "cell_type": "code",
      "metadata": {
        "id": "ZxlzSYPdZuwJ"
      },
      "source": [
        "first_eval_7 = scaled_train[-20:]\n",
        "\n",
        "\n",
        "first_eval_7 = first_eval_7.reshape(1, n_input, n_feacture)\n",
        "\n",
        "model_7.predict(first_eval_7)"
      ],
      "execution_count": null,
      "outputs": []
    },
    {
      "cell_type": "code",
      "metadata": {
        "id": "MTwQ-JpPZuwK"
      },
      "source": [
        "test_predictions_7 = []\n",
        "\n",
        "first_eval_batch = scaled_train[-n_input:]\n",
        "current_batch = first_eval_7.reshape((1, n_input, n_feacture))\n",
        "\n",
        "for i in range(len(test)):\n",
        "    \n",
        "    # obtener la predicción ([0] es para obtener solo el número en lugar de [matriz])\n",
        "    current_pred = model_7.predict(current_batch)[0]\n",
        "    \n",
        "    # guardar la predicción\n",
        "    test_predictions_7.append(current_pred) \n",
        "    \n",
        "    # actualizar el lote para incluir ahora la predicción y soltar primer valor\n",
        "    current_batch = np.append(current_batch[:,1:,:],[[current_pred]],axis=1)"
      ],
      "execution_count": null,
      "outputs": []
    },
    {
      "cell_type": "code",
      "metadata": {
        "id": "5HBHKs83ZuwL"
      },
      "source": [
        "#Transofmacion inversa\n",
        "true_predicctions_7 = scaler.inverse_transform(test_predictions_7)\n",
        "\n",
        "\n",
        "test['Prediction_7'] = true_predicctions_7"
      ],
      "execution_count": null,
      "outputs": []
    },
    {
      "cell_type": "code",
      "metadata": {
        "id": "2GCScVCbZuwM"
      },
      "source": [
        "test.plot(figsize=(12,8))\n",
        "plt.title('Red nueronal predict')"
      ],
      "execution_count": null,
      "outputs": []
    },
    {
      "cell_type": "code",
      "metadata": {
        "id": "HI7Hhwf1ZuwO"
      },
      "source": [
        "#Observacion de los test y la predicciones\n",
        "test"
      ],
      "execution_count": null,
      "outputs": []
    },
    {
      "cell_type": "code",
      "metadata": {
        "id": "BEqFH0BItkA6"
      },
      "source": [
        "sea = seasonal_decompose(test['Prediction_7'])\n",
        "sea.plot();"
      ],
      "execution_count": null,
      "outputs": []
    },
    {
      "cell_type": "code",
      "metadata": {
        "id": "kXH8_1Tt27Ct"
      },
      "source": [
        "sea.trend.plot()"
      ],
      "execution_count": null,
      "outputs": []
    },
    {
      "cell_type": "code",
      "metadata": {
        "id": "6V6qDR9S2_DX"
      },
      "source": [
        ""
      ],
      "execution_count": null,
      "outputs": []
    }
  ]
}