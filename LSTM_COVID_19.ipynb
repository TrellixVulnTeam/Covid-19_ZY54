{
  "nbformat": 4,
  "nbformat_minor": 0,
  "metadata": {
    "colab": {
      "name": "LSTM  -  COVID-19.ipynb",
      "provenance": [],
      "mount_file_id": "1aDMNVZct41cp2QNValzW3D9Ob19RLqAB",
      "authorship_tag": "ABX9TyOfvffd3YP7MZCZOPvNyAQq",
      "include_colab_link": true
    },
    "kernelspec": {
      "name": "python3",
      "display_name": "Python 3"
    },
    "language_info": {
      "name": "python"
    }
  },
  "cells": [
    {
      "cell_type": "markdown",
      "metadata": {
        "id": "view-in-github",
        "colab_type": "text"
      },
      "source": [
        "<a href=\"https://colab.research.google.com/github/carturo6/Covid-19/blob/master/LSTM_COVID_19.ipynb\" target=\"_parent\"><img src=\"https://colab.research.google.com/assets/colab-badge.svg\" alt=\"Open In Colab\"/></a>"
      ]
    },
    {
      "cell_type": "markdown",
      "metadata": {
        "id": "kQ7-27SQLs6d"
      },
      "source": [
        "# I.A. DeepLearnin para Casos Covid-19\n",
        "\n",
        "Este respositorio tiene el fin de predecir los proximo casos de Covid19 en México ( Nivel nacional ).\n",
        "\n",
        "Los datos que se ocuparan, son los datos disponibles en paginas del Gobierno.\n",
        "Se utilizaran solo tecnicas de Deep Learning donde cada modelo podra ir variando en funcion que los datos predichos mejor se ajusten a los datos predictorios.\n",
        "\n"
      ]
    },
    {
      "cell_type": "code",
      "metadata": {
        "id": "uq_9I_ZDKvh8"
      },
      "source": [
        "# Import librarys.\n",
        "\n",
        "# DC\n",
        "import pandas as pd\n",
        "import numpy as np\n",
        "import matplotlib.pyplot as plt\n",
        "import scipy as sc\n",
        "import seaborn as sns\n",
        "\n",
        "# DL\n",
        "from keras.models import Sequential\n",
        "from keras.layers import Dense\n",
        "from keras.layers import LSTM\n",
        "import tensorflow as tf"
      ],
      "execution_count": 1,
      "outputs": []
    },
    {
      "cell_type": "code",
      "metadata": {
        "id": "5NmXrsuZPHbx"
      },
      "source": [
        ""
      ],
      "execution_count": null,
      "outputs": []
    }
  ]
}