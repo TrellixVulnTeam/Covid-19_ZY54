{
 "cells": [
  {
   "cell_type": "code",
   "execution_count": 1,
   "metadata": {},
   "outputs": [],
   "source": [
    "#Importando librerias basicas\n",
    "import pandas as pd\n",
    "import numpy as np\n",
    "import matplotlib.pyplot as plt\n",
    "import warnings\n",
    "import scipy\n",
    "import scipy.stats\n",
    "warnings.simplefilter(\"ignore\", UserWarning)"
   ]
  },
  {
   "cell_type": "code",
   "execution_count": 2,
   "metadata": {},
   "outputs": [],
   "source": [
    "#Extrallendo dataset\n",
    "data = pd.read_csv(\"../datasets/200610COVID19MEXICO.csv\")\n"
   ]
  },
  {
   "cell_type": "code",
   "execution_count": 3,
   "metadata": {},
   "outputs": [
    {
     "data": {
      "text/plain": [
       "Index(['FECHA_ACTUALIZACION', 'ID_REGISTRO', 'ORIGEN', 'SECTOR', 'ENTIDAD_UM',\n",
       "       'SEXO', 'ENTIDAD_NAC', 'ENTIDAD_RES', 'MUNICIPIO_RES', 'TIPO_PACIENTE',\n",
       "       'FECHA_INGRESO', 'FECHA_SINTOMAS', 'FECHA_DEF', 'INTUBADO', 'NEUMONIA',\n",
       "       'EDAD', 'NACIONALIDAD', 'EMBARAZO', 'HABLA_LENGUA_INDIG', 'DIABETES',\n",
       "       'EPOC', 'ASMA', 'INMUSUPR', 'HIPERTENSION', 'OTRA_COM',\n",
       "       'CARDIOVASCULAR', 'OBESIDAD', 'RENAL_CRONICA', 'TABAQUISMO',\n",
       "       'OTRO_CASO', 'RESULTADO', 'MIGRANTE', 'PAIS_NACIONALIDAD',\n",
       "       'PAIS_ORIGEN', 'UCI'],\n",
       "      dtype='object')"
      ]
     },
     "execution_count": 3,
     "metadata": {},
     "output_type": "execute_result"
    }
   ],
   "source": [
    "data.columns"
   ]
  },
  {
   "cell_type": "code",
   "execution_count": 4,
   "metadata": {},
   "outputs": [
    {
     "data": {
      "text/html": [
       "<div>\n",
       "<style scoped>\n",
       "    .dataframe tbody tr th:only-of-type {\n",
       "        vertical-align: middle;\n",
       "    }\n",
       "\n",
       "    .dataframe tbody tr th {\n",
       "        vertical-align: top;\n",
       "    }\n",
       "\n",
       "    .dataframe thead th {\n",
       "        text-align: right;\n",
       "    }\n",
       "</style>\n",
       "<table border=\"1\" class=\"dataframe\">\n",
       "  <thead>\n",
       "    <tr style=\"text-align: right;\">\n",
       "      <th></th>\n",
       "      <th>DIABETES</th>\n",
       "      <th>FECHA_DEF</th>\n",
       "    </tr>\n",
       "  </thead>\n",
       "  <tbody>\n",
       "    <tr>\n",
       "      <th>0</th>\n",
       "      <td>1</td>\n",
       "      <td>9999-99-99</td>\n",
       "    </tr>\n",
       "    <tr>\n",
       "      <th>1</th>\n",
       "      <td>2</td>\n",
       "      <td>9999-99-99</td>\n",
       "    </tr>\n",
       "    <tr>\n",
       "      <th>2</th>\n",
       "      <td>2</td>\n",
       "      <td>9999-99-99</td>\n",
       "    </tr>\n",
       "    <tr>\n",
       "      <th>3</th>\n",
       "      <td>2</td>\n",
       "      <td>9999-99-99</td>\n",
       "    </tr>\n",
       "    <tr>\n",
       "      <th>4</th>\n",
       "      <td>2</td>\n",
       "      <td>9999-99-99</td>\n",
       "    </tr>\n",
       "    <tr>\n",
       "      <th>5</th>\n",
       "      <td>2</td>\n",
       "      <td>9999-99-99</td>\n",
       "    </tr>\n",
       "    <tr>\n",
       "      <th>6</th>\n",
       "      <td>2</td>\n",
       "      <td>9999-99-99</td>\n",
       "    </tr>\n",
       "    <tr>\n",
       "      <th>7</th>\n",
       "      <td>1</td>\n",
       "      <td>9999-99-99</td>\n",
       "    </tr>\n",
       "    <tr>\n",
       "      <th>8</th>\n",
       "      <td>2</td>\n",
       "      <td>9999-99-99</td>\n",
       "    </tr>\n",
       "    <tr>\n",
       "      <th>9</th>\n",
       "      <td>2</td>\n",
       "      <td>9999-99-99</td>\n",
       "    </tr>\n",
       "  </tbody>\n",
       "</table>\n",
       "</div>"
      ],
      "text/plain": [
       "   DIABETES   FECHA_DEF\n",
       "0         1  9999-99-99\n",
       "1         2  9999-99-99\n",
       "2         2  9999-99-99\n",
       "3         2  9999-99-99\n",
       "4         2  9999-99-99\n",
       "5         2  9999-99-99\n",
       "6         2  9999-99-99\n",
       "7         1  9999-99-99\n",
       "8         2  9999-99-99\n",
       "9         2  9999-99-99"
      ]
     },
     "execution_count": 4,
     "metadata": {},
     "output_type": "execute_result"
    }
   ],
   "source": [
    "data[[\"DIABETES\", \"FECHA_DEF\"]].head(10)"
   ]
  },
  {
   "cell_type": "markdown",
   "metadata": {},
   "source": [
    "1 -> Si\n",
    "\n",
    "2 -> No"
   ]
  },
  {
   "cell_type": "code",
   "execution_count": 5,
   "metadata": {},
   "outputs": [],
   "source": [
    "data[\"DIABETES\"] = np.where(data[\"DIABETES\"] == 1, \"SI\", data[\"DIABETES\"])"
   ]
  },
  {
   "cell_type": "code",
   "execution_count": 6,
   "metadata": {},
   "outputs": [],
   "source": [
    "data[\"DIABETES\"] = np.where(data[\"DIABETES\"] == 2, \"NO\", data[\"DIABETES\"])"
   ]
  },
  {
   "cell_type": "code",
   "execution_count": 7,
   "metadata": {},
   "outputs": [],
   "source": [
    "data[\"DIABETES\"] = np.where(data[\"DIABETES\"] == \"2\", \"NO\", data[\"DIABETES\"])"
   ]
  },
  {
   "cell_type": "code",
   "execution_count": 8,
   "metadata": {},
   "outputs": [],
   "source": [
    "data = data[[\"SEXO\",\"TIPO_PACIENTE\",\"FECHA_SINTOMAS\", \"FECHA_INGRESO\", \"FECHA_DEF\", \"INTUBADO\", \"EDAD\",\"RESULTADO\", \"DIABETES\", \"EMBARAZO\" ]]"
   ]
  },
  {
   "cell_type": "code",
   "execution_count": 9,
   "metadata": {},
   "outputs": [],
   "source": [
    "data = data[data[\"DIABETES\"]== \"SI\"]"
   ]
  },
  {
   "cell_type": "code",
   "execution_count": 10,
   "metadata": {},
   "outputs": [
    {
     "data": {
      "text/html": [
       "<div>\n",
       "<style scoped>\n",
       "    .dataframe tbody tr th:only-of-type {\n",
       "        vertical-align: middle;\n",
       "    }\n",
       "\n",
       "    .dataframe tbody tr th {\n",
       "        vertical-align: top;\n",
       "    }\n",
       "\n",
       "    .dataframe thead th {\n",
       "        text-align: right;\n",
       "    }\n",
       "</style>\n",
       "<table border=\"1\" class=\"dataframe\">\n",
       "  <thead>\n",
       "    <tr style=\"text-align: right;\">\n",
       "      <th></th>\n",
       "      <th>SEXO</th>\n",
       "      <th>TIPO_PACIENTE</th>\n",
       "      <th>FECHA_SINTOMAS</th>\n",
       "      <th>FECHA_INGRESO</th>\n",
       "      <th>FECHA_DEF</th>\n",
       "      <th>INTUBADO</th>\n",
       "      <th>EDAD</th>\n",
       "      <th>RESULTADO</th>\n",
       "      <th>DIABETES</th>\n",
       "      <th>EMBARAZO</th>\n",
       "    </tr>\n",
       "  </thead>\n",
       "  <tbody>\n",
       "    <tr>\n",
       "      <th>0</th>\n",
       "      <td>2</td>\n",
       "      <td>1</td>\n",
       "      <td>2020-05-25</td>\n",
       "      <td>2020-05-27</td>\n",
       "      <td>9999-99-99</td>\n",
       "      <td>97</td>\n",
       "      <td>53</td>\n",
       "      <td>1</td>\n",
       "      <td>SI</td>\n",
       "      <td>97</td>\n",
       "    </tr>\n",
       "    <tr>\n",
       "      <th>7</th>\n",
       "      <td>1</td>\n",
       "      <td>2</td>\n",
       "      <td>2020-04-03</td>\n",
       "      <td>2020-04-03</td>\n",
       "      <td>9999-99-99</td>\n",
       "      <td>2</td>\n",
       "      <td>41</td>\n",
       "      <td>1</td>\n",
       "      <td>SI</td>\n",
       "      <td>2</td>\n",
       "    </tr>\n",
       "    <tr>\n",
       "      <th>11</th>\n",
       "      <td>1</td>\n",
       "      <td>2</td>\n",
       "      <td>2020-04-15</td>\n",
       "      <td>2020-04-15</td>\n",
       "      <td>2020-05-06</td>\n",
       "      <td>2</td>\n",
       "      <td>62</td>\n",
       "      <td>1</td>\n",
       "      <td>SI</td>\n",
       "      <td>2</td>\n",
       "    </tr>\n",
       "    <tr>\n",
       "      <th>14</th>\n",
       "      <td>2</td>\n",
       "      <td>2</td>\n",
       "      <td>2020-06-01</td>\n",
       "      <td>2020-06-06</td>\n",
       "      <td>9999-99-99</td>\n",
       "      <td>2</td>\n",
       "      <td>56</td>\n",
       "      <td>1</td>\n",
       "      <td>SI</td>\n",
       "      <td>97</td>\n",
       "    </tr>\n",
       "    <tr>\n",
       "      <th>15</th>\n",
       "      <td>2</td>\n",
       "      <td>2</td>\n",
       "      <td>2020-04-04</td>\n",
       "      <td>2020-04-04</td>\n",
       "      <td>2020-04-13</td>\n",
       "      <td>2</td>\n",
       "      <td>61</td>\n",
       "      <td>1</td>\n",
       "      <td>SI</td>\n",
       "      <td>97</td>\n",
       "    </tr>\n",
       "    <tr>\n",
       "      <th>...</th>\n",
       "      <td>...</td>\n",
       "      <td>...</td>\n",
       "      <td>...</td>\n",
       "      <td>...</td>\n",
       "      <td>...</td>\n",
       "      <td>...</td>\n",
       "      <td>...</td>\n",
       "      <td>...</td>\n",
       "      <td>...</td>\n",
       "      <td>...</td>\n",
       "    </tr>\n",
       "    <tr>\n",
       "      <th>369328</th>\n",
       "      <td>2</td>\n",
       "      <td>2</td>\n",
       "      <td>2020-05-15</td>\n",
       "      <td>2020-05-21</td>\n",
       "      <td>9999-99-99</td>\n",
       "      <td>2</td>\n",
       "      <td>62</td>\n",
       "      <td>3</td>\n",
       "      <td>SI</td>\n",
       "      <td>97</td>\n",
       "    </tr>\n",
       "    <tr>\n",
       "      <th>369339</th>\n",
       "      <td>1</td>\n",
       "      <td>2</td>\n",
       "      <td>2020-06-05</td>\n",
       "      <td>2020-06-07</td>\n",
       "      <td>9999-99-99</td>\n",
       "      <td>2</td>\n",
       "      <td>50</td>\n",
       "      <td>3</td>\n",
       "      <td>SI</td>\n",
       "      <td>2</td>\n",
       "    </tr>\n",
       "    <tr>\n",
       "      <th>369352</th>\n",
       "      <td>1</td>\n",
       "      <td>1</td>\n",
       "      <td>2020-05-17</td>\n",
       "      <td>2020-05-18</td>\n",
       "      <td>9999-99-99</td>\n",
       "      <td>97</td>\n",
       "      <td>44</td>\n",
       "      <td>3</td>\n",
       "      <td>SI</td>\n",
       "      <td>2</td>\n",
       "    </tr>\n",
       "    <tr>\n",
       "      <th>369353</th>\n",
       "      <td>2</td>\n",
       "      <td>1</td>\n",
       "      <td>2020-05-21</td>\n",
       "      <td>2020-05-23</td>\n",
       "      <td>9999-99-99</td>\n",
       "      <td>97</td>\n",
       "      <td>46</td>\n",
       "      <td>3</td>\n",
       "      <td>SI</td>\n",
       "      <td>97</td>\n",
       "    </tr>\n",
       "    <tr>\n",
       "      <th>369358</th>\n",
       "      <td>2</td>\n",
       "      <td>2</td>\n",
       "      <td>2020-04-19</td>\n",
       "      <td>2020-04-20</td>\n",
       "      <td>9999-99-99</td>\n",
       "      <td>2</td>\n",
       "      <td>96</td>\n",
       "      <td>3</td>\n",
       "      <td>SI</td>\n",
       "      <td>97</td>\n",
       "    </tr>\n",
       "  </tbody>\n",
       "</table>\n",
       "<p>46527 rows × 10 columns</p>\n",
       "</div>"
      ],
      "text/plain": [
       "        SEXO  TIPO_PACIENTE FECHA_SINTOMAS FECHA_INGRESO   FECHA_DEF  \\\n",
       "0          2              1     2020-05-25    2020-05-27  9999-99-99   \n",
       "7          1              2     2020-04-03    2020-04-03  9999-99-99   \n",
       "11         1              2     2020-04-15    2020-04-15  2020-05-06   \n",
       "14         2              2     2020-06-01    2020-06-06  9999-99-99   \n",
       "15         2              2     2020-04-04    2020-04-04  2020-04-13   \n",
       "...      ...            ...            ...           ...         ...   \n",
       "369328     2              2     2020-05-15    2020-05-21  9999-99-99   \n",
       "369339     1              2     2020-06-05    2020-06-07  9999-99-99   \n",
       "369352     1              1     2020-05-17    2020-05-18  9999-99-99   \n",
       "369353     2              1     2020-05-21    2020-05-23  9999-99-99   \n",
       "369358     2              2     2020-04-19    2020-04-20  9999-99-99   \n",
       "\n",
       "        INTUBADO  EDAD  RESULTADO DIABETES  EMBARAZO  \n",
       "0             97    53          1       SI        97  \n",
       "7              2    41          1       SI         2  \n",
       "11             2    62          1       SI         2  \n",
       "14             2    56          1       SI        97  \n",
       "15             2    61          1       SI        97  \n",
       "...          ...   ...        ...      ...       ...  \n",
       "369328         2    62          3       SI        97  \n",
       "369339         2    50          3       SI         2  \n",
       "369352        97    44          3       SI         2  \n",
       "369353        97    46          3       SI        97  \n",
       "369358         2    96          3       SI        97  \n",
       "\n",
       "[46527 rows x 10 columns]"
      ]
     },
     "execution_count": 10,
     "metadata": {},
     "output_type": "execute_result"
    }
   ],
   "source": [
    "data"
   ]
  },
  {
   "cell_type": "code",
   "execution_count": 11,
   "metadata": {},
   "outputs": [],
   "source": [
    "data[\"SEXO\"] = np.where(data[\"SEXO\"] == 1, \"MUJER\", data[\"SEXO\"])\n",
    "data[\"SEXO\"] = np.where(data[\"SEXO\"] == 2, \"HOMBRE\", data[\"SEXO\"])"
   ]
  },
  {
   "cell_type": "code",
   "execution_count": 12,
   "metadata": {},
   "outputs": [],
   "source": [
    "data[\"SEXO\"] = np.where(data[\"SEXO\"] == \"1\", \"MUJER\", data[\"SEXO\"])\n",
    "data[\"SEXO\"] = np.where(data[\"SEXO\"] == \"2\", \"HOMBRE\", data[\"SEXO\"])"
   ]
  },
  {
   "cell_type": "code",
   "execution_count": 13,
   "metadata": {},
   "outputs": [
    {
     "data": {
      "text/plain": [
       "Index(['SEXO', 'TIPO_PACIENTE', 'FECHA_SINTOMAS', 'FECHA_INGRESO', 'FECHA_DEF',\n",
       "       'INTUBADO', 'EDAD', 'RESULTADO', 'DIABETES', 'EMBARAZO'],\n",
       "      dtype='object')"
      ]
     },
     "execution_count": 13,
     "metadata": {},
     "output_type": "execute_result"
    }
   ],
   "source": [
    "data.columns"
   ]
  },
  {
   "cell_type": "code",
   "execution_count": 14,
   "metadata": {},
   "outputs": [],
   "source": [
    "df = data[['SEXO', 'INTUBADO', 'EDAD', 'RESULTADO', 'EMBARAZO']]"
   ]
  },
  {
   "cell_type": "markdown",
   "metadata": {},
   "source": [
    "# Estadistica de los datos"
   ]
  },
  {
   "cell_type": "code",
   "execution_count": 15,
   "metadata": {},
   "outputs": [
    {
     "name": "stderr",
     "output_type": "stream",
     "text": [
      "/home/carlos/anaconda3/envs/ambienteIA_1/lib/python3.8/site-packages/pandas/core/ops/array_ops.py:253: FutureWarning: elementwise comparison failed; returning scalar instead, but in the future will perform elementwise comparison\n",
      "  res_values = method(rvalues)\n",
      "<ipython-input-15-6170d6d19e03>:1: SettingWithCopyWarning: \n",
      "A value is trying to be set on a copy of a slice from a DataFrame.\n",
      "Try using .loc[row_indexer,col_indexer] = value instead\n",
      "\n",
      "See the caveats in the documentation: https://pandas.pydata.org/pandas-docs/stable/user_guide/indexing.html#returning-a-view-versus-a-copy\n",
      "  df[\"RESULTADO\"] = np.where(df[\"RESULTADO\"] == '1', \"SI\", df[\"RESULTADO\"])\n",
      "<ipython-input-15-6170d6d19e03>:2: SettingWithCopyWarning: \n",
      "A value is trying to be set on a copy of a slice from a DataFrame.\n",
      "Try using .loc[row_indexer,col_indexer] = value instead\n",
      "\n",
      "See the caveats in the documentation: https://pandas.pydata.org/pandas-docs/stable/user_guide/indexing.html#returning-a-view-versus-a-copy\n",
      "  df[\"RESULTADO\"] = np.where(df[\"RESULTADO\"] == '2', \"NO\", df[\"RESULTADO\"])\n",
      "<ipython-input-15-6170d6d19e03>:3: SettingWithCopyWarning: \n",
      "A value is trying to be set on a copy of a slice from a DataFrame.\n",
      "Try using .loc[row_indexer,col_indexer] = value instead\n",
      "\n",
      "See the caveats in the documentation: https://pandas.pydata.org/pandas-docs/stable/user_guide/indexing.html#returning-a-view-versus-a-copy\n",
      "  df[\"RESULTADO\"] = np.where(df[\"RESULTADO\"] == '3', \"ND\", df[\"RESULTADO\"])\n"
     ]
    }
   ],
   "source": [
    "df[\"RESULTADO\"] = np.where(df[\"RESULTADO\"] == '1', \"SI\", df[\"RESULTADO\"])\n",
    "df[\"RESULTADO\"] = np.where(df[\"RESULTADO\"] == '2', \"NO\", df[\"RESULTADO\"])\n",
    "df[\"RESULTADO\"] = np.where(df[\"RESULTADO\"] == '3', \"ND\", df[\"RESULTADO\"])"
   ]
  },
  {
   "cell_type": "code",
   "execution_count": 16,
   "metadata": {},
   "outputs": [
    {
     "name": "stderr",
     "output_type": "stream",
     "text": [
      "<ipython-input-16-2a0e19497ba6>:1: SettingWithCopyWarning: \n",
      "A value is trying to be set on a copy of a slice from a DataFrame.\n",
      "Try using .loc[row_indexer,col_indexer] = value instead\n",
      "\n",
      "See the caveats in the documentation: https://pandas.pydata.org/pandas-docs/stable/user_guide/indexing.html#returning-a-view-versus-a-copy\n",
      "  df[\"EMBARAZO\"] = np.where(df[\"EMBARAZO\"] == '1', \"SI\", df[\"EMBARAZO\"])\n",
      "<ipython-input-16-2a0e19497ba6>:2: SettingWithCopyWarning: \n",
      "A value is trying to be set on a copy of a slice from a DataFrame.\n",
      "Try using .loc[row_indexer,col_indexer] = value instead\n",
      "\n",
      "See the caveats in the documentation: https://pandas.pydata.org/pandas-docs/stable/user_guide/indexing.html#returning-a-view-versus-a-copy\n",
      "  df[\"EMBARAZO\"] = np.where(df[\"EMBARAZO\"] == '2', \"No\", df[\"EMBARAZO\"])\n",
      "<ipython-input-16-2a0e19497ba6>:3: SettingWithCopyWarning: \n",
      "A value is trying to be set on a copy of a slice from a DataFrame.\n",
      "Try using .loc[row_indexer,col_indexer] = value instead\n",
      "\n",
      "See the caveats in the documentation: https://pandas.pydata.org/pandas-docs/stable/user_guide/indexing.html#returning-a-view-versus-a-copy\n",
      "  df[\"EMBARAZO\"] = np.where(df[\"EMBARAZO\"] == '98', \"No\", df[\"EMBARAZO\"])\n",
      "<ipython-input-16-2a0e19497ba6>:4: SettingWithCopyWarning: \n",
      "A value is trying to be set on a copy of a slice from a DataFrame.\n",
      "Try using .loc[row_indexer,col_indexer] = value instead\n",
      "\n",
      "See the caveats in the documentation: https://pandas.pydata.org/pandas-docs/stable/user_guide/indexing.html#returning-a-view-versus-a-copy\n",
      "  df[\"EMBARAZO\"] = np.where(df[\"EMBARAZO\"] == '97', \"No\", df[\"EMBARAZO\"])\n"
     ]
    }
   ],
   "source": [
    "df[\"EMBARAZO\"] = np.where(df[\"EMBARAZO\"] == '1', \"SI\", df[\"EMBARAZO\"])\n",
    "df[\"EMBARAZO\"] = np.where(df[\"EMBARAZO\"] == '2', \"No\", df[\"EMBARAZO\"])\n",
    "df[\"EMBARAZO\"] = np.where(df[\"EMBARAZO\"] == '98', \"No\", df[\"EMBARAZO\"])\n",
    "df[\"EMBARAZO\"] = np.where(df[\"EMBARAZO\"] == '97', \"No\", df[\"EMBARAZO\"])\n"
   ]
  },
  {
   "cell_type": "code",
   "execution_count": 17,
   "metadata": {},
   "outputs": [
    {
     "data": {
      "text/html": [
       "<div>\n",
       "<style scoped>\n",
       "    .dataframe tbody tr th:only-of-type {\n",
       "        vertical-align: middle;\n",
       "    }\n",
       "\n",
       "    .dataframe tbody tr th {\n",
       "        vertical-align: top;\n",
       "    }\n",
       "\n",
       "    .dataframe thead th {\n",
       "        text-align: right;\n",
       "    }\n",
       "</style>\n",
       "<table border=\"1\" class=\"dataframe\">\n",
       "  <thead>\n",
       "    <tr style=\"text-align: right;\">\n",
       "      <th></th>\n",
       "      <th>SEXO</th>\n",
       "      <th>INTUBADO</th>\n",
       "      <th>EDAD</th>\n",
       "      <th>RESULTADO</th>\n",
       "      <th>EMBARAZO</th>\n",
       "    </tr>\n",
       "  </thead>\n",
       "  <tbody>\n",
       "    <tr>\n",
       "      <th>0</th>\n",
       "      <td>HOMBRE</td>\n",
       "      <td>97</td>\n",
       "      <td>53</td>\n",
       "      <td>1</td>\n",
       "      <td>No</td>\n",
       "    </tr>\n",
       "    <tr>\n",
       "      <th>7</th>\n",
       "      <td>MUJER</td>\n",
       "      <td>2</td>\n",
       "      <td>41</td>\n",
       "      <td>1</td>\n",
       "      <td>No</td>\n",
       "    </tr>\n",
       "    <tr>\n",
       "      <th>11</th>\n",
       "      <td>MUJER</td>\n",
       "      <td>2</td>\n",
       "      <td>62</td>\n",
       "      <td>1</td>\n",
       "      <td>No</td>\n",
       "    </tr>\n",
       "    <tr>\n",
       "      <th>14</th>\n",
       "      <td>HOMBRE</td>\n",
       "      <td>2</td>\n",
       "      <td>56</td>\n",
       "      <td>1</td>\n",
       "      <td>No</td>\n",
       "    </tr>\n",
       "    <tr>\n",
       "      <th>15</th>\n",
       "      <td>HOMBRE</td>\n",
       "      <td>2</td>\n",
       "      <td>61</td>\n",
       "      <td>1</td>\n",
       "      <td>No</td>\n",
       "    </tr>\n",
       "  </tbody>\n",
       "</table>\n",
       "</div>"
      ],
      "text/plain": [
       "      SEXO  INTUBADO  EDAD RESULTADO EMBARAZO\n",
       "0   HOMBRE        97    53         1       No\n",
       "7    MUJER         2    41         1       No\n",
       "11   MUJER         2    62         1       No\n",
       "14  HOMBRE         2    56         1       No\n",
       "15  HOMBRE         2    61         1       No"
      ]
     },
     "execution_count": 17,
     "metadata": {},
     "output_type": "execute_result"
    }
   ],
   "source": [
    "df.head()"
   ]
  },
  {
   "cell_type": "code",
   "execution_count": 18,
   "metadata": {},
   "outputs": [],
   "source": [
    "p_edad = df['EDAD'].values"
   ]
  },
  {
   "cell_type": "code",
   "execution_count": 19,
   "metadata": {},
   "outputs": [
    {
     "data": {
      "text/plain": [
       "0"
      ]
     },
     "execution_count": 19,
     "metadata": {},
     "output_type": "execute_result"
    }
   ],
   "source": [
    "#edad minima\n",
    "np.min(p_edad)"
   ]
  },
  {
   "cell_type": "code",
   "execution_count": 20,
   "metadata": {},
   "outputs": [
    {
     "data": {
      "text/plain": [
       "57.11199948417048"
      ]
     },
     "execution_count": 20,
     "metadata": {},
     "output_type": "execute_result"
    }
   ],
   "source": [
    "#Edad promedio\n",
    "np.mean(p_edad)"
   ]
  },
  {
   "cell_type": "code",
   "execution_count": 21,
   "metadata": {},
   "outputs": [
    {
     "data": {
      "text/plain": [
       "104"
      ]
     },
     "execution_count": 21,
     "metadata": {},
     "output_type": "execute_result"
    }
   ],
   "source": [
    "#Edad maxima\n",
    "np.max(p_edad)"
   ]
  },
  {
   "cell_type": "code",
   "execution_count": 22,
   "metadata": {},
   "outputs": [
    {
     "data": {
      "text/plain": [
       "57.0"
      ]
     },
     "execution_count": 22,
     "metadata": {},
     "output_type": "execute_result"
    }
   ],
   "source": [
    "#Media de edad\n",
    "np.median(p_edad)"
   ]
  },
  {
   "cell_type": "code",
   "execution_count": 23,
   "metadata": {},
   "outputs": [],
   "source": [
    "#Moda\n",
    "moda = np.nan\n",
    "\n",
    "valores, conteo = np.unique(p_edad, return_counts=True)\n",
    "pos = np.argmax(conteo)\n",
    "moda = valores[pos]"
   ]
  },
  {
   "cell_type": "code",
   "execution_count": 24,
   "metadata": {},
   "outputs": [
    {
     "data": {
      "text/plain": [
       "56"
      ]
     },
     "execution_count": 24,
     "metadata": {},
     "output_type": "execute_result"
    }
   ],
   "source": [
    "moda"
   ]
  },
  {
   "cell_type": "markdown",
   "metadata": {},
   "source": [
    "# Graficnado alguno datos"
   ]
  },
  {
   "cell_type": "code",
   "execution_count": 35,
   "metadata": {},
   "outputs": [
    {
     "data": {
      "text/plain": [
       "(array([   52.,   121.,  1243.,  4213., 10477., 14494.,  9575.,  5083.,\n",
       "         1188.,    81.]),\n",
       " array([  0. ,  10.4,  20.8,  31.2,  41.6,  52. ,  62.4,  72.8,  83.2,\n",
       "         93.6, 104. ]),\n",
       " <a list of 10 Patch objects>)"
      ]
     },
     "execution_count": 35,
     "metadata": {},
     "output_type": "execute_result"
    },
    {
     "data": {
      "image/png": "[encoded data removed]",
      "text/plain": [
       "<Figure size 432x288 with 1 Axes>"
      ]
     },
     "metadata": {
      "needs_background": "light"
     },
     "output_type": "display_data"
    }
   ],
   "source": [
    "\"\"\"Edad\"\"\"\n",
    "plt.hist(df.EDAD)"
   ]
  },
  {
   "cell_type": "code",
   "execution_count": 32,
   "metadata": {},
   "outputs": [
    {
     "data": {
      "text/plain": [
       "[<matplotlib.lines.Line2D at 0x7fda0de4f880>]"
      ]
     },
     "execution_count": 32,
     "metadata": {},
     "output_type": "execute_result"
    },
    {
     "data": {
      "image/png": "[encoded data removed]",
      "text/plain": [
       "<Figure size 432x288 with 1 Axes>"
      ]
     },
     "metadata": {
      "needs_background": "light"
     },
     "output_type": "display_data"
    }
   ],
   "source": [
    "plt.plot(df.INTUBADO)"
   ]
  },
  {
   "cell_type": "code",
   "execution_count": null,
   "metadata": {},
   "outputs": [],
   "source": []
  }
 ],
 "metadata": {
  "kernelspec": {
   "display_name": "Python 3",
   "language": "python",
   "name": "python3"
  },
  "language_info": {
   "codemirror_mode": {
    "name": "ipython",
    "version": 3
   },
   "file_extension": ".py",
   "mimetype": "text/x-python",
   "name": "python",
   "nbconvert_exporter": "python",
   "pygments_lexer": "ipython3",
   "version": "3.8.2"
  }
 },
 "nbformat": 4,
 "nbformat_minor": 2
}
