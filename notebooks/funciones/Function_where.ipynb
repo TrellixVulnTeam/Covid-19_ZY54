{
 "cells": [
  {
   "cell_type": "code",
   "execution_count": 1,
   "metadata": {},
   "outputs": [],
   "source": [
    "def toOther(data, nameColumna, aSustituir, sustituto):\n",
    "    \n",
    "    return (np.where(data[nameColumna] == aSustituir, sustituto, data[nameColumna]))"
   ]
  },
  {
   "cell_type": "code",
   "execution_count": 1,
   "metadata": {},
   "outputs": [],
   "source": [
    "\n",
    "\"\"\" Funcion para organizar dataframe dprincipales\"\"\"\n",
    "def order_df(df):\n",
    "    #Trasponinendo los datos iniciales\n",
    "    df = df.T\n",
    "    #Seleccionando las filas con datos importantes\n",
    "    df_2 = df.iloc[2:, :]\n",
    "    #Nombre columnas\n",
    "    cols = np.array(df_2.iloc[0])\n",
    "    #Fechas\n",
    "    time = df_2[1:].index\n",
    "    #Creando DataFrame final\n",
    "    df_final = pd.DataFrame(df_2.iloc[1:, :].values, columns=cols)\n",
    "    #Fecha\n",
    "    df_final['Fecha'] = time\n",
    "    return df_final "
   ]
  },
  {
   "cell_type": "code",
   "execution_count": null,
   "metadata": {},
   "outputs": [],
   "source": []
  }
 ],
 "metadata": {
  "kernelspec": {
   "display_name": "Python 3 (ipykernel)",
   "language": "python",
   "name": "python3"
  },
  "language_info": {
   "codemirror_mode": {
    "name": "ipython",
    "version": 3
   },
   "file_extension": ".py",
   "mimetype": "text/x-python",
   "name": "python",
   "nbconvert_exporter": "python",
   "pygments_lexer": "ipython3",
   "version": "3.8.10"
  }
 },
 "nbformat": 4,
 "nbformat_minor": 4
}
