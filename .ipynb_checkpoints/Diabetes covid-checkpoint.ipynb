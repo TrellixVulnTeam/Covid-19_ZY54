{
 "cells": [
  {
   "cell_type": "code",
   "execution_count": 111,
   "metadata": {},
   "outputs": [],
   "source": [
    "#Importando librerias basicas\n",
    "import pandas as pd\n",
    "import numpy as np\n",
    "import matplotlib.pyplot as plt\n",
    "\n"
   ]
  },
  {
   "cell_type": "code",
   "execution_count": 2,
   "metadata": {},
   "outputs": [],
   "source": [
    "#Extrallendo dataset\n",
    "data = pd.read_csv(\"datasets/200610COVID19MEXICO.csv\")\n"
   ]
  },
  {
   "cell_type": "code",
   "execution_count": 3,
   "metadata": {},
   "outputs": [
    {
     "data": {
      "text/plain": [
       "Index(['FECHA_ACTUALIZACION', 'ID_REGISTRO', 'ORIGEN', 'SECTOR', 'ENTIDAD_UM',\n",
       "       'SEXO', 'ENTIDAD_NAC', 'ENTIDAD_RES', 'MUNICIPIO_RES', 'TIPO_PACIENTE',\n",
       "       'FECHA_INGRESO', 'FECHA_SINTOMAS', 'FECHA_DEF', 'INTUBADO', 'NEUMONIA',\n",
       "       'EDAD', 'NACIONALIDAD', 'EMBARAZO', 'HABLA_LENGUA_INDIG', 'DIABETES',\n",
       "       'EPOC', 'ASMA', 'INMUSUPR', 'HIPERTENSION', 'OTRA_COM',\n",
       "       'CARDIOVASCULAR', 'OBESIDAD', 'RENAL_CRONICA', 'TABAQUISMO',\n",
       "       'OTRO_CASO', 'RESULTADO', 'MIGRANTE', 'PAIS_NACIONALIDAD',\n",
       "       'PAIS_ORIGEN', 'UCI'],\n",
       "      dtype='object')"
      ]
     },
     "execution_count": 3,
     "metadata": {},
     "output_type": "execute_result"
    }
   ],
   "source": [
    "data.columns"
   ]
  },
  {
   "cell_type": "code",
   "execution_count": 4,
   "metadata": {},
   "outputs": [
    {
     "data": {
      "text/html": [
       "<div>\n",
       "<style scoped>\n",
       "    .dataframe tbody tr th:only-of-type {\n",
       "        vertical-align: middle;\n",
       "    }\n",
       "\n",
       "    .dataframe tbody tr th {\n",
       "        vertical-align: top;\n",
       "    }\n",
       "\n",
       "    .dataframe thead th {\n",
       "        text-align: right;\n",
       "    }\n",
       "</style>\n",
       "<table border=\"1\" class=\"dataframe\">\n",
       "  <thead>\n",
       "    <tr style=\"text-align: right;\">\n",
       "      <th></th>\n",
       "      <th>DIABETES</th>\n",
       "      <th>FECHA_DEF</th>\n",
       "    </tr>\n",
       "  </thead>\n",
       "  <tbody>\n",
       "    <tr>\n",
       "      <th>0</th>\n",
       "      <td>1</td>\n",
       "      <td>9999-99-99</td>\n",
       "    </tr>\n",
       "    <tr>\n",
       "      <th>1</th>\n",
       "      <td>2</td>\n",
       "      <td>9999-99-99</td>\n",
       "    </tr>\n",
       "    <tr>\n",
       "      <th>2</th>\n",
       "      <td>2</td>\n",
       "      <td>9999-99-99</td>\n",
       "    </tr>\n",
       "    <tr>\n",
       "      <th>3</th>\n",
       "      <td>2</td>\n",
       "      <td>9999-99-99</td>\n",
       "    </tr>\n",
       "    <tr>\n",
       "      <th>4</th>\n",
       "      <td>2</td>\n",
       "      <td>9999-99-99</td>\n",
       "    </tr>\n",
       "    <tr>\n",
       "      <th>5</th>\n",
       "      <td>2</td>\n",
       "      <td>9999-99-99</td>\n",
       "    </tr>\n",
       "    <tr>\n",
       "      <th>6</th>\n",
       "      <td>2</td>\n",
       "      <td>9999-99-99</td>\n",
       "    </tr>\n",
       "    <tr>\n",
       "      <th>7</th>\n",
       "      <td>1</td>\n",
       "      <td>9999-99-99</td>\n",
       "    </tr>\n",
       "    <tr>\n",
       "      <th>8</th>\n",
       "      <td>2</td>\n",
       "      <td>9999-99-99</td>\n",
       "    </tr>\n",
       "    <tr>\n",
       "      <th>9</th>\n",
       "      <td>2</td>\n",
       "      <td>9999-99-99</td>\n",
       "    </tr>\n",
       "  </tbody>\n",
       "</table>\n",
       "</div>"
      ],
      "text/plain": [
       "   DIABETES   FECHA_DEF\n",
       "0         1  9999-99-99\n",
       "1         2  9999-99-99\n",
       "2         2  9999-99-99\n",
       "3         2  9999-99-99\n",
       "4         2  9999-99-99\n",
       "5         2  9999-99-99\n",
       "6         2  9999-99-99\n",
       "7         1  9999-99-99\n",
       "8         2  9999-99-99\n",
       "9         2  9999-99-99"
      ]
     },
     "execution_count": 4,
     "metadata": {},
     "output_type": "execute_result"
    }
   ],
   "source": [
    "data[[\"DIABETES\", \"FECHA_DEF\"]].head(10)"
   ]
  },
  {
   "cell_type": "markdown",
   "metadata": {},
   "source": [
    "1 -> Si\n",
    "\n",
    "2 -> No"
   ]
  },
  {
   "cell_type": "code",
   "execution_count": 5,
   "metadata": {},
   "outputs": [],
   "source": [
    "data[\"DIABETES\"] = np.where(data[\"DIABETES\"] == 1, \"SI\", data[\"DIABETES\"])"
   ]
  },
  {
   "cell_type": "code",
   "execution_count": 6,
   "metadata": {},
   "outputs": [],
   "source": [
    "data[\"DIABETES\"] = np.where(data[\"DIABETES\"] == 2, \"NO\", data[\"DIABETES\"])"
   ]
  },
  {
   "cell_type": "code",
   "execution_count": 7,
   "metadata": {},
   "outputs": [],
   "source": [
    "data[\"DIABETES\"] = np.where(data[\"DIABETES\"] == \"2\", \"NO\", data[\"DIABETES\"])"
   ]
  },
  {
   "cell_type": "code",
   "execution_count": 8,
   "metadata": {},
   "outputs": [],
   "source": [
    "data = data[[\"SEXO\",\"TIPO_PACIENTE\",\"FECHA_SINTOMAS\", \"FECHA_INGRESO\", \"FECHA_DEF\", \"INTUBADO\", \"EDAD\",\"RESULTADO\", \"DIABETES\" ]]"
   ]
  },
  {
   "cell_type": "code",
   "execution_count": 9,
   "metadata": {},
   "outputs": [],
   "source": [
    "data = data[data[\"DIABETES\"]== \"SI\"]"
   ]
  },
  {
   "cell_type": "code",
   "execution_count": 10,
   "metadata": {},
   "outputs": [
    {
     "data": {
      "text/html": [
       "<div>\n",
       "<style scoped>\n",
       "    .dataframe tbody tr th:only-of-type {\n",
       "        vertical-align: middle;\n",
       "    }\n",
       "\n",
       "    .dataframe tbody tr th {\n",
       "        vertical-align: top;\n",
       "    }\n",
       "\n",
       "    .dataframe thead th {\n",
       "        text-align: right;\n",
       "    }\n",
       "</style>\n",
       "<table border=\"1\" class=\"dataframe\">\n",
       "  <thead>\n",
       "    <tr style=\"text-align: right;\">\n",
       "      <th></th>\n",
       "      <th>SEXO</th>\n",
       "      <th>TIPO_PACIENTE</th>\n",
       "      <th>FECHA_SINTOMAS</th>\n",
       "      <th>FECHA_INGRESO</th>\n",
       "      <th>FECHA_DEF</th>\n",
       "      <th>INTUBADO</th>\n",
       "      <th>EDAD</th>\n",
       "      <th>RESULTADO</th>\n",
       "      <th>DIABETES</th>\n",
       "    </tr>\n",
       "  </thead>\n",
       "  <tbody>\n",
       "    <tr>\n",
       "      <th>0</th>\n",
       "      <td>2</td>\n",
       "      <td>1</td>\n",
       "      <td>2020-05-25</td>\n",
       "      <td>2020-05-27</td>\n",
       "      <td>9999-99-99</td>\n",
       "      <td>97</td>\n",
       "      <td>53</td>\n",
       "      <td>1</td>\n",
       "      <td>SI</td>\n",
       "    </tr>\n",
       "    <tr>\n",
       "      <th>7</th>\n",
       "      <td>1</td>\n",
       "      <td>2</td>\n",
       "      <td>2020-04-03</td>\n",
       "      <td>2020-04-03</td>\n",
       "      <td>9999-99-99</td>\n",
       "      <td>2</td>\n",
       "      <td>41</td>\n",
       "      <td>1</td>\n",
       "      <td>SI</td>\n",
       "    </tr>\n",
       "    <tr>\n",
       "      <th>11</th>\n",
       "      <td>1</td>\n",
       "      <td>2</td>\n",
       "      <td>2020-04-15</td>\n",
       "      <td>2020-04-15</td>\n",
       "      <td>2020-05-06</td>\n",
       "      <td>2</td>\n",
       "      <td>62</td>\n",
       "      <td>1</td>\n",
       "      <td>SI</td>\n",
       "    </tr>\n",
       "    <tr>\n",
       "      <th>14</th>\n",
       "      <td>2</td>\n",
       "      <td>2</td>\n",
       "      <td>2020-06-01</td>\n",
       "      <td>2020-06-06</td>\n",
       "      <td>9999-99-99</td>\n",
       "      <td>2</td>\n",
       "      <td>56</td>\n",
       "      <td>1</td>\n",
       "      <td>SI</td>\n",
       "    </tr>\n",
       "    <tr>\n",
       "      <th>15</th>\n",
       "      <td>2</td>\n",
       "      <td>2</td>\n",
       "      <td>2020-04-04</td>\n",
       "      <td>2020-04-04</td>\n",
       "      <td>2020-04-13</td>\n",
       "      <td>2</td>\n",
       "      <td>61</td>\n",
       "      <td>1</td>\n",
       "      <td>SI</td>\n",
       "    </tr>\n",
       "    <tr>\n",
       "      <th>...</th>\n",
       "      <td>...</td>\n",
       "      <td>...</td>\n",
       "      <td>...</td>\n",
       "      <td>...</td>\n",
       "      <td>...</td>\n",
       "      <td>...</td>\n",
       "      <td>...</td>\n",
       "      <td>...</td>\n",
       "      <td>...</td>\n",
       "    </tr>\n",
       "    <tr>\n",
       "      <th>369328</th>\n",
       "      <td>2</td>\n",
       "      <td>2</td>\n",
       "      <td>2020-05-15</td>\n",
       "      <td>2020-05-21</td>\n",
       "      <td>9999-99-99</td>\n",
       "      <td>2</td>\n",
       "      <td>62</td>\n",
       "      <td>3</td>\n",
       "      <td>SI</td>\n",
       "    </tr>\n",
       "    <tr>\n",
       "      <th>369339</th>\n",
       "      <td>1</td>\n",
       "      <td>2</td>\n",
       "      <td>2020-06-05</td>\n",
       "      <td>2020-06-07</td>\n",
       "      <td>9999-99-99</td>\n",
       "      <td>2</td>\n",
       "      <td>50</td>\n",
       "      <td>3</td>\n",
       "      <td>SI</td>\n",
       "    </tr>\n",
       "    <tr>\n",
       "      <th>369352</th>\n",
       "      <td>1</td>\n",
       "      <td>1</td>\n",
       "      <td>2020-05-17</td>\n",
       "      <td>2020-05-18</td>\n",
       "      <td>9999-99-99</td>\n",
       "      <td>97</td>\n",
       "      <td>44</td>\n",
       "      <td>3</td>\n",
       "      <td>SI</td>\n",
       "    </tr>\n",
       "    <tr>\n",
       "      <th>369353</th>\n",
       "      <td>2</td>\n",
       "      <td>1</td>\n",
       "      <td>2020-05-21</td>\n",
       "      <td>2020-05-23</td>\n",
       "      <td>9999-99-99</td>\n",
       "      <td>97</td>\n",
       "      <td>46</td>\n",
       "      <td>3</td>\n",
       "      <td>SI</td>\n",
       "    </tr>\n",
       "    <tr>\n",
       "      <th>369358</th>\n",
       "      <td>2</td>\n",
       "      <td>2</td>\n",
       "      <td>2020-04-19</td>\n",
       "      <td>2020-04-20</td>\n",
       "      <td>9999-99-99</td>\n",
       "      <td>2</td>\n",
       "      <td>96</td>\n",
       "      <td>3</td>\n",
       "      <td>SI</td>\n",
       "    </tr>\n",
       "  </tbody>\n",
       "</table>\n",
       "<p>46527 rows × 9 columns</p>\n",
       "</div>"
      ],
      "text/plain": [
       "        SEXO  TIPO_PACIENTE FECHA_SINTOMAS FECHA_INGRESO   FECHA_DEF  \\\n",
       "0          2              1     2020-05-25    2020-05-27  9999-99-99   \n",
       "7          1              2     2020-04-03    2020-04-03  9999-99-99   \n",
       "11         1              2     2020-04-15    2020-04-15  2020-05-06   \n",
       "14         2              2     2020-06-01    2020-06-06  9999-99-99   \n",
       "15         2              2     2020-04-04    2020-04-04  2020-04-13   \n",
       "...      ...            ...            ...           ...         ...   \n",
       "369328     2              2     2020-05-15    2020-05-21  9999-99-99   \n",
       "369339     1              2     2020-06-05    2020-06-07  9999-99-99   \n",
       "369352     1              1     2020-05-17    2020-05-18  9999-99-99   \n",
       "369353     2              1     2020-05-21    2020-05-23  9999-99-99   \n",
       "369358     2              2     2020-04-19    2020-04-20  9999-99-99   \n",
       "\n",
       "        INTUBADO  EDAD  RESULTADO DIABETES  \n",
       "0             97    53          1       SI  \n",
       "7              2    41          1       SI  \n",
       "11             2    62          1       SI  \n",
       "14             2    56          1       SI  \n",
       "15             2    61          1       SI  \n",
       "...          ...   ...        ...      ...  \n",
       "369328         2    62          3       SI  \n",
       "369339         2    50          3       SI  \n",
       "369352        97    44          3       SI  \n",
       "369353        97    46          3       SI  \n",
       "369358         2    96          3       SI  \n",
       "\n",
       "[46527 rows x 9 columns]"
      ]
     },
     "execution_count": 10,
     "metadata": {},
     "output_type": "execute_result"
    }
   ],
   "source": [
    "data"
   ]
  },
  {
   "cell_type": "code",
   "execution_count": 11,
   "metadata": {},
   "outputs": [],
   "source": [
    "data[\"SEXO\"] = np.where(data[\"SEXO\"] == 1, \"MUJER\", data[\"SEXO\"])\n",
    "data[\"SEXO\"] = np.where(data[\"SEXO\"] == 2, \"HOMBRE\", data[\"SEXO\"])"
   ]
  },
  {
   "cell_type": "code",
   "execution_count": 12,
   "metadata": {},
   "outputs": [],
   "source": [
    "data[\"SEXO\"] = np.where(data[\"SEXO\"] == \"1\", \"MUJER\", data[\"SEXO\"])\n",
    "data[\"SEXO\"] = np.where(data[\"SEXO\"] == \"2\", \"HOMBRE\", data[\"SEXO\"])"
   ]
  },
  {
   "cell_type": "code",
   "execution_count": 13,
   "metadata": {},
   "outputs": [
    {
     "data": {
      "text/html": [
       "<div>\n",
       "<style scoped>\n",
       "    .dataframe tbody tr th:only-of-type {\n",
       "        vertical-align: middle;\n",
       "    }\n",
       "\n",
       "    .dataframe tbody tr th {\n",
       "        vertical-align: top;\n",
       "    }\n",
       "\n",
       "    .dataframe thead th {\n",
       "        text-align: right;\n",
       "    }\n",
       "</style>\n",
       "<table border=\"1\" class=\"dataframe\">\n",
       "  <thead>\n",
       "    <tr style=\"text-align: right;\">\n",
       "      <th></th>\n",
       "      <th>SEXO</th>\n",
       "      <th>TIPO_PACIENTE</th>\n",
       "      <th>FECHA_SINTOMAS</th>\n",
       "      <th>FECHA_INGRESO</th>\n",
       "      <th>FECHA_DEF</th>\n",
       "      <th>INTUBADO</th>\n",
       "      <th>EDAD</th>\n",
       "      <th>RESULTADO</th>\n",
       "      <th>DIABETES</th>\n",
       "    </tr>\n",
       "  </thead>\n",
       "  <tbody>\n",
       "    <tr>\n",
       "      <th>0</th>\n",
       "      <td>HOMBRE</td>\n",
       "      <td>1</td>\n",
       "      <td>2020-05-25</td>\n",
       "      <td>2020-05-27</td>\n",
       "      <td>9999-99-99</td>\n",
       "      <td>97</td>\n",
       "      <td>53</td>\n",
       "      <td>1</td>\n",
       "      <td>SI</td>\n",
       "    </tr>\n",
       "    <tr>\n",
       "      <th>7</th>\n",
       "      <td>MUJER</td>\n",
       "      <td>2</td>\n",
       "      <td>2020-04-03</td>\n",
       "      <td>2020-04-03</td>\n",
       "      <td>9999-99-99</td>\n",
       "      <td>2</td>\n",
       "      <td>41</td>\n",
       "      <td>1</td>\n",
       "      <td>SI</td>\n",
       "    </tr>\n",
       "    <tr>\n",
       "      <th>11</th>\n",
       "      <td>MUJER</td>\n",
       "      <td>2</td>\n",
       "      <td>2020-04-15</td>\n",
       "      <td>2020-04-15</td>\n",
       "      <td>2020-05-06</td>\n",
       "      <td>2</td>\n",
       "      <td>62</td>\n",
       "      <td>1</td>\n",
       "      <td>SI</td>\n",
       "    </tr>\n",
       "    <tr>\n",
       "      <th>14</th>\n",
       "      <td>HOMBRE</td>\n",
       "      <td>2</td>\n",
       "      <td>2020-06-01</td>\n",
       "      <td>2020-06-06</td>\n",
       "      <td>9999-99-99</td>\n",
       "      <td>2</td>\n",
       "      <td>56</td>\n",
       "      <td>1</td>\n",
       "      <td>SI</td>\n",
       "    </tr>\n",
       "    <tr>\n",
       "      <th>15</th>\n",
       "      <td>HOMBRE</td>\n",
       "      <td>2</td>\n",
       "      <td>2020-04-04</td>\n",
       "      <td>2020-04-04</td>\n",
       "      <td>2020-04-13</td>\n",
       "      <td>2</td>\n",
       "      <td>61</td>\n",
       "      <td>1</td>\n",
       "      <td>SI</td>\n",
       "    </tr>\n",
       "    <tr>\n",
       "      <th>...</th>\n",
       "      <td>...</td>\n",
       "      <td>...</td>\n",
       "      <td>...</td>\n",
       "      <td>...</td>\n",
       "      <td>...</td>\n",
       "      <td>...</td>\n",
       "      <td>...</td>\n",
       "      <td>...</td>\n",
       "      <td>...</td>\n",
       "    </tr>\n",
       "    <tr>\n",
       "      <th>369328</th>\n",
       "      <td>HOMBRE</td>\n",
       "      <td>2</td>\n",
       "      <td>2020-05-15</td>\n",
       "      <td>2020-05-21</td>\n",
       "      <td>9999-99-99</td>\n",
       "      <td>2</td>\n",
       "      <td>62</td>\n",
       "      <td>3</td>\n",
       "      <td>SI</td>\n",
       "    </tr>\n",
       "    <tr>\n",
       "      <th>369339</th>\n",
       "      <td>MUJER</td>\n",
       "      <td>2</td>\n",
       "      <td>2020-06-05</td>\n",
       "      <td>2020-06-07</td>\n",
       "      <td>9999-99-99</td>\n",
       "      <td>2</td>\n",
       "      <td>50</td>\n",
       "      <td>3</td>\n",
       "      <td>SI</td>\n",
       "    </tr>\n",
       "    <tr>\n",
       "      <th>369352</th>\n",
       "      <td>MUJER</td>\n",
       "      <td>1</td>\n",
       "      <td>2020-05-17</td>\n",
       "      <td>2020-05-18</td>\n",
       "      <td>9999-99-99</td>\n",
       "      <td>97</td>\n",
       "      <td>44</td>\n",
       "      <td>3</td>\n",
       "      <td>SI</td>\n",
       "    </tr>\n",
       "    <tr>\n",
       "      <th>369353</th>\n",
       "      <td>HOMBRE</td>\n",
       "      <td>1</td>\n",
       "      <td>2020-05-21</td>\n",
       "      <td>2020-05-23</td>\n",
       "      <td>9999-99-99</td>\n",
       "      <td>97</td>\n",
       "      <td>46</td>\n",
       "      <td>3</td>\n",
       "      <td>SI</td>\n",
       "    </tr>\n",
       "    <tr>\n",
       "      <th>369358</th>\n",
       "      <td>HOMBRE</td>\n",
       "      <td>2</td>\n",
       "      <td>2020-04-19</td>\n",
       "      <td>2020-04-20</td>\n",
       "      <td>9999-99-99</td>\n",
       "      <td>2</td>\n",
       "      <td>96</td>\n",
       "      <td>3</td>\n",
       "      <td>SI</td>\n",
       "    </tr>\n",
       "  </tbody>\n",
       "</table>\n",
       "<p>46527 rows × 9 columns</p>\n",
       "</div>"
      ],
      "text/plain": [
       "          SEXO  TIPO_PACIENTE FECHA_SINTOMAS FECHA_INGRESO   FECHA_DEF  \\\n",
       "0       HOMBRE              1     2020-05-25    2020-05-27  9999-99-99   \n",
       "7        MUJER              2     2020-04-03    2020-04-03  9999-99-99   \n",
       "11       MUJER              2     2020-04-15    2020-04-15  2020-05-06   \n",
       "14      HOMBRE              2     2020-06-01    2020-06-06  9999-99-99   \n",
       "15      HOMBRE              2     2020-04-04    2020-04-04  2020-04-13   \n",
       "...        ...            ...            ...           ...         ...   \n",
       "369328  HOMBRE              2     2020-05-15    2020-05-21  9999-99-99   \n",
       "369339   MUJER              2     2020-06-05    2020-06-07  9999-99-99   \n",
       "369352   MUJER              1     2020-05-17    2020-05-18  9999-99-99   \n",
       "369353  HOMBRE              1     2020-05-21    2020-05-23  9999-99-99   \n",
       "369358  HOMBRE              2     2020-04-19    2020-04-20  9999-99-99   \n",
       "\n",
       "        INTUBADO  EDAD  RESULTADO DIABETES  \n",
       "0             97    53          1       SI  \n",
       "7              2    41          1       SI  \n",
       "11             2    62          1       SI  \n",
       "14             2    56          1       SI  \n",
       "15             2    61          1       SI  \n",
       "...          ...   ...        ...      ...  \n",
       "369328         2    62          3       SI  \n",
       "369339         2    50          3       SI  \n",
       "369352        97    44          3       SI  \n",
       "369353        97    46          3       SI  \n",
       "369358         2    96          3       SI  \n",
       "\n",
       "[46527 rows x 9 columns]"
      ]
     },
     "execution_count": 13,
     "metadata": {},
     "output_type": "execute_result"
    }
   ],
   "source": [
    "data"
   ]
  },
  {
   "cell_type": "code",
   "execution_count": 14,
   "metadata": {},
   "outputs": [
    {
     "data": {
      "text/plain": [
       "9999-99-99    38522\n",
       "2020-05-25      206\n",
       "2020-05-18      191\n",
       "2020-05-30      191\n",
       "2020-05-27      182\n",
       "              ...  \n",
       "2020-03-23        1\n",
       "2020-03-16        1\n",
       "2020-02-26        1\n",
       "2020-03-18        1\n",
       "2020-02-25        1\n",
       "Name: FECHA_DEF, Length: 93, dtype: int64"
      ]
     },
     "execution_count": 14,
     "metadata": {},
     "output_type": "execute_result"
    }
   ],
   "source": [
    "data[\"FECHA_DEF\"].value_counts()"
   ]
  },
  {
   "cell_type": "code",
   "execution_count": 15,
   "metadata": {},
   "outputs": [
    {
     "data": {
      "text/plain": [
       "'2020-02-20'"
      ]
     },
     "execution_count": 15,
     "metadata": {},
     "output_type": "execute_result"
    }
   ],
   "source": [
    "data[\"FECHA_DEF\"].min()"
   ]
  },
  {
   "cell_type": "code",
   "execution_count": 16,
   "metadata": {},
   "outputs": [
    {
     "data": {
      "text/plain": [
       "'9999-99-99'"
      ]
     },
     "execution_count": 16,
     "metadata": {},
     "output_type": "execute_result"
    }
   ],
   "source": [
    "data[\"FECHA_DEF\"].max()"
   ]
  },
  {
   "cell_type": "code",
   "execution_count": 17,
   "metadata": {},
   "outputs": [],
   "source": [
    "data[\"FECHA_DEF\"] = np.where(data[\"FECHA_DEF\"] == \"9999-99-99\", \"NAN\", data[\"FECHA_DEF\"])"
   ]
  },
  {
   "cell_type": "code",
   "execution_count": 18,
   "metadata": {},
   "outputs": [
    {
     "data": {
      "text/html": [
       "<div>\n",
       "<style scoped>\n",
       "    .dataframe tbody tr th:only-of-type {\n",
       "        vertical-align: middle;\n",
       "    }\n",
       "\n",
       "    .dataframe tbody tr th {\n",
       "        vertical-align: top;\n",
       "    }\n",
       "\n",
       "    .dataframe thead th {\n",
       "        text-align: right;\n",
       "    }\n",
       "</style>\n",
       "<table border=\"1\" class=\"dataframe\">\n",
       "  <thead>\n",
       "    <tr style=\"text-align: right;\">\n",
       "      <th></th>\n",
       "      <th>SEXO</th>\n",
       "      <th>TIPO_PACIENTE</th>\n",
       "      <th>FECHA_SINTOMAS</th>\n",
       "      <th>FECHA_INGRESO</th>\n",
       "      <th>FECHA_DEF</th>\n",
       "      <th>INTUBADO</th>\n",
       "      <th>EDAD</th>\n",
       "      <th>RESULTADO</th>\n",
       "      <th>DIABETES</th>\n",
       "    </tr>\n",
       "  </thead>\n",
       "  <tbody>\n",
       "    <tr>\n",
       "      <th>0</th>\n",
       "      <td>HOMBRE</td>\n",
       "      <td>1</td>\n",
       "      <td>2020-05-25</td>\n",
       "      <td>2020-05-27</td>\n",
       "      <td>NAN</td>\n",
       "      <td>97</td>\n",
       "      <td>53</td>\n",
       "      <td>1</td>\n",
       "      <td>SI</td>\n",
       "    </tr>\n",
       "    <tr>\n",
       "      <th>7</th>\n",
       "      <td>MUJER</td>\n",
       "      <td>2</td>\n",
       "      <td>2020-04-03</td>\n",
       "      <td>2020-04-03</td>\n",
       "      <td>NAN</td>\n",
       "      <td>2</td>\n",
       "      <td>41</td>\n",
       "      <td>1</td>\n",
       "      <td>SI</td>\n",
       "    </tr>\n",
       "    <tr>\n",
       "      <th>11</th>\n",
       "      <td>MUJER</td>\n",
       "      <td>2</td>\n",
       "      <td>2020-04-15</td>\n",
       "      <td>2020-04-15</td>\n",
       "      <td>2020-05-06</td>\n",
       "      <td>2</td>\n",
       "      <td>62</td>\n",
       "      <td>1</td>\n",
       "      <td>SI</td>\n",
       "    </tr>\n",
       "    <tr>\n",
       "      <th>14</th>\n",
       "      <td>HOMBRE</td>\n",
       "      <td>2</td>\n",
       "      <td>2020-06-01</td>\n",
       "      <td>2020-06-06</td>\n",
       "      <td>NAN</td>\n",
       "      <td>2</td>\n",
       "      <td>56</td>\n",
       "      <td>1</td>\n",
       "      <td>SI</td>\n",
       "    </tr>\n",
       "    <tr>\n",
       "      <th>15</th>\n",
       "      <td>HOMBRE</td>\n",
       "      <td>2</td>\n",
       "      <td>2020-04-04</td>\n",
       "      <td>2020-04-04</td>\n",
       "      <td>2020-04-13</td>\n",
       "      <td>2</td>\n",
       "      <td>61</td>\n",
       "      <td>1</td>\n",
       "      <td>SI</td>\n",
       "    </tr>\n",
       "    <tr>\n",
       "      <th>...</th>\n",
       "      <td>...</td>\n",
       "      <td>...</td>\n",
       "      <td>...</td>\n",
       "      <td>...</td>\n",
       "      <td>...</td>\n",
       "      <td>...</td>\n",
       "      <td>...</td>\n",
       "      <td>...</td>\n",
       "      <td>...</td>\n",
       "    </tr>\n",
       "    <tr>\n",
       "      <th>369328</th>\n",
       "      <td>HOMBRE</td>\n",
       "      <td>2</td>\n",
       "      <td>2020-05-15</td>\n",
       "      <td>2020-05-21</td>\n",
       "      <td>NAN</td>\n",
       "      <td>2</td>\n",
       "      <td>62</td>\n",
       "      <td>3</td>\n",
       "      <td>SI</td>\n",
       "    </tr>\n",
       "    <tr>\n",
       "      <th>369339</th>\n",
       "      <td>MUJER</td>\n",
       "      <td>2</td>\n",
       "      <td>2020-06-05</td>\n",
       "      <td>2020-06-07</td>\n",
       "      <td>NAN</td>\n",
       "      <td>2</td>\n",
       "      <td>50</td>\n",
       "      <td>3</td>\n",
       "      <td>SI</td>\n",
       "    </tr>\n",
       "    <tr>\n",
       "      <th>369352</th>\n",
       "      <td>MUJER</td>\n",
       "      <td>1</td>\n",
       "      <td>2020-05-17</td>\n",
       "      <td>2020-05-18</td>\n",
       "      <td>NAN</td>\n",
       "      <td>97</td>\n",
       "      <td>44</td>\n",
       "      <td>3</td>\n",
       "      <td>SI</td>\n",
       "    </tr>\n",
       "    <tr>\n",
       "      <th>369353</th>\n",
       "      <td>HOMBRE</td>\n",
       "      <td>1</td>\n",
       "      <td>2020-05-21</td>\n",
       "      <td>2020-05-23</td>\n",
       "      <td>NAN</td>\n",
       "      <td>97</td>\n",
       "      <td>46</td>\n",
       "      <td>3</td>\n",
       "      <td>SI</td>\n",
       "    </tr>\n",
       "    <tr>\n",
       "      <th>369358</th>\n",
       "      <td>HOMBRE</td>\n",
       "      <td>2</td>\n",
       "      <td>2020-04-19</td>\n",
       "      <td>2020-04-20</td>\n",
       "      <td>NAN</td>\n",
       "      <td>2</td>\n",
       "      <td>96</td>\n",
       "      <td>3</td>\n",
       "      <td>SI</td>\n",
       "    </tr>\n",
       "  </tbody>\n",
       "</table>\n",
       "<p>46527 rows × 9 columns</p>\n",
       "</div>"
      ],
      "text/plain": [
       "          SEXO  TIPO_PACIENTE FECHA_SINTOMAS FECHA_INGRESO   FECHA_DEF  \\\n",
       "0       HOMBRE              1     2020-05-25    2020-05-27         NAN   \n",
       "7        MUJER              2     2020-04-03    2020-04-03         NAN   \n",
       "11       MUJER              2     2020-04-15    2020-04-15  2020-05-06   \n",
       "14      HOMBRE              2     2020-06-01    2020-06-06         NAN   \n",
       "15      HOMBRE              2     2020-04-04    2020-04-04  2020-04-13   \n",
       "...        ...            ...            ...           ...         ...   \n",
       "369328  HOMBRE              2     2020-05-15    2020-05-21         NAN   \n",
       "369339   MUJER              2     2020-06-05    2020-06-07         NAN   \n",
       "369352   MUJER              1     2020-05-17    2020-05-18         NAN   \n",
       "369353  HOMBRE              1     2020-05-21    2020-05-23         NAN   \n",
       "369358  HOMBRE              2     2020-04-19    2020-04-20         NAN   \n",
       "\n",
       "        INTUBADO  EDAD  RESULTADO DIABETES  \n",
       "0             97    53          1       SI  \n",
       "7              2    41          1       SI  \n",
       "11             2    62          1       SI  \n",
       "14             2    56          1       SI  \n",
       "15             2    61          1       SI  \n",
       "...          ...   ...        ...      ...  \n",
       "369328         2    62          3       SI  \n",
       "369339         2    50          3       SI  \n",
       "369352        97    44          3       SI  \n",
       "369353        97    46          3       SI  \n",
       "369358         2    96          3       SI  \n",
       "\n",
       "[46527 rows x 9 columns]"
      ]
     },
     "execution_count": 18,
     "metadata": {},
     "output_type": "execute_result"
    }
   ],
   "source": [
    "data"
   ]
  },
  {
   "cell_type": "code",
   "execution_count": 19,
   "metadata": {},
   "outputs": [
    {
     "name": "stderr",
     "output_type": "stream",
     "text": [
      "/home/carlos/anaconda3/envs/ambienteIA_1/lib/python3.8/site-packages/pandas/core/ops/array_ops.py:253: FutureWarning: elementwise comparison failed; returning scalar instead, but in the future will perform elementwise comparison\n",
      "  res_values = method(rvalues)\n"
     ]
    }
   ],
   "source": [
    "data[\"RESULTADO\"] = np.where(data[\"RESULTADO\"] == \"2\", \"Descartado\", data[\"RESULTADO\"])\n",
    "data[\"RESULTADO\"] = np.where(data[\"RESULTADO\"] == \"3\", \"Sospechoso\", data[\"RESULTADO\"])"
   ]
  },
  {
   "cell_type": "code",
   "execution_count": 20,
   "metadata": {},
   "outputs": [],
   "source": [
    "data[\"RESULTADO\"] = np.where(data[\"RESULTADO\"] == 1, \"Confirmado\", data[\"RESULTADO\"])\n",
    "data[\"RESULTADO\"] = np.where(data[\"RESULTADO\"] == \"1\", \"Confirmado\", data[\"RESULTADO\"])"
   ]
  },
  {
   "cell_type": "code",
   "execution_count": 21,
   "metadata": {},
   "outputs": [
    {
     "data": {
      "text/plain": [
       "array(['Confirmado', '2', 'Sospechoso'], dtype=object)"
      ]
     },
     "execution_count": 21,
     "metadata": {},
     "output_type": "execute_result"
    }
   ],
   "source": [
    "data[\"RESULTADO\"].unique()"
   ]
  },
  {
   "cell_type": "code",
   "execution_count": 22,
   "metadata": {},
   "outputs": [
    {
     "data": {
      "text/plain": [
       "'2020-02-20'"
      ]
     },
     "execution_count": 22,
     "metadata": {},
     "output_type": "execute_result"
    }
   ],
   "source": [
    "data[\"FECHA_DEF\"].min()"
   ]
  },
  {
   "cell_type": "code",
   "execution_count": 23,
   "metadata": {},
   "outputs": [
    {
     "data": {
      "text/html": [
       "<div>\n",
       "<style scoped>\n",
       "    .dataframe tbody tr th:only-of-type {\n",
       "        vertical-align: middle;\n",
       "    }\n",
       "\n",
       "    .dataframe tbody tr th {\n",
       "        vertical-align: top;\n",
       "    }\n",
       "\n",
       "    .dataframe thead th {\n",
       "        text-align: right;\n",
       "    }\n",
       "</style>\n",
       "<table border=\"1\" class=\"dataframe\">\n",
       "  <thead>\n",
       "    <tr style=\"text-align: right;\">\n",
       "      <th></th>\n",
       "      <th>SEXO</th>\n",
       "      <th>TIPO_PACIENTE</th>\n",
       "      <th>FECHA_SINTOMAS</th>\n",
       "      <th>FECHA_INGRESO</th>\n",
       "      <th>FECHA_DEF</th>\n",
       "      <th>INTUBADO</th>\n",
       "      <th>EDAD</th>\n",
       "      <th>RESULTADO</th>\n",
       "      <th>DIABETES</th>\n",
       "    </tr>\n",
       "  </thead>\n",
       "  <tbody>\n",
       "    <tr>\n",
       "      <th>0</th>\n",
       "      <td>HOMBRE</td>\n",
       "      <td>1</td>\n",
       "      <td>2020-05-25</td>\n",
       "      <td>2020-05-27</td>\n",
       "      <td>NAN</td>\n",
       "      <td>97</td>\n",
       "      <td>53</td>\n",
       "      <td>Confirmado</td>\n",
       "      <td>SI</td>\n",
       "    </tr>\n",
       "    <tr>\n",
       "      <th>7</th>\n",
       "      <td>MUJER</td>\n",
       "      <td>2</td>\n",
       "      <td>2020-04-03</td>\n",
       "      <td>2020-04-03</td>\n",
       "      <td>NAN</td>\n",
       "      <td>2</td>\n",
       "      <td>41</td>\n",
       "      <td>Confirmado</td>\n",
       "      <td>SI</td>\n",
       "    </tr>\n",
       "    <tr>\n",
       "      <th>11</th>\n",
       "      <td>MUJER</td>\n",
       "      <td>2</td>\n",
       "      <td>2020-04-15</td>\n",
       "      <td>2020-04-15</td>\n",
       "      <td>2020-05-06</td>\n",
       "      <td>2</td>\n",
       "      <td>62</td>\n",
       "      <td>Confirmado</td>\n",
       "      <td>SI</td>\n",
       "    </tr>\n",
       "    <tr>\n",
       "      <th>14</th>\n",
       "      <td>HOMBRE</td>\n",
       "      <td>2</td>\n",
       "      <td>2020-06-01</td>\n",
       "      <td>2020-06-06</td>\n",
       "      <td>NAN</td>\n",
       "      <td>2</td>\n",
       "      <td>56</td>\n",
       "      <td>Confirmado</td>\n",
       "      <td>SI</td>\n",
       "    </tr>\n",
       "    <tr>\n",
       "      <th>15</th>\n",
       "      <td>HOMBRE</td>\n",
       "      <td>2</td>\n",
       "      <td>2020-04-04</td>\n",
       "      <td>2020-04-04</td>\n",
       "      <td>2020-04-13</td>\n",
       "      <td>2</td>\n",
       "      <td>61</td>\n",
       "      <td>Confirmado</td>\n",
       "      <td>SI</td>\n",
       "    </tr>\n",
       "    <tr>\n",
       "      <th>...</th>\n",
       "      <td>...</td>\n",
       "      <td>...</td>\n",
       "      <td>...</td>\n",
       "      <td>...</td>\n",
       "      <td>...</td>\n",
       "      <td>...</td>\n",
       "      <td>...</td>\n",
       "      <td>...</td>\n",
       "      <td>...</td>\n",
       "    </tr>\n",
       "    <tr>\n",
       "      <th>369328</th>\n",
       "      <td>HOMBRE</td>\n",
       "      <td>2</td>\n",
       "      <td>2020-05-15</td>\n",
       "      <td>2020-05-21</td>\n",
       "      <td>NAN</td>\n",
       "      <td>2</td>\n",
       "      <td>62</td>\n",
       "      <td>Sospechoso</td>\n",
       "      <td>SI</td>\n",
       "    </tr>\n",
       "    <tr>\n",
       "      <th>369339</th>\n",
       "      <td>MUJER</td>\n",
       "      <td>2</td>\n",
       "      <td>2020-06-05</td>\n",
       "      <td>2020-06-07</td>\n",
       "      <td>NAN</td>\n",
       "      <td>2</td>\n",
       "      <td>50</td>\n",
       "      <td>Sospechoso</td>\n",
       "      <td>SI</td>\n",
       "    </tr>\n",
       "    <tr>\n",
       "      <th>369352</th>\n",
       "      <td>MUJER</td>\n",
       "      <td>1</td>\n",
       "      <td>2020-05-17</td>\n",
       "      <td>2020-05-18</td>\n",
       "      <td>NAN</td>\n",
       "      <td>97</td>\n",
       "      <td>44</td>\n",
       "      <td>Sospechoso</td>\n",
       "      <td>SI</td>\n",
       "    </tr>\n",
       "    <tr>\n",
       "      <th>369353</th>\n",
       "      <td>HOMBRE</td>\n",
       "      <td>1</td>\n",
       "      <td>2020-05-21</td>\n",
       "      <td>2020-05-23</td>\n",
       "      <td>NAN</td>\n",
       "      <td>97</td>\n",
       "      <td>46</td>\n",
       "      <td>Sospechoso</td>\n",
       "      <td>SI</td>\n",
       "    </tr>\n",
       "    <tr>\n",
       "      <th>369358</th>\n",
       "      <td>HOMBRE</td>\n",
       "      <td>2</td>\n",
       "      <td>2020-04-19</td>\n",
       "      <td>2020-04-20</td>\n",
       "      <td>NAN</td>\n",
       "      <td>2</td>\n",
       "      <td>96</td>\n",
       "      <td>Sospechoso</td>\n",
       "      <td>SI</td>\n",
       "    </tr>\n",
       "  </tbody>\n",
       "</table>\n",
       "<p>46527 rows × 9 columns</p>\n",
       "</div>"
      ],
      "text/plain": [
       "          SEXO  TIPO_PACIENTE FECHA_SINTOMAS FECHA_INGRESO   FECHA_DEF  \\\n",
       "0       HOMBRE              1     2020-05-25    2020-05-27         NAN   \n",
       "7        MUJER              2     2020-04-03    2020-04-03         NAN   \n",
       "11       MUJER              2     2020-04-15    2020-04-15  2020-05-06   \n",
       "14      HOMBRE              2     2020-06-01    2020-06-06         NAN   \n",
       "15      HOMBRE              2     2020-04-04    2020-04-04  2020-04-13   \n",
       "...        ...            ...            ...           ...         ...   \n",
       "369328  HOMBRE              2     2020-05-15    2020-05-21         NAN   \n",
       "369339   MUJER              2     2020-06-05    2020-06-07         NAN   \n",
       "369352   MUJER              1     2020-05-17    2020-05-18         NAN   \n",
       "369353  HOMBRE              1     2020-05-21    2020-05-23         NAN   \n",
       "369358  HOMBRE              2     2020-04-19    2020-04-20         NAN   \n",
       "\n",
       "        INTUBADO  EDAD   RESULTADO DIABETES  \n",
       "0             97    53  Confirmado       SI  \n",
       "7              2    41  Confirmado       SI  \n",
       "11             2    62  Confirmado       SI  \n",
       "14             2    56  Confirmado       SI  \n",
       "15             2    61  Confirmado       SI  \n",
       "...          ...   ...         ...      ...  \n",
       "369328         2    62  Sospechoso       SI  \n",
       "369339         2    50  Sospechoso       SI  \n",
       "369352        97    44  Sospechoso       SI  \n",
       "369353        97    46  Sospechoso       SI  \n",
       "369358         2    96  Sospechoso       SI  \n",
       "\n",
       "[46527 rows x 9 columns]"
      ]
     },
     "execution_count": 23,
     "metadata": {},
     "output_type": "execute_result"
    }
   ],
   "source": [
    "data"
   ]
  },
  {
   "cell_type": "code",
   "execution_count": 24,
   "metadata": {},
   "outputs": [],
   "source": [
    "data[\"FECHA_SINTOMAS\"] = pd.to_datetime(data.FECHA_SINTOMAS)\n",
    "data[\"FECHA_INGRESO\"] = pd.to_datetime(data.FECHA_INGRESO)\n",
    "data[\"FECHA_DEF\"] = pd.to_datetime(data.FECHA_DEF)"
   ]
  },
  {
   "cell_type": "code",
   "execution_count": 25,
   "metadata": {},
   "outputs": [
    {
     "data": {
      "text/html": [
       "<div>\n",
       "<style scoped>\n",
       "    .dataframe tbody tr th:only-of-type {\n",
       "        vertical-align: middle;\n",
       "    }\n",
       "\n",
       "    .dataframe tbody tr th {\n",
       "        vertical-align: top;\n",
       "    }\n",
       "\n",
       "    .dataframe thead th {\n",
       "        text-align: right;\n",
       "    }\n",
       "</style>\n",
       "<table border=\"1\" class=\"dataframe\">\n",
       "  <thead>\n",
       "    <tr style=\"text-align: right;\">\n",
       "      <th></th>\n",
       "      <th>SEXO</th>\n",
       "      <th>TIPO_PACIENTE</th>\n",
       "      <th>FECHA_SINTOMAS</th>\n",
       "      <th>FECHA_INGRESO</th>\n",
       "      <th>FECHA_DEF</th>\n",
       "      <th>INTUBADO</th>\n",
       "      <th>EDAD</th>\n",
       "      <th>RESULTADO</th>\n",
       "      <th>DIABETES</th>\n",
       "    </tr>\n",
       "  </thead>\n",
       "  <tbody>\n",
       "    <tr>\n",
       "      <th>0</th>\n",
       "      <td>HOMBRE</td>\n",
       "      <td>1</td>\n",
       "      <td>2020-05-25</td>\n",
       "      <td>2020-05-27</td>\n",
       "      <td>NaT</td>\n",
       "      <td>97</td>\n",
       "      <td>53</td>\n",
       "      <td>Confirmado</td>\n",
       "      <td>SI</td>\n",
       "    </tr>\n",
       "    <tr>\n",
       "      <th>7</th>\n",
       "      <td>MUJER</td>\n",
       "      <td>2</td>\n",
       "      <td>2020-04-03</td>\n",
       "      <td>2020-04-03</td>\n",
       "      <td>NaT</td>\n",
       "      <td>2</td>\n",
       "      <td>41</td>\n",
       "      <td>Confirmado</td>\n",
       "      <td>SI</td>\n",
       "    </tr>\n",
       "    <tr>\n",
       "      <th>11</th>\n",
       "      <td>MUJER</td>\n",
       "      <td>2</td>\n",
       "      <td>2020-04-15</td>\n",
       "      <td>2020-04-15</td>\n",
       "      <td>2020-05-06</td>\n",
       "      <td>2</td>\n",
       "      <td>62</td>\n",
       "      <td>Confirmado</td>\n",
       "      <td>SI</td>\n",
       "    </tr>\n",
       "    <tr>\n",
       "      <th>14</th>\n",
       "      <td>HOMBRE</td>\n",
       "      <td>2</td>\n",
       "      <td>2020-06-01</td>\n",
       "      <td>2020-06-06</td>\n",
       "      <td>NaT</td>\n",
       "      <td>2</td>\n",
       "      <td>56</td>\n",
       "      <td>Confirmado</td>\n",
       "      <td>SI</td>\n",
       "    </tr>\n",
       "    <tr>\n",
       "      <th>15</th>\n",
       "      <td>HOMBRE</td>\n",
       "      <td>2</td>\n",
       "      <td>2020-04-04</td>\n",
       "      <td>2020-04-04</td>\n",
       "      <td>2020-04-13</td>\n",
       "      <td>2</td>\n",
       "      <td>61</td>\n",
       "      <td>Confirmado</td>\n",
       "      <td>SI</td>\n",
       "    </tr>\n",
       "  </tbody>\n",
       "</table>\n",
       "</div>"
      ],
      "text/plain": [
       "      SEXO  TIPO_PACIENTE FECHA_SINTOMAS FECHA_INGRESO  FECHA_DEF  INTUBADO  \\\n",
       "0   HOMBRE              1     2020-05-25    2020-05-27        NaT        97   \n",
       "7    MUJER              2     2020-04-03    2020-04-03        NaT         2   \n",
       "11   MUJER              2     2020-04-15    2020-04-15 2020-05-06         2   \n",
       "14  HOMBRE              2     2020-06-01    2020-06-06        NaT         2   \n",
       "15  HOMBRE              2     2020-04-04    2020-04-04 2020-04-13         2   \n",
       "\n",
       "    EDAD   RESULTADO DIABETES  \n",
       "0     53  Confirmado       SI  \n",
       "7     41  Confirmado       SI  \n",
       "11    62  Confirmado       SI  \n",
       "14    56  Confirmado       SI  \n",
       "15    61  Confirmado       SI  "
      ]
     },
     "execution_count": 25,
     "metadata": {},
     "output_type": "execute_result"
    }
   ],
   "source": [
    "data.head()"
   ]
  },
  {
   "cell_type": "code",
   "execution_count": 26,
   "metadata": {},
   "outputs": [
    {
     "data": {
      "text/plain": [
       "array([97,  2,  1, 99])"
      ]
     },
     "execution_count": 26,
     "metadata": {},
     "output_type": "execute_result"
    }
   ],
   "source": [
    "data[\"INTUBADO\"].unique()"
   ]
  },
  {
   "cell_type": "code",
   "execution_count": 27,
   "metadata": {},
   "outputs": [
    {
     "name": "stderr",
     "output_type": "stream",
     "text": [
      "/home/carlos/anaconda3/envs/ambienteIA_1/lib/python3.8/site-packages/pandas/core/ops/array_ops.py:253: FutureWarning: elementwise comparison failed; returning scalar instead, but in the future will perform elementwise comparison\n",
      "  res_values = method(rvalues)\n"
     ]
    }
   ],
   "source": [
    "data[\"INTUBADO\"] = np.where(data[\"INTUBADO\"] == \"2\", \"SI\", data[\"INTUBADO\"])"
   ]
  },
  {
   "cell_type": "markdown",
   "metadata": {},
   "source": [
    "2 -- Si intubado\n"
   ]
  },
  {
   "cell_type": "code",
   "execution_count": 28,
   "metadata": {},
   "outputs": [],
   "source": [
    "data[\"INTUBADO\"] = np.where(data[\"INTUBADO\"] == \"1\", \"NO\", data[\"INTUBADO\"])"
   ]
  },
  {
   "cell_type": "code",
   "execution_count": 29,
   "metadata": {},
   "outputs": [],
   "source": [
    "data[\"INTUBADO\"] = np.where(data[\"INTUBADO\"] == \"97\", \"NO\", data[\"INTUBADO\"])\n",
    "data[\"INTUBADO\"] = np.where(data[\"INTUBADO\"] == \"99\", \"NO\", data[\"INTUBADO\"])"
   ]
  },
  {
   "cell_type": "code",
   "execution_count": 30,
   "metadata": {},
   "outputs": [
    {
     "data": {
      "text/html": [
       "<div>\n",
       "<style scoped>\n",
       "    .dataframe tbody tr th:only-of-type {\n",
       "        vertical-align: middle;\n",
       "    }\n",
       "\n",
       "    .dataframe tbody tr th {\n",
       "        vertical-align: top;\n",
       "    }\n",
       "\n",
       "    .dataframe thead th {\n",
       "        text-align: right;\n",
       "    }\n",
       "</style>\n",
       "<table border=\"1\" class=\"dataframe\">\n",
       "  <thead>\n",
       "    <tr style=\"text-align: right;\">\n",
       "      <th></th>\n",
       "      <th>SEXO</th>\n",
       "      <th>TIPO_PACIENTE</th>\n",
       "      <th>FECHA_SINTOMAS</th>\n",
       "      <th>FECHA_INGRESO</th>\n",
       "      <th>FECHA_DEF</th>\n",
       "      <th>INTUBADO</th>\n",
       "      <th>EDAD</th>\n",
       "      <th>RESULTADO</th>\n",
       "      <th>DIABETES</th>\n",
       "    </tr>\n",
       "  </thead>\n",
       "  <tbody>\n",
       "    <tr>\n",
       "      <th>0</th>\n",
       "      <td>HOMBRE</td>\n",
       "      <td>1</td>\n",
       "      <td>2020-05-25</td>\n",
       "      <td>2020-05-27</td>\n",
       "      <td>NaT</td>\n",
       "      <td>NO</td>\n",
       "      <td>53</td>\n",
       "      <td>Confirmado</td>\n",
       "      <td>SI</td>\n",
       "    </tr>\n",
       "    <tr>\n",
       "      <th>7</th>\n",
       "      <td>MUJER</td>\n",
       "      <td>2</td>\n",
       "      <td>2020-04-03</td>\n",
       "      <td>2020-04-03</td>\n",
       "      <td>NaT</td>\n",
       "      <td>2</td>\n",
       "      <td>41</td>\n",
       "      <td>Confirmado</td>\n",
       "      <td>SI</td>\n",
       "    </tr>\n",
       "    <tr>\n",
       "      <th>11</th>\n",
       "      <td>MUJER</td>\n",
       "      <td>2</td>\n",
       "      <td>2020-04-15</td>\n",
       "      <td>2020-04-15</td>\n",
       "      <td>2020-05-06</td>\n",
       "      <td>2</td>\n",
       "      <td>62</td>\n",
       "      <td>Confirmado</td>\n",
       "      <td>SI</td>\n",
       "    </tr>\n",
       "    <tr>\n",
       "      <th>14</th>\n",
       "      <td>HOMBRE</td>\n",
       "      <td>2</td>\n",
       "      <td>2020-06-01</td>\n",
       "      <td>2020-06-06</td>\n",
       "      <td>NaT</td>\n",
       "      <td>2</td>\n",
       "      <td>56</td>\n",
       "      <td>Confirmado</td>\n",
       "      <td>SI</td>\n",
       "    </tr>\n",
       "    <tr>\n",
       "      <th>15</th>\n",
       "      <td>HOMBRE</td>\n",
       "      <td>2</td>\n",
       "      <td>2020-04-04</td>\n",
       "      <td>2020-04-04</td>\n",
       "      <td>2020-04-13</td>\n",
       "      <td>2</td>\n",
       "      <td>61</td>\n",
       "      <td>Confirmado</td>\n",
       "      <td>SI</td>\n",
       "    </tr>\n",
       "    <tr>\n",
       "      <th>...</th>\n",
       "      <td>...</td>\n",
       "      <td>...</td>\n",
       "      <td>...</td>\n",
       "      <td>...</td>\n",
       "      <td>...</td>\n",
       "      <td>...</td>\n",
       "      <td>...</td>\n",
       "      <td>...</td>\n",
       "      <td>...</td>\n",
       "    </tr>\n",
       "    <tr>\n",
       "      <th>369328</th>\n",
       "      <td>HOMBRE</td>\n",
       "      <td>2</td>\n",
       "      <td>2020-05-15</td>\n",
       "      <td>2020-05-21</td>\n",
       "      <td>NaT</td>\n",
       "      <td>2</td>\n",
       "      <td>62</td>\n",
       "      <td>Sospechoso</td>\n",
       "      <td>SI</td>\n",
       "    </tr>\n",
       "    <tr>\n",
       "      <th>369339</th>\n",
       "      <td>MUJER</td>\n",
       "      <td>2</td>\n",
       "      <td>2020-06-05</td>\n",
       "      <td>2020-06-07</td>\n",
       "      <td>NaT</td>\n",
       "      <td>2</td>\n",
       "      <td>50</td>\n",
       "      <td>Sospechoso</td>\n",
       "      <td>SI</td>\n",
       "    </tr>\n",
       "    <tr>\n",
       "      <th>369352</th>\n",
       "      <td>MUJER</td>\n",
       "      <td>1</td>\n",
       "      <td>2020-05-17</td>\n",
       "      <td>2020-05-18</td>\n",
       "      <td>NaT</td>\n",
       "      <td>NO</td>\n",
       "      <td>44</td>\n",
       "      <td>Sospechoso</td>\n",
       "      <td>SI</td>\n",
       "    </tr>\n",
       "    <tr>\n",
       "      <th>369353</th>\n",
       "      <td>HOMBRE</td>\n",
       "      <td>1</td>\n",
       "      <td>2020-05-21</td>\n",
       "      <td>2020-05-23</td>\n",
       "      <td>NaT</td>\n",
       "      <td>NO</td>\n",
       "      <td>46</td>\n",
       "      <td>Sospechoso</td>\n",
       "      <td>SI</td>\n",
       "    </tr>\n",
       "    <tr>\n",
       "      <th>369358</th>\n",
       "      <td>HOMBRE</td>\n",
       "      <td>2</td>\n",
       "      <td>2020-04-19</td>\n",
       "      <td>2020-04-20</td>\n",
       "      <td>NaT</td>\n",
       "      <td>2</td>\n",
       "      <td>96</td>\n",
       "      <td>Sospechoso</td>\n",
       "      <td>SI</td>\n",
       "    </tr>\n",
       "  </tbody>\n",
       "</table>\n",
       "<p>46527 rows × 9 columns</p>\n",
       "</div>"
      ],
      "text/plain": [
       "          SEXO  TIPO_PACIENTE FECHA_SINTOMAS FECHA_INGRESO  FECHA_DEF  \\\n",
       "0       HOMBRE              1     2020-05-25    2020-05-27        NaT   \n",
       "7        MUJER              2     2020-04-03    2020-04-03        NaT   \n",
       "11       MUJER              2     2020-04-15    2020-04-15 2020-05-06   \n",
       "14      HOMBRE              2     2020-06-01    2020-06-06        NaT   \n",
       "15      HOMBRE              2     2020-04-04    2020-04-04 2020-04-13   \n",
       "...        ...            ...            ...           ...        ...   \n",
       "369328  HOMBRE              2     2020-05-15    2020-05-21        NaT   \n",
       "369339   MUJER              2     2020-06-05    2020-06-07        NaT   \n",
       "369352   MUJER              1     2020-05-17    2020-05-18        NaT   \n",
       "369353  HOMBRE              1     2020-05-21    2020-05-23        NaT   \n",
       "369358  HOMBRE              2     2020-04-19    2020-04-20        NaT   \n",
       "\n",
       "       INTUBADO  EDAD   RESULTADO DIABETES  \n",
       "0            NO    53  Confirmado       SI  \n",
       "7             2    41  Confirmado       SI  \n",
       "11            2    62  Confirmado       SI  \n",
       "14            2    56  Confirmado       SI  \n",
       "15            2    61  Confirmado       SI  \n",
       "...         ...   ...         ...      ...  \n",
       "369328        2    62  Sospechoso       SI  \n",
       "369339        2    50  Sospechoso       SI  \n",
       "369352       NO    44  Sospechoso       SI  \n",
       "369353       NO    46  Sospechoso       SI  \n",
       "369358        2    96  Sospechoso       SI  \n",
       "\n",
       "[46527 rows x 9 columns]"
      ]
     },
     "execution_count": 30,
     "metadata": {},
     "output_type": "execute_result"
    }
   ],
   "source": [
    "data"
   ]
  },
  {
   "cell_type": "markdown",
   "metadata": {},
   "source": [
    "## Trabajando con Fecha de Sintomas"
   ]
  },
  {
   "cell_type": "code",
   "execution_count": 31,
   "metadata": {
    "scrolled": true
   },
   "outputs": [
    {
     "data": {
      "text/plain": [
       "(2020-05-24 21:36:00, 2020-06-01 22:48:00]              7894\n",
       "(2020-05-16 20:24:00, 2020-05-24 21:36:00]              7306\n",
       "(2020-05-08 19:12:00, 2020-05-16 20:24:00]              6687\n",
       "(2020-04-30 18:00:00, 2020-05-08 19:12:00]              5756\n",
       "(2020-04-22 16:48:00, 2020-04-30 18:00:00]              4408\n",
       "(2020-06-01 22:48:00, 2020-06-10]                       4229\n",
       "(2020-04-14 15:36:00, 2020-04-22 16:48:00]              3776\n",
       "(2020-04-06 14:24:00, 2020-04-14 15:36:00]              2672\n",
       "(2020-03-29 13:12:00, 2020-04-06 14:24:00]              1865\n",
       "(2020-03-21 12:00:00, 2020-03-29 13:12:00]              1143\n",
       "(2020-03-13 10:48:00, 2020-03-21 12:00:00]               431\n",
       "(2020-03-05 09:36:00, 2020-03-13 10:48:00]               105\n",
       "(2020-02-26 08:24:00, 2020-03-05 09:36:00]                46\n",
       "(2020-01-17 02:24:00, 2020-01-25 03:36:00]                40\n",
       "(2020-01-09 01:12:00, 2020-01-17 02:24:00]                39\n",
       "(2020-02-02 04:48:00, 2020-02-10 06:00:00]                37\n",
       "(2019-12-31 20:08:09.599999999, 2020-01-09 01:12:00]      29\n",
       "(2020-01-25 03:36:00, 2020-02-02 04:48:00]                24\n",
       "(2020-02-10 06:00:00, 2020-02-18 07:12:00]                22\n",
       "(2020-02-18 07:12:00, 2020-02-26 08:24:00]                18\n",
       "Name: FECHA_SINTOMAS, dtype: int64"
      ]
     },
     "execution_count": 31,
     "metadata": {},
     "output_type": "execute_result"
    }
   ],
   "source": [
    "data[\"FECHA_SINTOMAS\"].value_counts(bins=20)"
   ]
  },
  {
   "cell_type": "code",
   "execution_count": 32,
   "metadata": {},
   "outputs": [],
   "source": [
    "f_sintomas = data[\"FECHA_SINTOMAS\"].value_counts()"
   ]
  },
  {
   "cell_type": "code",
   "execution_count": 33,
   "metadata": {},
   "outputs": [],
   "source": [
    "d_sintomas = pd.DataFrame(f_sintomas)"
   ]
  },
  {
   "cell_type": "code",
   "execution_count": 34,
   "metadata": {},
   "outputs": [],
   "source": [
    "d_sintomas = d_sintomas.reset_index()"
   ]
  },
  {
   "cell_type": "code",
   "execution_count": 35,
   "metadata": {},
   "outputs": [],
   "source": [
    "d_sintomas.columns = ['Fecha', 'Cantidad']"
   ]
  },
  {
   "cell_type": "code",
   "execution_count": 36,
   "metadata": {},
   "outputs": [
    {
     "data": {
      "text/html": [
       "<div>\n",
       "<style scoped>\n",
       "    .dataframe tbody tr th:only-of-type {\n",
       "        vertical-align: middle;\n",
       "    }\n",
       "\n",
       "    .dataframe tbody tr th {\n",
       "        vertical-align: top;\n",
       "    }\n",
       "\n",
       "    .dataframe thead th {\n",
       "        text-align: right;\n",
       "    }\n",
       "</style>\n",
       "<table border=\"1\" class=\"dataframe\">\n",
       "  <thead>\n",
       "    <tr style=\"text-align: right;\">\n",
       "      <th></th>\n",
       "      <th>Fecha</th>\n",
       "      <th>Cantidad</th>\n",
       "    </tr>\n",
       "  </thead>\n",
       "  <tbody>\n",
       "    <tr>\n",
       "      <th>0</th>\n",
       "      <td>2020-06-01</td>\n",
       "      <td>1282</td>\n",
       "    </tr>\n",
       "    <tr>\n",
       "      <th>1</th>\n",
       "      <td>2020-05-25</td>\n",
       "      <td>1254</td>\n",
       "    </tr>\n",
       "    <tr>\n",
       "      <th>2</th>\n",
       "      <td>2020-05-20</td>\n",
       "      <td>1192</td>\n",
       "    </tr>\n",
       "    <tr>\n",
       "      <th>3</th>\n",
       "      <td>2020-05-15</td>\n",
       "      <td>1027</td>\n",
       "    </tr>\n",
       "    <tr>\n",
       "      <th>4</th>\n",
       "      <td>2020-05-18</td>\n",
       "      <td>1021</td>\n",
       "    </tr>\n",
       "    <tr>\n",
       "      <th>...</th>\n",
       "      <td>...</td>\n",
       "      <td>...</td>\n",
       "    </tr>\n",
       "    <tr>\n",
       "      <th>155</th>\n",
       "      <td>2020-02-20</td>\n",
       "      <td>1</td>\n",
       "    </tr>\n",
       "    <tr>\n",
       "      <th>156</th>\n",
       "      <td>2020-02-22</td>\n",
       "      <td>1</td>\n",
       "    </tr>\n",
       "    <tr>\n",
       "      <th>157</th>\n",
       "      <td>2020-01-27</td>\n",
       "      <td>1</td>\n",
       "    </tr>\n",
       "    <tr>\n",
       "      <th>158</th>\n",
       "      <td>2020-02-01</td>\n",
       "      <td>1</td>\n",
       "    </tr>\n",
       "    <tr>\n",
       "      <th>159</th>\n",
       "      <td>2020-02-18</td>\n",
       "      <td>1</td>\n",
       "    </tr>\n",
       "  </tbody>\n",
       "</table>\n",
       "<p>160 rows × 2 columns</p>\n",
       "</div>"
      ],
      "text/plain": [
       "         Fecha  Cantidad\n",
       "0   2020-06-01      1282\n",
       "1   2020-05-25      1254\n",
       "2   2020-05-20      1192\n",
       "3   2020-05-15      1027\n",
       "4   2020-05-18      1021\n",
       "..         ...       ...\n",
       "155 2020-02-20         1\n",
       "156 2020-02-22         1\n",
       "157 2020-01-27         1\n",
       "158 2020-02-01         1\n",
       "159 2020-02-18         1\n",
       "\n",
       "[160 rows x 2 columns]"
      ]
     },
     "execution_count": 36,
     "metadata": {},
     "output_type": "execute_result"
    }
   ],
   "source": [
    "d_sintomas"
   ]
  },
  {
   "cell_type": "code",
   "execution_count": 37,
   "metadata": {},
   "outputs": [
    {
     "data": {
      "text/plain": [
       "Fecha       datetime64[ns]\n",
       "Cantidad             int64\n",
       "dtype: object"
      ]
     },
     "execution_count": 37,
     "metadata": {},
     "output_type": "execute_result"
    }
   ],
   "source": [
    "d_sintomas.dtypes"
   ]
  },
  {
   "cell_type": "code",
   "execution_count": 38,
   "metadata": {},
   "outputs": [
    {
     "data": {
      "text/plain": [
       "[<matplotlib.lines.Line2D at 0x7fd89303d580>]"
      ]
     },
     "execution_count": 38,
     "metadata": {},
     "output_type": "execute_result"
    },
    {
     "data": {
      "image/png": "[encoded data removed]",
      "text/plain": [
       "<Figure size 432x288 with 1 Axes>"
      ]
     },
     "metadata": {
      "needs_background": "light"
     },
     "output_type": "display_data"
    }
   ],
   "source": [
    "plt.plot(d_sintomas[\"Fecha\"],d_sintomas[\"Cantidad\"])"
   ]
  },
  {
   "cell_type": "code",
   "execution_count": 39,
   "metadata": {},
   "outputs": [
    {
     "data": {
      "text/plain": [
       "Fecha       2020-01-01 00:00:00\n",
       "Cantidad                      1\n",
       "dtype: object"
      ]
     },
     "execution_count": 39,
     "metadata": {},
     "output_type": "execute_result"
    }
   ],
   "source": [
    "d_sintomas.min()"
   ]
  },
  {
   "cell_type": "code",
   "execution_count": 40,
   "metadata": {},
   "outputs": [
    {
     "data": {
      "text/plain": [
       "Fecha       2020-06-10 00:00:00\n",
       "Cantidad                   1282\n",
       "dtype: object"
      ]
     },
     "execution_count": 40,
     "metadata": {},
     "output_type": "execute_result"
    }
   ],
   "source": [
    "d_sintomas.max()"
   ]
  },
  {
   "cell_type": "code",
   "execution_count": 41,
   "metadata": {},
   "outputs": [],
   "source": [
    "#Orden por fecha de inicio\n",
    "d_sintomas = d_sintomas.sort_values([\"Fecha\"])"
   ]
  },
  {
   "cell_type": "code",
   "execution_count": 42,
   "metadata": {
    "scrolled": false
   },
   "outputs": [
    {
     "data": {
      "text/html": [
       "<div>\n",
       "<style scoped>\n",
       "    .dataframe tbody tr th:only-of-type {\n",
       "        vertical-align: middle;\n",
       "    }\n",
       "\n",
       "    .dataframe tbody tr th {\n",
       "        vertical-align: top;\n",
       "    }\n",
       "\n",
       "    .dataframe thead th {\n",
       "        text-align: right;\n",
       "    }\n",
       "</style>\n",
       "<table border=\"1\" class=\"dataframe\">\n",
       "  <thead>\n",
       "    <tr style=\"text-align: right;\">\n",
       "      <th></th>\n",
       "      <th>Fecha</th>\n",
       "      <th>Cantidad</th>\n",
       "    </tr>\n",
       "  </thead>\n",
       "  <tbody>\n",
       "    <tr>\n",
       "      <th>151</th>\n",
       "      <td>2020-01-01</td>\n",
       "      <td>1</td>\n",
       "    </tr>\n",
       "    <tr>\n",
       "      <th>127</th>\n",
       "      <td>2020-01-02</td>\n",
       "      <td>4</td>\n",
       "    </tr>\n",
       "    <tr>\n",
       "      <th>116</th>\n",
       "      <td>2020-01-03</td>\n",
       "      <td>5</td>\n",
       "    </tr>\n",
       "    <tr>\n",
       "      <th>133</th>\n",
       "      <td>2020-01-04</td>\n",
       "      <td>3</td>\n",
       "    </tr>\n",
       "    <tr>\n",
       "      <th>132</th>\n",
       "      <td>2020-01-05</td>\n",
       "      <td>4</td>\n",
       "    </tr>\n",
       "    <tr>\n",
       "      <th>...</th>\n",
       "      <td>...</td>\n",
       "      <td>...</td>\n",
       "    </tr>\n",
       "    <tr>\n",
       "      <th>48</th>\n",
       "      <td>2020-06-06</td>\n",
       "      <td>452</td>\n",
       "    </tr>\n",
       "    <tr>\n",
       "      <th>55</th>\n",
       "      <td>2020-06-07</td>\n",
       "      <td>378</td>\n",
       "    </tr>\n",
       "    <tr>\n",
       "      <th>61</th>\n",
       "      <td>2020-06-08</td>\n",
       "      <td>291</td>\n",
       "    </tr>\n",
       "    <tr>\n",
       "      <th>74</th>\n",
       "      <td>2020-06-09</td>\n",
       "      <td>157</td>\n",
       "    </tr>\n",
       "    <tr>\n",
       "      <th>87</th>\n",
       "      <td>2020-06-10</td>\n",
       "      <td>32</td>\n",
       "    </tr>\n",
       "  </tbody>\n",
       "</table>\n",
       "<p>160 rows × 2 columns</p>\n",
       "</div>"
      ],
      "text/plain": [
       "         Fecha  Cantidad\n",
       "151 2020-01-01         1\n",
       "127 2020-01-02         4\n",
       "116 2020-01-03         5\n",
       "133 2020-01-04         3\n",
       "132 2020-01-05         4\n",
       "..         ...       ...\n",
       "48  2020-06-06       452\n",
       "55  2020-06-07       378\n",
       "61  2020-06-08       291\n",
       "74  2020-06-09       157\n",
       "87  2020-06-10        32\n",
       "\n",
       "[160 rows x 2 columns]"
      ]
     },
     "execution_count": 42,
     "metadata": {},
     "output_type": "execute_result"
    }
   ],
   "source": [
    "d_sintomas"
   ]
  },
  {
   "cell_type": "code",
   "execution_count": 130,
   "metadata": {},
   "outputs": [
    {
     "data": {
      "text/plain": [
       "Text(0, 0.5, 'Numero de casos')"
      ]
     },
     "execution_count": 130,
     "metadata": {},
     "output_type": "execute_result"
    },
    {
     "data": {
      "image/png": "[encoded data removed]",
      "text/plain": [
       "<Figure size 432x288 with 1 Axes>"
      ]
     },
     "metadata": {
      "needs_background": "light"
     },
     "output_type": "display_data"
    }
   ],
   "source": [
    "plt.plot(d_sintomas[\"Fecha\"],d_sintomas[\"Cantidad\"], color=\"y\")\n",
    "plt.xlabel(\"Fecha\")\n",
    "plt.ylabel(\"Numero de casos\")"
   ]
  },
  {
   "cell_type": "markdown",
   "metadata": {},
   "source": [
    "# Trabajando con la fecha de defuncion"
   ]
  },
  {
   "cell_type": "code",
   "execution_count": 45,
   "metadata": {},
   "outputs": [
    {
     "data": {
      "text/plain": [
       "SEXO                      object\n",
       "TIPO_PACIENTE              int64\n",
       "FECHA_SINTOMAS    datetime64[ns]\n",
       "FECHA_INGRESO     datetime64[ns]\n",
       "FECHA_DEF         datetime64[ns]\n",
       "INTUBADO                  object\n",
       "EDAD                       int64\n",
       "RESULTADO                 object\n",
       "DIABETES                  object\n",
       "dtype: object"
      ]
     },
     "execution_count": 45,
     "metadata": {},
     "output_type": "execute_result"
    }
   ],
   "source": [
    "data.dtypes"
   ]
  },
  {
   "cell_type": "code",
   "execution_count": 46,
   "metadata": {},
   "outputs": [],
   "source": [
    "f_def = data[\"FECHA_DEF\"].value_counts()  #Se puede hacer una funcion de este proceso"
   ]
  },
  {
   "cell_type": "code",
   "execution_count": 51,
   "metadata": {},
   "outputs": [],
   "source": [
    "d_def = pd.DataFrame(f_def)"
   ]
  },
  {
   "cell_type": "code",
   "execution_count": 52,
   "metadata": {},
   "outputs": [],
   "source": [
    "d_def = d_def.reset_index()"
   ]
  },
  {
   "cell_type": "code",
   "execution_count": 54,
   "metadata": {},
   "outputs": [],
   "source": [
    "d_def.columns = [\"Fecha\", \"Defunciones\"]"
   ]
  },
  {
   "cell_type": "code",
   "execution_count": 64,
   "metadata": {},
   "outputs": [
    {
     "data": {
      "text/html": [
       "<div>\n",
       "<style scoped>\n",
       "    .dataframe tbody tr th:only-of-type {\n",
       "        vertical-align: middle;\n",
       "    }\n",
       "\n",
       "    .dataframe tbody tr th {\n",
       "        vertical-align: top;\n",
       "    }\n",
       "\n",
       "    .dataframe thead th {\n",
       "        text-align: right;\n",
       "    }\n",
       "</style>\n",
       "<table border=\"1\" class=\"dataframe\">\n",
       "  <thead>\n",
       "    <tr style=\"text-align: right;\">\n",
       "      <th></th>\n",
       "      <th>Fecha</th>\n",
       "      <th>Defunciones</th>\n",
       "    </tr>\n",
       "  </thead>\n",
       "  <tbody>\n",
       "    <tr>\n",
       "      <th>91</th>\n",
       "      <td>2020-02-20</td>\n",
       "      <td>1</td>\n",
       "    </tr>\n",
       "    <tr>\n",
       "      <th>89</th>\n",
       "      <td>2020-02-25</td>\n",
       "      <td>1</td>\n",
       "    </tr>\n",
       "    <tr>\n",
       "      <th>80</th>\n",
       "      <td>2020-02-26</td>\n",
       "      <td>1</td>\n",
       "    </tr>\n",
       "    <tr>\n",
       "      <th>88</th>\n",
       "      <td>2020-03-06</td>\n",
       "      <td>1</td>\n",
       "    </tr>\n",
       "    <tr>\n",
       "      <th>83</th>\n",
       "      <td>2020-03-09</td>\n",
       "      <td>1</td>\n",
       "    </tr>\n",
       "  </tbody>\n",
       "</table>\n",
       "</div>"
      ],
      "text/plain": [
       "        Fecha  Defunciones\n",
       "91 2020-02-20            1\n",
       "89 2020-02-25            1\n",
       "80 2020-02-26            1\n",
       "88 2020-03-06            1\n",
       "83 2020-03-09            1"
      ]
     },
     "execution_count": 64,
     "metadata": {},
     "output_type": "execute_result"
    }
   ],
   "source": [
    "d_def.head()"
   ]
  },
  {
   "cell_type": "code",
   "execution_count": 56,
   "metadata": {
    "scrolled": true
   },
   "outputs": [
    {
     "data": {
      "text/plain": [
       "[<matplotlib.lines.Line2D at 0x7fd892669610>]"
      ]
     },
     "execution_count": 56,
     "metadata": {},
     "output_type": "execute_result"
    },
    {
     "data": {
      "image/png": "[encoded data removed]",
      "text/plain": [
       "<Figure size 432x288 with 1 Axes>"
      ]
     },
     "metadata": {
      "needs_background": "light"
     },
     "output_type": "display_data"
    }
   ],
   "source": [
    "plt.plot(d_def[\"Fecha\"], d_def[\"Defunciones\"])"
   ]
  },
  {
   "cell_type": "code",
   "execution_count": 57,
   "metadata": {},
   "outputs": [],
   "source": [
    "d_def = d_def.sort_values([\"Fecha\"])"
   ]
  },
  {
   "cell_type": "code",
   "execution_count": 58,
   "metadata": {},
   "outputs": [
    {
     "data": {
      "text/html": [
       "<div>\n",
       "<style scoped>\n",
       "    .dataframe tbody tr th:only-of-type {\n",
       "        vertical-align: middle;\n",
       "    }\n",
       "\n",
       "    .dataframe tbody tr th {\n",
       "        vertical-align: top;\n",
       "    }\n",
       "\n",
       "    .dataframe thead th {\n",
       "        text-align: right;\n",
       "    }\n",
       "</style>\n",
       "<table border=\"1\" class=\"dataframe\">\n",
       "  <thead>\n",
       "    <tr style=\"text-align: right;\">\n",
       "      <th></th>\n",
       "      <th>Fecha</th>\n",
       "      <th>Defunciones</th>\n",
       "    </tr>\n",
       "  </thead>\n",
       "  <tbody>\n",
       "    <tr>\n",
       "      <th>91</th>\n",
       "      <td>2020-02-20</td>\n",
       "      <td>1</td>\n",
       "    </tr>\n",
       "    <tr>\n",
       "      <th>89</th>\n",
       "      <td>2020-02-25</td>\n",
       "      <td>1</td>\n",
       "    </tr>\n",
       "    <tr>\n",
       "      <th>80</th>\n",
       "      <td>2020-02-26</td>\n",
       "      <td>1</td>\n",
       "    </tr>\n",
       "    <tr>\n",
       "      <th>88</th>\n",
       "      <td>2020-03-06</td>\n",
       "      <td>1</td>\n",
       "    </tr>\n",
       "    <tr>\n",
       "      <th>83</th>\n",
       "      <td>2020-03-09</td>\n",
       "      <td>1</td>\n",
       "    </tr>\n",
       "    <tr>\n",
       "      <th>...</th>\n",
       "      <td>...</td>\n",
       "      <td>...</td>\n",
       "    </tr>\n",
       "    <tr>\n",
       "      <th>13</th>\n",
       "      <td>2020-06-06</td>\n",
       "      <td>166</td>\n",
       "    </tr>\n",
       "    <tr>\n",
       "      <th>24</th>\n",
       "      <td>2020-06-07</td>\n",
       "      <td>143</td>\n",
       "    </tr>\n",
       "    <tr>\n",
       "      <th>19</th>\n",
       "      <td>2020-06-08</td>\n",
       "      <td>150</td>\n",
       "    </tr>\n",
       "    <tr>\n",
       "      <th>50</th>\n",
       "      <td>2020-06-09</td>\n",
       "      <td>78</td>\n",
       "    </tr>\n",
       "    <tr>\n",
       "      <th>74</th>\n",
       "      <td>2020-06-10</td>\n",
       "      <td>8</td>\n",
       "    </tr>\n",
       "  </tbody>\n",
       "</table>\n",
       "<p>92 rows × 2 columns</p>\n",
       "</div>"
      ],
      "text/plain": [
       "        Fecha  Defunciones\n",
       "91 2020-02-20            1\n",
       "89 2020-02-25            1\n",
       "80 2020-02-26            1\n",
       "88 2020-03-06            1\n",
       "83 2020-03-09            1\n",
       "..        ...          ...\n",
       "13 2020-06-06          166\n",
       "24 2020-06-07          143\n",
       "19 2020-06-08          150\n",
       "50 2020-06-09           78\n",
       "74 2020-06-10            8\n",
       "\n",
       "[92 rows x 2 columns]"
      ]
     },
     "execution_count": 58,
     "metadata": {},
     "output_type": "execute_result"
    }
   ],
   "source": [
    "d_def"
   ]
  },
  {
   "cell_type": "code",
   "execution_count": 129,
   "metadata": {},
   "outputs": [
    {
     "data": {
      "text/plain": [
       "[<matplotlib.lines.Line2D at 0x7fd88eed7e50>]"
      ]
     },
     "execution_count": 129,
     "metadata": {},
     "output_type": "execute_result"
    },
    {
     "data": {
      "image/png": "[encoded data removed]",
      "text/plain": [
       "<Figure size 432x288 with 1 Axes>"
      ]
     },
     "metadata": {
      "needs_background": "light"
     },
     "output_type": "display_data"
    }
   ],
   "source": [
    "plt.plot(d_def[\"Fecha\"], d_def[\"Defunciones\"], color=\"r\")"
   ]
  },
  {
   "cell_type": "code",
   "execution_count": 128,
   "metadata": {},
   "outputs": [
    {
     "data": {
      "text/plain": [
       "<matplotlib.axes._subplots.AxesSubplot at 0x7fd88ec47370>"
      ]
     },
     "execution_count": 128,
     "metadata": {},
     "output_type": "execute_result"
    },
    {
     "data": {
      "image/png": "[encoded data removed]",
      "text/plain": [
       "<Figure size 432x288 with 4 Axes>"
      ]
     },
     "metadata": {
      "needs_background": "light"
     },
     "output_type": "display_data"
    }
   ],
   "source": [
    "figure, axs = plt.subplots(2,2, sharey=True, sharex=True)\n",
    "\n",
    "d_sintomas.plot(kind=\"scatter\", x=\"Fecha\", y=\"Cantidad\", ax=axs[0][0], color=\"y\")\n",
    "d_def.plot(kind=\"scatter\", x=\"Fecha\", y=\"Defunciones\", ax=axs[0][1], color=\"r\")\n"
   ]
  },
  {
   "cell_type": "code",
   "execution_count": null,
   "metadata": {},
   "outputs": [],
   "source": []
  },
  {
   "cell_type": "code",
   "execution_count": null,
   "metadata": {},
   "outputs": [],
   "source": []
  }
 ],
 "metadata": {
  "kernelspec": {
   "display_name": "Python 3",
   "language": "python",
   "name": "python3"
  },
  "language_info": {
   "codemirror_mode": {
    "name": "ipython",
    "version": 3
   },
   "file_extension": ".py",
   "mimetype": "text/x-python",
   "name": "python",
   "nbconvert_exporter": "python",
   "pygments_lexer": "ipython3",
   "version": "3.8.2"
  }
 },
 "nbformat": 4,
 "nbformat_minor": 2
}
